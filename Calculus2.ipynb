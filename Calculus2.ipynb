{
 "metadata": {
  "name": "",
  "signature": "sha256:d0d115ee0c910b6b38fbb75d5abffccd35649e255ce4d8ea7fbf51d8892cde2f"
 },
 "nbformat": 3,
 "nbformat_minor": 0,
 "worksheets": [
  {
   "cells": [
    {
     "cell_type": "markdown",
     "metadata": {},
     "source": [
      "1. [Chain Rule](#chainrule)\n",
      "    1. [What is the chain rule](#whatisnthechainrule)\n",
      "    1. [How do I find the tangent line to a curve](#howdoifindtangeline)\n",
      "    1. [How do I find the derivative of an inverse function](#derivateinverse)\n",
      "    1. [How can I multiply quickly](#multiplyquickly)\n",
      "    1. [How do I justify the derivative rules](#justifyderivativerules)\n",
      "    1. [Quiz: Chain Rule](#quizchainrule)\n",
      "1. [Derivatives of transcendental functions](#dertranfunc)\n",
      "    1. [What is trig](#whatistrig)\n",
      "    1. [How can I differentiate trig functions](#howcanidifftrigfunctions)\n",
      "    1. [How can I differentiate inverse trig functions](#howcanidiffinvtrigfunctions)\n",
      "    1. [What can we learn from the derivatives of trig functions](#whatcanwelearnderivtrig)\n",
      "    1. [Multiplying trig functions with slide rules](#multtrigsliderule)\n",
      "    \n",
      "1. [Derivatives in the Real World](#derivativeintherealworld)\n",
      "    1. [How can derivatives help with limits](#derivshelpwithlimits)\n",
      "    1. [How can derivatives help me to understand rates of change in the real world](#derunderrateschangereal)\n",
      "    1. [How do derivatives help me understand how two rates of change are related](#derundertworateschange)\n",
      "1. [Optimization](#optimization)\n",
      "    1. [Is Optimizaiton Possible](#optpossible)\n",
      "    1. [How to do it optimization](#howtodoopt)\n",
      "    1. [Why would I want to optimize a function](#whyoptimizeafunction)\n",
      "    1. [Optimization in Action](#optiminaction)\n",
      "1. [Linear Approximation](#linear_approx)\n",
      "    1. [What is linear approximation](#what_is_linear_approx)\n",
      "    1. [Repeating Linear Approx](#repeat_linear_approx)\n",
      "    1. [What does dx mean by itself](#dxbyitself)\n",
      "    1. [What is Newton's Method](#newtonmethod)\n",
      "    1. [Mean Value Theorem](#meanvaluetheorem)"
     ]
    },
    {
     "cell_type": "markdown",
     "metadata": {},
     "source": [
      "<a id='chainrule'></a>\n",
      "# Chain Rule"
     ]
    },
    {
     "cell_type": "markdown",
     "metadata": {},
     "source": [
      "<a id='whatischainrule'></a>\n",
      "## What is the Chain Rule"
     ]
    },
    {
     "cell_type": "code",
     "collapsed": false,
     "input": [
      "from datetime import timedelta\n",
      "import math\n",
      "import matplotlib.pyplot as plt\n",
      "import numpy as np\n",
      "from sympy import *; init_printing()\n",
      "import pandas as pd\n",
      "from __future__ import division\n",
      "from IPython.display import HTML, YouTubeVideo\n",
      "%matplotlib inline"
     ],
     "language": "python",
     "metadata": {},
     "outputs": [],
     "prompt_number": 1
    },
    {
     "cell_type": "code",
     "collapsed": false,
     "input": [
      "init_printing(pretty_print=False)"
     ],
     "language": "python",
     "metadata": {},
     "outputs": [],
     "prompt_number": 2
    },
    {
     "cell_type": "markdown",
     "metadata": {},
     "source": [
      "$f(x)$ = number of widgets produced with $x$ dollars\n",
      "\n",
      "$g(x)$ = income from sale of $n$ widgets\n",
      "\n",
      "$g(f(x)) - x =$ profit on investment on $x$ dollars in widgets"
     ]
    },
    {
     "cell_type": "markdown",
     "metadata": {},
     "source": [
      "$h(x) = g(f(x))$\n",
      "\n",
      "$h'(x) = g'(f(x)) \\cdot f'(x)$\n",
      "\n",
      "<img src='images/chainrule.png'></img>"
     ]
    },
    {
     "cell_type": "markdown",
     "metadata": {},
     "source": [
      "### What is the derivative of $(1+2x)^5$ and $\\sqrt{x^2 + 0.0001}$"
     ]
    },
    {
     "cell_type": "markdown",
     "metadata": {},
     "source": [
      "$f(x) = (1 + 2x)^5$\n",
      "\n",
      "you could just expand this out. ugh"
     ]
    },
    {
     "cell_type": "markdown",
     "metadata": {},
     "source": [
      "Use chain rule\n",
      "\n",
      "$f(x) = (1 + 2x)^5 = g(h(x))$\n",
      "\n",
      "$g(x)= x^5$\n",
      "\n",
      "$h(x) = 1+ 2x$\n",
      "\n",
      "$f'(x) = g'(h(x)) \\cdot h'(x)$\n",
      "\n",
      "$f'(x) = 5(h(x))^4 \\cdot 2$\n",
      "\n",
      "$f'(x) = 5(1+ 2x)^4 \\cdot 2$"
     ]
    },
    {
     "cell_type": "markdown",
     "metadata": {},
     "source": [
      "---"
     ]
    },
    {
     "cell_type": "markdown",
     "metadata": {},
     "source": [
      "$f(x) = (x^2 + 0.0001)^{0.5}$\n",
      "\n",
      "$g(x) = x^{0.5}$\n",
      "\n",
      "$h(x) = x^2 + 0.0001$\n",
      "\n",
      "$f'(x) = 0.5\\left(x^2 + 0.0001\\right)^{-0.5} \\cdot 2x$"
     ]
    },
    {
     "cell_type": "code",
     "collapsed": false,
     "input": [
      "x = symbols('x')\n",
      "fx = (x**2 + 0.0001)**0.5\n",
      "fx"
     ],
     "language": "python",
     "metadata": {},
     "outputs": [
      {
       "metadata": {},
       "output_type": "pyout",
       "prompt_number": 3,
       "text": [
        "(x**2 + 0.0001)**0.5"
       ]
      }
     ],
     "prompt_number": 3
    },
    {
     "cell_type": "code",
     "collapsed": false,
     "input": [
      "init_printing()\n",
      "diff(fx)"
     ],
     "language": "python",
     "metadata": {},
     "outputs": [
      {
       "latex": [
        "$$\\frac{1.0 x}{\\left(x^{2} + 0.0001\\right)^{0.5}}$$"
       ],
       "metadata": {},
       "output_type": "pyout",
       "png": "[encoded data removed]",
       "prompt_number": 4,
       "text": [
        "                   -0.5\n",
        "      \u239b 2         \u239e    \n",
        "1.0\u22c5x\u22c5\u239dx  + 0.0001\u23a0    "
       ]
      }
     ],
     "prompt_number": 4
    },
    {
     "cell_type": "code",
     "collapsed": false,
     "input": [
      "plot(fx, xlim=[-0.1, 0.1], ylim=[0,0.05]);"
     ],
     "language": "python",
     "metadata": {},
     "outputs": [
      {
       "metadata": {},
       "output_type": "display_data",
       "png": "[encoded data removed]",
       "text": [
        "<matplotlib.figure.Figure at 0x10dc00150>"
       ]
      }
     ],
     "prompt_number": 5
    },
    {
     "cell_type": "markdown",
     "metadata": {},
     "source": [
      "### Quiz: What is the Chain Rule"
     ]
    },
    {
     "cell_type": "markdown",
     "metadata": {},
     "source": [
      "$g(f(4.04))= ?$\n",
      "\n",
      "$f(4) = 8, f'(4) = 7, g(8) = 10, g'(8) = 9$\n",
      "\n",
      "$ f(4.04) \\approx f'(4) + .04 \\cdot f(4) \\approx 8 + .04 \\cdot 7 \\approx 8.28$\n",
      "\n",
      "$g(8.28) \\approx g'(8) + .28 \\cdot g(8) \\approx 10 + .28 \\cdot 9$\n"
     ]
    },
    {
     "cell_type": "markdown",
     "metadata": {},
     "source": [
      "---\n",
      "$\\dfrac{d}{dx} \\sqrt{3x^2 + 8x + 36}$\n",
      "\n",
      "$h(x) = 3x^2 + 8x + 36$\n",
      "\n",
      "$g(x) = \\sqrt{x}$\n",
      "\n",
      "$g'(h(x)) \\cdot h'(x)=$\n",
      "\n",
      "$\\dfrac{6x+8}{2\\sqrt{3x^2 + 8x + 36}}$"
     ]
    },
    {
     "cell_type": "code",
     "collapsed": false,
     "input": [
      "fx = sqrt(3*x**2 + 8*x + 36)\n",
      "diff(fx)"
     ],
     "language": "python",
     "metadata": {},
     "outputs": [
      {
       "latex": [
        "$$\\frac{3 x + 4}{\\sqrt{3 x^{2} + 8 x + 36}}$$"
       ],
       "metadata": {},
       "output_type": "pyout",
       "png": "[encoded data removed]",
       "prompt_number": 6,
       "text": [
        "      3\u22c5x + 4       \n",
        "\u2500\u2500\u2500\u2500\u2500\u2500\u2500\u2500\u2500\u2500\u2500\u2500\u2500\u2500\u2500\u2500\u2500\u2500\u2500\u2500\n",
        "   _________________\n",
        "  \u2571    2            \n",
        "\u2572\u2571  3\u22c5x  + 8\u22c5x + 36 "
       ]
      }
     ],
     "prompt_number": 6
    },
    {
     "cell_type": "code",
     "collapsed": false,
     "input": [
      "print(diff(fx))"
     ],
     "language": "python",
     "metadata": {},
     "outputs": [
      {
       "output_type": "stream",
       "stream": "stdout",
       "text": [
        "(3*x + 4)/sqrt(3*x**2 + 8*x + 36)\n"
       ]
      }
     ],
     "prompt_number": 7
    },
    {
     "cell_type": "markdown",
     "metadata": {},
     "source": [
      "---\n",
      "$\\dfrac{d}{dx} (-x - 7)^3$\n",
      "\n",
      "$g(x) = x^3$\n",
      "\n",
      "$h(x) = -x - 7 $\n",
      "\n",
      "$3(-x - 7)^2 \\cdot -1$\n",
      "\n",
      "$-3(-x - 7)^2$"
     ]
    },
    {
     "cell_type": "code",
     "collapsed": false,
     "input": [
      "fx = (-x - 7)**3\n",
      "diff(fx)"
     ],
     "language": "python",
     "metadata": {},
     "outputs": [
      {
       "latex": [
        "$$- 3 \\left(- x - 7\\right)^{2}$$"
       ],
       "metadata": {},
       "output_type": "pyout",
       "png": "[encoded data removed]",
       "prompt_number": 8,
       "text": [
        "           2\n",
        "-3\u22c5(-x - 7) "
       ]
      }
     ],
     "prompt_number": 8
    },
    {
     "cell_type": "code",
     "collapsed": false,
     "input": [
      "print(diff(fx))"
     ],
     "language": "python",
     "metadata": {},
     "outputs": [
      {
       "output_type": "stream",
       "stream": "stdout",
       "text": [
        "-3*(-x - 7)**2\n"
       ]
      }
     ],
     "prompt_number": 9
    },
    {
     "cell_type": "markdown",
     "metadata": {},
     "source": [
      "---"
     ]
    },
    {
     "cell_type": "markdown",
     "metadata": {},
     "source": [
      "<img src='images/q4chain_rule.png' width=200/>"
     ]
    },
    {
     "cell_type": "markdown",
     "metadata": {},
     "source": [
      "$\\dfrac{d}{dx} g(f(x)) = $ \n",
      "\n",
      "$g'(f(x)) \\cdot f'(x) = $\n",
      "\n",
      "$g'(f(5)) \\cdot f'(5)=$\n",
      "\n",
      "$g'(2) \\cdot -3=$\n",
      "\n",
      "$8 \\cdot -3=$\n",
      "\n",
      "$-24$\n",
      "\n",
      "\n"
     ]
    },
    {
     "cell_type": "markdown",
     "metadata": {},
     "source": [
      "---\n",
      "<img src='images/q5chain_rule.png' width=200/>\n",
      "$(g \\circ f)'(9)=$\n",
      "\n",
      "$\\dfrac{d}{dx}g(f(9))=$\n",
      "\n",
      "$g'(f(x)) \\cdot f'(x)$\n",
      "\n",
      "$g'(f(9)) \\cdot f'(9)$\n",
      "\n",
      "$g'(f(9)) \\cdot f'(9)$\n",
      "\n",
      "$g'(6) \\cdot -10$\n",
      "\n",
      "$-9 \\cdot -10$"
     ]
    },
    {
     "cell_type": "markdown",
     "metadata": {},
     "source": [
      "---\n",
      "\n",
      "$\\dfrac{d}{dx}\\sqrt{8x^2 + 6x + 25}$\n",
      "\n",
      "$g(x) = \\sqrt{x}$\n",
      "\n",
      "$f(x) = 8x^2 + 6x + 25$"
     ]
    },
    {
     "cell_type": "code",
     "collapsed": false,
     "input": [
      "fx = sqrt(8*x**2 + 6*x + 25)"
     ],
     "language": "python",
     "metadata": {},
     "outputs": [],
     "prompt_number": 10
    },
    {
     "cell_type": "code",
     "collapsed": false,
     "input": [
      "diff(fx)"
     ],
     "language": "python",
     "metadata": {},
     "outputs": [
      {
       "latex": [
        "$$\\frac{8 x + 3}{\\sqrt{8 x^{2} + 6 x + 25}}$$"
       ],
       "metadata": {},
       "output_type": "pyout",
       "png": "[encoded data removed]",
       "prompt_number": 11,
       "text": [
        "      8\u22c5x + 3       \n",
        "\u2500\u2500\u2500\u2500\u2500\u2500\u2500\u2500\u2500\u2500\u2500\u2500\u2500\u2500\u2500\u2500\u2500\u2500\u2500\u2500\n",
        "   _________________\n",
        "  \u2571    2            \n",
        "\u2572\u2571  8\u22c5x  + 6\u22c5x + 25 "
       ]
      }
     ],
     "prompt_number": 11
    },
    {
     "cell_type": "code",
     "collapsed": false,
     "input": [
      "print(diff(fx))"
     ],
     "language": "python",
     "metadata": {},
     "outputs": [
      {
       "output_type": "stream",
       "stream": "stdout",
       "text": [
        "(8*x + 3)/sqrt(8*x**2 + 6*x + 25)\n"
       ]
      }
     ],
     "prompt_number": 12
    },
    {
     "cell_type": "markdown",
     "metadata": {},
     "source": [
      "---\n",
      "$f(3) = 9$\n",
      "\n",
      "$f'(3) = 3$\n",
      "\n",
      "$g(9) = 3$\n",
      "\n",
      "$g'(9) = 5$\n",
      "\n",
      "$g(f(3.02) = ?$\n",
      "\n",
      "$f(3.02) \\approx $\n",
      "\n",
      "$f(3) + .02 \\cdot f'(3) = 9 + .02 \\cdot 3 = 9.06$\n",
      "\n",
      "$g(9.06) \\approx $\n",
      "\n",
      "$g(9) + .06 \\cdot g'(9) = 3 + .06 \\cdot 5 = 3.30$\n"
     ]
    },
    {
     "cell_type": "markdown",
     "metadata": {},
     "source": [
      "---"
     ]
    },
    {
     "cell_type": "markdown",
     "metadata": {},
     "source": [
      "$\\left. \\dfrac{d}{dx} g(f(x)) \\right|_{x =8}$"
     ]
    },
    {
     "cell_type": "markdown",
     "metadata": {},
     "source": [
      "<img src='images/q8chain.png' align='left' width=200/>"
     ]
    },
    {
     "cell_type": "markdown",
     "metadata": {},
     "source": [
      "$g'(f(8)) \\cdot f'(8)$\n",
      "\n",
      "$g'(1) \\cdot f'(8)$\n",
      "\n",
      "$-9 \\cdot 3$"
     ]
    },
    {
     "cell_type": "markdown",
     "metadata": {},
     "source": [
      "<a id='howdoifindtangeline'></a>\n",
      "### How do I find the tangent line to a curve"
     ]
    },
    {
     "cell_type": "markdown",
     "metadata": {},
     "source": [
      "### What is implicit differentiation"
     ]
    },
    {
     "cell_type": "markdown",
     "metadata": {},
     "source": [
      "Say we're talking about the circle $x^2 + y^2 = 25$. It fails the vertical line test so  we can't differentiate because it's not a function.\n",
      "\n",
      "$y = f(x)$ satisfies the equation:\n",
      "\n",
      "$x^2 + f(x)^2 = 25$\n",
      "\n",
      "$\\dfrac{d}{dx} \\left[x^2 + f(x)^2 = 25\\right]$\n",
      "\n",
      "$2x + 2f'(x)f(x) = 0$ (chain rule $\\dfrac{d}{dx}f(x)^2 = 2f(x)f'(x)$\n",
      "\n",
      "$f'(x) = \\dfrac{-2x}{2f(x)}$\n",
      "\n",
      "$f'(x) = \\dfrac{-x}{y}$\n"
     ]
    },
    {
     "cell_type": "markdown",
     "metadata": {},
     "source": [
      "$x^2 + y^3 = 1$\n",
      "\n",
      "$x^2 + f(x)^3 = 1$\n",
      "\n",
      "$\\dfrac{d}{dx}\\left(x^2 + f(x)^3 = 1\\right)$\n",
      "\n",
      "$2x + 3f(x)^2f'(x) = 0$\n",
      "\n",
      "$2x + 3y^2y' = 0$\n"
     ]
    },
    {
     "cell_type": "markdown",
     "metadata": {},
     "source": [
      "### What is the folium of DesCartes"
     ]
    },
    {
     "cell_type": "markdown",
     "metadata": {},
     "source": [
      "folim = leaf\n",
      "\n",
      "$x^3 + y^3 - 9xy = 0$\n",
      "\n",
      "Let's take the derivative\n",
      "\n",
      "product rule: $\\dfrac{d}{dx}-9yx = -9y \\cdot 1 - 9\\dfrac{dy}{dx}x$\n",
      "\n",
      "$3x^2 + 3y^2\\dfrac{dy}{dx} - 9y - 9x\\dfrac{dy}{dx}=0$\n",
      "\n",
      "$3x^2 - 9y + 3y^2\\dfrac{dy}{dx}  - 9x\\dfrac{dy}{dx}=0$\n",
      "\n",
      "$\\dfrac{dy}{dx}\\left(3y^2 - 9x\\right) = $\n",
      "\n",
      "$\\dfrac{dy}{dx}=\\dfrac{9y - 3x^2}{ 3y^2-9x}$\n",
      "\n"
     ]
    },
    {
     "cell_type": "markdown",
     "metadata": {},
     "source": [
      "### Quiz: How do I find the tangent line to a curve?\n"
     ]
    },
    {
     "cell_type": "markdown",
     "metadata": {},
     "source": [
      "Suppose $f:[\u22121,1] \\to \\mathbb{R}$  is a function with the property that $x^2+f(x)^2=1$ and suppose $f(3/5)=\u22124/5$. Use implicit differentiation to compute $f\u2032(3/5)$."
     ]
    },
    {
     "cell_type": "markdown",
     "metadata": {},
     "source": [
      "$2x + 2f(x)\\cdot f'(x) = 0$\n",
      "\n",
      "$f'(x) = \\dfrac{-2x}{2f(x)}$\n",
      "\n",
      "$f'(x) = \\dfrac{-x}{f(x)}$\n",
      "\n",
      "$f'(\\dfrac{3}{5}) = \\dfrac{\\dfrac{-3}{5}}{f(\\dfrac{3}{5})}$\n",
      "\n",
      "$f'(\\dfrac{3}{5}) = \\dfrac{\\dfrac{-3}{5}}{\\dfrac{-4}{5}}$\n",
      "\n",
      "$f'(\\dfrac{3}{5}) = \\dfrac{-3}{5} \\cdot \\dfrac{-5}{4}$\n",
      "\n",
      "$f'(\\dfrac{3}{5}) = \\dfrac{3}{4}$"
     ]
    },
    {
     "cell_type": "markdown",
     "metadata": {},
     "source": [
      "---\n",
      "\n",
      "Suppose $f:(0, 2) \\to \\mathbb{R}$  is a function with the property that $x^2+f(x)^3=9$ and suppose $f(1)=2$. Use implicit differentiation to compute $f\u2032(1)$."
     ]
    },
    {
     "cell_type": "markdown",
     "metadata": {},
     "source": [
      "$2x + 3f(x)^2f'(x) = 0$\n",
      "\n",
      "$f'(x) = \\dfrac{-2x}{3f(x)^2}$\n",
      "\n",
      "$f'(1) = \\dfrac{-2\\cdot 1}{3 \\cdot f(1)^2}$\n",
      "\n",
      "$f'(1) = \\dfrac{-2}{3\\cdot 4}$\n",
      "\n",
      "$f'(1) = \\dfrac{-1}{6}$"
     ]
    },
    {
     "cell_type": "markdown",
     "metadata": {},
     "source": [
      "<a id='derivateinverse'></a>\n",
      "### How do I find the derivative of an inverse function\n"
     ]
    },
    {
     "cell_type": "markdown",
     "metadata": {},
     "source": [
      "### How does $\\left(f^{-1}\\right)'(x)$ relate to $f'(x)$"
     ]
    },
    {
     "cell_type": "markdown",
     "metadata": {},
     "source": [
      "<img src='images/inverse_theorem.png' width=400/>"
     ]
    },
    {
     "cell_type": "code",
     "collapsed": false,
     "input": [
      "from IPython.display import YouTubeVideo\n",
      "from datetime import timedelta\n",
      "YouTubeVideo('50i9-lVoIWs', start=int(timedelta(minutes=1, seconds=28).total_seconds()))"
     ],
     "language": "python",
     "metadata": {},
     "outputs": [
      {
       "html": [
        "\n",
        "        <iframe\n",
        "            width=\"400\"\n",
        "            height=300\"\n",
        "            src=\"https://www.youtube.com/embed/50i9-lVoIWs?start=88\"\n",
        "            frameborder=\"0\"\n",
        "            allowfullscreen\n",
        "        ></iframe>\n",
        "        "
       ],
       "metadata": {},
       "output_type": "pyout",
       "prompt_number": 13,
       "text": [
        "<IPython.lib.display.YouTubeVideo at 0x10dd268d0>"
       ]
      }
     ],
     "prompt_number": 13
    },
    {
     "cell_type": "markdown",
     "metadata": {},
     "source": [
      "$y = f(x)$\n",
      "\n",
      "$x = f^{-1}(y)$\n",
      "\n",
      "$f'(x) = \\dfrac{dy}{dx}$\n",
      "\n",
      "$\\left(f^{-1}\\right)(y) = \\dfrac{dx}{dy}$\n",
      "\n",
      "$\\dfrac{dx}{dy} = \\dfrac{1}{\\frac{dy}{dx}}$\n",
      "\n",
      "$\\left. \\dfrac{dx}{dy} \\right|_{y=f(a)}= \\dfrac{1}{\\left. \\dfrac{dy}{dx} \\right|_{x =a}}$"
     ]
    },
    {
     "cell_type": "markdown",
     "metadata": {},
     "source": [
      "---\n",
      "Easier if we use the chain rule\n",
      "\n",
      "$f(f^{-1}(x)) = x$ (by the definition of inverse)\n",
      "\n",
      "$\\dfrac{d}{dx}f(f^{-1}(x)) = \\dfrac{d}{dx}x$\n",
      "\n",
      "$f'(f^{-1}(x)) \\cdot (f^{-1})'(x) = 1$\n",
      "\n",
      "$(f^{-1})'(x) = \\dfrac{1}{f'(f^{-1}(x))}$"
     ]
    },
    {
     "cell_type": "markdown",
     "metadata": {},
     "source": [
      "---\n",
      "\n",
      "Example:\n",
      "\n",
      "$f(x) = x^2$\n",
      "\n",
      "$f^{-1}(x) = \\sqrt{x}$\n",
      "\n",
      "$f'(x) = 2x$, and it's cts, $f'(x) \\neq 0$ where $x>0$\n",
      "\n",
      "$(f^{-1})'(x) = $\n",
      "\n",
      "$\\dfrac{1}{f'(f^{-1}(x))} =$\n",
      "\n",
      "$\\dfrac{1}{f'(\\sqrt{x})} =$\n",
      "\n",
      "$\\dfrac{1}{f'(\\sqrt{x})} =$\n",
      "\n",
      "$\\dfrac{1}{2\\sqrt{x}}$ : the derivative of the inverse"
     ]
    },
    {
     "cell_type": "markdown",
     "metadata": {},
     "source": [
      "**We can also see this numerically**\n",
      "\n",
      "$\\sqrt{10000} = 100$\n",
      "\n",
      "$\\sqrt{?} = 100.1$\n",
      "\n",
      "$\\dfrac{d}{dx}\\sqrt{x} = \\dfrac{1}{2\\sqrt{x}}$\n",
      "\n",
      "$\\dfrac{d}{dx}\\sqrt{x} = \\left.\\dfrac{1}{2\\sqrt{x}}\\right|_{x=10000}=\\dfrac{1}{200}$\n",
      "\n",
      "$\\dfrac{d}{dx}x^2 = 2x = 200$\n",
      "\n",
      "$\\dfrac{d}{dx}x^2 = \\left. 2x\\right|_{x=100} = 200$\n",
      "\n",
      "So back to the original question. The ratio of the change of the input to the output is 200. If we want a change of 0.1, we should multiply 200 * 0.1 and change the input by about 20"
     ]
    },
    {
     "cell_type": "code",
     "collapsed": false,
     "input": [
      "N(sqrt(10000 + 20))"
     ],
     "language": "python",
     "metadata": {},
     "outputs": [
      {
       "latex": [
        "$$100.099950049938$$"
       ],
       "metadata": {},
       "output_type": "pyout",
       "png": "[encoded data removed]",
       "prompt_number": 14,
       "text": [
        "100.099950049938"
       ]
      }
     ],
     "prompt_number": 14
    },
    {
     "cell_type": "markdown",
     "metadata": {},
     "source": [
      "### What is the derivative of $log$"
     ]
    },
    {
     "cell_type": "markdown",
     "metadata": {},
     "source": [
      "$e^x = y$\n",
      "\n",
      "$\\log y = x$\n",
      "\n",
      "$e^{x+y} = e^xe^y$\n",
      "\n",
      "$\\log(ab) = \\log a + \\log b$\n",
      "\n",
      "$log$s turn products into sums! Great for calculating compound returns\n"
     ]
    },
    {
     "cell_type": "markdown",
     "metadata": {},
     "source": [
      "$f(x) = e^x$\n",
      "\n",
      "$f^{-1}(x) = \\log x$\n",
      "\n",
      "take derivative of both sides\n",
      "\n",
      "$f(f^{-1}(x)) = x$ (by the definition of inverse)\n",
      " \n",
      "$\\dfrac{d}{dx}f(f^{-1}(x)) = \\dfrac{d}{dx}x$\n",
      " \n",
      "$f'(f^{-1}(x)) \\cdot (f^{-1})'(x) = 1$\n",
      " \n",
      "$(f^{-1})'(x) = $\n",
      "\n",
      "$\\dfrac{1}{f'(f^{-1}(x))}= $\n",
      "\n",
      "the neat thing here is $\\dfrac{d}{dx}f(x) = f(x) \\therefore$\n",
      "\n",
      "$\\dfrac{1}{f(f^{-1}(x))} =$\n",
      "\n",
      "Now remember that $f(f^{-1}(x)) = x \\therefore $\n",
      "\n",
      "$\\dfrac{1}{x}$"
     ]
    },
    {
     "cell_type": "code",
     "collapsed": false,
     "input": [
      "fx = log(x)"
     ],
     "language": "python",
     "metadata": {},
     "outputs": [],
     "prompt_number": 15
    },
    {
     "cell_type": "code",
     "collapsed": false,
     "input": [
      "plot(fx);"
     ],
     "language": "python",
     "metadata": {},
     "outputs": [
      {
       "metadata": {},
       "output_type": "display_data",
       "png": "[encoded data removed]",
       "text": [
        "<matplotlib.figure.Figure at 0x10dd6fbd0>"
       ]
      }
     ],
     "prompt_number": 16
    },
    {
     "cell_type": "code",
     "collapsed": false,
     "input": [
      "n = int(1e6)\n",
      "x = range(n, n+2)"
     ],
     "language": "python",
     "metadata": {},
     "outputs": [],
     "prompt_number": 17
    },
    {
     "cell_type": "code",
     "collapsed": false,
     "input": [
      "pd.DataFrame(zip(x, [N(log(_)) for _ in x]), columns = ['x', 'log x'])"
     ],
     "language": "python",
     "metadata": {},
     "outputs": [
      {
       "html": [
        "<div style=\"max-height:1000px;max-width:1500px;overflow:auto;\">\n",
        "<table border=\"1\" class=\"dataframe\">\n",
        "  <thead>\n",
        "    <tr style=\"text-align: right;\">\n",
        "      <th></th>\n",
        "      <th>x</th>\n",
        "      <th>log x</th>\n",
        "    </tr>\n",
        "  </thead>\n",
        "  <tbody>\n",
        "    <tr>\n",
        "      <th>0</th>\n",
        "      <td> 1000000</td>\n",
        "      <td> 13.8155105579643</td>\n",
        "    </tr>\n",
        "    <tr>\n",
        "      <th>1</th>\n",
        "      <td> 1000001</td>\n",
        "      <td> 13.8155115579638</td>\n",
        "    </tr>\n",
        "  </tbody>\n",
        "</table>\n",
        "</div>"
       ],
       "metadata": {},
       "output_type": "pyout",
       "prompt_number": 18,
       "text": [
        "         x             log x\n",
        "0  1000000  13.8155105579643\n",
        "1  1000001  13.8155115579638"
       ]
      }
     ],
     "prompt_number": 18
    },
    {
     "cell_type": "markdown",
     "metadata": {},
     "source": [
      "$\\dfrac{d}{dx}\\log_b x = $\n",
      "\n",
      "$\\dfrac{d}{dx} \\dfrac{\\log x}{\\log b} = $ \n",
      "\n",
      "$\\dfrac{1}{\\log b} \\cdot \\dfrac{d}{dx}\\log x = $\n",
      "\n",
      "$\\dfrac{1}{\\log b} \\cdot \\dfrac{1}{x} = $\n",
      "\n",
      "$\\dfrac{1}{x \\log b}$"
     ]
    },
    {
     "cell_type": "markdown",
     "metadata": {},
     "source": [
      "---\n",
      "$ \\dfrac{d}{dx} 2^x=?$\n",
      "\n",
      "$\\dfrac{d}{dx} \\left(e^{\\log 2}\\right)^x=$\n",
      "\n",
      "use the chain rule\n",
      "\n",
      "$\\dfrac{d}{dx} g(f(x)) = g'(f(x)) \\cdot f'(x)$\n",
      "\n",
      "$g(x) = e^x$\n",
      "\n",
      "$f(x) = \\log 2 \\cdot x$\n",
      "\n",
      "$e^{\\log 2 \\cdot x} \\cdot \\log 2=$\n",
      "\n",
      "$2x \\cdot\\log 2$\n",
      "\n",
      "---\n",
      "$ \\dfrac{d}{dx} 2^n=$\n",
      "\n",
      "$nx \\cdot\\log n$"
     ]
    },
    {
     "cell_type": "markdown",
     "metadata": {},
     "source": [
      "### What is logarithmic differentiation?"
     ]
    },
    {
     "cell_type": "markdown",
     "metadata": {},
     "source": [
      "You could differentiate some nasty shit like \n",
      "\n",
      "$y = \\dfrac{(1+x^2)^5\\cdot (1+x^3)^8}{(1 + x^4)^7}$\n",
      "\n",
      "You could just use the rules you already have. suck\n",
      "\n",
      "instead lets use logs. logs turn exponentiation into muliplication, and multiplication into addition\n",
      "\n",
      "$\\log y = \\log\\left( {\\dfrac{(1+x^2)^5\\cdot (1+x^3)^8}{(1 + x^4)^7}}\\right)=$\n",
      "\n",
      "remember chain rule says:\n",
      "\n",
      "$\\dfrac{d}{dx}\\log y = \\dfrac{d}{dx}\\log y \\dfrac{dy}{dx} = \\dfrac{1}{y}\\dfrac{dy}{dx}$\n",
      "\n",
      "$\\dfrac{1}{y}\\dfrac{dy}{dx} = 5\\log(1+x^2) + 8\\log(1+x^3) - 7\\log(1+x^4) $\n",
      "\n",
      "$\\dfrac{1}{y}\\dfrac{dy}{dx} = \\dfrac{5 \\cdot 2x}{1+x^2} + \\dfrac{8\\cdot 3x^2}{1+x^3} - \\dfrac{7\\cdot 4x^3}{1+x^4} $\n",
      "\n",
      "$\\dfrac{1}{y}\\dfrac{dy}{dx} = \\dfrac{10x}{1+x^2} + \\dfrac{24x^2}{1+x^3} - \\dfrac{28x^3}{1+x^4} $\n",
      "\n",
      "$y\\cdot \\dfrac{1}{y}\\dfrac{dy}{dx} = y\\cdot \\left(\\dfrac{10x}{1+x^2} + \\dfrac{24x^2}{1+x^3} - \\dfrac{28x^3}{1+x^4}\\right) $\n",
      "\n",
      "$\\dfrac{dy}{dx} = \\left( {\\dfrac{(1+x^2)^5\\cdot (1+x^3)^8}{(1 + x^4)^7}}\\right)\\cdot \\left(\\dfrac{10x}{1+x^2} + \\dfrac{24x^2}{1+x^3} - \\dfrac{28x^3}{1+x^4}\\right) $"
     ]
    },
    {
     "cell_type": "code",
     "collapsed": false,
     "input": [
      "# Lets see what sympy thinks\n",
      "x = symbols('x')\n",
      "y = ((1+x**2)**5 * (1+x**3)**8)/ (1+x**4)**7\n",
      "y"
     ],
     "language": "python",
     "metadata": {},
     "outputs": [
      {
       "latex": [
        "$$\\frac{\\left(x^{2} + 1\\right)^{5} \\left(x^{3} + 1\\right)^{8}}{\\left(x^{4} + 1\\right)^{7}}$$"
       ],
       "metadata": {},
       "output_type": "pyout",
       "png": "[encoded data removed]",
       "prompt_number": 19,
       "text": [
        "        5         8\n",
        "\u239b 2    \u239e  \u239b 3    \u239e \n",
        "\u239dx  + 1\u23a0 \u22c5\u239dx  + 1\u23a0 \n",
        "\u2500\u2500\u2500\u2500\u2500\u2500\u2500\u2500\u2500\u2500\u2500\u2500\u2500\u2500\u2500\u2500\u2500\u2500\u2500\n",
        "             7     \n",
        "     \u239b 4    \u239e      \n",
        "     \u239dx  + 1\u23a0      "
       ]
      }
     ],
     "prompt_number": 19
    },
    {
     "cell_type": "code",
     "collapsed": false,
     "input": [
      "diff(y)"
     ],
     "language": "python",
     "metadata": {},
     "outputs": [
      {
       "latex": [
        "$$- \\frac{28 x^{3} \\left(x^{2} + 1\\right)^{5}}{\\left(x^{4} + 1\\right)^{8}} \\left(x^{3} + 1\\right)^{8} + \\frac{24 x^{2} \\left(x^{2} + 1\\right)^{5}}{\\left(x^{4} + 1\\right)^{7}} \\left(x^{3} + 1\\right)^{7} + \\frac{10 x \\left(x^{2} + 1\\right)^{4}}{\\left(x^{4} + 1\\right)^{7}} \\left(x^{3} + 1\\right)^{8}$$"
       ],
       "metadata": {},
       "output_type": "pyout",
       "png": "[encoded data removed]",
       "prompt_number": 20,
       "text": [
        "                5         8                 5         7                4      \n",
        "      3 \u239b 2    \u239e  \u239b 3    \u239e        2 \u239b 2    \u239e  \u239b 3    \u239e         \u239b 2    \u239e  \u239b 3  \n",
        "  28\u22c5x \u22c5\u239dx  + 1\u23a0 \u22c5\u239dx  + 1\u23a0    24\u22c5x \u22c5\u239dx  + 1\u23a0 \u22c5\u239dx  + 1\u23a0    10\u22c5x\u22c5\u239dx  + 1\u23a0 \u22c5\u239dx  +\n",
        "- \u2500\u2500\u2500\u2500\u2500\u2500\u2500\u2500\u2500\u2500\u2500\u2500\u2500\u2500\u2500\u2500\u2500\u2500\u2500\u2500\u2500\u2500\u2500\u2500\u2500 + \u2500\u2500\u2500\u2500\u2500\u2500\u2500\u2500\u2500\u2500\u2500\u2500\u2500\u2500\u2500\u2500\u2500\u2500\u2500\u2500\u2500\u2500\u2500\u2500\u2500 + \u2500\u2500\u2500\u2500\u2500\u2500\u2500\u2500\u2500\u2500\u2500\u2500\u2500\u2500\u2500\u2500\u2500\u2500\u2500\u2500\n",
        "                  8                           7                          7    \n",
        "          \u239b 4    \u239e                    \u239b 4    \u239e                   \u239b 4    \u239e     \n",
        "          \u239dx  + 1\u23a0                    \u239dx  + 1\u23a0                   \u239dx  + 1\u23a0     \n",
        "\n",
        "   8\n",
        "  \u239e \n",
        " 1\u23a0 \n",
        "\u2500\u2500\u2500\u2500\n",
        "    \n",
        "    \n",
        "    "
       ]
      }
     ],
     "prompt_number": 20
    },
    {
     "cell_type": "markdown",
     "metadata": {},
     "source": [
      "### Quiz : How do I find the derivative of an inverse function?"
     ]
    },
    {
     "cell_type": "markdown",
     "metadata": {},
     "source": [
      "**1**\n",
      "\n",
      "Suppose that $f(\u22121)=1$, and $f\u2032(\u22121)=6$. Using this information you can determine one and only one value of the derivative of $f^{\u22121}(x)$.\n",
      "\n",
      "$f(f^{-1}(x)) = x$\n",
      "\n",
      "$f(f^{-1}(1)) = 1$\n",
      "\n",
      "$f(-1) = 1$\n",
      "\n",
      "$\\therefore$\n",
      "\n",
      "$f^{-1}({-1}) = {-1}$\n",
      "\n",
      "and \n",
      "\n",
      "$(f^{-1})'(x) = \\dfrac{1}{f'(f^{-1}(x))}= $\n",
      "\n",
      "$(f^{-1})'(-1) = \\dfrac{1}{f'(f^{-1}(-1))}= $\n",
      "\n",
      "$(f^{-1})'(-1) = \\dfrac{1}{f'(-1)}= \\dfrac{1}{6}$\n"
     ]
    },
    {
     "cell_type": "markdown",
     "metadata": {},
     "source": [
      "---\n",
      "\n",
      "**2**\n",
      "\n",
      "Suppose that $f(\u22122)=4$, and $f\u2032(\u22122)=8$. Using this information you can determine one and only one value of the derivative of $f^{\u22121}(x)$.\n",
      "\n",
      "$f(\u22122)=4$\n",
      "\n",
      "$f\u2032(\u22122)=8$\n",
      "\n",
      "$\\left(f^{\u22121}\\right)'(x)=?$"
     ]
    },
    {
     "cell_type": "markdown",
     "metadata": {},
     "source": [
      "$f\\left(f^{-1}(x)\\right)= x$\n",
      "\n",
      "$f\\left(f^{-1}(4)\\right)= 4 = f(-2)$\n",
      "\n",
      "$\\therefore f^{-1}(4)=-2$\n",
      "\n",
      "$\\left(f^{-1}\\right)'(x) = \\dfrac{1}{f'(f^{-1}(x))} $\n",
      "\n",
      "$\\left(f^{-1}\\right)'(4) = \\dfrac{1}{f'(f^{-1}(4))} $\n",
      "\n",
      "$\\left(f^{-1}\\right)'(4) = \\dfrac{1}{f'(-2)} $\n",
      "\n",
      "$\\left(f^{-1}\\right)'(4) = \\dfrac{1}{8} $"
     ]
    },
    {
     "cell_type": "markdown",
     "metadata": {},
     "source": [
      "---\n",
      "\n",
      "**3**\n",
      "\n",
      "Find the derivative of $\\log(4x^3\u22123x^2+7x\u22126)$\n",
      " "
     ]
    },
    {
     "cell_type": "markdown",
     "metadata": {},
     "source": [
      "$y = \\log(4x^3\u22123x^2+7x\u22126)$\n",
      "\n",
      "$y' = \\dfrac{1}{4x^3\u22123x^2+7x\u22126} \\cdot \\left(12x^2 - 6x + 7\\right)$\n",
      "\n",
      "$y' = \\dfrac{12x^2 - 6x + 7}{4x^3\u22123x^2+7x\u22126}$"
     ]
    },
    {
     "cell_type": "code",
     "collapsed": false,
     "input": [
      "fx = log(4*x**3 - 3*x**2 + 7*x - 6)\n",
      "fx"
     ],
     "language": "python",
     "metadata": {},
     "outputs": [
      {
       "latex": [
        "$$\\log{\\left (4 x^{3} - 3 x^{2} + 7 x - 6 \\right )}$$"
       ],
       "metadata": {},
       "output_type": "pyout",
       "png": "[encoded data removed]",
       "prompt_number": 21,
       "text": [
        "   \u239b   3      2          \u239e\n",
        "log\u239d4\u22c5x  - 3\u22c5x  + 7\u22c5x - 6\u23a0"
       ]
      }
     ],
     "prompt_number": 21
    },
    {
     "cell_type": "code",
     "collapsed": false,
     "input": [
      "diff(fx)"
     ],
     "language": "python",
     "metadata": {},
     "outputs": [
      {
       "latex": [
        "$$\\frac{12 x^{2} - 6 x + 7}{4 x^{3} - 3 x^{2} + 7 x - 6}$$"
       ],
       "metadata": {},
       "output_type": "pyout",
       "png": "[encoded data removed]",
       "prompt_number": 22,
       "text": [
        "       2             \n",
        "   12\u22c5x  - 6\u22c5x + 7   \n",
        "\u2500\u2500\u2500\u2500\u2500\u2500\u2500\u2500\u2500\u2500\u2500\u2500\u2500\u2500\u2500\u2500\u2500\u2500\u2500\u2500\u2500\n",
        "   3      2          \n",
        "4\u22c5x  - 3\u22c5x  + 7\u22c5x - 6"
       ]
      }
     ],
     "prompt_number": 22
    },
    {
     "cell_type": "code",
     "collapsed": false,
     "input": [
      "print(diff(fx))"
     ],
     "language": "python",
     "metadata": {},
     "outputs": [
      {
       "output_type": "stream",
       "stream": "stdout",
       "text": [
        "(12*x**2 - 6*x + 7)/(4*x**3 - 3*x**2 + 7*x - 6)\n"
       ]
      }
     ],
     "prompt_number": 23
    },
    {
     "cell_type": "markdown",
     "metadata": {},
     "source": [
      "---\n",
      "\n",
      "**4**\n",
      "\n",
      "Find the derivative of $\\log\\left(6x + 7\\right)$\n",
      "\n",
      "$\\dfrac{1}{6x+7} \\cdot 6$"
     ]
    },
    {
     "cell_type": "code",
     "collapsed": false,
     "input": [
      "fx = log(6*x + 7)\n",
      "fx"
     ],
     "language": "python",
     "metadata": {},
     "outputs": [
      {
       "latex": [
        "$$\\log{\\left (6 x + 7 \\right )}$$"
       ],
       "metadata": {},
       "output_type": "pyout",
       "png": "[encoded data removed]",
       "prompt_number": 24,
       "text": [
        "log(6\u22c5x + 7)"
       ]
      }
     ],
     "prompt_number": 24
    },
    {
     "cell_type": "code",
     "collapsed": false,
     "input": [
      "diff(fx)"
     ],
     "language": "python",
     "metadata": {},
     "outputs": [
      {
       "latex": [
        "$$\\frac{6}{6 x + 7}$$"
       ],
       "metadata": {},
       "output_type": "pyout",
       "png": "[encoded data removed]",
       "prompt_number": 25,
       "text": [
        "   6   \n",
        "\u2500\u2500\u2500\u2500\u2500\u2500\u2500\n",
        "6\u22c5x + 7"
       ]
      }
     ],
     "prompt_number": 25
    },
    {
     "cell_type": "code",
     "collapsed": false,
     "input": [
      "print(diff(fx))"
     ],
     "language": "python",
     "metadata": {},
     "outputs": [
      {
       "output_type": "stream",
       "stream": "stdout",
       "text": [
        "6/(6*x + 7)\n"
       ]
      }
     ],
     "prompt_number": 26
    },
    {
     "cell_type": "markdown",
     "metadata": {},
     "source": [
      "---\n",
      "\n",
      "**5**\n",
      "\n",
      "Suppose that $f(\u22126)=8$, and $f\u2032(\u22126)=5$. Using this information you can determine one and only one value of the derivative of $f^{\u22121}(x)$.\n",
      "\n",
      "$f(\u22126)=8$\n",
      "\n",
      "$f\u2032(\u22126)=5$\n",
      "\n",
      "$\\left(f^{\u22121}\\right)'(x)=?$\n",
      "\n",
      "$\\left(f^{\u22121}\\right)'(x)= \\dfrac{1}{f'\\left(f^{-1}(x)\\right)}$"
     ]
    },
    {
     "cell_type": "markdown",
     "metadata": {},
     "source": [
      "$f\\left(f^{\u22121}(x)\\right) = x$\n",
      "\n",
      "$f\\left(f^{\u22121}(8)\\right) = 8 = f(-6)$\n",
      "\n",
      "$\\therefore f^{\u22121}(8)=-6$\n",
      "\n",
      "$\\left(f^{\u22121}\\right)'(x)= \\dfrac{1}{f'\\left(f^{-1}(x)\\right)}$\n",
      "\n",
      "$\\left(f^{\u22121}\\right)'(8)= \\dfrac{1}{f'(-6)}$\n",
      "\n",
      "$\\left(f^{\u22121}\\right)'(8)= \\dfrac{1}{5}$"
     ]
    },
    {
     "cell_type": "markdown",
     "metadata": {},
     "source": [
      "---\n",
      "\n",
      "**6**\n",
      "\n",
      "Find the derivative of $\\log(-4x^2 + 4x -1)$"
     ]
    },
    {
     "cell_type": "code",
     "collapsed": false,
     "input": [
      "fx = log(-4*x**2+4*x-1)\n",
      "fx"
     ],
     "language": "python",
     "metadata": {},
     "outputs": [
      {
       "latex": [
        "$$\\log{\\left (- 4 x^{2} + 4 x - 1 \\right )}$$"
       ],
       "metadata": {},
       "output_type": "pyout",
       "png": "[encoded data removed]",
       "prompt_number": 27,
       "text": [
        "   \u239b     2          \u239e\n",
        "log\u239d- 4\u22c5x  + 4\u22c5x - 1\u23a0"
       ]
      }
     ],
     "prompt_number": 27
    },
    {
     "cell_type": "code",
     "collapsed": false,
     "input": [
      "diff(fx)"
     ],
     "language": "python",
     "metadata": {},
     "outputs": [
      {
       "latex": [
        "$$\\frac{- 8 x + 4}{- 4 x^{2} + 4 x - 1}$$"
       ],
       "metadata": {},
       "output_type": "pyout",
       "png": "[encoded data removed]",
       "prompt_number": 28,
       "text": [
        "    -8\u22c5x + 4    \n",
        "\u2500\u2500\u2500\u2500\u2500\u2500\u2500\u2500\u2500\u2500\u2500\u2500\u2500\u2500\u2500\u2500\n",
        "     2          \n",
        "- 4\u22c5x  + 4\u22c5x - 1"
       ]
      }
     ],
     "prompt_number": 28
    },
    {
     "cell_type": "code",
     "collapsed": false,
     "input": [
      "print(diff(fx))"
     ],
     "language": "python",
     "metadata": {},
     "outputs": [
      {
       "output_type": "stream",
       "stream": "stdout",
       "text": [
        "(-8*x + 4)/(-4*x**2 + 4*x - 1)\n"
       ]
      }
     ],
     "prompt_number": 29
    },
    {
     "cell_type": "markdown",
     "metadata": {},
     "source": [
      "<a id='multiplyquickly'></a>\n",
      "## How can we multiply quickly"
     ]
    },
    {
     "cell_type": "markdown",
     "metadata": {},
     "source": [
      "** Quarter Squares **"
     ]
    },
    {
     "cell_type": "code",
     "collapsed": false,
     "input": [
      "n = range(6) + [20, 54]\n",
      "m = [_**2 / 4.0 for _ in n]\n",
      "pd.DataFrame(zip(n, m), columns = ['n', 'n^2/4'])"
     ],
     "language": "python",
     "metadata": {},
     "outputs": [
      {
       "html": [
        "<div style=\"max-height:1000px;max-width:1500px;overflow:auto;\">\n",
        "<table border=\"1\" class=\"dataframe\">\n",
        "  <thead>\n",
        "    <tr style=\"text-align: right;\">\n",
        "      <th></th>\n",
        "      <th>n</th>\n",
        "      <th>n^2/4</th>\n",
        "    </tr>\n",
        "  </thead>\n",
        "  <tbody>\n",
        "    <tr>\n",
        "      <th>0</th>\n",
        "      <td>  0</td>\n",
        "      <td>   0.00</td>\n",
        "    </tr>\n",
        "    <tr>\n",
        "      <th>1</th>\n",
        "      <td>  1</td>\n",
        "      <td>   0.25</td>\n",
        "    </tr>\n",
        "    <tr>\n",
        "      <th>2</th>\n",
        "      <td>  2</td>\n",
        "      <td>   1.00</td>\n",
        "    </tr>\n",
        "    <tr>\n",
        "      <th>3</th>\n",
        "      <td>  3</td>\n",
        "      <td>   2.25</td>\n",
        "    </tr>\n",
        "    <tr>\n",
        "      <th>4</th>\n",
        "      <td>  4</td>\n",
        "      <td>   4.00</td>\n",
        "    </tr>\n",
        "    <tr>\n",
        "      <th>5</th>\n",
        "      <td>  5</td>\n",
        "      <td>   6.25</td>\n",
        "    </tr>\n",
        "    <tr>\n",
        "      <th>6</th>\n",
        "      <td> 20</td>\n",
        "      <td> 100.00</td>\n",
        "    </tr>\n",
        "    <tr>\n",
        "      <th>7</th>\n",
        "      <td> 54</td>\n",
        "      <td> 729.00</td>\n",
        "    </tr>\n",
        "  </tbody>\n",
        "</table>\n",
        "</div>"
       ],
       "metadata": {},
       "output_type": "pyout",
       "prompt_number": 30,
       "text": [
        "    n   n^2/4\n",
        "0   0    0.00\n",
        "1   1    0.25\n",
        "2   2    1.00\n",
        "3   3    2.25\n",
        "4   4    4.00\n",
        "5   5    6.25\n",
        "6  20  100.00\n",
        "7  54  729.00"
       ]
      }
     ],
     "prompt_number": 30
    },
    {
     "cell_type": "markdown",
     "metadata": {},
     "source": [
      "$a \\cdot b = \\dfrac{(a+b)^2}{4} - \\dfrac{(a-b)^2}{4}$\n",
      "\n",
      "$3 \\cdot 2 = \\dfrac{(3+2)^2}{4} - \\dfrac{(3-2)^2}{4}$\n",
      "\n",
      "$3 \\cdot 2 = 6.25 - .25 =6$\n",
      "\n",
      "$17 \\cdot 37 = \\dfrac{(37+17)^2}{4} - \\dfrac{(37-17)^2}{4}$\n",
      "\n",
      "$17 \\cdot 37 = 729 - 100 = 629$\n",
      "\n",
      "so...."
     ]
    },
    {
     "cell_type": "markdown",
     "metadata": {},
     "source": [
      "$e^xe^y = e^{x+y}$\n",
      "\n",
      "$\\log {ab} = \\log a + \\log b$\n",
      "\n"
     ]
    },
    {
     "cell_type": "markdown",
     "metadata": {},
     "source": [
      "### Slide rules. holy fucking shit."
     ]
    },
    {
     "cell_type": "code",
     "collapsed": false,
     "input": [
      "from IPython.display import YouTubeVideo\n",
      "from datetime import timedelta\n",
      "vid = 'LcJPGsWErdQ'\n",
      "YouTubeVideo(vid, start=int(timedelta(minutes=6, seconds=47).total_seconds()))"
     ],
     "language": "python",
     "metadata": {},
     "outputs": [
      {
       "html": [
        "\n",
        "        <iframe\n",
        "            width=\"400\"\n",
        "            height=300\"\n",
        "            src=\"https://www.youtube.com/embed/LcJPGsWErdQ?start=407\"\n",
        "            frameborder=\"0\"\n",
        "            allowfullscreen\n",
        "        ></iframe>\n",
        "        "
       ],
       "metadata": {},
       "output_type": "pyout",
       "prompt_number": 31,
       "text": [
        "<IPython.lib.display.YouTubeVideo at 0x10ddaead0>"
       ]
      }
     ],
     "prompt_number": 31
    },
    {
     "cell_type": "markdown",
     "metadata": {},
     "source": [
      "### Quiz: How can I multiply quickly?"
     ]
    },
    {
     "cell_type": "markdown",
     "metadata": {},
     "source": [
      "\n",
      "The natural logarithm of $10$ is approximately $2.302585093$. The natural logarithm of $10^{10^6}$ is closest to which of the following integers?"
     ]
    },
    {
     "cell_type": "markdown",
     "metadata": {},
     "source": [
      "$\\log 10 \\approx 2.302$\n",
      "\n",
      "$\\log 10^{10^6}=$\n",
      "\n",
      "$10^6 \\cdot \\log 10=$\n",
      "\n",
      "$10^6 \\cdot 2.302 \\approx 2,302,000$"
     ]
    },
    {
     "cell_type": "markdown",
     "metadata": {},
     "source": [
      "---\n",
      "\n",
      "**2**\n",
      "\n",
      "The natural logarithm of $17$ is approximately $2.83321334$. The natural logarithm of $17^{100000}$ is closest to which of the following integers?"
     ]
    },
    {
     "cell_type": "markdown",
     "metadata": {},
     "source": [
      "$\\log 17 \\approx 2.833$\n",
      "\n",
      "$\\log 7^{10^5}=$\n",
      "\n",
      "$10^5 \\cdot \\log 7\\approx$\n",
      "\n",
      "$10^5 \\cdot 2.833 = 283,300$"
     ]
    },
    {
     "cell_type": "markdown",
     "metadata": {},
     "source": [
      "<a id='justifyderivativerules'></a>\n",
      "## How do I justify the derivative rules"
     ]
    },
    {
     "cell_type": "markdown",
     "metadata": {},
     "source": [
      "### How do we justify the power rule"
     ]
    },
    {
     "cell_type": "markdown",
     "metadata": {},
     "source": [
      "Power rule (as long as $n$ is a positive whole number so you can expand)\n",
      "\n",
      "$\\dfrac{d}{dx}x^n = nx^{n-1}$"
     ]
    },
    {
     "cell_type": "markdown",
     "metadata": {},
     "source": [
      "<img src='images/power_rule_derive.png' width=350/>\n",
      "<img src='images/power_rule_derive2.png' width=350/>\n",
      "<img src='images/power_rule_derive3.png' width=350/>"
     ]
    },
    {
     "cell_type": "markdown",
     "metadata": {},
     "source": [
      "### How can logarithms help to prove the product rule?"
     ]
    },
    {
     "cell_type": "markdown",
     "metadata": {},
     "source": [
      "$f(x) > 0$\n",
      "\n",
      "$g(x) > 0$\n",
      "\n",
      "$\\log\\left(f(x)g(x)\\right)= \\log f(x) + \\log g(x)$\n",
      "\n",
      "$\\dfrac{d}{dx}\\big(\\log\\left(f(x)g(x)\\right)= \\log f(x) + \\log g(x)\\big)$\n",
      "\n",
      "$\\dfrac{1}{f(x)g(x)} \\cdot \\dfrac{d}{dx}\\left(f(x)g(x)\\right) = \\dfrac{1}{f(x)}f'(x) + \\dfrac{1}{g(x)}g'(x) $\n",
      "\n"
     ]
    },
    {
     "cell_type": "markdown",
     "metadata": {},
     "source": [
      "$\\dfrac{d}{dx}\\left(f(x)g(x)\\right) = \\dfrac{f(x)g(x)}{f(x)}f'(x) + \\dfrac{f(x)g(x)}{g(x)}g'(x) $\n",
      "\n",
      "$\\dfrac{d}{dx}\\left(f(x)g(x)\\right) = g(x)f'(x) + f(x)g'(x)$"
     ]
    },
    {
     "cell_type": "markdown",
     "metadata": {},
     "source": [
      "### Prove the Quotient Rule"
     ]
    },
    {
     "cell_type": "markdown",
     "metadata": {},
     "source": [
      "$\\dfrac{d}{dx} \\dfrac{f(x)}{g(x)} = \\dfrac{g(x)f'(x) - f(x)g'(x)}{{g(x)}^2}$\n",
      "\n",
      "\n",
      "$\\dfrac{d}{dx}\\dfrac{1}{x} = \\dfrac{d}{dx}x^{-1} = -1 \\cdot x^{-2} = \\dfrac{-1}{x^2}$\n",
      "\n",
      "$\\lim\\limits_{h \\to 0} \\dfrac{\\dfrac{1}{x+h} - \\dfrac{1}{x}}{h} = \\dfrac{-1}{x^2}$"
     ]
    },
    {
     "cell_type": "markdown",
     "metadata": {},
     "source": [
      "---\n",
      "Power Rule\n",
      "\n",
      "$f(x) = \\dfrac{1}{x}$\n",
      "\n",
      "$f'(x) = \\dfrac{-1}{x^2}$\n",
      "\n",
      "$ f(g(x)) =\\dfrac{1}{g(x)} $\n",
      "\n",
      "---\n",
      "Chain Rule\n",
      "\n",
      "$\\dfrac{d}{dx}\\dfrac{1}{g(x)} = \\dfrac{d}{dx}f(g(x))$\n",
      "\n",
      "$\\dfrac{d}{dx}\\dfrac{1}{g(x)} = f'(g(x))\\cdot g'(x)$\n",
      "\n",
      "$\\dfrac{d}{dx}\\dfrac{1}{g(x)} = \\dfrac{-1}{g(x)^2} \\cdot g'(x)$\n",
      "\n",
      "---\n",
      "Product Rule\n",
      "\n",
      "$\\dfrac{d}{dx}\\dfrac{f(x)}{g(x)} = \\dfrac{d}{dx}\\left(f(x)\\cdot \\dfrac{1}{g(x)}\\right)$"
     ]
    },
    {
     "cell_type": "markdown",
     "metadata": {},
     "source": [
      "$\\dfrac{d}{dx}\\dfrac{f(x)}{g(x)} = f'(x)\\cdot \\dfrac{1}{g(x)} + \\dfrac{d}{dx}\\dfrac{1}{g(x)}\\cdot f(x)$\n",
      "\n",
      "$\\dfrac{d}{dx}\\dfrac{f(x)}{g(x)} = f'(x)\\cdot \\dfrac{1}{g(x)} + \\dfrac{-1}{g(x)^2} \\cdot g'(x)\\cdot f(x)$"
     ]
    },
    {
     "cell_type": "markdown",
     "metadata": {},
     "source": [
      "$\\dfrac{d}{dx}\\dfrac{f(x)}{g(x)} = \\dfrac{f'(x)g(x)}{g(x)^2} + \\dfrac{-f(x)g'(x)}{g(x)^2}$\n",
      "\n",
      "$\\dfrac{d}{dx}\\dfrac{f(x)}{g(x)} =\\dfrac{g(x)f'(x) - f(x)g'(x)}{{g(x)}^2}$"
     ]
    },
    {
     "cell_type": "markdown",
     "metadata": {},
     "source": [
      "### Prove the Chain Rule"
     ]
    },
    {
     "cell_type": "markdown",
     "metadata": {},
     "source": [
      "..."
     ]
    },
    {
     "cell_type": "markdown",
     "metadata": {},
     "source": [
      "### Quiz: Justify derivative rules"
     ]
    },
    {
     "cell_type": "markdown",
     "metadata": {},
     "source": [
      "**1**\n",
      "\n",
      "Let $f(x)=x^\\sqrt{2}$. This function is differentiable for all positive $x$.\n",
      "\n",
      "Compute $\\dfrac{d}{dx}(f\\circ f)(x)$ using the chain rule.\n",
      "\n",
      "$f(x)=x^\\sqrt{2}$\n",
      "\n",
      "$f'(x)=\\sqrt{2}x^{\\sqrt{2}-1}$"
     ]
    },
    {
     "cell_type": "markdown",
     "metadata": {},
     "source": [
      "$(f \\circ f) = f(f(x))$\n",
      "\n",
      "$\\dfrac{d}{dx} f(f(x)) = f'(f(x))\\cdot f'(x)$\n",
      "\n",
      "$\\dfrac{d}{dx} f(f(x)) = f'(x^\\sqrt{2}))\\cdot f'(x)$\n",
      "\n",
      "$\\dfrac{d}{dx} f(f(x)) = f'(x^\\sqrt{2}))\\cdot \\sqrt{2}x^{\\sqrt{2}-1}$"
     ]
    },
    {
     "cell_type": "markdown",
     "metadata": {},
     "source": [
      "$\\dfrac{d}{dx} f(f(x)) =  \\sqrt{2}(x^\\sqrt{2})^{\\sqrt{2}-1}\\cdot \\sqrt{2}x^{\\sqrt{2}-1}$\n",
      "\n",
      "$\\dfrac{d}{dx} f(f(x)) =  \\sqrt{2}(f(x))^{\\sqrt{2}-1}\\cdot \\sqrt{2}x^{\\sqrt{2}-1}$"
     ]
    },
    {
     "cell_type": "markdown",
     "metadata": {},
     "source": [
      "**2**\n",
      "\n",
      "$ f(x) =x^\\pi$\n",
      "\n",
      "compute $\\dfrac{d}{dx}\\left(\\log f(x)\\right)$ by using properties of logs\n",
      "\n",
      "$\\dfrac{d}{dx}\\left(\\log f(x)\\right)$\n",
      "\n",
      "$\\dfrac{d}{dx}\\left(\\log x^\\pi\\right)$\n",
      "\n",
      "$\\pi\\dfrac{d}{dx}\\log x$\n",
      "\n",
      "$\\pi\\dfrac{1}{x}$"
     ]
    },
    {
     "cell_type": "code",
     "collapsed": false,
     "input": [
      "x = symbols('x')\n",
      "fx = log(x**pi)\n",
      "diff(fx)"
     ],
     "language": "python",
     "metadata": {},
     "outputs": [
      {
       "latex": [
        "$$\\frac{\\pi}{x}$$"
       ],
       "metadata": {},
       "output_type": "pyout",
       "png": "[encoded data removed]",
       "prompt_number": 32,
       "text": [
        "\u03c0\n",
        "\u2500\n",
        "x"
       ]
      }
     ],
     "prompt_number": 32
    },
    {
     "cell_type": "markdown",
     "metadata": {},
     "source": [
      "<a id='quizchainrule'></a>\n",
      "### Quiz Chain Rule"
     ]
    },
    {
     "cell_type": "markdown",
     "metadata": {},
     "source": [
      "**1**\n",
      "\n",
      "$\\dfrac{d}{dx} (5x^2 + 6x + 2)^5=$\n",
      "\n",
      "$5(5x^2 + 6x + 2)^4 * (10x + 6)$"
     ]
    },
    {
     "cell_type": "code",
     "collapsed": false,
     "input": [
      "fx = (5*x**2 + 6*x + 2)**5\n",
      "print(diff(fx))"
     ],
     "language": "python",
     "metadata": {},
     "outputs": [
      {
       "output_type": "stream",
       "stream": "stdout",
       "text": [
        "(50*x + 30)*(5*x**2 + 6*x + 2)**4\n"
       ]
      }
     ],
     "prompt_number": 33
    },
    {
     "cell_type": "code",
     "collapsed": false,
     "input": [
      "fx"
     ],
     "language": "python",
     "metadata": {},
     "outputs": [
      {
       "latex": [
        "$$\\left(5 x^{2} + 6 x + 2\\right)^{5}$$"
       ],
       "metadata": {},
       "output_type": "pyout",
       "png": "[encoded data removed]",
       "prompt_number": 34,
       "text": [
        "                5\n",
        "\u239b   2          \u239e \n",
        "\u239d5\u22c5x  + 6\u22c5x + 2\u23a0 "
       ]
      }
     ],
     "prompt_number": 34
    },
    {
     "cell_type": "markdown",
     "metadata": {},
     "source": [
      "**2**\n",
      "\n",
      "Given that \n",
      "\n",
      "$f(10) = 5$\n",
      "\n",
      "$f'(10) = 1$\n",
      "\n",
      "$g(5) = 3$\n",
      "\n",
      "$g'(5) = 9$\n",
      "\n",
      "$g(f(10.01)) = ?$\n",
      "\n",
      "$f(10.01) = f(10) + f'(10) \\cdot .01 = 5 + 1\\cdot .01 = 5.01$\n",
      "\n",
      "$g(5.01) = g(5) + g'(5) \\cdot .01 = 3 + 9\\cdot .01 = 3.09$"
     ]
    },
    {
     "cell_type": "markdown",
     "metadata": {},
     "source": [
      "**3**\n",
      "\n",
      "$f(4) = 0$\n",
      "\n",
      "$f'(4) = 7$\n",
      "\n",
      "$g(0) = 7$\n",
      "\n",
      "$g'(0) = 7$\n",
      "\n",
      "$g(f(4.06))= ?$\n",
      "\n",
      "$f(4.06) \\approx f(4) + .06 \\cdot f'(4) = 0 + .06\\cdot 7 = .42$\n",
      "\n",
      "$g(.42) \\approx g(0) + g'(0) \\cdot .42 = 7 + 7 \\cdot .42 = 9.94$"
     ]
    },
    {
     "cell_type": "markdown",
     "metadata": {},
     "source": [
      "** 4**\n",
      "\n",
      "$\\dfrac{d}{dx}(-7x - 5)^4=$\n",
      "\n",
      "$4(-7x-5)^3 \\cdot -7=$\n",
      "\n",
      "$-28(-7x-5)^3$"
     ]
    },
    {
     "cell_type": "markdown",
     "metadata": {},
     "source": [
      "**5**\n",
      "\n",
      "$f(8) = 10$\n",
      "\n",
      "$f'(8) = 3$\n",
      "\n",
      "$g(10) = 7$\n",
      "\n",
      "$g'(10) = 7$\n",
      "\n",
      "$f(8.02) = f(8) + .02f'(8) = 10 + .02\\cdot 3= 10 + .06=10.06$\n",
      "\n",
      "$g(10.06) = g(10) + .06\\cdot g'(10) = 7 + .06\\cdot 7 = 7.42$"
     ]
    },
    {
     "cell_type": "markdown",
     "metadata": {},
     "source": [
      "**6**\n",
      "\n",
      "$\\dfrac{d}{dx} \\sqrt{6x^2 + 8x + 27}$\n",
      "\n",
      "$\\dfrac{12x + 8}{2\\sqrt{6x^2 + 8x + 27}}$"
     ]
    },
    {
     "cell_type": "code",
     "collapsed": false,
     "input": [
      "fx = sqrt(6*x**2+8*x+27)\n",
      "fx"
     ],
     "language": "python",
     "metadata": {},
     "outputs": [
      {
       "latex": [
        "$$\\sqrt{6 x^{2} + 8 x + 27}$$"
       ],
       "metadata": {},
       "output_type": "pyout",
       "png": "[encoded data removed]",
       "prompt_number": 35,
       "text": [
        "   _________________\n",
        "  \u2571    2            \n",
        "\u2572\u2571  6\u22c5x  + 8\u22c5x + 27 "
       ]
      }
     ],
     "prompt_number": 35
    },
    {
     "cell_type": "code",
     "collapsed": false,
     "input": [
      "print(diff(fx))"
     ],
     "language": "python",
     "metadata": {},
     "outputs": [
      {
       "output_type": "stream",
       "stream": "stdout",
       "text": [
        "(6*x + 4)/sqrt(6*x**2 + 8*x + 27)\n"
       ]
      }
     ],
     "prompt_number": 36
    },
    {
     "cell_type": "markdown",
     "metadata": {},
     "source": [
      "<a id='dertranfunc'></a>\n",
      "#Derivatives of transcendental functions"
     ]
    },
    {
     "cell_type": "markdown",
     "metadata": {},
     "source": [
      "<a id='whatistrig'></a>\n",
      "## What is trig"
     ]
    },
    {
     "cell_type": "markdown",
     "metadata": {},
     "source": [
      "### What are transcendental functions"
     ]
    },
    {
     "cell_type": "markdown",
     "metadata": {},
     "source": [
      "### Why does trigonometry work"
     ]
    },
    {
     "cell_type": "markdown",
     "metadata": {},
     "source": [
      "<img src='images/triangle.png' width=350/>"
     ]
    },
    {
     "cell_type": "markdown",
     "metadata": {},
     "source": [
      "### What are these other trigonometric functions?"
     ]
    },
    {
     "cell_type": "markdown",
     "metadata": {},
     "source": [
      "<img src='images/more_trig.png' width=350/>"
     ]
    },
    {
     "cell_type": "markdown",
     "metadata": {},
     "source": [
      "$\\sin^2\\theta + \\cos^2\\theta = 1$\n",
      "\n",
      "$\\dfrac{\\sin^2\\theta}{\\cos^2\\theta} + \\dfrac{\\cos^2\\theta}{\\cos^2\\theta} = \\dfrac{1}{\\cos^2\\theta}$\n",
      "\n",
      "$\\tan^2\\theta + 1 = \\sec^2\\theta$"
     ]
    },
    {
     "cell_type": "code",
     "collapsed": false,
     "input": [
      "from IPython.display import YouTubeVideo\n",
      "from datetime import timedelta\n",
      "YouTubeVideo('3mDIJ5N8N-I', width=600, height= 400, start=int(timedelta(minutes=3, seconds=56).total_seconds()))"
     ],
     "language": "python",
     "metadata": {},
     "outputs": [
      {
       "html": [
        "\n",
        "        <iframe\n",
        "            width=\"600\"\n",
        "            height=400\"\n",
        "            src=\"https://www.youtube.com/embed/3mDIJ5N8N-I?start=236\"\n",
        "            frameborder=\"0\"\n",
        "            allowfullscreen\n",
        "        ></iframe>\n",
        "        "
       ],
       "metadata": {},
       "output_type": "pyout",
       "prompt_number": 37,
       "text": [
        "<IPython.lib.display.YouTubeVideo at 0x10ddae210>"
       ]
      }
     ],
     "prompt_number": 37
    },
    {
     "cell_type": "markdown",
     "metadata": {},
     "source": [
      "### Quiz: What is trig?"
     ]
    },
    {
     "cell_type": "markdown",
     "metadata": {},
     "source": [
      "**1**\n",
      "\n",
      "What expression below is equivalent to \n",
      "\n",
      "$\\cos\\left(\\theta\\right) \\cot\\left(\\theta\\right) \\csc\\left(\\theta\\right) \\sec\\left(\\theta\\right) \\sin\\left(\\theta\\right)=$"
     ]
    },
    {
     "cell_type": "markdown",
     "metadata": {},
     "source": [
      "$\\cos(\\theta) \\cot(\\theta) \\csc(\\theta) \\sec(\\theta) \\sin(\\theta)=$\n",
      "\n",
      "$\\cos\\theta \\dfrac{1}{\\tan\\theta} \\dfrac{1}{\\sin\\theta} \\dfrac{1}{\\cos\\theta} \\sin\\theta=$\n",
      "\n",
      "$\\cot\\theta$"
     ]
    },
    {
     "cell_type": "markdown",
     "metadata": {},
     "source": [
      "**2**\n",
      "\n",
      "What expression below is equivalent to \n",
      "\n",
      "$\\cos\\theta \\cot\\theta \\sin\\theta=$\n",
      "\n",
      "$\\cos\\theta \\dfrac{\\cos\\theta}{\\sin\\theta}\\sin\\theta=$\n",
      "\n",
      "$\\cos^2\\theta$"
     ]
    },
    {
     "cell_type": "markdown",
     "metadata": {},
     "source": [
      "<a id='howcanidifftrigfunctions'></a>\n",
      "## How can I differentiate trig functions"
     ]
    },
    {
     "cell_type": "markdown",
     "metadata": {},
     "source": [
      "### What is the derivative of sine and cosine\n",
      "\n",
      "a bunch of unit circle stuff...\n",
      "\n",
      "$\\dfrac{d}{d\\theta} \\sin\\theta = \\cos\\theta$\n",
      "\n",
      "$\\dfrac{d}{d\\theta} \\cos\\theta = -\\sin\\theta$\n",
      "\n",
      "\n",
      "$\\dfrac{d}{d\\theta} \\sin\\theta = \\lim\\limits_{h \\to 0}\\dfrac{\\sin(\\theta+h) - \\sin\\theta}{h}$\n",
      "\n",
      "$\\sin(\\theta + h) = \\sin\\theta \\cosh + \\cos\\theta\\sinh$\n",
      "\n",
      "$\\dfrac{d}{d\\theta} \\sin\\theta = \\lim\\limits_{h \\to 0}\\dfrac{\\sin\\theta \\cos h + \\cos \\theta\\sin h - \\sin\\theta}{h}$\n",
      "\n"
     ]
    },
    {
     "cell_type": "markdown",
     "metadata": {},
     "source": [
      "$\\lim\\limits_{h \\to 0}\\sin\\theta\\left(\\dfrac{\\cos h - 1}{h}\\right) + \\dfrac{cos\\theta\\sin h}{h}=$\n",
      "\n",
      "$\\sin\\theta\\cdot\\lim\\limits_{h \\to 0}\\left(\\dfrac{\\cos h - 1}{h}\\right) + \\cos\\theta \\cdot\\lim\\limits_{h \\to 0}\\dfrac{\\sin h}{h}=$\n",
      "\n",
      "Using the squeeze theorem:\n",
      "\n",
      "\n",
      "$\\sin\\theta\\cdot0 + \\cos\\theta \\cdot1=$\n",
      "\n",
      "$\\cos\\theta$\n"
     ]
    },
    {
     "cell_type": "markdown",
     "metadata": {},
     "source": [
      "**What if you keep deriving $\\sin\\theta$**\n",
      "\n",
      "$\\dfrac{d}{dx} \\sin\\theta = \\cos\\theta$\n",
      "\n",
      "$\\dfrac{d^2}{dx^2} \\sin\\theta = \\dfrac{d}{dx}\\cos\\theta=-\\sin\\theta$\n",
      "\n",
      "$\\dfrac{d^3}{dx^3} \\sin\\theta = \\dfrac{d}{dx}-\\sin\\theta=-\\cos\\theta$\n",
      "\n",
      "$\\dfrac{d^4}{dx^4} \\sin\\theta = \\dfrac{d}{dx}-\\cos\\theta=\\sin\\theta$"
     ]
    },
    {
     "cell_type": "markdown",
     "metadata": {},
     "source": [
      "### What is the derivative of $\\tan x$"
     ]
    },
    {
     "cell_type": "markdown",
     "metadata": {},
     "source": [
      "$\\tan \\theta = \\dfrac{\\sin\\theta}{\\cos\\theta}$\n",
      "\n",
      "$\\dfrac{d}{dx}\\dfrac{f(x)}{g(x)} = \\dfrac{g(x)f'(x) - f(x)g'(x)}{g(x)^2}$\n",
      "\n",
      "$\\dfrac{d}{dx}\\dfrac{\\sin\\theta}{\\cos\\theta} = \\dfrac{\\cos\\theta\\cos\\theta - \\sin\\theta\\cdot-\\sin\\theta}{\\cos^2\\theta}$\n",
      "\n",
      "\n",
      "$\\dfrac{d}{dx}\\tan\\theta = \\dfrac{\\cos^2\\theta+ \\sin^2\\theta}{\\cos^2\\theta}$ (from the pythagorean identity)\n",
      "\n",
      "$\\dfrac{d}{dx}\\tan\\theta = \\dfrac{1}{\\cos^2\\theta}=\\sec^2\\theta$"
     ]
    },
    {
     "cell_type": "markdown",
     "metadata": {},
     "source": [
      "---\n",
      "\n",
      "$\\tan(46^\\circ) = \\tan(45^\\circ + 1^\\circ)$\n",
      "\n",
      "Need radians to use the previously computed derivative\n",
      "\n",
      "$\\tan(46^\\circ) = \\tan\\left(\\dfrac{\\pi}{4} + \\dfrac{\\pi}{180}\\right) \\approx \\tan\\dfrac{\\pi}{4} + \\sec^2\\dfrac{\\pi}{4} \\cdot \\dfrac{\\pi}{180}=$\n",
      "\n",
      "get $\\sec\\dfrac{\\pi}{4}$ from the unit circle\n",
      "\n",
      "$ 1 + \\sqrt(2)^2\\cdot\\dfrac{\\pi}{180}=$\n",
      "\n",
      "$ 1 + \\dfrac{\\pi}{90}$"
     ]
    },
    {
     "cell_type": "code",
     "collapsed": false,
     "input": [
      "N(1+pi/90)"
     ],
     "language": "python",
     "metadata": {},
     "outputs": [
      {
       "latex": [
        "$$1.03490658503989$$"
       ],
       "metadata": {},
       "output_type": "pyout",
       "png": "[encoded data removed]",
       "prompt_number": 38,
       "text": [
        "1.03490658503989"
       ]
      }
     ],
     "prompt_number": 38
    },
    {
     "cell_type": "code",
     "collapsed": false,
     "input": [
      "N(tan(46*pi/180))"
     ],
     "language": "python",
     "metadata": {},
     "outputs": [
      {
       "latex": [
        "$$1.03553031379057$$"
       ],
       "metadata": {},
       "output_type": "pyout",
       "png": "[encoded data removed]",
       "prompt_number": 39,
       "text": [
        "1.03553031379057"
       ]
      }
     ],
     "prompt_number": 39
    },
    {
     "cell_type": "markdown",
     "metadata": {},
     "source": [
      "### What is $\\dfrac{d}{dx} \\sin(x^2)?$"
     ]
    },
    {
     "cell_type": "markdown",
     "metadata": {},
     "source": [
      "$f(x) = \\sin x$\n",
      "\n",
      "$g(x) = x^2$\n",
      "\n",
      "$\\dfrac{d}{dx} f(g(x)) = $\n",
      "\n",
      "$f'(g(x)) \\cdot f'(x) = $\n",
      "\n",
      "$\\cos(x^2)2x$\n",
      "\n",
      "So $-1<\\sin(x^2)<1$, but it's derivative can be really large!\n"
     ]
    },
    {
     "cell_type": "code",
     "collapsed": false,
     "input": [
      "fx = sin(x**2)"
     ],
     "language": "python",
     "metadata": {},
     "outputs": [],
     "prompt_number": 40
    },
    {
     "cell_type": "code",
     "collapsed": false,
     "input": [
      "plot(fx, ylim=[-20, 20]);\n",
      "plot(diff(fx));"
     ],
     "language": "python",
     "metadata": {},
     "outputs": [
      {
       "metadata": {},
       "output_type": "display_data",
       "png": "[encoded data removed]",
       "text": [
        "<matplotlib.figure.Figure at 0x10dcf6f10>"
       ]
      },
      {
       "metadata": {},
       "output_type": "display_data",
       "png": "[encoded data removed]",
       "text": [
        "<matplotlib.figure.Figure at 0x10ddb86d0>"
       ]
      }
     ],
     "prompt_number": 41
    },
    {
     "cell_type": "code",
     "collapsed": false,
     "input": [
      "fx = sin(x**2)/10 + cos(x)\n",
      "plot(fx); "
     ],
     "language": "python",
     "metadata": {},
     "outputs": [
      {
       "metadata": {},
       "output_type": "display_data",
       "png": "[encoded data removed]",
       "text": [
        "<matplotlib.figure.Figure at 0x10df07790>"
       ]
      }
     ],
     "prompt_number": 42
    },
    {
     "cell_type": "code",
     "collapsed": false,
     "input": [
      "fx = sin(x**3)/10 + cos(x)\n",
      "plot(fx);"
     ],
     "language": "python",
     "metadata": {},
     "outputs": [
      {
       "metadata": {},
       "output_type": "display_data",
       "png": "[encoded data removed]",
       "text": [
        "<matplotlib.figure.Figure at 0x10df0e310>"
       ]
      }
     ],
     "prompt_number": 43
    },
    {
     "cell_type": "markdown",
     "metadata": {},
     "source": [
      "### What are the derivatives of the other trigonometric functions?"
     ]
    },
    {
     "cell_type": "markdown",
     "metadata": {},
     "source": [
      "$\\dfrac{d}{dx}\\sec x$ \n",
      "\n",
      "Can get this by decomposing to\n",
      "\n",
      "$\\sec x = \\dfrac{1}{\\cos x}$\n",
      "\n",
      "$f(x) = \\dfrac{1}{x}$\n",
      "\n",
      "$g(x) = \\cos x$\n"
     ]
    },
    {
     "cell_type": "code",
     "collapsed": false,
     "input": [
      "t = [sin(x), cos(x), tan(x), csc(x), sec(x), cot(x)]\n",
      "dtf = [diff(_) for _ in t]\n",
      "pd.DataFrame(zip(t, dtf), columns = ['fx', 'd/dx fx'])                                    "
     ],
     "language": "python",
     "metadata": {},
     "outputs": [
      {
       "html": [
        "<div style=\"max-height:1000px;max-width:1500px;overflow:auto;\">\n",
        "<table border=\"1\" class=\"dataframe\">\n",
        "  <thead>\n",
        "    <tr style=\"text-align: right;\">\n",
        "      <th></th>\n",
        "      <th>fx</th>\n",
        "      <th>d/dx fx</th>\n",
        "    </tr>\n",
        "  </thead>\n",
        "  <tbody>\n",
        "    <tr>\n",
        "      <th>0</th>\n",
        "      <td> sin(x)</td>\n",
        "      <td>         cos(x)</td>\n",
        "    </tr>\n",
        "    <tr>\n",
        "      <th>1</th>\n",
        "      <td> cos(x)</td>\n",
        "      <td>        -sin(x)</td>\n",
        "    </tr>\n",
        "    <tr>\n",
        "      <th>2</th>\n",
        "      <td> tan(x)</td>\n",
        "      <td>  tan(x)**2 + 1</td>\n",
        "    </tr>\n",
        "    <tr>\n",
        "      <th>3</th>\n",
        "      <td> csc(x)</td>\n",
        "      <td> -cot(x)*csc(x)</td>\n",
        "    </tr>\n",
        "    <tr>\n",
        "      <th>4</th>\n",
        "      <td> sec(x)</td>\n",
        "      <td>  tan(x)*sec(x)</td>\n",
        "    </tr>\n",
        "    <tr>\n",
        "      <th>5</th>\n",
        "      <td> cot(x)</td>\n",
        "      <td> -cot(x)**2 - 1</td>\n",
        "    </tr>\n",
        "  </tbody>\n",
        "</table>\n",
        "</div>"
       ],
       "metadata": {},
       "output_type": "pyout",
       "prompt_number": 44,
       "text": [
        "       fx         d/dx fx\n",
        "0  sin(x)          cos(x)\n",
        "1  cos(x)         -sin(x)\n",
        "2  tan(x)   tan(x)**2 + 1\n",
        "3  csc(x)  -cot(x)*csc(x)\n",
        "4  sec(x)   tan(x)*sec(x)\n",
        "5  cot(x)  -cot(x)**2 - 1"
       ]
      }
     ],
     "prompt_number": 44
    },
    {
     "cell_type": "markdown",
     "metadata": {},
     "source": [
      "### Quiz: How can I differentiate trig functions"
     ]
    },
    {
     "cell_type": "markdown",
     "metadata": {},
     "source": [
      "**1**\n",
      "\n",
      "Use the chain rule to find $\\dfrac{d}{dx}e^{\\cos x}$\n",
      "\n",
      "$f(x) = e^x$\n",
      "\n",
      "$g(x) = \\cos x$\n",
      "\n",
      "$\\dfrac{d}{dx}f(g(x)) = $\n",
      "\n",
      "$f'(g(x))g'(x)=$\n",
      "\n",
      "$e^{\\cos x}\\cdot-\\sin x$\n",
      "\n"
     ]
    },
    {
     "cell_type": "code",
     "collapsed": false,
     "input": [
      "fx =E**(cos(x))\n",
      "fx"
     ],
     "language": "python",
     "metadata": {},
     "outputs": [
      {
       "latex": [
        "$$e^{\\cos{\\left (x \\right )}}$$"
       ],
       "metadata": {},
       "output_type": "pyout",
       "png": "[encoded data removed]",
       "prompt_number": 45,
       "text": [
        " cos(x)\n",
        "\u212f      "
       ]
      }
     ],
     "prompt_number": 45
    },
    {
     "cell_type": "code",
     "collapsed": false,
     "input": [
      "diff(fx)"
     ],
     "language": "python",
     "metadata": {},
     "outputs": [
      {
       "latex": [
        "$$- e^{\\cos{\\left (x \\right )}} \\sin{\\left (x \\right )}$$"
       ],
       "metadata": {},
       "output_type": "pyout",
       "png": "[encoded data removed]",
       "prompt_number": 46,
       "text": [
        "  cos(x)       \n",
        "-\u212f      \u22c5sin(x)"
       ]
      }
     ],
     "prompt_number": 46
    },
    {
     "cell_type": "markdown",
     "metadata": {},
     "source": [
      "**2**\n",
      "\n",
      "Use the chain fule to find $\\dfrac{d}{dx}\\log(\\csc x)$\n",
      "\n",
      "$f(x) = \\log x$\n",
      "\n",
      "$g(x) = \\csc x$\n",
      "\n",
      "$\\dfrac{d}{dx}f(g(x))=$\n",
      "\n",
      "$f'(g(x))f'(x)=$\n",
      "\n",
      "$\\dfrac{1}{\\csc x}\\cdot -\\cot(x)\\csc(x)=$\n",
      "\n",
      "$-\\cot x$"
     ]
    },
    {
     "cell_type": "code",
     "collapsed": false,
     "input": [
      "fx = log(csc(x))\n",
      "diff(fx)"
     ],
     "language": "python",
     "metadata": {},
     "outputs": [
      {
       "latex": [
        "$$- \\cot{\\left (x \\right )}$$"
       ],
       "metadata": {},
       "output_type": "pyout",
       "png": "[encoded data removed]",
       "prompt_number": 47,
       "text": [
        "-cot(x)"
       ]
      }
     ],
     "prompt_number": 47
    },
    {
     "cell_type": "markdown",
     "metadata": {},
     "source": [
      "**3**\n",
      "\n",
      "Use the chain rule to find $\\dfrac{d}{dx}\\log(\\cos(x))$\n",
      "\n",
      "$f(x) = \\log x$\n",
      "\n",
      "$g(x) = \\cos x$\n",
      "\n",
      "$\\dfrac{d}{dx} = f(g(x))$\n",
      "\n",
      "$f'(g(x))g'(x)=$\n",
      "\n",
      "$\\dfrac{1}{\\cos x}\\cdot -\\sin(x)=$\n",
      "\n",
      "$\\dfrac{-\\sin x}{\\cos x}$"
     ]
    },
    {
     "cell_type": "code",
     "collapsed": false,
     "input": [
      "fx = log(cos(x))\n",
      "diff(fx)"
     ],
     "language": "python",
     "metadata": {},
     "outputs": [
      {
       "latex": [
        "$$- \\frac{\\sin{\\left (x \\right )}}{\\cos{\\left (x \\right )}}$$"
       ],
       "metadata": {},
       "output_type": "pyout",
       "png": "[encoded data removed]",
       "prompt_number": 48,
       "text": [
        "-sin(x) \n",
        "\u2500\u2500\u2500\u2500\u2500\u2500\u2500\u2500\n",
        " cos(x) "
       ]
      }
     ],
     "prompt_number": 48
    },
    {
     "cell_type": "markdown",
     "metadata": {},
     "source": [
      "** 4 **\n",
      "\n",
      "Use the chain rule to find $\\dfrac{d}{dx} e^{\\cos x}$\n",
      "\n",
      "$f(x) = e^x$\n",
      "\n",
      "$g(x) = \\cos x$\n",
      "\n",
      "$\\dfrac{d}{dx}f(g(x))=$\n",
      "\n",
      "$f'(g(x))g'(x)=$\n",
      "\n",
      "$e^{\\cos x} \\cdot -\\sin x$"
     ]
    },
    {
     "cell_type": "code",
     "collapsed": false,
     "input": [
      "fx = E**(cos(x))\n",
      "diff(fx)"
     ],
     "language": "python",
     "metadata": {},
     "outputs": [
      {
       "latex": [
        "$$- e^{\\cos{\\left (x \\right )}} \\sin{\\left (x \\right )}$$"
       ],
       "metadata": {},
       "output_type": "pyout",
       "png": "[encoded data removed]",
       "prompt_number": 49,
       "text": [
        "  cos(x)       \n",
        "-\u212f      \u22c5sin(x)"
       ]
      }
     ],
     "prompt_number": 49
    },
    {
     "cell_type": "markdown",
     "metadata": {},
     "source": [
      "**5**\n",
      "\n",
      "Use the chain rule to find $\\dfrac{d}{dx}\\csc(\\log(x))$\n",
      "\n",
      "$f(x) = \\csc x$\n",
      "\n",
      "$g(x) = \\log x$\n",
      "\n",
      "$\\dfrac{d}{dx}f(g(x))=$\n",
      "\n",
      "$f'(g(x))g'(x)=$\n",
      "\n",
      "$-\\cot(\\log x)\\csc(\\log x) \\dfrac{1}{x}=$\n",
      "\n",
      "$\\dfrac{-\\cot(\\log x)\\csc(\\log x)}{x}$"
     ]
    },
    {
     "cell_type": "code",
     "collapsed": false,
     "input": [
      "fx = csc(log(x))\n",
      "diff(fx)"
     ],
     "language": "python",
     "metadata": {},
     "outputs": [
      {
       "latex": [
        "$$- \\frac{1}{x} \\cot{\\left (\\log{\\left (x \\right )} \\right )} \\csc{\\left (\\log{\\left (x \\right )} \\right )}$$"
       ],
       "metadata": {},
       "output_type": "pyout",
       "png": "[encoded data removed]",
       "prompt_number": 50,
       "text": [
        "-cot(log(x))\u22c5csc(log(x)) \n",
        "\u2500\u2500\u2500\u2500\u2500\u2500\u2500\u2500\u2500\u2500\u2500\u2500\u2500\u2500\u2500\u2500\u2500\u2500\u2500\u2500\u2500\u2500\u2500\u2500\u2500\n",
        "            x            "
       ]
      }
     ],
     "prompt_number": 50
    },
    {
     "cell_type": "code",
     "collapsed": false,
     "input": [
      "print(diff(fx))"
     ],
     "language": "python",
     "metadata": {},
     "outputs": [
      {
       "output_type": "stream",
       "stream": "stdout",
       "text": [
        "-cot(log(x))*csc(log(x))/x\n"
       ]
      }
     ],
     "prompt_number": 51
    },
    {
     "cell_type": "markdown",
     "metadata": {},
     "source": [
      "**6**\n",
      "\n",
      "Use the chain rule to find $\\dfrac{d}{dx}\\cot{e^x}$\n",
      "\n",
      "$f(x) = \\cot x$\n",
      "\n",
      "$g(x) = e^x$\n",
      "\n",
      "$\\dfrac{d}{dx}f(g(x))=$\n",
      "\n",
      "$f'(g(x))g'(x)=$\n",
      "\n",
      "$(-\\cot^2(e^x) - 1)e^x=$\n",
      "\n",
      "$-e^x\\cot^2(e^x) - e^x$"
     ]
    },
    {
     "cell_type": "code",
     "collapsed": false,
     "input": [
      "fx = cot(E**x)\n",
      "diff(fx)"
     ],
     "language": "python",
     "metadata": {},
     "outputs": [
      {
       "latex": [
        "$$\\left(- \\cot^{2}{\\left (e^{x} \\right )} - 1\\right) e^{x}$$"
       ],
       "metadata": {},
       "output_type": "pyout",
       "png": "[encoded data removed]",
       "prompt_number": 52,
       "text": [
        "\u239b     2\u239b x\u239e    \u239e  x\n",
        "\u239d- cot \u239d\u212f \u23a0 - 1\u23a0\u22c5\u212f "
       ]
      }
     ],
     "prompt_number": 52
    },
    {
     "cell_type": "code",
     "collapsed": false,
     "input": [
      "print(diff(fx))"
     ],
     "language": "python",
     "metadata": {},
     "outputs": [
      {
       "output_type": "stream",
       "stream": "stdout",
       "text": [
        "(-cot(exp(x))**2 - 1)*exp(x)\n"
       ]
      }
     ],
     "prompt_number": 53
    },
    {
     "cell_type": "markdown",
     "metadata": {},
     "source": [
      "<a id='howcanidiffinvtrigfunctions'></a>\n",
      "## How can I differentiate inverse trig functions"
     ]
    },
    {
     "cell_type": "markdown",
     "metadata": {},
     "source": [
      "### What are inverse trig functions"
     ]
    },
    {
     "cell_type": "markdown",
     "metadata": {},
     "source": [
      "You can't invert $\\sin x$ because it fails the horizontal line test. You get around this by restricting the domain"
     ]
    },
    {
     "cell_type": "code",
     "collapsed": false,
     "input": [
      "vid = '5A0_FnvK1uQ'\n",
      "start=int(timedelta(minutes=0, seconds=27).total_seconds())\n",
      "YouTubeVideo(vid, start=start, width=400)"
     ],
     "language": "python",
     "metadata": {},
     "outputs": [
      {
       "html": [
        "\n",
        "        <iframe\n",
        "            width=\"400\"\n",
        "            height=300\"\n",
        "            src=\"https://www.youtube.com/embed/5A0_FnvK1uQ?start=27\"\n",
        "            frameborder=\"0\"\n",
        "            allowfullscreen\n",
        "        ></iframe>\n",
        "        "
       ],
       "metadata": {},
       "output_type": "pyout",
       "prompt_number": 54,
       "text": [
        "<IPython.lib.display.YouTubeVideo at 0x10dd21650>"
       ]
      }
     ],
     "prompt_number": 54
    },
    {
     "cell_type": "markdown",
     "metadata": {},
     "source": [
      "<img src='images/arccos.png'/>\n",
      "\n",
      "To say that $\\theta = \\arccos(\\frac{1}{2})$\n",
      "\n",
      "Means $\\theta$ is the length of the arc whose $\\cos$ equals $\\dfrac{1}{2}$"
     ]
    },
    {
     "cell_type": "markdown",
     "metadata": {},
     "source": [
      "** um, draw pictures **\n",
      "<img src='images/arctan.png' width=300/>"
     ]
    },
    {
     "cell_type": "markdown",
     "metadata": {},
     "source": [
      "### What are the derivatives of inverse trig functions"
     ]
    },
    {
     "cell_type": "markdown",
     "metadata": {},
     "source": [
      "$\\dfrac{d}{dx}\\arcsin x= ?$\n",
      "\n",
      "$f(x) = \\arcsin x$\n",
      "\n",
      "$f(\\sin x) = x$\n",
      "\n",
      "$f'(\\sin x)\\cos x = 1$\n",
      "\n",
      "$f'(\\sin x) = \\dfrac{1}{\\cos x}=$ (if $\\cos x>0$)\n",
      "\n",
      "$\\dfrac{1}{\\sqrt{1 - \\sin^2x}}$\n",
      "\n",
      "$f'(x) = \\dfrac{1}{\\sqrt{1 - x^2}}$"
     ]
    },
    {
     "cell_type": "code",
     "collapsed": false,
     "input": [
      "fx = asin(x)\n",
      "fx"
     ],
     "language": "python",
     "metadata": {},
     "outputs": [
      {
       "latex": [
        "$$\\operatorname{asin}{\\left (x \\right )}$$"
       ],
       "metadata": {},
       "output_type": "pyout",
       "png": "[encoded data removed]",
       "prompt_number": 55,
       "text": [
        "asin(x)"
       ]
      }
     ],
     "prompt_number": 55
    },
    {
     "cell_type": "code",
     "collapsed": false,
     "input": [
      "diff(fx)"
     ],
     "language": "python",
     "metadata": {},
     "outputs": [
      {
       "latex": [
        "$$\\frac{1}{\\sqrt{- x^{2} + 1}}$$"
       ],
       "metadata": {},
       "output_type": "pyout",
       "png": "[encoded data removed]",
       "prompt_number": 56,
       "text": [
        "      1      \n",
        "\u2500\u2500\u2500\u2500\u2500\u2500\u2500\u2500\u2500\u2500\u2500\u2500\u2500\n",
        "   __________\n",
        "  \u2571    2     \n",
        "\u2572\u2571  - x  + 1 "
       ]
      }
     ],
     "prompt_number": 56
    },
    {
     "cell_type": "code",
     "collapsed": false,
     "input": [
      "fxs = [sin, cos, tan, csc, sec, cot, asin, acos, atan]\n",
      "dfxs = [diff(fx(x)) for fx in fxs]\n",
      "dfxsl = [latex(_) for _ in dfxs]\n",
      "pd.DataFrame(zip(fxs, dfxs, dfxsl), columns = ['fx', 'd/dx fx', 'd/dx latex'])"
     ],
     "language": "python",
     "metadata": {},
     "outputs": [
      {
       "html": [
        "<div style=\"max-height:1000px;max-width:1500px;overflow:auto;\">\n",
        "<table border=\"1\" class=\"dataframe\">\n",
        "  <thead>\n",
        "    <tr style=\"text-align: right;\">\n",
        "      <th></th>\n",
        "      <th>fx</th>\n",
        "      <th>d/dx fx</th>\n",
        "      <th>d/dx latex</th>\n",
        "    </tr>\n",
        "  </thead>\n",
        "  <tbody>\n",
        "    <tr>\n",
        "      <th>0</th>\n",
        "      <td>  sin</td>\n",
        "      <td>             cos(x)</td>\n",
        "      <td>                           \\cos{\\left (x \\right )}</td>\n",
        "    </tr>\n",
        "    <tr>\n",
        "      <th>1</th>\n",
        "      <td>  cos</td>\n",
        "      <td>            -sin(x)</td>\n",
        "      <td>                         - \\sin{\\left (x \\right )}</td>\n",
        "    </tr>\n",
        "    <tr>\n",
        "      <th>2</th>\n",
        "      <td>  tan</td>\n",
        "      <td>      tan(x)**2 + 1</td>\n",
        "      <td>                   \\tan^{2}{\\left (x \\right )} + 1</td>\n",
        "    </tr>\n",
        "    <tr>\n",
        "      <th>3</th>\n",
        "      <td>  csc</td>\n",
        "      <td>     -cot(x)*csc(x)</td>\n",
        "      <td> - \\cot{\\left (x \\right )} \\csc{\\left (x \\right )}</td>\n",
        "    </tr>\n",
        "    <tr>\n",
        "      <th>4</th>\n",
        "      <td>  sec</td>\n",
        "      <td>      tan(x)*sec(x)</td>\n",
        "      <td>   \\tan{\\left (x \\right )} \\sec{\\left (x \\right )}</td>\n",
        "    </tr>\n",
        "    <tr>\n",
        "      <th>5</th>\n",
        "      <td>  cot</td>\n",
        "      <td>     -cot(x)**2 - 1</td>\n",
        "      <td>                 - \\cot^{2}{\\left (x \\right )} - 1</td>\n",
        "    </tr>\n",
        "    <tr>\n",
        "      <th>6</th>\n",
        "      <td> asin</td>\n",
        "      <td>  1/sqrt(-x**2 + 1)</td>\n",
        "      <td>                      \\frac{1}{\\sqrt{- x^{2} + 1}}</td>\n",
        "    </tr>\n",
        "    <tr>\n",
        "      <th>7</th>\n",
        "      <td> acos</td>\n",
        "      <td> -1/sqrt(-x**2 + 1)</td>\n",
        "      <td>                    - \\frac{1}{\\sqrt{- x^{2} + 1}}</td>\n",
        "    </tr>\n",
        "    <tr>\n",
        "      <th>8</th>\n",
        "      <td> atan</td>\n",
        "      <td>       1/(x**2 + 1)</td>\n",
        "      <td>                               \\frac{1}{x^{2} + 1}</td>\n",
        "    </tr>\n",
        "  </tbody>\n",
        "</table>\n",
        "</div>"
       ],
       "metadata": {},
       "output_type": "pyout",
       "prompt_number": 57,
       "text": [
        "     fx             d/dx fx                                         d/dx latex\n",
        "0   sin              cos(x)                            \\cos{\\left (x \\right )}\n",
        "1   cos             -sin(x)                          - \\sin{\\left (x \\right )}\n",
        "2   tan       tan(x)**2 + 1                    \\tan^{2}{\\left (x \\right )} + 1\n",
        "3   csc      -cot(x)*csc(x)  - \\cot{\\left (x \\right )} \\csc{\\left (x \\right )}\n",
        "4   sec       tan(x)*sec(x)    \\tan{\\left (x \\right )} \\sec{\\left (x \\right )}\n",
        "5   cot      -cot(x)**2 - 1                  - \\cot^{2}{\\left (x \\right )} - 1\n",
        "6  asin   1/sqrt(-x**2 + 1)                       \\frac{1}{\\sqrt{- x^{2} + 1}}\n",
        "7  acos  -1/sqrt(-x**2 + 1)                     - \\frac{1}{\\sqrt{- x^{2} + 1}}\n",
        "8  atan        1/(x**2 + 1)                                \\frac{1}{x^{2} + 1}"
       ]
      }
     ],
     "prompt_number": 57
    },
    {
     "cell_type": "code",
     "collapsed": false,
     "input": [
      "vid = '8hnZjifB9YQ'\n",
      "start=int(timedelta(minutes=3, seconds=30).total_seconds())\n",
      "YouTubeVideo(vid, start=start, width=400)"
     ],
     "language": "python",
     "metadata": {},
     "outputs": [
      {
       "html": [
        "\n",
        "        <iframe\n",
        "            width=\"400\"\n",
        "            height=300\"\n",
        "            src=\"https://www.youtube.com/embed/8hnZjifB9YQ?start=210\"\n",
        "            frameborder=\"0\"\n",
        "            allowfullscreen\n",
        "        ></iframe>\n",
        "        "
       ],
       "metadata": {},
       "output_type": "pyout",
       "prompt_number": 58,
       "text": [
        "<IPython.lib.display.YouTubeVideo at 0x10dd21c10>"
       ]
      }
     ],
     "prompt_number": 58
    },
    {
     "cell_type": "markdown",
     "metadata": {},
     "source": [
      "### Quiz: Differentiate inverse trig functions"
     ]
    },
    {
     "cell_type": "markdown",
     "metadata": {},
     "source": [
      "**1**\n",
      "\n",
      "\n",
      "Use the chain rule to find $\\dfrac{d}{dx}\\log \\arctan(x)$\n",
      "\n",
      "$f(x) = \\log x$\n",
      "\n",
      "$g(x) = \\arctan x$\n",
      "\n",
      "$\\dfrac{d}{dx} f(g(x)) =$\n",
      "\n",
      "$f'(g(x))g'(x)=$\n",
      "\n",
      "$\\dfrac{1}{\\arctan x}\\cdot \\dfrac{1}{x^{2} + 1}$\n"
     ]
    },
    {
     "cell_type": "code",
     "collapsed": false,
     "input": [
      "fx = log(atan(x))\n",
      "fx"
     ],
     "language": "python",
     "metadata": {},
     "outputs": [
      {
       "latex": [
        "$$\\log{\\left (\\operatorname{atan}{\\left (x \\right )} \\right )}$$"
       ],
       "metadata": {},
       "output_type": "pyout",
       "png": "[encoded data removed]",
       "prompt_number": 59,
       "text": [
        "log(atan(x))"
       ]
      }
     ],
     "prompt_number": 59
    },
    {
     "cell_type": "code",
     "collapsed": false,
     "input": [
      "diff(fx)"
     ],
     "language": "python",
     "metadata": {},
     "outputs": [
      {
       "latex": [
        "$$\\frac{1}{\\left(x^{2} + 1\\right) \\operatorname{atan}{\\left (x \\right )}}$$"
       ],
       "metadata": {},
       "output_type": "pyout",
       "png": "[encoded data removed]",
       "prompt_number": 60,
       "text": [
        "       1        \n",
        "\u2500\u2500\u2500\u2500\u2500\u2500\u2500\u2500\u2500\u2500\u2500\u2500\u2500\u2500\u2500\u2500\n",
        "\u239b 2    \u239e        \n",
        "\u239dx  + 1\u23a0\u22c5atan(x)"
       ]
      }
     ],
     "prompt_number": 60
    },
    {
     "cell_type": "code",
     "collapsed": false,
     "input": [
      "print(diff(fx))"
     ],
     "language": "python",
     "metadata": {},
     "outputs": [
      {
       "output_type": "stream",
       "stream": "stdout",
       "text": [
        "1/((x**2 + 1)*atan(x))\n"
       ]
      }
     ],
     "prompt_number": 61
    },
    {
     "cell_type": "markdown",
     "metadata": {},
     "source": [
      "**2**\n",
      "\n",
      "Use the chain rule to find $\\dfrac{d}{dx}\\arcsin(\\log x)$\n",
      "\n",
      "$f(x) = \\arcsin x$\n",
      "\n",
      "$g(x) = \\log x$\n",
      "\n",
      "$\\dfrac{d}{dx} f(g(x)) =$\n",
      "\n",
      "$f'(g(x))g'(x)=$\n",
      "\n",
      "$\\dfrac{1}{\\sqrt{- (\\log x)^{2} + 1}} \\cdot \\dfrac{1}{x}$"
     ]
    },
    {
     "cell_type": "code",
     "collapsed": false,
     "input": [
      "fx = asin(log(x))\n",
      "fx"
     ],
     "language": "python",
     "metadata": {},
     "outputs": [
      {
       "latex": [
        "$$\\operatorname{asin}{\\left (\\log{\\left (x \\right )} \\right )}$$"
       ],
       "metadata": {},
       "output_type": "pyout",
       "png": "[encoded data removed]",
       "prompt_number": 62,
       "text": [
        "asin(log(x))"
       ]
      }
     ],
     "prompt_number": 62
    },
    {
     "cell_type": "code",
     "collapsed": false,
     "input": [
      "diff(fx)"
     ],
     "language": "python",
     "metadata": {},
     "outputs": [
      {
       "latex": [
        "$$\\frac{1}{x \\sqrt{- \\log^{2}{\\left (x \\right )} + 1}}$$"
       ],
       "metadata": {},
       "output_type": "pyout",
       "png": "[encoded data removed]",
       "prompt_number": 63,
       "text": [
        "         1          \n",
        "\u2500\u2500\u2500\u2500\u2500\u2500\u2500\u2500\u2500\u2500\u2500\u2500\u2500\u2500\u2500\u2500\u2500\u2500\u2500\u2500\n",
        "     _______________\n",
        "    \u2571      2        \n",
        "x\u22c5\u2572\u2571  - log (x) + 1 "
       ]
      }
     ],
     "prompt_number": 63
    },
    {
     "cell_type": "code",
     "collapsed": false,
     "input": [
      "print(diff(fx))"
     ],
     "language": "python",
     "metadata": {},
     "outputs": [
      {
       "output_type": "stream",
       "stream": "stdout",
       "text": [
        "1/(x*sqrt(-log(x)**2 + 1))\n"
       ]
      }
     ],
     "prompt_number": 64
    },
    {
     "cell_type": "markdown",
     "metadata": {},
     "source": [
      "**3**"
     ]
    },
    {
     "cell_type": "code",
     "collapsed": false,
     "input": [
      "fx = log(asin(x))\n",
      "fx"
     ],
     "language": "python",
     "metadata": {},
     "outputs": [
      {
       "latex": [
        "$$\\log{\\left (\\operatorname{asin}{\\left (x \\right )} \\right )}$$"
       ],
       "metadata": {},
       "output_type": "pyout",
       "png": "[encoded data removed]",
       "prompt_number": 65,
       "text": [
        "log(asin(x))"
       ]
      }
     ],
     "prompt_number": 65
    },
    {
     "cell_type": "code",
     "collapsed": false,
     "input": [
      "diff(fx)"
     ],
     "language": "python",
     "metadata": {},
     "outputs": [
      {
       "latex": [
        "$$\\frac{1}{\\sqrt{- x^{2} + 1} \\operatorname{asin}{\\left (x \\right )}}$$"
       ],
       "metadata": {},
       "output_type": "pyout",
       "png": "[encoded data removed]",
       "prompt_number": 66,
       "text": [
        "          1          \n",
        "\u2500\u2500\u2500\u2500\u2500\u2500\u2500\u2500\u2500\u2500\u2500\u2500\u2500\u2500\u2500\u2500\u2500\u2500\u2500\u2500\u2500\n",
        "   __________        \n",
        "  \u2571    2             \n",
        "\u2572\u2571  - x  + 1 \u22c5asin(x)"
       ]
      }
     ],
     "prompt_number": 66
    },
    {
     "cell_type": "code",
     "collapsed": false,
     "input": [
      "print(diff(fx))"
     ],
     "language": "python",
     "metadata": {},
     "outputs": [
      {
       "output_type": "stream",
       "stream": "stdout",
       "text": [
        "1/(sqrt(-x**2 + 1)*asin(x))\n"
       ]
      }
     ],
     "prompt_number": 67
    },
    {
     "cell_type": "markdown",
     "metadata": {},
     "source": [
      "** 4**"
     ]
    },
    {
     "cell_type": "code",
     "collapsed": false,
     "input": [
      "fx = log(asin(x))\n",
      "fx"
     ],
     "language": "python",
     "metadata": {},
     "outputs": [
      {
       "latex": [
        "$$\\log{\\left (\\operatorname{asin}{\\left (x \\right )} \\right )}$$"
       ],
       "metadata": {},
       "output_type": "pyout",
       "png": "[encoded data removed]",
       "prompt_number": 68,
       "text": [
        "log(asin(x))"
       ]
      }
     ],
     "prompt_number": 68
    },
    {
     "cell_type": "code",
     "collapsed": false,
     "input": [
      "diff(fx)"
     ],
     "language": "python",
     "metadata": {},
     "outputs": [
      {
       "latex": [
        "$$\\frac{1}{\\sqrt{- x^{2} + 1} \\operatorname{asin}{\\left (x \\right )}}$$"
       ],
       "metadata": {},
       "output_type": "pyout",
       "png": "[encoded data removed]",
       "prompt_number": 69,
       "text": [
        "          1          \n",
        "\u2500\u2500\u2500\u2500\u2500\u2500\u2500\u2500\u2500\u2500\u2500\u2500\u2500\u2500\u2500\u2500\u2500\u2500\u2500\u2500\u2500\n",
        "   __________        \n",
        "  \u2571    2             \n",
        "\u2572\u2571  - x  + 1 \u22c5asin(x)"
       ]
      }
     ],
     "prompt_number": 69
    },
    {
     "cell_type": "code",
     "collapsed": false,
     "input": [
      "print(diff(fx))"
     ],
     "language": "python",
     "metadata": {},
     "outputs": [
      {
       "output_type": "stream",
       "stream": "stdout",
       "text": [
        "1/(sqrt(-x**2 + 1)*asin(x))\n"
       ]
      }
     ],
     "prompt_number": 70
    },
    {
     "cell_type": "markdown",
     "metadata": {},
     "source": [
      "**5 **"
     ]
    },
    {
     "cell_type": "code",
     "collapsed": false,
     "input": [
      "fx = E**(asin(x))\n",
      "fx"
     ],
     "language": "python",
     "metadata": {},
     "outputs": [
      {
       "latex": [
        "$$e^{\\operatorname{asin}{\\left (x \\right )}}$$"
       ],
       "metadata": {},
       "output_type": "pyout",
       "png": "[encoded data removed]",
       "prompt_number": 71,
       "text": [
        " asin(x)\n",
        "\u212f       "
       ]
      }
     ],
     "prompt_number": 71
    },
    {
     "cell_type": "code",
     "collapsed": false,
     "input": [
      "diff(fx)"
     ],
     "language": "python",
     "metadata": {},
     "outputs": [
      {
       "latex": [
        "$$\\frac{e^{\\operatorname{asin}{\\left (x \\right )}}}{\\sqrt{- x^{2} + 1}}$$"
       ],
       "metadata": {},
       "output_type": "pyout",
       "png": "[encoded data removed]",
       "prompt_number": 72,
       "text": [
        "    asin(x)  \n",
        "   \u212f         \n",
        "\u2500\u2500\u2500\u2500\u2500\u2500\u2500\u2500\u2500\u2500\u2500\u2500\u2500\n",
        "   __________\n",
        "  \u2571    2     \n",
        "\u2572\u2571  - x  + 1 "
       ]
      }
     ],
     "prompt_number": 72
    },
    {
     "cell_type": "code",
     "collapsed": false,
     "input": [
      "print(diff(fx))"
     ],
     "language": "python",
     "metadata": {},
     "outputs": [
      {
       "output_type": "stream",
       "stream": "stdout",
       "text": [
        "exp(asin(x))/sqrt(-x**2 + 1)\n"
       ]
      }
     ],
     "prompt_number": 73
    },
    {
     "cell_type": "markdown",
     "metadata": {},
     "source": [
      "** 6 **\n"
     ]
    },
    {
     "cell_type": "code",
     "collapsed": false,
     "input": [
      "fx = asin(E**x)\n",
      "fx"
     ],
     "language": "python",
     "metadata": {},
     "outputs": [
      {
       "latex": [
        "$$\\operatorname{asin}{\\left (e^{x} \\right )}$$"
       ],
       "metadata": {},
       "output_type": "pyout",
       "png": "[encoded data removed]",
       "prompt_number": 74,
       "text": [
        "    \u239b x\u239e\n",
        "asin\u239d\u212f \u23a0"
       ]
      }
     ],
     "prompt_number": 74
    },
    {
     "cell_type": "code",
     "collapsed": false,
     "input": [
      "diff(fx)"
     ],
     "language": "python",
     "metadata": {},
     "outputs": [
      {
       "latex": [
        "$$\\frac{e^{x}}{\\sqrt{- e^{2 x} + 1}}$$"
       ],
       "metadata": {},
       "output_type": "pyout",
       "png": "[encoded data removed]",
       "prompt_number": 75,
       "text": [
        "        x      \n",
        "       \u212f       \n",
        "\u2500\u2500\u2500\u2500\u2500\u2500\u2500\u2500\u2500\u2500\u2500\u2500\u2500\u2500\u2500\n",
        "   ____________\n",
        "  \u2571    2\u22c5x     \n",
        "\u2572\u2571  - \u212f    + 1 "
       ]
      }
     ],
     "prompt_number": 75
    },
    {
     "cell_type": "code",
     "collapsed": false,
     "input": [
      "print(diff(fx))"
     ],
     "language": "python",
     "metadata": {},
     "outputs": [
      {
       "output_type": "stream",
       "stream": "stdout",
       "text": [
        "exp(x)/sqrt(-exp(2*x) + 1)\n"
       ]
      }
     ],
     "prompt_number": 76
    },
    {
     "cell_type": "markdown",
     "metadata": {},
     "source": [
      "<a id='whatcanwelearnderivtrig'></a>\n",
      "## What can we learn from the derivativies of trig functions"
     ]
    },
    {
     "cell_type": "markdown",
     "metadata": {},
     "source": [
      "### Why do sine and cosine oscillate"
     ]
    },
    {
     "cell_type": "markdown",
     "metadata": {},
     "source": [
      "because $f(x) = -f''(x)$"
     ]
    },
    {
     "cell_type": "markdown",
     "metadata": {},
     "source": [
      "### How can we get a formula for $\\sin(\\alpha + \\beta)$"
     ]
    },
    {
     "cell_type": "markdown",
     "metadata": {},
     "source": [
      "$(1, 0)$ rotated through angle $\\alpha$ is $(\\cos \\alpha, \\sin \\alpha)$\n",
      "\n",
      "$(\\cos \\alpha, \\sin \\alpha)$ rotated through $\\beta$ is:\n",
      "\n",
      "$(\\cos\\alpha\\cos\\beta - \\sin\\alpha\\sin\\beta, \\cos\\alpha\\sin\\beta + \\sin\\alpha\\cos\\beta)$\n",
      "\n",
      "---\n",
      "$(1, 0)$ rotated through angle $\\alpha+\\beta$ is $(cos(\\alpha+\\beta), \\sin(\\alpha+\\beta))$\n",
      "\n",
      "$\\therefore$\n",
      "\n",
      "$\\cos\\alpha\\cos\\beta - \\sin\\alpha\\sin\\beta = cos(\\alpha+\\beta)$\n",
      "\n",
      "and\n",
      "\n",
      "$\\cos\\alpha\\sin\\beta + \\sin\\alpha\\cos\\beta = \\sin(\\alpha+\\beta)$\n",
      "\n",
      "\n"
     ]
    },
    {
     "cell_type": "markdown",
     "metadata": {},
     "source": [
      "### How can I approximate $\\sin(1)$"
     ]
    },
    {
     "cell_type": "markdown",
     "metadata": {},
     "source": [
      "$f(x) = \\sin x$\n",
      "\n",
      "$f(0) = 0$\n",
      "\n",
      "$f'(x) = \\cos x$\n",
      "\n",
      "$f'(0) = 1$\n",
      "\n",
      "$f(0+h) \\approx f(0) + h\\cdot f'(0)=$\n",
      "\n",
      "$0 + h\\cdot 1 = h$\n",
      "\n",
      "$\\sin h \\approx h$"
     ]
    },
    {
     "cell_type": "code",
     "collapsed": false,
     "input": [
      "f = 1.0/3\n",
      "sin(f) - f"
     ],
     "language": "python",
     "metadata": {},
     "outputs": [
      {
       "latex": [
        "$$-0.00613863653718111$$"
       ],
       "metadata": {},
       "output_type": "pyout",
       "png": "[encoded data removed]",
       "prompt_number": 77,
       "text": [
        "-0.00613863653718111"
       ]
      }
     ],
     "prompt_number": 77
    },
    {
     "cell_type": "markdown",
     "metadata": {},
     "source": [
      "** Double angle formula**\n",
      "\n",
      "$ \\sin(2x) = 2\\cdot \\sin x \\cdot \\cos x$\n",
      "\n",
      "$ \\sin(2x) = 2\\cdot \\sin x \\cdot \\sqrt{1 - sin^2 x}$"
     ]
    },
    {
     "cell_type": "markdown",
     "metadata": {},
     "source": [
      "### Quiz: \n"
     ]
    },
    {
     "cell_type": "markdown",
     "metadata": {},
     "source": [
      "**1**\n",
      "\n",
      "What is the angle sum formula for $\\sin (\\alpha + \\beta)?$"
     ]
    },
    {
     "cell_type": "markdown",
     "metadata": {},
     "source": [
      "$\\sin \\left(\\alpha + \\beta\\right) = \\cos\\left(\\beta\\right) \\sin\\left(\\alpha\\right) + \\cos\\left(\\alpha\\right) \\sin\\left(\\beta\\right)$"
     ]
    },
    {
     "cell_type": "markdown",
     "metadata": {},
     "source": [
      "**2**\n",
      "\n",
      "Use the angle sum formula twice to rewrite $\\sin (\\alpha + \\beta + \\gamma)$"
     ]
    },
    {
     "cell_type": "markdown",
     "metadata": {},
     "source": [
      "$\\delta = \\beta + \\gamma$\n",
      "\n",
      "$\\sin(\\alpha + \\delta) = \\cos\\alpha \\sin\\delta + \\cos\\delta \\sin\\gamma$\n",
      "\n",
      "$\\sin(\\alpha + \\beta + \\gamma) = \\cos\\alpha \\sin(\\beta + \\gamma) + \\cos(\\beta + \\gamma) \\sin\\alpha$\n",
      "\n",
      "$\\sin(\\beta + \\gamma) = \\cos\\beta \\sin\\gamma + \\sin\\beta \\cos\\gamma$\n",
      "\n",
      "$\\cos(\\beta + \\gamma) = \\cos\\beta \\cos\\gamma - \\sin\\beta \\sin\\gamma$\n",
      "\n",
      "$\\sin(\\alpha + \\beta + \\gamma) = \\cos\\alpha (\\cos\\beta \\sin\\gamma + \\sin\\beta \\cos\\gamma) + (\\cos\\beta \\cos\\gamma - \\sin\\beta \\sin\\gamma) \\sin\\alpha$\n",
      "\n",
      "$\\sin(\\alpha + \\beta + \\gamma) = \\cos\\alpha\\cos\\beta \\sin\\gamma + \\cos\\alpha\\sin\\beta \\cos\\gamma + \\sin\\alpha\\cos\\beta \\cos\\gamma - \\sin\\alpha\\sin\\beta \\sin\\gamma$\n"
     ]
    },
    {
     "cell_type": "markdown",
     "metadata": {},
     "source": [
      "<a id='multtrigsliderule'></a>\n",
      "## Multiplying trig functions with slide rules"
     ]
    },
    {
     "cell_type": "markdown",
     "metadata": {},
     "source": [
      "### How can we multiply numbers with trigonometry"
     ]
    },
    {
     "cell_type": "markdown",
     "metadata": {},
     "source": [
      "[prosthaphaeresis](http://en.wikipedia.org/wiki/Prosthaphaeresis)\n",
      "\n",
      "$\\cos a \\cos b = \\dfrac{\\cos(a+b)+\\cos(a-b)}{2}$\n",
      "\n",
      "$0.17 \\cdot 0.37  = 0.0629$\n",
      "\n",
      "$\\cos a \\cdot \\cos b$\n",
      "\n",
      "look at the inverse cosine table ....\n",
      "\n",
      "$a = 1.39997$\n",
      "\n",
      "$b = 1.19179$\n",
      "\n",
      "$a+b=2.59176$\n",
      "\n",
      "$a-b=.20818$\n",
      "\n",
      "look at the inverse cosine table again...\n",
      "\n",
      "$\\cos(a-b) = 0.97845$\n",
      "\n",
      "$\\cos(a+b) = -0.85261$\n",
      "\n",
      "$\\cos a \\cos b = 0.06292 \\approx 0.17 \\cdot 0.37$\n",
      "\n",
      "instead of multiplying, they're doing table lookups, addition, subtraction, and averaging.\n",
      "\n",
      "They were doing this 400 years ago!\n"
     ]
    },
    {
     "cell_type": "markdown",
     "metadata": {},
     "source": [
      "### Quiz: Multiplying Trigonometric Functions with Slide Rules\n"
     ]
    },
    {
     "cell_type": "markdown",
     "metadata": {},
     "source": [
      "**1**\n",
      "\n",
      "Prosthaphaeresis works by rewriting $\\cos\\alpha\\cos\\beta$. What is true about $\\cos\\alpha\\cos\\beta$?\n",
      "\n",
      "$\\cos a \\cos b = \\dfrac{\\cos(a+b)+\\cos(a-b)}{2}$\n"
     ]
    },
    {
     "cell_type": "markdown",
     "metadata": {},
     "source": [
      "**2**\n",
      "\n",
      "Suppose $\\alpha$ is chosen so that $\\cos\\alpha = \\dfrac{1}{\\sqrt{7}}$ and $\\beta$ is chosen so that $\\cos\\beta = \\dfrac{1}{\\sqrt{11}}$. What is $\\cos(\\alpha+\\beta) + \\cos(\\alpha - \\beta)$\n",
      "\n",
      "$\\cos\\alpha = \\dfrac{1}{\\sqrt{7}}$\n",
      "\n",
      "$\\cos\\beta = \\dfrac{1}{\\sqrt{11}}$\n",
      "\n",
      "$\\cos(\\alpha+\\beta) + \\cos(\\alpha - \\beta)=?$\n",
      "\n",
      "$\\cos(\\alpha+\\beta) + \\cos(\\alpha - \\beta)=2\\cos\\alpha\\cos\\beta = 2\\cdot \\dfrac{1}{\\sqrt{7}}\\dfrac{1}{\\sqrt{11}}=$\n",
      "\n",
      "$\\dfrac{2}{\\sqrt{77}}$\n"
     ]
    },
    {
     "cell_type": "markdown",
     "metadata": {},
     "source": [
      "### Quiz: Derivatives of Trig Functions"
     ]
    },
    {
     "cell_type": "markdown",
     "metadata": {},
     "source": [
      "**1**\n",
      "\n",
      "\n",
      "Use the chain rule to find $\\dfrac{d}{dx}\\cot(\\log x)$\n",
      "\n",
      "$f(x) = \\cot x$\n",
      "\n",
      "$g(x) = \\log x$\n",
      "\n",
      "$\\dfrac{d}{dx}\\cot x = - \\cot^{2}{\\left (x \\right )} - 1$\n",
      "\n",
      "$\\dfrac{d}{dx} f(g(x)) = $\n",
      "\n",
      "$f'(g(x))g'(x) = $\n",
      "\n",
      "$(- \\cot^{2}{\\left (\\log x \\right )} - 1) \\cdot \\frac{1}{x}=\n",
      "\n",
      "$\\dfrac{(- \\cot^{2}{\\left (\\log x \\right )} - 1)}{x}$"
     ]
    },
    {
     "cell_type": "code",
     "collapsed": false,
     "input": [
      "fx = cot(log(x))\n",
      "fx"
     ],
     "language": "python",
     "metadata": {},
     "outputs": [
      {
       "latex": [
        "$$\\cot{\\left (\\log{\\left (x \\right )} \\right )}$$"
       ],
       "metadata": {},
       "output_type": "pyout",
       "png": "[encoded data removed]",
       "prompt_number": 78,
       "text": [
        "cot(log(x))"
       ]
      }
     ],
     "prompt_number": 78
    },
    {
     "cell_type": "code",
     "collapsed": false,
     "input": [
      "diff(fx)"
     ],
     "language": "python",
     "metadata": {},
     "outputs": [
      {
       "latex": [
        "$$\\frac{1}{x} \\left(- \\cot^{2}{\\left (\\log{\\left (x \\right )} \\right )} - 1\\right)$$"
       ],
       "metadata": {},
       "output_type": "pyout",
       "png": "[encoded data removed]",
       "prompt_number": 79,
       "text": [
        "     2            \n",
        "- cot (log(x)) - 1\n",
        "\u2500\u2500\u2500\u2500\u2500\u2500\u2500\u2500\u2500\u2500\u2500\u2500\u2500\u2500\u2500\u2500\u2500\u2500\n",
        "        x         "
       ]
      }
     ],
     "prompt_number": 79
    },
    {
     "cell_type": "code",
     "collapsed": false,
     "input": [
      "print(diff(fx))"
     ],
     "language": "python",
     "metadata": {},
     "outputs": [
      {
       "output_type": "stream",
       "stream": "stdout",
       "text": [
        "(-cot(log(x))**2 - 1)/x\n"
       ]
      }
     ],
     "prompt_number": 80
    },
    {
     "cell_type": "markdown",
     "metadata": {},
     "source": [
      "**2**"
     ]
    },
    {
     "cell_type": "code",
     "collapsed": false,
     "input": [
      "fx=sin(log(x))\n",
      "fx"
     ],
     "language": "python",
     "metadata": {},
     "outputs": [
      {
       "latex": [
        "$$\\sin{\\left (\\log{\\left (x \\right )} \\right )}$$"
       ],
       "metadata": {},
       "output_type": "pyout",
       "png": "[encoded data removed]",
       "prompt_number": 81,
       "text": [
        "sin(log(x))"
       ]
      }
     ],
     "prompt_number": 81
    },
    {
     "cell_type": "code",
     "collapsed": false,
     "input": [
      "print(diff(fx))"
     ],
     "language": "python",
     "metadata": {},
     "outputs": [
      {
       "output_type": "stream",
       "stream": "stdout",
       "text": [
        "cos(log(x))/x\n"
       ]
      }
     ],
     "prompt_number": 82
    },
    {
     "cell_type": "markdown",
     "metadata": {},
     "source": [
      "**3**"
     ]
    },
    {
     "cell_type": "code",
     "collapsed": false,
     "input": [
      "fx = csc(log(x))\n",
      "fx"
     ],
     "language": "python",
     "metadata": {},
     "outputs": [
      {
       "latex": [
        "$$\\csc{\\left (\\log{\\left (x \\right )} \\right )}$$"
       ],
       "metadata": {},
       "output_type": "pyout",
       "png": "[encoded data removed]",
       "prompt_number": 83,
       "text": [
        "csc(log(x))"
       ]
      }
     ],
     "prompt_number": 83
    },
    {
     "cell_type": "code",
     "collapsed": false,
     "input": [
      "print(diff(fx))"
     ],
     "language": "python",
     "metadata": {},
     "outputs": [
      {
       "output_type": "stream",
       "stream": "stdout",
       "text": [
        "-cot(log(x))*csc(log(x))/x\n"
       ]
      }
     ],
     "prompt_number": 84
    },
    {
     "cell_type": "markdown",
     "metadata": {},
     "source": [
      "<a id='derivativeintherealworld'></a>\n",
      "# Derivatives in the Real World"
     ]
    },
    {
     "cell_type": "markdown",
     "metadata": {},
     "source": [
      "<a id='derivshelpwithlimits'></a>\n",
      "### How can derivatives help with limits"
     ]
    },
    {
     "cell_type": "markdown",
     "metadata": {},
     "source": [
      "$\\lim\\limits_{x \\to 4}=\\dfrac{\\sqrt{x}-2}{x-4}=$\n",
      "\n",
      "use the straight line approximations, ie derivatives of top and bottom\n",
      "\n",
      "$\\lim\\limits_{x \\to 4}=\\dfrac{\\frac{1}{4}(x-4)}{x-4}=\\dfrac{1}{4}$\n",
      "\n",
      "$\\lim\\limits_{x\\to a} f(x) =0$\n",
      "\n",
      "$\\lim\\limits_{x\\to a} g(x) =0$\n",
      "\n",
      "$\\lim\\limits_{x\\to a} \\dfrac{f(x)}{g(x)}\\approx$\n",
      "\n",
      "use the derivative approximations...\n",
      "\n",
      "$\\lim\\limits_{x\\to a} \\dfrac{f(a) + f'(a)\\cdot(x-a)}{g(a) + g'(a)\\cdot(x-a)}=$\n",
      "\n",
      "$\\lim\\limits_{x\\to a} \\dfrac{0 + f'(a)\\cdot(x-a)}{0 + g'(a)\\cdot(x-a)}=$\n",
      "\n",
      "$(x-a)$ cancels\n",
      "\n",
      "$\\lim\\limits_{x\\to a}\\dfrac{f'(a)}{g'(a)}$"
     ]
    },
    {
     "cell_type": "markdown",
     "metadata": {},
     "source": [
      "**L'Hospital's Rule**\n",
      "\n",
      "Let $f$ and $g$ be functions differentiable near $a$.\n",
      "\n",
      "if \n",
      "\n",
      "$\\lim\\limits_{x \\to a}f(x) = \\lim\\limits_{x \\to a}g(x)=0$\n",
      "\n",
      "and\n",
      "\n",
      "$\\lim\\limits_{x\\to a}\\dfrac{f'(x)}{g'(x)}$ exists\n",
      "\n",
      "and\n",
      "\n",
      "$g'(x) \\neq 0$ for all $x$ near $a$\n",
      "\n",
      "then\n",
      "\n",
      "$\\lim\\limits_{x\\to a}\\dfrac{f(x)}{g(x)} = \\lim\\limits_{x\\to a}\\dfrac{f'(x)}{g'(x)}$"
     ]
    },
    {
     "cell_type": "markdown",
     "metadata": {},
     "source": [
      "**Example**\n",
      "\n",
      "Apply l'H\u00f4pital's rule\n",
      "\n",
      "$\\lim\\limits_{x \\to 0}\\dfrac{\\cos x -1 + \\frac{x^2}{2}}{x^4}=$\n",
      "\n",
      "Apply l'H\u00f4pital's rule again\n",
      "\n",
      "$\\lim\\limits_{x \\to 0}\\dfrac{-\\sin x -x}{4x^3}=$\n",
      "\n",
      "$\\lim\\limits_{x \\to 0}\\dfrac{-\\cos x -1}{12x^2}=$\n",
      "\n",
      "Apply l'H\u00f4pital's rule again\n",
      "\n",
      "$\\lim\\limits_{x \\to 0}\\dfrac{\\sin x}{24x}=$\n",
      "\n",
      "Apply l'H\u00f4pital's rule again\n",
      "\n",
      "$\\lim\\limits_{x \\to 0}\\dfrac{\\cos x}{24}=$\n",
      "\n",
      "$\\dfrac{1}{24}$, which means all of the above limits also equal $\\dfrac{1}{24}$"
     ]
    },
    {
     "cell_type": "markdown",
     "metadata": {},
     "source": [
      "### How can l'H\u00f4pital help with limits not of the form $\\frac{0}{0}$?"
     ]
    },
    {
     "cell_type": "markdown",
     "metadata": {},
     "source": [
      "**L'Hospital's Rule for limits of $\\infty$**\n",
      "\n",
      "Let $f$ and $g$ be functions differentiable near $a$.\n",
      "\n",
      "if \n",
      "\n",
      "$\\lim\\limits_{x \\to a}f(x) = \\lim\\limits_{x \\to a}g(x)=\\pm\\infty$\n",
      "\n",
      "and\n",
      "\n",
      "$\\lim\\limits_{x\\to a}\\dfrac{f'(x)}{g'(x)}$ exists\n",
      "\n",
      "and\n",
      "\n",
      "$g'(x) \\neq 0$ for all $x$ near $a$\n",
      "\n",
      "then\n",
      "\n",
      "$\\lim\\limits_{x\\to a}\\dfrac{f(x)}{g(x)} = \\lim\\limits_{x\\to a}\\dfrac{f'(x)}{g'(x)}$"
     ]
    },
    {
     "cell_type": "markdown",
     "metadata": {},
     "source": [
      "**Example**\n",
      "\n",
      "$\\lim\\limits_{x \\to \\infty} \\dfrac{2x^2+1}{3x^2 + 1}=$\n",
      "\n",
      "$\\lim\\limits_{x \\to \\infty} \\dfrac{4x}{6x}=\\dfrac{2}{3}$"
     ]
    },
    {
     "cell_type": "code",
     "collapsed": false,
     "input": [
      "fx = (2*x**2+1)/(3*x**2+1)\n",
      "limit(fx, x, oo)"
     ],
     "language": "python",
     "metadata": {},
     "outputs": [
      {
       "latex": [
        "$$\\frac{2}{3}$$"
       ],
       "metadata": {},
       "output_type": "pyout",
       "png": "[encoded data removed]",
       "prompt_number": 85,
       "text": [
        "2/3"
       ]
      }
     ],
     "prompt_number": 85
    },
    {
     "cell_type": "markdown",
     "metadata": {},
     "source": [
      "**example**\n",
      "\n",
      "$\\lim\\limits_{x \\to \\infty}\\sin(\\frac{1}{x})x=$\n",
      "\n",
      "we need a $\\dfrac{0}{0}$ or $\\dfrac{\\infty}{\\infty}$ situation, so we can transform it\n",
      "\n",
      "$\\lim\\limits_{x \\to \\infty}\\dfrac{\\sin(\\frac{1}{x})}{\\frac{1}{x}}=$\n",
      "\n",
      "$\\lim\\limits_{x \\to \\infty}\\dfrac{\\cos\\frac{1}{x}\\cdot\\frac{-1}{x^2}}{\\frac{-1}{x^2}}=$\n",
      "\n",
      "$\\lim\\limits_{x \\to \\infty}\\cos\\frac{1}{x}=1$\n"
     ]
    },
    {
     "cell_type": "markdown",
     "metadata": {},
     "source": [
      "**example**\n",
      "\n",
      "$\\lim\\limits_{x\\to 0}(1+\\frac{1}{x})^x=$\n",
      "\n",
      "$e^{\\log\\lim\\limits_{x\\to 0}(1+\\frac{1}{x})^x}=$ \n",
      "\n",
      "$e$ to the $\\log$ of something does nothing\n",
      "\n",
      "the $\\log$ of a $\\lim$ is the $\\lim$ of the $\\log$\n",
      "\n",
      "$e^{\\lim\\limits_{x\\to 0}\\log(1+\\frac{1}{x})^x}=$ \n",
      "\n",
      "$e^{\\lim\\limits_{x\\to 0}x\\log(1+\\frac{1}{x})}=$ \n",
      "\n",
      "here we have a large number times a very small number\n",
      "\n",
      "$e^{\\lim\\limits_{x\\to 0}\\dfrac{ \\log(1+\\frac{1}{x})}{\\frac{1}{x}}}=$\n",
      "\n",
      "TODO:\n",
      "now we have a $\\frac{0}{0}$ situation: Wait, what? Isn't the denom $\\infty$\n",
      "\n",
      "$e^{\\lim\\limits_{x\\to 0}\\dfrac{ \\dfrac{1}{1+\\frac{1}{x}}\\cdot\\dfrac{1}{-x^2}}{\\frac{-1}{x^2}}}=$\n",
      "\n",
      "$e^{\\lim\\limits_{x\\to 0}\\dfrac{1}{1+\\frac{1}{x}}}=$\n",
      "\n",
      "$e^1=e$"
     ]
    },
    {
     "cell_type": "markdown",
     "metadata": {},
     "source": [
      "** example **\n",
      "\n",
      "$\\lim\\limits_{x \\to \\infty} x^{\\frac{1}{x}}=$\n",
      "\n",
      "$e^{\\log\\lim\\limits_{x \\to \\infty}x^{\\frac{1}{x}}}=$\n",
      "\n",
      "$e^{\\lim\\limits_{x \\to \\infty}\\log x^{\\frac{1}{x}}}=$\n",
      "\n",
      "$e^{\\lim\\limits_{x \\to \\infty}\\frac{1}{x}\\log x}=$\n",
      "\n",
      "$e^{\\lim\\limits_{x \\to \\infty}\\frac{\\log x}{x}}=$\n",
      "\n",
      "$e^{\\lim\\limits_{x \\to \\infty}\\dfrac{\\frac{1}{x}}{1}}=$\n",
      "\n",
      "$e^{\\lim\\limits_{x \\to \\infty}\\dfrac{1}{x}}=$\n",
      "\n",
      "$e^0=1$"
     ]
    },
    {
     "cell_type": "markdown",
     "metadata": {},
     "source": [
      "---\n",
      "\n",
      "**tricks**\n",
      "\n",
      "<img src='images/tricks.png'/>"
     ]
    },
    {
     "cell_type": "markdown",
     "metadata": {},
     "source": [
      "### Why shouldn't I fall in love with l'hospital"
     ]
    },
    {
     "cell_type": "markdown",
     "metadata": {},
     "source": [
      "$\\lim\\limits_{x \\to 0} \\dfrac{\\sin x}{x} = \\lim\\limits_{x \\to 0}\\cos x=1$\n",
      "\n",
      "but how'd we know \n",
      "\n",
      "$\\dfrac{d}{dx}\\sin x = \\cos x$\n",
      "\n",
      "$\\lim\\limits_{h \\to 0} \\dfrac{\\sin(0+h) + h}{h}$\n",
      "\n",
      "$\\lim\\limits_{h \\to 0} \\dfrac{\\sin h}{h}$\n",
      "\n",
      "CIRCULAR!\n",
      "\n",
      "To do lHopital, you have to take the limit two derivatives. So in this case, you have to find the derivative of the derivative you were trying to find.\n"
     ]
    },
    {
     "cell_type": "markdown",
     "metadata": {},
     "source": [
      "### Quiz: Derivatives helping with limits"
     ]
    },
    {
     "cell_type": "markdown",
     "metadata": {},
     "source": [
      "**1**\n",
      "\n",
      "Use L'H\u00f4pital's Rule to evaluate the following limit: $\\displaystyle\\lim_{x \\to 3} \\dfrac{7x^{3}+x^{2}+x-201}{4x^{3}-2x^{2}+7x-111}$\n",
      "\n",
      "$\\displaystyle\\lim_{x \\to 3} \\dfrac{7x^{3}+x^{2}+x-201}{4x^{3}-2x^{2}+7x-111}=$\n",
      "\n",
      "$\\lim\\limits_{x \\to 3} \\dfrac{21x^2 +...}{12x^2 +...}$\n",
      "\n",
      "$\\lim\\limits_{x \\to 3} \\dfrac{42x +...}{24x +...}$\n",
      "\n",
      "$\\lim\\limits_{x \\to 3} \\dfrac{7}{4}=\\dfrac{7}{4}$"
     ]
    },
    {
     "cell_type": "code",
     "collapsed": false,
     "input": [
      "fx = (7*x**3 + x**2 + x -201)/(4*x**3 -2*x**2 + 7*x -111)\n",
      "fx"
     ],
     "language": "python",
     "metadata": {},
     "outputs": [
      {
       "latex": [
        "$$\\frac{7 x^{3} + x^{2} + x - 201}{4 x^{3} - 2 x^{2} + 7 x - 111}$$"
       ],
       "metadata": {},
       "output_type": "pyout",
       "png": "[encoded data removed]",
       "prompt_number": 86,
       "text": [
        "     3    2            \n",
        "  7\u22c5x  + x  + x - 201  \n",
        "\u2500\u2500\u2500\u2500\u2500\u2500\u2500\u2500\u2500\u2500\u2500\u2500\u2500\u2500\u2500\u2500\u2500\u2500\u2500\u2500\u2500\u2500\u2500\n",
        "   3      2            \n",
        "4\u22c5x  - 2\u22c5x  + 7\u22c5x - 111"
       ]
      }
     ],
     "prompt_number": 86
    },
    {
     "cell_type": "code",
     "collapsed": false,
     "input": [
      "limit(fx, x, 3)"
     ],
     "language": "python",
     "metadata": {},
     "outputs": [
      {
       "latex": [
        "$$\\frac{196}{103}$$"
       ],
       "metadata": {},
       "output_type": "pyout",
       "png": "[encoded data removed]",
       "prompt_number": 87,
       "text": [
        "196\n",
        "\u2500\u2500\u2500\n",
        "103"
       ]
      }
     ],
     "prompt_number": 87
    },
    {
     "cell_type": "markdown",
     "metadata": {},
     "source": [
      "**2**\n",
      "\n",
      "Use L'H\u00f4pital's Rule to evaluate the following limit: \n",
      "\n",
      "$\\displaystyle\\lim_{x \\to 1} \\dfrac{\\log(x)}{2x^{2}+2x-4}$\n",
      "\n",
      "$\\displaystyle\\lim_{x \\to 1} \\dfrac{\\frac{1}{x}}{4x+2}=$\n",
      "\n",
      "$\\dfrac{1}{6}$\n"
     ]
    },
    {
     "cell_type": "code",
     "collapsed": false,
     "input": [
      "fx = log(x)/(2*x**2+2*x-4)\n",
      "fx"
     ],
     "language": "python",
     "metadata": {},
     "outputs": [
      {
       "latex": [
        "$$\\frac{\\log{\\left (x \\right )}}{2 x^{2} + 2 x - 4}$$"
       ],
       "metadata": {},
       "output_type": "pyout",
       "png": "[encoded data removed]",
       "prompt_number": 88,
       "text": [
        "    log(x)    \n",
        "\u2500\u2500\u2500\u2500\u2500\u2500\u2500\u2500\u2500\u2500\u2500\u2500\u2500\u2500\n",
        "   2          \n",
        "2\u22c5x  + 2\u22c5x - 4"
       ]
      }
     ],
     "prompt_number": 88
    },
    {
     "cell_type": "code",
     "collapsed": false,
     "input": [
      "limit(fx, x, 1)"
     ],
     "language": "python",
     "metadata": {},
     "outputs": [
      {
       "latex": [
        "$$\\frac{1}{6}$$"
       ],
       "metadata": {},
       "output_type": "pyout",
       "png": "[encoded data removed]",
       "prompt_number": 89,
       "text": [
        "1/6"
       ]
      }
     ],
     "prompt_number": 89
    },
    {
     "cell_type": "markdown",
     "metadata": {},
     "source": [
      "**3**\n",
      "\n",
      "Use L'H\u00f4pital's Rule to evaluate the following limit: \n",
      "\n",
      "$\\displaystyle\\lim_{x \\to 1} \\dfrac{\\log(x)}{-5x^{3}-4x+9}=$\n",
      "\n",
      "$\\lim\\limits_{x \\to 1} \\dfrac{\\frac{1}{x}}{-15x^2 - 4x}=$\n",
      "\n",
      "$\\dfrac{1}{-19}$"
     ]
    },
    {
     "cell_type": "code",
     "collapsed": false,
     "input": [
      "fx = log(x)/(-5*x**3 - 4*x +9)\n",
      "fx"
     ],
     "language": "python",
     "metadata": {},
     "outputs": [
      {
       "latex": [
        "$$\\frac{\\log{\\left (x \\right )}}{- 5 x^{3} - 4 x + 9}$$"
       ],
       "metadata": {},
       "output_type": "pyout",
       "png": "[encoded data removed]",
       "prompt_number": 90,
       "text": [
        "     log(x)     \n",
        "\u2500\u2500\u2500\u2500\u2500\u2500\u2500\u2500\u2500\u2500\u2500\u2500\u2500\u2500\u2500\u2500\n",
        "     3          \n",
        "- 5\u22c5x  - 4\u22c5x + 9"
       ]
      }
     ],
     "prompt_number": 90
    },
    {
     "cell_type": "code",
     "collapsed": false,
     "input": [
      "limit(fx, x, 1)"
     ],
     "language": "python",
     "metadata": {},
     "outputs": [
      {
       "latex": [
        "$$- \\frac{1}{19}$$"
       ],
       "metadata": {},
       "output_type": "pyout",
       "png": "[encoded data removed]",
       "prompt_number": 91,
       "text": [
        "-1/19"
       ]
      }
     ],
     "prompt_number": 91
    },
    {
     "cell_type": "markdown",
     "metadata": {},
     "source": [
      "** 4** \n",
      "\n",
      "Use L'H\u00f4pital's Rule to evaluate the following limit: \n",
      "\n",
      "$\\displaystyle\\lim_{x \\to 1} \\dfrac{\\log(x)}{7x^{2}+5x-12}$\n",
      "\n"
     ]
    },
    {
     "cell_type": "code",
     "collapsed": false,
     "input": [
      "fx = log(x)/(7*x**2 + 5*x -12)\n",
      "fx"
     ],
     "language": "python",
     "metadata": {},
     "outputs": [
      {
       "latex": [
        "$$\\frac{\\log{\\left (x \\right )}}{7 x^{2} + 5 x - 12}$$"
       ],
       "metadata": {},
       "output_type": "pyout",
       "png": "[encoded data removed]",
       "prompt_number": 92,
       "text": [
        "     log(x)    \n",
        "\u2500\u2500\u2500\u2500\u2500\u2500\u2500\u2500\u2500\u2500\u2500\u2500\u2500\u2500\u2500\n",
        "   2           \n",
        "7\u22c5x  + 5\u22c5x - 12"
       ]
      }
     ],
     "prompt_number": 92
    },
    {
     "cell_type": "code",
     "collapsed": false,
     "input": [
      "limit(fx, x, 1)"
     ],
     "language": "python",
     "metadata": {},
     "outputs": [
      {
       "latex": [
        "$$\\frac{1}{19}$$"
       ],
       "metadata": {},
       "output_type": "pyout",
       "png": "[encoded data removed]",
       "prompt_number": 93,
       "text": [
        "1/19"
       ]
      }
     ],
     "prompt_number": 93
    },
    {
     "cell_type": "markdown",
     "metadata": {},
     "source": [
      "**5**\n",
      "\n",
      "Use L'H\u00f4pital's Rule to evaluate the following limit: \n",
      "\n",
      "$\\displaystyle\\lim_{x \\to 1} \\dfrac{e^x-e}{4x^{3}+6x^{2}+2x-12}$\n",
      "\n"
     ]
    },
    {
     "cell_type": "code",
     "collapsed": false,
     "input": [
      "fx =(E**x - E)/(4*x**3 + 6*x**2 + 2*x -12)"
     ],
     "language": "python",
     "metadata": {},
     "outputs": [],
     "prompt_number": 94
    },
    {
     "cell_type": "code",
     "collapsed": false,
     "input": [
      "limit(fx, x, 1)"
     ],
     "language": "python",
     "metadata": {},
     "outputs": [
      {
       "latex": [
        "$$\\frac{e}{26}$$"
       ],
       "metadata": {},
       "output_type": "pyout",
       "png": "[encoded data removed]",
       "prompt_number": 95,
       "text": [
        "\u212f \n",
        "\u2500\u2500\n",
        "26"
       ]
      }
     ],
     "prompt_number": 95
    },
    {
     "cell_type": "markdown",
     "metadata": {},
     "source": [
      "**6**\n",
      "\n",
      "Use L'H\u00f4pital's Rule to evaluate the following limit: \n",
      "\n",
      "$\\displaystyle\\lim_{x \\to 10} \\dfrac{-5x^{2}+7x+430}{-2x^{2}-2x+220}$"
     ]
    },
    {
     "cell_type": "code",
     "collapsed": false,
     "input": [
      "fx = (-5*x**2 + 7*x + 430)/(-2*x**2 -2*x + 220)\n",
      "fx"
     ],
     "language": "python",
     "metadata": {},
     "outputs": [
      {
       "latex": [
        "$$\\frac{- 5 x^{2} + 7 x + 430}{- 2 x^{2} - 2 x + 220}$$"
       ],
       "metadata": {},
       "output_type": "pyout",
       "png": "[encoded data removed]",
       "prompt_number": 96,
       "text": [
        "     2            \n",
        "- 5\u22c5x  + 7\u22c5x + 430\n",
        "\u2500\u2500\u2500\u2500\u2500\u2500\u2500\u2500\u2500\u2500\u2500\u2500\u2500\u2500\u2500\u2500\u2500\u2500\n",
        "     2            \n",
        "- 2\u22c5x  - 2\u22c5x + 220"
       ]
      }
     ],
     "prompt_number": 96
    },
    {
     "cell_type": "code",
     "collapsed": false,
     "input": [
      "limit(fx, x, 10)"
     ],
     "language": "python",
     "metadata": {},
     "outputs": [
      {
       "latex": [
        "$$\\frac{31}{14}$$"
       ],
       "metadata": {},
       "output_type": "pyout",
       "png": "[encoded data removed]",
       "prompt_number": 97,
       "text": [
        "31\n",
        "\u2500\u2500\n",
        "14"
       ]
      }
     ],
     "prompt_number": 97
    },
    {
     "cell_type": "markdown",
     "metadata": {},
     "source": [
      "<a id='derunderrateschangereal'></a>\n",
      "\n",
      "## How can derivatives help me to understand rates of change in the real world"
     ]
    },
    {
     "cell_type": "markdown",
     "metadata": {},
     "source": [
      "### How long until the gray goo destroys Earth"
     ]
    },
    {
     "cell_type": "markdown",
     "metadata": {},
     "source": [
      "$f(t)=$ amount of gray goo in grams\n",
      "\n",
      "$f'(t)=$ rate of change of gray goo in grams/seconds\n",
      "\n",
      "$f(t) = f'(t)$\n",
      "\n",
      "$f(0) = 1$\n",
      "\n",
      "$f(t) = e^t$\n",
      "\n",
      "$f(10) = e^{10} \\approx 22000g$\n",
      "\n",
      "$6\\cdot 10^{27}=$ mass of earth \n",
      "\n",
      "$e^t = 6\\cdot 10^{27}$\n",
      "\n",
      "$t = \\log 6\\cdot 10^{27}$\n",
      "\n",
      "$t = 27 \\log 10 + \\log 6$\n",
      "\n"
     ]
    },
    {
     "cell_type": "code",
     "collapsed": false,
     "input": [
      "N(27 * log(10) + log(6)) # we have 64 seconds until the gray goo arrives"
     ],
     "language": "python",
     "metadata": {},
     "outputs": [
      {
       "latex": [
        "$$63.9615569800673$$"
       ],
       "metadata": {},
       "output_type": "pyout",
       "png": "[encoded data removed]",
       "prompt_number": 98,
       "text": [
        "63.9615569800673"
       ]
      }
     ],
     "prompt_number": 98
    },
    {
     "cell_type": "markdown",
     "metadata": {},
     "source": [
      "### What does a car sound like as it drives past"
     ]
    },
    {
     "cell_type": "markdown",
     "metadata": {},
     "source": [
      "velocity is $\\dfrac{d}{dt}$ position"
     ]
    },
    {
     "cell_type": "markdown",
     "metadata": {},
     "source": [
      "### Quiz: derivatives in the real world"
     ]
    },
    {
     "cell_type": "markdown",
     "metadata": {},
     "source": [
      "**2**\n",
      "\n",
      "A light on the ground is 30 feet away from a building. A 4 foot tall man is walking from the light to the building at a rate of 3 feet per second. He is casting a shadow on the side of the building. At what rate is his shadow shrinking when he is 5 feet from the building?\n",
      "\n",
      "<img src='images/light.jpg' width=300/>"
     ]
    },
    {
     "cell_type": "markdown",
     "metadata": {},
     "source": [
      "$x$ = distance of man from light\n",
      "\n",
      "$y$ = shadow height.\n",
      "\n",
      "$m$ = height of the man\n",
      "\n",
      "Known rate: $\\dfrac{dx}{dt} = 5$\n",
      "\n",
      "Unknown rate: $\\left. \\dfrac{dy}{dt} \\right|_{x = 25}$\n",
      "\n",
      "$y = f(t)$\n",
      "\n",
      "$\\dfrac{x}{7} = \\dfrac{30}{y}$\n",
      "\n",
      "$\\dfrac{d}{dt}\\dfrac{x}{7} = \\dfrac{d}{dt}\\dfrac{30}{y}$\n",
      "\n",
      "$\\dfrac{d}{dt}\\dfrac{x}{7} = \\dfrac{d}{dt}\\dfrac{30}{f(t)}$\n",
      "\n",
      "$\\dfrac{1}{7}\\dfrac{dx}{dt} = 30 \\cdot -f(t)^{-2} \\cdot f'(t)$\n",
      "\n",
      "$\\dfrac{1}{7}\\dfrac{dx}{dt} = 30 \\cdot -y^{-2} \\dfrac{dy}{dt}$\n",
      "\n",
      "$\\dfrac{dy}{dt} = \\dfrac{dx}{dt}\\dfrac{y^2}{-210}$\n",
      "\n",
      "$\\dfrac{dy}{dt} = 5\\dfrac{y^2}{-210}$\n",
      "\n",
      "What is $y$?\n",
      "\n",
      "Use $\\dfrac{x}{7} = \\dfrac{30}{y}$\n",
      "\n",
      "$y = \\dfrac{210}{x} = \\dfrac{210}{25}$"
     ]
    },
    {
     "cell_type": "markdown",
     "metadata": {},
     "source": [
      "$\\dfrac{dy}{dt} = \\dfrac{5}{-210} \\cdot \\dfrac{210^2}{25^2} = \\dfrac{-210}{125} = \\dfrac{-42}{25}$"
     ]
    },
    {
     "cell_type": "markdown",
     "metadata": {},
     "source": [
      "---\n",
      "\n",
      "**1**\n",
      "\n",
      "A light on the ground is 30 feet away from a building. A 4 foot tall man is walking from the light to the building at a rate of 3 feet per second. He is casting a shadow on the side of the building. At what rate is his shadow shrinking when he is 5 feet from the building?\n",
      "\n",
      "Known rate: $\\dfrac{dx}{dt} = 3$\n",
      "\n",
      "Unknown rate: $\\left. \\dfrac{dy}{dt} \\right|_{x = 25}$\n",
      "\n",
      "$y = f(t)$\n",
      "\n",
      "$\\dfrac{x}{4} = \\dfrac{30}{y}$\n",
      "\n",
      "$\\dfrac{d}{dt}\\dfrac{x}{4} = \\dfrac{d}{dt}\\dfrac{30}{y}$\n",
      "\n",
      "$\\dfrac{d}{dt}\\dfrac{x}{4} = \\dfrac{d}{dt}\\dfrac{30}{f(t)}$\n",
      "\n",
      "$\\dfrac{1}{4}\\dfrac{dx}{dt} = 30 \\cdot -f(t)^{-2} \\cdot f'(t)$\n",
      "\n",
      "$\\dfrac{1}{4}\\dfrac{dx}{dt} = 30 \\cdot -y^{-2} \\dfrac{dy}{dt}$\n",
      "\n",
      "$\\dfrac{dy}{dt} = \\dfrac{dx}{dt}\\dfrac{y^2}{-120}$\n",
      "\n",
      "$\\dfrac{dy}{dt} = 3\\dfrac{y^2}{-120}$\n",
      "\n",
      "What is $y$?\n",
      "\n",
      "Use $\\dfrac{x}{4} = \\dfrac{30}{y}$\n",
      "\n",
      "$y = \\dfrac{120}{x} = \\dfrac{120}{25}$\n",
      " "
     ]
    },
    {
     "cell_type": "markdown",
     "metadata": {},
     "source": [
      "$\\dfrac{dy}{dt} = \\dfrac{3}{-120} \\cdot \\dfrac{120^2}{25^2} = \\dfrac{-360}{625}$"
     ]
    },
    {
     "cell_type": "code",
     "collapsed": false,
     "input": [
      "-360/625"
     ],
     "language": "python",
     "metadata": {},
     "outputs": [
      {
       "latex": [
        "$$-0.576$$"
       ],
       "metadata": {},
       "output_type": "pyout",
       "png": "[encoded data removed]",
       "prompt_number": 99,
       "text": [
        "-0.576"
       ]
      }
     ],
     "prompt_number": 99
    },
    {
     "cell_type": "markdown",
     "metadata": {},
     "source": [
      "---\n",
      "\n",
      "**3**\n",
      "\n",
      "A light on the ground is 30 feet away from a building. A 7 foot tall man is walking from the light to the building at a rate of 6 feet per second. He is casting a shadow on the side of the building. At what rate is his shadow shrinking when he is 5 feet from the building?\n",
      "\n",
      "\n",
      "Known rate: $\\dfrac{dx}{dt} = 6$\n",
      "\n",
      "Unknown rate: $\\left. \\dfrac{dy}{dt} \\right|_{x = 25}$\n",
      "\n",
      "$y = f(t)$\n",
      "\n",
      "$\\dfrac{x}{7} = \\dfrac{30}{y}$\n",
      "\n",
      "$\\dfrac{d}{dt}\\dfrac{x}{7} = \\dfrac{d}{dt}\\dfrac{30}{y}$\n",
      "\n",
      "$\\dfrac{d}{dt}\\dfrac{x}{7} = \\dfrac{d}{dt}\\dfrac{30}{f(t)}$\n",
      "\n",
      "$\\dfrac{1}{7}\\dfrac{dx}{dt} = 30 \\cdot -f(t)^{-2} \\cdot f'(t)$\n",
      "\n",
      "$\\dfrac{1}{7}\\dfrac{dx}{dt} = 30 \\cdot -y^{-2} \\dfrac{dy}{dt}$\n",
      "\n",
      "$\\dfrac{dy}{dt} = \\dfrac{dx}{dt}\\dfrac{y^2}{-210}$\n",
      "\n",
      "$\\dfrac{dy}{dt} = 6\\dfrac{y^2}{-210}$\n",
      "\n",
      "What is $y$?\n",
      "\n",
      "Use $\\dfrac{x}{7} = \\dfrac{30}{y}$\n",
      "\n",
      "$y = \\dfrac{210}{x} = \\dfrac{210}{25}$"
     ]
    },
    {
     "cell_type": "markdown",
     "metadata": {},
     "source": [
      "$\\dfrac{dy}{dt} = 6 \\cdot \\dfrac{210^2}{25^2} \\cdot \\dfrac{1}{-210}$"
     ]
    },
    {
     "cell_type": "code",
     "collapsed": false,
     "input": [
      "6 * (210**2/25**2) * (1/-210)"
     ],
     "language": "python",
     "metadata": {},
     "outputs": [
      {
       "latex": [
        "$$-2.016$$"
       ],
       "metadata": {},
       "output_type": "pyout",
       "png": "[encoded data removed]",
       "prompt_number": 100,
       "text": [
        "-2.016"
       ]
      }
     ],
     "prompt_number": 100
    },
    {
     "cell_type": "markdown",
     "metadata": {},
     "source": [
      "<a id='derundertworateschange'></a>\n",
      "## How do derivatives help me understand how two rates of change are related"
     ]
    },
    {
     "cell_type": "markdown",
     "metadata": {},
     "source": [
      "### How fast does the shadow move"
     ]
    },
    {
     "cell_type": "markdown",
     "metadata": {},
     "source": [
      "1. draw picture\n",
      "2. find equation\n",
      "3. differentiate\n",
      "4. solve"
     ]
    },
    {
     "cell_type": "markdown",
     "metadata": {},
     "source": [
      "### How fast does the top of the ladder slide down the building"
     ]
    },
    {
     "cell_type": "markdown",
     "metadata": {},
     "source": [
      "<img src='images/ladder.png' width=400/>"
     ]
    },
    {
     "cell_type": "markdown",
     "metadata": {},
     "source": [
      "$x^2 + y^2 = 5^2$\n",
      "\n",
      "$\\dfrac{d}{dt}(x^2 + y^2) = \\dfrac{d}{dt}5^2 = 0$\n",
      "\n",
      "$\\dfrac{d}{dt}(x^2) + \\dfrac{d}{dt}y^2=0$\n",
      "\n",
      "$2x \\dfrac{dx}{dt} + 2y \\dfrac{dy}{dt}=0$\n",
      "\n",
      "$2 \\cdot 3 \\cdot 1 + 2 \\cdot 4 \\cdot \\dfrac{dy}{dt}=0$\n",
      "\n",
      "$\\dfrac{dy}{dt} = \\dfrac{-3}{4}$"
     ]
    },
    {
     "cell_type": "markdown",
     "metadata": {},
     "source": [
      "### How quickly does a bowl fill with green water"
     ]
    },
    {
     "cell_type": "code",
     "collapsed": false,
     "input": [
      "vid = 'BwbvsenVNJU'\n",
      "#YouTubeVideo(vid)"
     ],
     "language": "python",
     "metadata": {},
     "outputs": [],
     "prompt_number": 101
    },
    {
     "cell_type": "markdown",
     "metadata": {},
     "source": [
      "### How quickly does the water level rise in a cone"
     ]
    },
    {
     "cell_type": "code",
     "collapsed": false,
     "input": [
      "vid = '4PgkCVW5ROY'\n",
      "#YouTubeVideo(vid)"
     ],
     "language": "python",
     "metadata": {},
     "outputs": [],
     "prompt_number": 102
    },
    {
     "cell_type": "markdown",
     "metadata": {},
     "source": [
      "### How quickly does a balloon fill with air?"
     ]
    },
    {
     "cell_type": "code",
     "collapsed": false,
     "input": [
      "vid = 'AQeVv1b4wbA'\n",
      "#YouTubeVideo(vid)"
     ],
     "language": "python",
     "metadata": {},
     "outputs": [],
     "prompt_number": 103
    },
    {
     "cell_type": "markdown",
     "metadata": {},
     "source": [
      "### Quiz: How do derivates help to understand how two rates of change are related"
     ]
    },
    {
     "cell_type": "markdown",
     "metadata": {},
     "source": [
      "---\n",
      "\n",
      "** 1 ** \n",
      "\n",
      "In a feverish dream, you hatch a theory that to make the largest chewing gum bubble imaginable, you need to blow it up so that the radius is increasing at a constant rate of 18 millimeters per second. As a function of the radius $r$, at what rate must you blow air into the bubble to achieve this in ${mm}^3/sec$ ?\n",
      "\n",
      "$\\dfrac{dr}{dt} = 18$\n",
      "\n",
      "$V = \\dfrac{4}{3}\\pi r^3$\n",
      "\n",
      "$\\dfrac{d}{dt}V = \\dfrac{d}{dt}\\left(\\dfrac{4}{3}\\pi r^3\\right)$\n",
      "\n",
      "$\\dfrac{dV}{dt} = 4\\pi r^2 \\dfrac{dr}{dt}$"
     ]
    },
    {
     "cell_type": "code",
     "collapsed": false,
     "input": [
      "def dV_dt(r, dr_dt):\n",
      "    return 4 * pi * r**2 * dr_dt"
     ],
     "language": "python",
     "metadata": {},
     "outputs": [],
     "prompt_number": 104
    },
    {
     "cell_type": "markdown",
     "metadata": {},
     "source": [
      "---\n",
      "\n",
      "**2**\n",
      "\n",
      "** Law of Cosines **\n",
      "\n",
      "Two row boats start at the same location, and start traveling apart along straight lines which meet at an angle of $\\dfrac{\\pi}{3}$. Boat A is traveling at a rate of 10 miles per hour directly east, and boat B is traveling at a rate of 16 miles per hour going both north and east. How fast is the distance between the rowboats increasing 2 hours into the journey?\n",
      " \n",
      "\n",
      "<img src='http://upload.wikimedia.org/wikipedia/commons/4/49/Triangle_with_notations_2.svg'/>\n",
      "\n",
      "$c^2 = a^2 + b^2 - 2ab\\cos\\gamma$"
     ]
    },
    {
     "cell_type": "markdown",
     "metadata": {},
     "source": [
      "$\\dfrac{d}{dt}c^2 = \\dfrac{d}{dt}\\left(a^2 + b^2 - 2ab\\cos\\gamma\\right)$\n",
      "\n",
      "$2c \\dfrac{dc}{dt} = 2a\\dfrac{da}{dt} + 2b\\dfrac{db}{dt} - 2\\cos\\gamma\\left(b\\dfrac{da}{dt} + a\\dfrac{db}{dt}\\right)$\n",
      "\n",
      "$\\dfrac{dc}{dt} = \\left[2a\\dfrac{da}{dt} + 2b\\dfrac{db}{dt} - 2\\cos\\gamma\\left(b\\dfrac{da}{dt} + a\\dfrac{db}{dt}\\right)\\right]\\dfrac{1}{2c}$\n",
      "\n",
      "$\\dfrac{dc}{dt} = \\left[2a\\dfrac{da}{dt} + 2b\\dfrac{db}{dt} - 2\\cos\\gamma\\left(b\\dfrac{da}{dt} + a\\dfrac{db}{dt}\\right)\\right]\\cdot \\dfrac{1}{2\\sqrt{a^2 + b^2 - 2ab\\cos\\gamma}}$\n",
      "\n",
      "$\\dots$"
     ]
    },
    {
     "cell_type": "code",
     "collapsed": false,
     "input": [
      "def dc_dt(da_dt, db_dt, t, gamma):\n",
      "    a = da_dt * t\n",
      "    b = db_dt * t\n",
      "    dc_dt = (2*a*(da_dt) + 2*b*db_dt - 2 * cos(gamma) * (b * da_dt + a * db_dt)) / (2*sqrt(a**2 + b**2 - 2*a*b*cos(gamma)))\n",
      "    return dc_dt"
     ],
     "language": "python",
     "metadata": {},
     "outputs": [],
     "prompt_number": 105
    },
    {
     "cell_type": "code",
     "collapsed": false,
     "input": [
      "da_dt = 10\n",
      "db_dt = 16\n",
      "t = 2\n",
      "gamma = pi/3\n",
      "dc_dt(da_dt, db_dt, t, gamma)"
     ],
     "language": "python",
     "metadata": {},
     "outputs": [
      {
       "latex": [
        "$$14$$"
       ],
       "metadata": {},
       "output_type": "pyout",
       "png": "[encoded data removed]",
       "prompt_number": 106,
       "text": [
        "14"
       ]
      }
     ],
     "prompt_number": 106
    },
    {
     "cell_type": "markdown",
     "metadata": {},
     "source": [
      "---\n",
      "\n",
      "** 3 **\n",
      "\n",
      "Two row boats start at the same location, and start traveling apart along straight lines which meet at an angle of $\\dfrac{\\pi}{3}$. Boat A is traveling at a rate of $13$ miles per hour directly east, and boat B is traveling at a rate of $13$ miles per hour going both north and east. How fast is the distance between the rowboats increasing $4$ hours into the journey?\n",
      " "
     ]
    },
    {
     "cell_type": "code",
     "collapsed": false,
     "input": [
      "da_dt = 13\n",
      "db_dt = 13\n",
      "t = 4\n",
      "gamma = pi /3\n",
      "dc_dt(da_dt, db_dt, t, gamma)"
     ],
     "language": "python",
     "metadata": {},
     "outputs": [
      {
       "latex": [
        "$$13$$"
       ],
       "metadata": {},
       "output_type": "pyout",
       "png": "[encoded data removed]",
       "prompt_number": 107,
       "text": [
        "13"
       ]
      }
     ],
     "prompt_number": 107
    },
    {
     "cell_type": "markdown",
     "metadata": {},
     "source": [
      "** 4 **\n",
      "\n",
      "In a feverish dream, you hatch a theory that to make the largest chewing gum bubble imaginable, you need to blow it up so that the radius is increasing at a constant rate of 16 millimeters per second. As a function of the radius r, at what rate must you blow air into the bubble to achieve this in mm3/sec ?"
     ]
    },
    {
     "cell_type": "markdown",
     "metadata": {},
     "source": [
      "$\\dfrac{dV}{dt} = 4\\pi r^2 \\dfrac{dr}{dt}$"
     ]
    },
    {
     "cell_type": "markdown",
     "metadata": {},
     "source": [
      "** 5 **\n",
      "\n",
      "In a feverish dream, you hatch a theory that to make the largest chewing gum bubble imaginable, you need to blow it up so that the radius is increasing at a constant rate of 6 millimeters per second. As a function of the radius r, at what rate must you blow air into the bubble to achieve this in mm3/sec ?\n",
      "\n",
      "$\\dfrac{dV}{dt} = 4\\pi r^2 \\dfrac{dr}{dt}$"
     ]
    },
    {
     "cell_type": "markdown",
     "metadata": {},
     "source": [
      "** 6 ** \n",
      "\n",
      "Two row boats start at the same location, and start traveling apart along straight lines which meet at an angle of $\\dfrac{\\pi}{3}$. Boat A is traveling at a rate of 9 miles per hour directly east, and boat B is traveling at a rate of 9 miles per hour going both north and east. How fast is the distance between the rowboats increasing 4 hours into the journey?\n"
     ]
    },
    {
     "cell_type": "code",
     "collapsed": false,
     "input": [
      "da_dt = 9\n",
      "db_dt = 9\n",
      "t = 4\n",
      "gamma = pi /3\n",
      "dc_dt(da_dt, db_dt, t, gamma)"
     ],
     "language": "python",
     "metadata": {},
     "outputs": [
      {
       "latex": [
        "$$9$$"
       ],
       "metadata": {},
       "output_type": "pyout",
       "png": "[encoded data removed]",
       "prompt_number": 108,
       "text": [
        "9"
       ]
      }
     ],
     "prompt_number": 108
    },
    {
     "cell_type": "markdown",
     "metadata": {},
     "source": [
      "** 7 **\n",
      "\n",
      "Fred the spherical cow is happily grazing on cubical grass pellets. He grows in volume at a rate of 6 cubic feet per day. When Fred's radius is 10 feet, at what rate is his surface area growing?\n",
      "\n",
      "$V = \\dfrac{4}{3}\\pi r^3$\n",
      "\n",
      "$\\dfrac{dv}{dt} = 4\\pi r^2 \\dfrac{dr}{dt}$\n",
      "\n",
      "$\\dfrac{dr}{dt} = \\dfrac{dv}{dt} \\dfrac{1}{4\\pi r^2}$\n",
      "\n",
      "$A = 4 \\pi r^2$\n",
      "\n",
      "$\\dfrac{dA}{dt} = 8 \\pi r\\dfrac{dr}{dt}$\n",
      "\n",
      "$\\dfrac{dA}{dt} = 8 \\pi r \\dfrac{dv}{dt} \\dfrac{1}{4\\pi r^2} $\n",
      "\n",
      "$\\dfrac{dA}{dt} = \\dfrac{2}{r} \\dfrac{dv}{dt}$"
     ]
    },
    {
     "cell_type": "code",
     "collapsed": false,
     "input": [
      "def fred_cow(r, dv_dt):\n",
      "    return 2 /r * dv_dt\n",
      "\n",
      "r = 10\n",
      "dv_dt = 6\n",
      "fred_cow(r, dv_dt)"
     ],
     "language": "python",
     "metadata": {},
     "outputs": [
      {
       "latex": [
        "$$1.2$$"
       ],
       "metadata": {},
       "output_type": "pyout",
       "png": "[encoded data removed]",
       "prompt_number": 109,
       "text": [
        "1.2"
       ]
      }
     ],
     "prompt_number": 109
    },
    {
     "cell_type": "markdown",
     "metadata": {},
     "source": [
      "** 8 ** \n",
      "\n",
      "Fred the spherical cow is happily grazing on cubical grass pellets. He grows in volume at a rate of 15 cubic feet per day. When Fred's radius is 5 feet, at what rate is his surface area growing?"
     ]
    },
    {
     "cell_type": "code",
     "collapsed": false,
     "input": [
      "r = 5\n",
      "dv_dt = 15\n",
      "fred_cow(r, dv_dt)"
     ],
     "language": "python",
     "metadata": {},
     "outputs": [
      {
       "latex": [
        "$$6.0$$"
       ],
       "metadata": {},
       "output_type": "pyout",
       "png": "[encoded data removed]",
       "prompt_number": 110,
       "text": [
        "6.0"
       ]
      }
     ],
     "prompt_number": 110
    },
    {
     "cell_type": "markdown",
     "metadata": {},
     "source": [
      "** 9 **\n",
      "\n",
      "Fred the spherical cow is happily grazing on cubical grass pellets. He grows in volume at a rate of 20 cubic feet per day. When Fred's radius is 5 feet, at what rate is his surface area growing?\n"
     ]
    },
    {
     "cell_type": "code",
     "collapsed": false,
     "input": [
      "r = 5\n",
      "dv_dt = 20\n",
      "fred_cow(r, dv_dt)"
     ],
     "language": "python",
     "metadata": {},
     "outputs": [
      {
       "latex": [
        "$$8.0$$"
       ],
       "metadata": {},
       "output_type": "pyout",
       "png": "[encoded data removed]",
       "prompt_number": 111,
       "text": [
        "8.0"
       ]
      }
     ],
     "prompt_number": 111
    },
    {
     "cell_type": "markdown",
     "metadata": {},
     "source": [
      "### Quiz: Derivatives in the Real World"
     ]
    },
    {
     "cell_type": "markdown",
     "metadata": {},
     "source": [
      "---\n",
      "\n",
      "** 1** \n",
      "\n",
      "Use L'H\u00f4pital's Rule to evaluate the following limit:\n",
      "\n",
      "\n",
      "$\\displaystyle\\lim_{x \\to 1} \\dfrac{e^x-e}{6x^{3}+7x^{2}-4x-9}=$\n",
      "\n",
      "($\\frac{0}{0}$ situation)\n",
      "\n",
      "$\\lim\\limits_{x \\to 1} \\dfrac{e^x}{18x^{2}+14x-4}=$\n",
      "\n",
      "$\\dfrac{e}{28}$"
     ]
    },
    {
     "cell_type": "markdown",
     "metadata": {},
     "source": [
      "---\n",
      "\n",
      "** 2 ** \n",
      "\n",
      "Use L'H\u00f4pital's Rule to evaluate the following limit:\n",
      "\n",
      "$\\displaystyle\\lim_{x \\to 2} \\dfrac{x^{2}+2x-8}{-x^{2}+2x}=$\n",
      "\n",
      "($\\frac{0}{0}$ situation)\n",
      "\n",
      "$\\displaystyle\\lim_{x \\to 2} \\dfrac{2x+2}{-2x+2}=$\n",
      "\n",
      "$\\displaystyle\\lim_{x \\to 2} \\dfrac{6}{-2}=-3$\n",
      "\n"
     ]
    },
    {
     "cell_type": "code",
     "collapsed": false,
     "input": [
      "x = symbols('x')\n",
      "fx = (x**2 + 2*x -8)/(-x**2 + 2*x)\n",
      "limit(fx, x, 2)"
     ],
     "language": "python",
     "metadata": {},
     "outputs": [
      {
       "latex": [
        "$$-3$$"
       ],
       "metadata": {},
       "output_type": "pyout",
       "png": "[encoded data removed]",
       "prompt_number": 112,
       "text": [
        "-3"
       ]
      }
     ],
     "prompt_number": 112
    },
    {
     "cell_type": "markdown",
     "metadata": {},
     "source": [
      "---\n",
      "\n",
      "** 3 ** \n",
      "\n",
      "Fred the spherical cow is happily grazing on cubical grass pellets. He grows in volume at a rate of 20 cubic feet per day. When Fred's radius is 14 feet, at what rate is his surface area growing?"
     ]
    },
    {
     "cell_type": "code",
     "collapsed": false,
     "input": [
      "dv_dt = 20\n",
      "r = 14\n",
      "fred_cow(r, dv_dt)"
     ],
     "language": "python",
     "metadata": {},
     "outputs": [
      {
       "latex": [
        "$$2.85714285714$$"
       ],
       "metadata": {},
       "output_type": "pyout",
       "png": "[encoded data removed]",
       "prompt_number": 113,
       "text": [
        "2.85714285714"
       ]
      }
     ],
     "prompt_number": 113
    },
    {
     "cell_type": "markdown",
     "metadata": {},
     "source": [
      "---\n",
      "\n",
      "** 4 ** \n",
      "\n",
      "Fred the spherical cow is happily grazing on cubical grass pellets. He grows in volume at a rate of 8 cubic feet per day. When Fred's radius is 11 feet, at what rate is his surface area growing?\n",
      " "
     ]
    },
    {
     "cell_type": "code",
     "collapsed": false,
     "input": [
      "dv_dt = 8\n",
      "r = 11\n",
      "fred_cow(r, dv_dt)"
     ],
     "language": "python",
     "metadata": {},
     "outputs": [
      {
       "latex": [
        "$$1.45454545455$$"
       ],
       "metadata": {},
       "output_type": "pyout",
       "png": "[encoded data removed]",
       "prompt_number": 114,
       "text": [
        "1.45454545455"
       ]
      }
     ],
     "prompt_number": 114
    },
    {
     "cell_type": "markdown",
     "metadata": {},
     "source": [
      "---\n",
      "\n",
      "** 5 **\n",
      "\n",
      "Use L'H\u00f4pital's Rule to evaluate the following limit:\n",
      "\n",
      "$\\lim\\limits_{x \\to 1} \\dfrac{\\log(x)}{7x^{2}+5x-12}$\n",
      "\n",
      "($\\frac{0}{0}$ situation)\n",
      "\n",
      "$\\lim\\limits_{x \\to 1} \\dfrac{\\frac{1}{x}}{14x+5}=\\dfrac{1}{19}$\n"
     ]
    },
    {
     "cell_type": "markdown",
     "metadata": {},
     "source": [
      "---\n",
      "\n",
      "**6**\n",
      "\n",
      "Fred the spherical cow is happily grazing on cubical grass pellets. He grows in volume at a rate of 11 cubic feet per day. When Fred's radius is 6 feet, at what rate is his surface area growing?"
     ]
    },
    {
     "cell_type": "code",
     "collapsed": false,
     "input": [
      "dv_dt = 11\n",
      "r = 6\n",
      "fred_cow(r, dv_dt)"
     ],
     "language": "python",
     "metadata": {},
     "outputs": [
      {
       "latex": [
        "$$3.66666666667$$"
       ],
       "metadata": {},
       "output_type": "pyout",
       "png": "[encoded data removed]",
       "prompt_number": 115,
       "text": [
        "3.66666666667"
       ]
      }
     ],
     "prompt_number": 115
    },
    {
     "cell_type": "markdown",
     "metadata": {},
     "source": [
      "<a id='optimization'></a>\n",
      "\n",
      "# Optimization"
     ]
    },
    {
     "cell_type": "markdown",
     "metadata": {},
     "source": [
      "<a id='optpossible'></a>\n",
      "## Is Optimization Possible"
     ]
    },
    {
     "cell_type": "markdown",
     "metadata": {},
     "source": [
      "### Extreme Value Theorem\n",
      "\n",
      "If a function $f$ is continuous on the closed interval $[a, b]$\n",
      "\n",
      "then \n",
      "\n",
      "$f$ attains a maximum value\n",
      "\n",
      "and \n",
      "\n",
      "$f$ attains a minimum value\n",
      "\n",
      "The theorem tells us the min and max exist. But it doesn't tell you how to find it."
     ]
    },
    {
     "cell_type": "markdown",
     "metadata": {},
     "source": [
      "### What sorts of optimization problems will calculus help us solve"
     ]
    },
    {
     "cell_type": "markdown",
     "metadata": {},
     "source": [
      "<a id='howtodoopt'></a>\n",
      "## How to do it optimization"
     ]
    },
    {
     "cell_type": "markdown",
     "metadata": {},
     "source": [
      "### How do I find the maximum and minimum values of f on a given domain?"
     ]
    },
    {
     "cell_type": "markdown",
     "metadata": {},
     "source": [
      "1. Differentiate\n",
      "1. List critical points and endpoints\n",
      "1. Check those\n",
      "1. Check limiting behavior\n",
      "\n",
      "Differentiate\n",
      "\n",
      "$f(x) = (x^2 -1)^{-2}$\n",
      "\n",
      "$f'(x) = -2(x^2 -1)^{-3} 2x$\n",
      "\n",
      "$f'(x) = -4x(x^2 -1)^{-3}$\n",
      "\n",
      "Critical Points:\n",
      "* Where $f'(x)$ doesn't exist\n",
      "    * x=1, -1\n",
      "    * interval doesnt include those points\n",
      "* Where $f'(x)=0$\n",
      "    * x=0\n",
      "    \n",
      "Endpoints:\n",
      "* No endpoints, open interval\n",
      "\n",
      "Check limiting behavior\n"
     ]
    },
    {
     "cell_type": "code",
     "collapsed": false,
     "input": [
      "init_printing(pretty_print=True)\n",
      "fx = (x**2-1)**-2\n",
      "fx"
     ],
     "language": "python",
     "metadata": {},
     "outputs": [
      {
       "latex": [
        "$$\\frac{1}{\\left(x^{2} - 1\\right)^{2}}$$"
       ],
       "metadata": {},
       "output_type": "pyout",
       "png": "[encoded data removed]",
       "prompt_number": 116,
       "text": [
        "    1    \n",
        "\u2500\u2500\u2500\u2500\u2500\u2500\u2500\u2500\u2500\n",
        "        2\n",
        "\u239b 2    \u239e \n",
        "\u239dx  - 1\u23a0 "
       ]
      }
     ],
     "prompt_number": 116
    },
    {
     "cell_type": "code",
     "collapsed": false,
     "input": [
      "plot(fx, xlim=[-1, 1], ylim=[0, 5]);"
     ],
     "language": "python",
     "metadata": {},
     "outputs": [
      {
       "metadata": {},
       "output_type": "display_data",
       "png": "[encoded data removed]",
       "text": [
        "<matplotlib.figure.Figure at 0x10de21c50>"
       ]
      }
     ],
     "prompt_number": 117
    },
    {
     "cell_type": "markdown",
     "metadata": {},
     "source": [
      "### Why bother checking the endpoints"
     ]
    },
    {
     "cell_type": "markdown",
     "metadata": {},
     "source": [
      "$f(x) = x - x^3$ on $[-3, 3]$\n",
      "\n",
      "so EVT guarantees success\n",
      "\n",
      "$f'(x) = 1 - 3x^2$\n",
      "\n",
      "Critical Points:\n",
      "* $f'(\\pm\\sqrt{1/3}) = 0$\n",
      "\n",
      "End Points:\n",
      "* -3,3"
     ]
    },
    {
     "cell_type": "code",
     "collapsed": false,
     "input": [
      "x=symbols('x')\n",
      "fx = x-x**3"
     ],
     "language": "python",
     "metadata": {},
     "outputs": [],
     "prompt_number": 118
    },
    {
     "cell_type": "code",
     "collapsed": false,
     "input": [
      "xs = [-3, -sqrt(Rational('1/3')), sqrt(Rational('1/3')), 3]\n",
      "fxs = [fx.subs(x, _) for _ in xs]\n",
      "fxsN = [N(fx.subs(x, _)) for _ in xs]\n",
      "df = pd.DataFrame(zip(xs, fxs, fxsN), columns = ['x', 'fx', 'fxn'])\n",
      "df"
     ],
     "language": "python",
     "metadata": {},
     "outputs": [
      {
       "html": [
        "<div style=\"max-height:1000px;max-width:1500px;overflow:auto;\">\n",
        "<table border=\"1\" class=\"dataframe\">\n",
        "  <thead>\n",
        "    <tr style=\"text-align: right;\">\n",
        "      <th></th>\n",
        "      <th>x</th>\n",
        "      <th>fx</th>\n",
        "      <th>fxn</th>\n",
        "    </tr>\n",
        "  </thead>\n",
        "  <tbody>\n",
        "    <tr>\n",
        "      <th>0</th>\n",
        "      <td>         -3</td>\n",
        "      <td>           24</td>\n",
        "      <td>   24.0000000000000</td>\n",
        "    </tr>\n",
        "    <tr>\n",
        "      <th>1</th>\n",
        "      <td> -sqrt(3)/3</td>\n",
        "      <td> -2*sqrt(3)/9</td>\n",
        "      <td> -0.384900179459751</td>\n",
        "    </tr>\n",
        "    <tr>\n",
        "      <th>2</th>\n",
        "      <td>  sqrt(3)/3</td>\n",
        "      <td>  2*sqrt(3)/9</td>\n",
        "      <td>  0.384900179459751</td>\n",
        "    </tr>\n",
        "    <tr>\n",
        "      <th>3</th>\n",
        "      <td>          3</td>\n",
        "      <td>          -24</td>\n",
        "      <td>  -24.0000000000000</td>\n",
        "    </tr>\n",
        "  </tbody>\n",
        "</table>\n",
        "</div>"
       ],
       "metadata": {},
       "output_type": "pyout",
       "prompt_number": 119,
       "text": [
        "            x            fx                 fxn\n",
        "0          -3            24    24.0000000000000\n",
        "1  -sqrt(3)/3  -2*sqrt(3)/9  -0.384900179459751\n",
        "2   sqrt(3)/3   2*sqrt(3)/9   0.384900179459751\n",
        "3           3           -24   -24.0000000000000"
       ]
      }
     ],
     "prompt_number": 119
    },
    {
     "cell_type": "code",
     "collapsed": false,
     "input": [
      "plot(fx, xlim=[-3, 3], ylim=[-25, 25]);"
     ],
     "language": "python",
     "metadata": {},
     "outputs": [
      {
       "metadata": {},
       "output_type": "display_data",
       "png": "[encoded data removed]",
       "text": [
        "<matplotlib.figure.Figure at 0x10dfeeed0>"
       ]
      }
     ],
     "prompt_number": 120
    },
    {
     "cell_type": "markdown",
     "metadata": {},
     "source": [
      "### Why bother considering points where the function is not differentiable?\n",
      "\n",
      "Find max and min values of \n",
      "\n",
      "$f(x) = x - \\left|x^2 -2x\\right|$ on the interval $[0, 3]$\n",
      "\n",
      "$f'(x) = \n",
      "\\begin{cases}\n",
      "x - (x^2 - 2x),&\\text{if }x^2 - 2x \\geq 0\\\\\n",
      "x + (x^2 - 2x),&\\text{if }x^2 - 2x < 0\\\\\n",
      "\\end{cases}\n",
      "$\n",
      "\n",
      "$f'(x) = \n",
      "\\begin{cases}\n",
      "1 - (2x - 2),&\\text{if }x^2 - 2x > 0\\\\\n",
      "1 + (2x - 2),&\\text{if }x^2 - 2x < 0\\\\\n",
      "\\end{cases}\n",
      "$\n",
      "\n",
      "$f'(x) = \n",
      "\\begin{cases}\n",
      "3 - 2x,&\\text{if }x<0 \\text{ or } x > 2\\\\\n",
      "-1 + 2x,&\\text{if }0<x<2\\\\\n",
      "\\end{cases}\n",
      "$"
     ]
    },
    {
     "cell_type": "code",
     "collapsed": false,
     "input": [
      "fx = x - abs(x**2 -2*x)\n",
      "p = plot(fx, xlim=[0, 3], ylim=[-1, 2], show=True)"
     ],
     "language": "python",
     "metadata": {},
     "outputs": [
      {
       "metadata": {},
       "output_type": "display_data",
       "png": "[encoded data removed]",
       "text": [
        "<matplotlib.figure.Figure at 0x10ddb8450>"
       ]
      }
     ],
     "prompt_number": 121
    },
    {
     "cell_type": "markdown",
     "metadata": {},
     "source": [
      "### How can you build the best fence for your sheep\n",
      "\n",
      "1. draw picture\n",
      "1. determine goal\n",
      "1. find constraints\n",
      "1. solve for 1 variable\n",
      "1. apply calculus"
     ]
    },
    {
     "cell_type": "markdown",
     "metadata": {},
     "source": [
      "### Quiz: Optimization"
     ]
    },
    {
     "cell_type": "markdown",
     "metadata": {},
     "source": [
      "** 1 ** \n",
      "\n",
      "For which $x$ doe the $f(x) = x^3 - 6x^2 - 5x + 5$ assume its maximum value on the interval $[-5, 5]$?\n",
      "\n",
      "1. Differentiate\n",
      "\n",
      "$f'(x) = 3x^2 - 12x -5 $\n",
      "\n",
      "1. List critical points and endpoints\n",
      "\n",
      "$f'(x) = 0$\n",
      "\n",
      "$3x^2 - 12x - 5 = 0$\n",
      "\n",
      "$x=\\{-5, -1/3, 5\\}$\n",
      "\n",
      "1. Check those\n",
      "\n",
      "\n",
      "1. Check limiting behavior"
     ]
    },
    {
     "cell_type": "code",
     "collapsed": false,
     "input": [
      "fx = x**3 - 6*x**2 - 5*x + 5\n",
      "init_printing(pretty_print=False)\n",
      "xs = solve(diff(fx), x) + [-5, 5]\n",
      "xs.sort()\n",
      "fxs = [fx.subs(x, _) for _ in xs]\n",
      "fxns= [N(_) for _ in fxs]\n",
      "df = pd.DataFrame(zip(xs, fxs, fxns), columns = ['x', 'fx', 'fxn'])\n",
      "df"
     ],
     "language": "python",
     "metadata": {},
     "outputs": [
      {
       "html": [
        "<div style=\"max-height:1000px;max-width:1500px;overflow:auto;\">\n",
        "<table border=\"1\" class=\"dataframe\">\n",
        "  <thead>\n",
        "    <tr style=\"text-align: right;\">\n",
        "      <th></th>\n",
        "      <th>x</th>\n",
        "      <th>fx</th>\n",
        "      <th>fxn</th>\n",
        "    </tr>\n",
        "  </thead>\n",
        "  <tbody>\n",
        "    <tr>\n",
        "      <th>0</th>\n",
        "      <td>              -5</td>\n",
        "      <td>                                              -245</td>\n",
        "      <td> -245.000000000000</td>\n",
        "    </tr>\n",
        "    <tr>\n",
        "      <th>1</th>\n",
        "      <td> -sqrt(51)/3 + 2</td>\n",
        "      <td> -5 - 6*(-sqrt(51)/3 + 2)**2 + (-sqrt(51)/3 + 2...</td>\n",
        "      <td>  5.97872961893966</td>\n",
        "    </tr>\n",
        "    <tr>\n",
        "      <th>2</th>\n",
        "      <td>  2 + sqrt(51)/3</td>\n",
        "      <td> -6*(2 + sqrt(51)/3)**2 - 5*sqrt(51)/3 - 5 + (2...</td>\n",
        "      <td> -47.9787296189397</td>\n",
        "    </tr>\n",
        "    <tr>\n",
        "      <th>3</th>\n",
        "      <td>               5</td>\n",
        "      <td>                                               -45</td>\n",
        "      <td> -45.0000000000000</td>\n",
        "    </tr>\n",
        "  </tbody>\n",
        "</table>\n",
        "</div>"
       ],
       "metadata": {},
       "output_type": "pyout",
       "prompt_number": 122,
       "text": [
        "                 x                                                 fx  \\\n",
        "0               -5                                               -245   \n",
        "1  -sqrt(51)/3 + 2  -5 - 6*(-sqrt(51)/3 + 2)**2 + (-sqrt(51)/3 + 2...   \n",
        "2   2 + sqrt(51)/3  -6*(2 + sqrt(51)/3)**2 - 5*sqrt(51)/3 - 5 + (2...   \n",
        "3                5                                                -45   \n",
        "\n",
        "                 fxn  \n",
        "0  -245.000000000000  \n",
        "1   5.97872961893966  \n",
        "2  -47.9787296189397  \n",
        "3  -45.0000000000000  "
       ]
      }
     ],
     "prompt_number": 122
    },
    {
     "cell_type": "code",
     "collapsed": false,
     "input": [
      "plot(fx, xlim=[-5, 5], ylim=[-250, 10]);"
     ],
     "language": "python",
     "metadata": {},
     "outputs": [
      {
       "metadata": {},
       "output_type": "display_data",
       "png": "[encoded data removed]",
       "text": [
        "<matplotlib.figure.Figure at 0x10e327350>"
       ]
      }
     ],
     "prompt_number": 123
    },
    {
     "cell_type": "markdown",
     "metadata": {},
     "source": [
      "** 2**\n",
      "\n",
      "For which $x$ does the function $f(x) = x^3 - 7x^2 + 5x + 6$ assume its maximum value on the interval $[-5, 5]$"
     ]
    },
    {
     "cell_type": "code",
     "collapsed": false,
     "input": [
      "fx = x**3 - 7*x**2 + 5*x + 6\n",
      "init_printing(pretty_print=False)\n",
      "x_endpoint = [-5, 5]\n",
      "x_solve = solve(diff(fx), x)\n",
      "x_solve = [i for i in x_solve if i.is_real]\n",
      "xs = x_endpoint + x_solve\n",
      "xs.sort()\n",
      "fxs = [fx.subs(x, _) for _ in xs]\n",
      "fxns= [N(_) for _ in fxs]\n",
      "df = pd.DataFrame(zip(xs, fxs, fxns), columns = ['x', 'fx', 'fxn'])\n",
      "df"
     ],
     "language": "python",
     "metadata": {},
     "outputs": [
      {
       "html": [
        "<div style=\"max-height:1000px;max-width:1500px;overflow:auto;\">\n",
        "<table border=\"1\" class=\"dataframe\">\n",
        "  <thead>\n",
        "    <tr style=\"text-align: right;\">\n",
        "      <th></th>\n",
        "      <th>x</th>\n",
        "      <th>fx</th>\n",
        "      <th>fxn</th>\n",
        "    </tr>\n",
        "  </thead>\n",
        "  <tbody>\n",
        "    <tr>\n",
        "      <th>0</th>\n",
        "      <td>                -5</td>\n",
        "      <td>                                              -319</td>\n",
        "      <td> -319.000000000000</td>\n",
        "    </tr>\n",
        "    <tr>\n",
        "      <th>1</th>\n",
        "      <td> -sqrt(34)/3 + 7/3</td>\n",
        "      <td> -5*sqrt(34)/3 - 7*(-sqrt(34)/3 + 7/3)**2 + (-s...</td>\n",
        "      <td>  6.94461958701779</td>\n",
        "    </tr>\n",
        "    <tr>\n",
        "      <th>2</th>\n",
        "      <td>  sqrt(34)/3 + 7/3</td>\n",
        "      <td> -7*(sqrt(34)/3 + 7/3)**2 + 5*sqrt(34)/3 + 53/3...</td>\n",
        "      <td> -22.4261010684993</td>\n",
        "    </tr>\n",
        "    <tr>\n",
        "      <th>3</th>\n",
        "      <td>                 5</td>\n",
        "      <td>                                               -19</td>\n",
        "      <td> -19.0000000000000</td>\n",
        "    </tr>\n",
        "  </tbody>\n",
        "</table>\n",
        "</div>"
       ],
       "metadata": {},
       "output_type": "pyout",
       "prompt_number": 124,
       "text": [
        "                   x                                                 fx  \\\n",
        "0                 -5                                               -319   \n",
        "1  -sqrt(34)/3 + 7/3  -5*sqrt(34)/3 - 7*(-sqrt(34)/3 + 7/3)**2 + (-s...   \n",
        "2   sqrt(34)/3 + 7/3  -7*(sqrt(34)/3 + 7/3)**2 + 5*sqrt(34)/3 + 53/3...   \n",
        "3                  5                                                -19   \n",
        "\n",
        "                 fxn  \n",
        "0  -319.000000000000  \n",
        "1   6.94461958701779  \n",
        "2  -22.4261010684993  \n",
        "3  -19.0000000000000  "
       ]
      }
     ],
     "prompt_number": 124
    },
    {
     "cell_type": "code",
     "collapsed": false,
     "input": [
      "plot(fx, xlim=[df['x'].min()*1.1, 1.1* df['x'].max()], ylim=[float(df['fxn'].min())*1.1, float(df['fxn'].max()) * 1.1]);"
     ],
     "language": "python",
     "metadata": {},
     "outputs": [
      {
       "metadata": {},
       "output_type": "display_data",
       "png": "[encoded data removed]",
       "text": [
        "<matplotlib.figure.Figure at 0x10e40bcd0>"
       ]
      }
     ],
     "prompt_number": 125
    },
    {
     "cell_type": "markdown",
     "metadata": {},
     "source": [
      "** 3 **\n",
      "\n",
      "For which $x$ does the function $f(x) = x^3 - 4x^2 + 9x + 3$ assume its maximum value on the interval $[-5, 5]$"
     ]
    },
    {
     "cell_type": "code",
     "collapsed": false,
     "input": [
      "fx = x**3 - 4*x**2 + 9*x + 3\n",
      "init_printing(pretty_print=False)\n",
      "x_endpoint = [-5, 5]\n",
      "x_solve = solve(diff(fx), x)\n",
      "x_solve = [i for i in x_solve if i.is_real]\n",
      "xs = x_endpoint + x_solve\n",
      "xs.sort()\n",
      "fxs = [fx.subs(x, _) for _ in xs]\n",
      "fxns= [N(_) for _ in fxs]\n",
      "df = pd.DataFrame(zip(xs, fxs, fxns), columns = ['x', 'fx', 'fxn'])\n",
      "df"
     ],
     "language": "python",
     "metadata": {},
     "outputs": [
      {
       "html": [
        "<div style=\"max-height:1000px;max-width:1500px;overflow:auto;\">\n",
        "<table border=\"1\" class=\"dataframe\">\n",
        "  <thead>\n",
        "    <tr style=\"text-align: right;\">\n",
        "      <th></th>\n",
        "      <th>x</th>\n",
        "      <th>fx</th>\n",
        "      <th>fxn</th>\n",
        "    </tr>\n",
        "  </thead>\n",
        "  <tbody>\n",
        "    <tr>\n",
        "      <th>0</th>\n",
        "      <td>-5</td>\n",
        "      <td> -267</td>\n",
        "      <td> -267.000000000000</td>\n",
        "    </tr>\n",
        "    <tr>\n",
        "      <th>1</th>\n",
        "      <td> 5</td>\n",
        "      <td>   73</td>\n",
        "      <td>  73.0000000000000</td>\n",
        "    </tr>\n",
        "  </tbody>\n",
        "</table>\n",
        "</div>"
       ],
       "metadata": {},
       "output_type": "pyout",
       "prompt_number": 126,
       "text": [
        "   x    fx                fxn\n",
        "0 -5  -267  -267.000000000000\n",
        "1  5    73   73.0000000000000"
       ]
      }
     ],
     "prompt_number": 126
    },
    {
     "cell_type": "code",
     "collapsed": false,
     "input": [
      "plot(fx, xlim=[df['x'].min()*1.1, 1.1* df['x'].max()], ylim=[float(df['fxn'].min())*1.1, float(df['fxn'].max()) * 1.1]);"
     ],
     "language": "python",
     "metadata": {},
     "outputs": [
      {
       "metadata": {},
       "output_type": "display_data",
       "png": "[encoded data removed]",
       "text": [
        "<matplotlib.figure.Figure at 0x10e488890>"
       ]
      }
     ],
     "prompt_number": 127
    },
    {
     "cell_type": "markdown",
     "metadata": {},
     "source": [
      "<a id='whyoptimizeafunction'></a>\n",
      "## Why would I want to optimize a function"
     ]
    },
    {
     "cell_type": "markdown",
     "metadata": {},
     "source": [
      "### How large can $xy$ be if $x+y=24$\n",
      "\n",
      "maximize $x(24-x)$"
     ]
    },
    {
     "cell_type": "code",
     "collapsed": false,
     "input": [
      "fx = x*(24-x)\n",
      "plot(fx,range=(x, -10, 20));"
     ],
     "language": "python",
     "metadata": {},
     "outputs": [
      {
       "metadata": {},
       "output_type": "display_data",
       "png": "[encoded data removed]",
       "text": [
        "<matplotlib.figure.Figure at 0x10e532610>"
       ]
      }
     ],
     "prompt_number": 128
    },
    {
     "cell_type": "markdown",
     "metadata": {},
     "source": [
      "** Arithmetic Mean - Geometric Mean ** \n",
      "\n",
      "(AM-GM) Inequality\n",
      "\n",
      "$\\dfrac{a+b}{2} \\geq \\sqrt{ab}$\n",
      "\n",
      "With equality iff $a=b$\n",
      "\n",
      "$x+y=24$\n",
      "\n",
      "$\\dfrac{x+y}{2} = 12 \\geq \\sqrt{xy}$\n",
      "\n",
      "$144 \\geq xy$"
     ]
    },
    {
     "cell_type": "markdown",
     "metadata": {},
     "source": [
      "### How do you design the best soup can?\n",
      "\n",
      "Desing a soup can using as little metal as possible that holds $300\\pi cm^3$\n",
      "\n",
      "$V=\\pi v^2h$\n",
      "\n",
      "$A = 2\\pi r^2 + 2\\pi rh$\n",
      "\n",
      "$\\pi r^2h = 300 \\pi$\n",
      "\n",
      "$r>0$,$h>0$\n",
      "\n",
      "solve for $h = \\dfrac{300}{r^2}$\n",
      "\n",
      "$2\\pi r^2 + \\dfrac{600\\pi}{r}$"
     ]
    },
    {
     "cell_type": "markdown",
     "metadata": {},
     "source": [
      "### Quiz: optimize a function"
     ]
    },
    {
     "cell_type": "markdown",
     "metadata": {},
     "source": [
      "** 1**\n",
      "\n",
      "How large can $xy$ be if we know that $2x+y=48$\n",
      "\n",
      "$y = 48 - 2x$\n",
      "\n",
      "$\\max\\limits_{x} x(48-2x)$\n",
      "\n",
      "$f(x)=-2x^2 + 48x$\n",
      "\n",
      "$f'(x) = -4x + 48$\n",
      "\n",
      "$x = 12$\n",
      "\n",
      "$xy = 12 \\cdot 24$"
     ]
    },
    {
     "cell_type": "markdown",
     "metadata": {},
     "source": [
      "** 2 **\n",
      "\n",
      "How large can $xy$ be if we know that $3x+y=24$\n",
      "\n",
      "$y = 24 - 3x$\n",
      "\n",
      "$\\max\\limits_{x} x(24-3x)$\n",
      "\n",
      "$f(x)=-3x^2 + 24x$\n",
      "\n",
      "$f'(x) = -6x + 24$\n",
      "\n",
      "$x = 4$\n",
      "\n",
      "$xy = 4 \\cdot 12$"
     ]
    },
    {
     "cell_type": "markdown",
     "metadata": {},
     "source": [
      "<a id='optiminaction'></a>\n",
      "## Optimization in Action"
     ]
    },
    {
     "cell_type": "markdown",
     "metadata": {},
     "source": [
      "### Where do 3 bubbles meet"
     ]
    },
    {
     "cell_type": "markdown",
     "metadata": {},
     "source": [
      "### How large of an object can you carry around a corner?"
     ]
    },
    {
     "cell_type": "code",
     "collapsed": false,
     "input": [
      "vid = '6yuN7jOQufM'\n",
      "YouTubeVideo(vid)"
     ],
     "language": "python",
     "metadata": {},
     "outputs": [
      {
       "html": [
        "\n",
        "        <iframe\n",
        "            width=\"400\"\n",
        "            height=300\"\n",
        "            src=\"https://www.youtube.com/embed/6yuN7jOQufM\"\n",
        "            frameborder=\"0\"\n",
        "            allowfullscreen\n",
        "        ></iframe>\n",
        "        "
       ],
       "metadata": {},
       "output_type": "pyout",
       "prompt_number": 129,
       "text": [
        "<IPython.lib.display.YouTubeVideo at 0x10e50edd0>"
       ]
      }
     ],
     "prompt_number": 129
    },
    {
     "cell_type": "markdown",
     "metadata": {},
     "source": [
      "### How large of an object can you carry around a corner?"
     ]
    },
    {
     "cell_type": "code",
     "collapsed": false,
     "input": [
      "vid = '2_L9MoFCKiA'\n",
      "YouTubeVideo(vid)"
     ],
     "language": "python",
     "metadata": {},
     "outputs": [
      {
       "html": [
        "\n",
        "        <iframe\n",
        "            width=\"400\"\n",
        "            height=300\"\n",
        "            src=\"https://www.youtube.com/embed/2_L9MoFCKiA\"\n",
        "            frameborder=\"0\"\n",
        "            allowfullscreen\n",
        "        ></iframe>\n",
        "        "
       ],
       "metadata": {},
       "output_type": "pyout",
       "prompt_number": 130,
       "text": [
        "<IPython.lib.display.YouTubeVideo at 0x10e50ef50>"
       ]
      }
     ],
     "prompt_number": 130
    },
    {
     "cell_type": "code",
     "collapsed": false,
     "input": [
      "18*11"
     ],
     "language": "python",
     "metadata": {},
     "outputs": [
      {
       "metadata": {},
       "output_type": "pyout",
       "prompt_number": 131,
       "text": [
        "198"
       ]
      }
     ],
     "prompt_number": 131
    },
    {
     "cell_type": "code",
     "collapsed": false,
     "input": [
      "-44-72"
     ],
     "language": "python",
     "metadata": {},
     "outputs": [
      {
       "metadata": {},
       "output_type": "pyout",
       "prompt_number": 132,
       "text": [
        "-116"
       ]
      }
     ],
     "prompt_number": 132
    },
    {
     "cell_type": "markdown",
     "metadata": {},
     "source": [
      "### Quiz"
     ]
    },
    {
     "cell_type": "markdown",
     "metadata": {},
     "source": [
      "---\n",
      "\n",
      "** 1 **\n",
      "\n",
      "You have a sheet of paper which is 11 inches wide, and 18 inches long. You want to make a box by cutting a square out of each corner, so that you can fold up each of the four \"flaps\" you create. The resulting box has only 5 sides - the \"top\" is open. How many inches should the squares you cut out of the corners measure on one side in order to maximize the volume of the resulting box?"
     ]
    },
    {
     "cell_type": "code",
     "collapsed": false,
     "input": [
      "def page_square(side1, side2):\n",
      "    x = symbols('x')\n",
      "    fx = x * (side1-2*x)*(side2-2*x)\n",
      "    return solve(diff(fx), x)\n",
      "\n",
      "side1=11\n",
      "side2=18\n",
      "[N(_) for _ in page_square(side1, side2)]"
     ],
     "language": "python",
     "metadata": {},
     "outputs": [
      {
       "metadata": {},
       "output_type": "pyout",
       "prompt_number": 133,
       "text": [
        "[2.21396105908305, 7.45270560758362]"
       ]
      }
     ],
     "prompt_number": 133
    },
    {
     "cell_type": "markdown",
     "metadata": {},
     "source": [
      "---\n",
      "\n",
      "**2**\n",
      "\n",
      "A painting is mounted on a wall. The bottom of the painting is 5 feet above eye level, and the top of the painting is 14 feet above eye level. If you stand directly underneath the painting, you cannot see it at all. Similarly, if you stand very far away, you cannot see it very well. At some distance away from the wall, the angle subtended by the painting, whose vertex is your eye, is maximized. How far away must you stand from the wall to achieve this maximal viewing angle?"
     ]
    },
    {
     "cell_type": "markdown",
     "metadata": {},
     "source": [
      "http://math.stackexchange.com/questions/988004/maximum-of-subtended-angle-theta/"
     ]
    },
    {
     "cell_type": "markdown",
     "metadata": {},
     "source": [
      "\n",
      "<img src='images/subtend.jpg' width=300/>"
     ]
    },
    {
     "cell_type": "markdown",
     "metadata": {},
     "source": [
      "$\\tan(\\alpha + \\beta) = \\dfrac{\\tan \\alpha + \\tan \\beta}{1 - \\tan \\alpha\\tan\\beta}$\n",
      "\n",
      "$\\tan(a - b) = \\dfrac{\\tan a - \\tan b}{1 + \\tan a \\tan b}$"
     ]
    },
    {
     "cell_type": "markdown",
     "metadata": {},
     "source": [
      "$\\tan  c = \\dfrac{\\frac{19}{x} - \\frac{5}{x}}{1 + \\frac{19}{x}\\frac{5}{x}}$"
     ]
    },
    {
     "cell_type": "markdown",
     "metadata": {},
     "source": [
      "$c = \\arccos{\\dfrac{\\frac{14}{x}}{1+\\frac{95}{x^2}}}$\n",
      "\n",
      "$c = \\arccos{\\frac{14}{x}}{\\frac{x^2}{x^2 + 95}}$\n",
      "\n",
      "$c = \\arccos{\\frac{14}{x}}{\\frac{x^2}{x^2 + 95}}$\n",
      "\n",
      "$c = \\arccos{\\frac{14x^2}{x^3 + 95x}}\\dots$\n",
      "\n",
      "On to sympy!"
     ]
    },
    {
     "cell_type": "code",
     "collapsed": false,
     "input": [
      "def regiomon(a_, b_):\n",
      "    x, a, b = symbols('x, a, b')\n",
      "    c = atan((b/x -a/x)/(1+b/x*a/x))\n",
      "    return solve(diff(c.subs([(a, a_), (b, b_)]), x), x)\n",
      "\n",
      "regiomon(5, 14)"
     ],
     "language": "python",
     "metadata": {},
     "outputs": [
      {
       "metadata": {},
       "output_type": "pyout",
       "prompt_number": 134,
       "text": [
        "[-sqrt(70), sqrt(70)]"
       ]
      }
     ],
     "prompt_number": 134
    },
    {
     "cell_type": "markdown",
     "metadata": {},
     "source": [
      "---\n",
      "\n",
      "**3**\n",
      "\n",
      "A painting is mounted on a wall. The bottom of the painting is 3 feet above eye level, and the top of the painting is 12 feet above eye level. If you stand directly underneath the painting, you cannot see it at all. Similarly, if you stand very far away, you cannot see it very well. At some distance away from the wall, the angle subtended by the painting, whose vertex is your eye, is maximized. How far away must you stand from the wall to achieve this maximal viewing angle?"
     ]
    },
    {
     "cell_type": "code",
     "collapsed": false,
     "input": [
      "regiomon(12, 3)"
     ],
     "language": "python",
     "metadata": {},
     "outputs": [
      {
       "metadata": {},
       "output_type": "pyout",
       "prompt_number": 135,
       "text": [
        "[-6, 6]"
       ]
      }
     ],
     "prompt_number": 135
    },
    {
     "cell_type": "markdown",
     "metadata": {},
     "source": [
      "---\n",
      "\n",
      "**4**\n",
      "\n",
      "You have a sheet of paper which is 20 inches wide, and 21 inches long. You want to make a box by cutting a square out of each corner, so that you can fold up each of the four \"flaps\" you create. The resulting box has only 5 sides - the \"top\" is open. How many inches should the squares you cut out of the corners measure on one side in order to maximize the volume of the resulting box?"
     ]
    },
    {
     "cell_type": "code",
     "collapsed": false,
     "input": [
      "side1=20\n",
      "side2=21\n",
      "[N(_) for _ in page_square(side1, side2)]"
     ],
     "language": "python",
     "metadata": {},
     "outputs": [
      {
       "metadata": {},
       "output_type": "pyout",
       "prompt_number": 136,
       "text": [
        "[3.41361924521947, 10.2530474214472]"
       ]
      }
     ],
     "prompt_number": 136
    },
    {
     "cell_type": "markdown",
     "metadata": {},
     "source": [
      "--- \n",
      "\n",
      "**5**\n",
      "\n",
      "You have a sheet of paper which is 18 inches wide, and 21 inches long. You want to make a box by cutting a square out of each corner, so that you can fold up each of the four \"flaps\" you create. The resulting box has only 5 sides - the \"top\" is open. How many inches should the squares you cut out of the corners measure on one side in order to maximize the volume of the resulting box?"
     ]
    },
    {
     "cell_type": "code",
     "collapsed": false,
     "input": [
      "side1=18\n",
      "side2=21\n",
      "[N(_) for _ in page_square(side1, side2)]"
     ],
     "language": "python",
     "metadata": {},
     "outputs": [
      {
       "metadata": {},
       "output_type": "pyout",
       "prompt_number": 137,
       "text": [
        "[3.221280737849, 9.778719262151]"
       ]
      }
     ],
     "prompt_number": 137
    },
    {
     "cell_type": "markdown",
     "metadata": {},
     "source": [
      "---\n",
      "\n",
      "**6**\n",
      "\n",
      "A painting is mounted on a wall. The bottom of the painting is 2 feet above eye level, and the top of the painting is 8 feet above eye level. If you stand directly underneath the painting, you cannot see it at all. Similarly, if you stand very far away, you cannot see it very well. At some distance away from the wall, the angle subtended by the painting, whose vertex is your eye, is maximized. How far away must you stand from the wall to achieve this maximal viewing angle?"
     ]
    },
    {
     "cell_type": "code",
     "collapsed": false,
     "input": [
      "regiomon(2, 8)"
     ],
     "language": "python",
     "metadata": {},
     "outputs": [
      {
       "metadata": {},
       "output_type": "pyout",
       "prompt_number": 138,
       "text": [
        "[-4, 4]"
       ]
      }
     ],
     "prompt_number": 138
    },
    {
     "cell_type": "markdown",
     "metadata": {},
     "source": [
      "### Quiz: Optimization"
     ]
    },
    {
     "cell_type": "markdown",
     "metadata": {},
     "source": [
      "** 1 **\n",
      "\n",
      "You are building a new house on a cartesian plane whose units are measured in miles. Your house is to be located at the point $(2,0)$. Unfortunately, the existing gas line follows the curve $y = \\sqrt{16x^2 + 5x+16}$. It costs $400$ dollars per mile to install new pipe connecting your house to the existing line. What is the least amount of money you could pay to get hooked up to the system?"
     ]
    },
    {
     "cell_type": "code",
     "collapsed": false,
     "input": [
      "def pipe_cost(fx, point, cost):\n",
      "    #minimize d\n",
      "    d = sqrt((point[0]-x)**2 + (point[1]-fx)**2)\n",
      "    crit_points = [_ for _ in solve(diff(d, x)) if _.is_real]\n",
      "    ds = [N(d.subs(x, _))*cost for _ in crit_points]\n",
      "    return min([_ for _ in ds if _>=0])"
     ],
     "language": "python",
     "metadata": {},
     "outputs": [],
     "prompt_number": 139
    },
    {
     "cell_type": "code",
     "collapsed": false,
     "input": [
      "fx = sqrt(16*x**2+5*x+16)\n",
      "point = (2, 0, )\n",
      "cost = 400\n",
      "pipe_cost(fx, point, cost)"
     ],
     "language": "python",
     "metadata": {},
     "outputs": [
      {
       "metadata": {},
       "output_type": "pyout",
       "prompt_number": 140,
       "text": [
        "1788.19659400848"
       ]
      }
     ],
     "prompt_number": 140
    },
    {
     "cell_type": "markdown",
     "metadata": {},
     "source": [
      "---\n",
      "\n",
      "**2**\n",
      "\n",
      "You are building a new house on a cartesian plane whose units are measured in miles. Your house is to be located at the point $(4,0)$. Unfortunately, the existing gas line follows the curve $y = \\sqrt{17x^2 + 7x+10}$. It costs $300$ dollars per mile to install new pipe connecting your house to the existing line. What is the least amount of money you could pay to get hooked up to the system?\n"
     ]
    },
    {
     "cell_type": "code",
     "collapsed": false,
     "input": [
      "fx = sqrt(17*x**2+7*x+10)\n",
      "point = (4, 0, )\n",
      "cost = 300\n",
      "pipe_cost(fx, point, cost)"
     ],
     "language": "python",
     "metadata": {},
     "outputs": [
      {
       "metadata": {},
       "output_type": "pyout",
       "prompt_number": 141,
       "text": [
        "1529.29722421771"
       ]
      }
     ],
     "prompt_number": 141
    },
    {
     "cell_type": "markdown",
     "metadata": {},
     "source": [
      "---\n",
      "\n",
      "**3**\n",
      "\n",
      "You are building a new house on a cartesian plane whose units are measured in miles. Your house is to be located at the point $(6,0)$. Unfortunately, the existing gas line follows the curve $y = \\sqrt{16x^2 + 6x+19}$. It costs $300$ dollars per mile to install new pipe connecting your house to the existing line. What is the least amount of money you could pay to get hooked up to the system?\n"
     ]
    },
    {
     "cell_type": "code",
     "collapsed": false,
     "input": [
      "fx = sqrt(16*x**2+6*x+19)\n",
      "point = (6, 0, )\n",
      "cost = 300\n",
      "pipe_cost(fx, point, cost)"
     ],
     "language": "python",
     "metadata": {},
     "outputs": [
      {
       "metadata": {},
       "output_type": "pyout",
       "prompt_number": 142,
       "text": [
        "2214.12577356763"
       ]
      }
     ],
     "prompt_number": 142
    },
    {
     "cell_type": "markdown",
     "metadata": {},
     "source": [
      "<a id='linear_approx'></a>\n",
      "# Linear Approximation\n",
      "\n"
     ]
    },
    {
     "cell_type": "markdown",
     "metadata": {},
     "source": [
      "<a id='what_is_linear_approx'></a>\n",
      "## What is linear approximation"
     ]
    },
    {
     "cell_type": "markdown",
     "metadata": {},
     "source": [
      "### Where does $f(x+h) = f(x) + h f'(x)$ come from?\n",
      "\n",
      "$f(x+h) \\approx f(x)$\n",
      "\n",
      "$f'(x) = \\lim\\limits_{h \\to 0} \\dfrac{f(x+h) - f(x)}{h}$\n",
      "\n",
      "$f'(x) \\approx \\dfrac{f(x+h) - f(x)}{h}$ for small $h$\n",
      "\n",
      "$hf'(x) \\approx f(x+h) - f(x)$\n",
      "\n",
      "$hf'(x) +f(x) \\approx f(x+h)$\n",
      "\n",
      "----\n",
      "\n",
      "$f(x) = \\sqrt[3]{x}$\n",
      "\n",
      "$a=125$\n",
      "\n",
      "$f(a) = 5$\n",
      "\n",
      "$h = 3$, 3 is small enough compared to 125\n",
      "\n",
      "$f(a+h) = \\sqrt[3]{128}=?$\n",
      "\n",
      "$f'(x) = \\dfrac{1}{3}x^{-2/3}$\n",
      "\n",
      "$f'(125) = \\dfrac{1}{3}125^{-2/3} = \\frac{1}{3}\\frac{1}{25}=\\frac{1}{75}$\n",
      "\n",
      "$f(a+h) \\approx f(a) + h \\cdot f'(a) = 5 + 3\\cdot\\frac{1}{75}=5+\\frac{1}{25}$"
     ]
    },
    {
     "cell_type": "code",
     "collapsed": false,
     "input": [
      "(128**(1/3)/(5+1/25) - 1)*100"
     ],
     "language": "python",
     "metadata": {},
     "outputs": [
      {
       "metadata": {},
       "output_type": "pyout",
       "prompt_number": 143,
       "text": [
        "-0.00626588135929"
       ]
      }
     ],
     "prompt_number": 143
    },
    {
     "cell_type": "markdown",
     "metadata": {},
     "source": [
      "Curves are complicated. Lines are Lucid"
     ]
    },
    {
     "cell_type": "markdown",
     "metadata": {},
     "source": [
      "### What is the volume of an orange rind?\n",
      "\n",
      "circumfrence = 24 cm\n",
      "\n",
      "Rind thickness = $h = 0.3 cm $\n",
      "\n",
      "$r = \\frac{12}{\\pi}$\n",
      "\n",
      "$V = \\dfrac{4}{3}\\pi r^3$\n",
      "\n",
      "Rind volume $\\approx$ volume change from $r$ to $r - h$\n",
      "\n",
      "$V(r) = \\dfrac{4}{3}\\pi r^3$\n",
      "\n",
      "$V'(r) = 4\\pi r^2$\n",
      "\n",
      "$V(r) - V(r-h) \\approx h \\cdot V'(r)$\n",
      "\n",
      "$0.3{cm} \\cdot 4 \\pi {\\frac{12^2}{\\pi^2}} {cm}^2\\approx 55 {cm}^3$"
     ]
    },
    {
     "cell_type": "markdown",
     "metadata": {},
     "source": [
      "### Quiz"
     ]
    },
    {
     "cell_type": "markdown",
     "metadata": {},
     "source": [
      "**1**\n",
      "\n",
      "Given that $f(1)=1$, and $f\u2032(1)=1$, approximate $f(1.4)$"
     ]
    },
    {
     "cell_type": "code",
     "collapsed": false,
     "input": [
      "def dx_approx(f_a, fp_a, h):\n",
      "    return f_a + h*fp_a\n",
      "    \n",
      "\n",
      "f_a=1\n",
      "fp_a=1\n",
      "a = 1\n",
      "h = 0.4\n",
      "\n",
      "dx_approx(f_a, fp_a, h)\n"
     ],
     "language": "python",
     "metadata": {},
     "outputs": [
      {
       "metadata": {},
       "output_type": "pyout",
       "prompt_number": 144,
       "text": [
        "1.4"
       ]
      }
     ],
     "prompt_number": 144
    },
    {
     "cell_type": "markdown",
     "metadata": {},
     "source": [
      "**2**\n",
      "\n",
      "Given that $f(9)=1$, and $f\u2032(9)=-3$, approximate $f(9.3)$"
     ]
    },
    {
     "cell_type": "code",
     "collapsed": false,
     "input": [
      "a=9\n",
      "f_a=1\n",
      "fp_a=-3\n",
      "h = 0.3\n",
      "\n",
      "dx_approx(f_a, fp_a, h)"
     ],
     "language": "python",
     "metadata": {},
     "outputs": [
      {
       "metadata": {},
       "output_type": "pyout",
       "prompt_number": 145,
       "text": [
        "0.1"
       ]
      }
     ],
     "prompt_number": 145
    },
    {
     "cell_type": "markdown",
     "metadata": {},
     "source": [
      "**3**\n",
      "\n",
      "Given that $f(1)=11$, and $f\u2032(1)=3$, approximate $f(1.6)$"
     ]
    },
    {
     "cell_type": "code",
     "collapsed": false,
     "input": [
      "a=1\n",
      "f_a=11\n",
      "fp_a=3\n",
      "h = 0.6\n",
      "dx_approx(f_a, fp_a, h)"
     ],
     "language": "python",
     "metadata": {},
     "outputs": [
      {
       "metadata": {},
       "output_type": "pyout",
       "prompt_number": 146,
       "text": [
        "12.8"
       ]
      }
     ],
     "prompt_number": 146
    },
    {
     "cell_type": "markdown",
     "metadata": {},
     "source": [
      "**5**\n",
      "\n",
      "Given that $f(9)=19$, and $f\u2032(9)=0$, approximate $f(9.4)$"
     ]
    },
    {
     "cell_type": "code",
     "collapsed": false,
     "input": [
      "a=9\n",
      "f_a=19\n",
      "fp_a=0\n",
      "h = 0.4\n",
      "dx_approx(f_a, fp_a, h)"
     ],
     "language": "python",
     "metadata": {},
     "outputs": [
      {
       "metadata": {},
       "output_type": "pyout",
       "prompt_number": 147,
       "text": [
        "19.0"
       ]
      }
     ],
     "prompt_number": 147
    },
    {
     "cell_type": "markdown",
     "metadata": {},
     "source": [
      "** 6 **\n",
      "\n",
      "Given that $f(7)=10$, and $f\u2032(7)=4$, approximate $f(7.7)$."
     ]
    },
    {
     "cell_type": "code",
     "collapsed": false,
     "input": [
      "a=7\n",
      "f_a=10\n",
      "fp_a=4\n",
      "h = 0.7\n",
      "dx_approx(f_a, fp_a, h)"
     ],
     "language": "python",
     "metadata": {},
     "outputs": [
      {
       "metadata": {},
       "output_type": "pyout",
       "prompt_number": 148,
       "text": [
        "12.8"
       ]
      }
     ],
     "prompt_number": 148
    },
    {
     "cell_type": "markdown",
     "metadata": {},
     "source": [
      "<a id='repeat_linear_approx'></a>\n",
      "\n",
      "### What happens if I repeat linear approximation?"
     ]
    },
    {
     "cell_type": "code",
     "collapsed": false,
     "input": [
      "vid ='nViHJcbSVPc'\n",
      "YouTubeVideo(vid)"
     ],
     "language": "python",
     "metadata": {},
     "outputs": [
      {
       "html": [
        "\n",
        "        <iframe\n",
        "            width=\"400\"\n",
        "            height=300\"\n",
        "            src=\"https://www.youtube.com/embed/nViHJcbSVPc\"\n",
        "            frameborder=\"0\"\n",
        "            allowfullscreen\n",
        "        ></iframe>\n",
        "        "
       ],
       "metadata": {},
       "output_type": "pyout",
       "prompt_number": 149,
       "text": [
        "<IPython.lib.display.YouTubeVideo at 0x10e562d90>"
       ]
      }
     ],
     "prompt_number": 149
    },
    {
     "cell_type": "markdown",
     "metadata": {},
     "source": [
      "** Euler's Method **\n",
      "\n",
      "$f'(x)$ = some combo of $x$ and $f(x)$\n",
      "\n",
      "$f(0)$ = a number\n",
      "\n",
      "$h =$ something small\n",
      "\n",
      "$f(h) \\approx f(0) + h\\cdot f'(0)$\n",
      "\n",
      "$f(2h) \\approx f(h) + h\\cdot f'(h)$\n",
      "\n",
      "$f(3h) \\approx f(2h) + h\\cdot f'(2h)$"
     ]
    },
    {
     "cell_type": "code",
     "collapsed": false,
     "input": [
      "def euler_e(f, fp, h, n):\n",
      "    for i in xrange(n):\n",
      "        f = f+h*fp\n",
      "        fp = f\n",
      "    return f\n",
      "\n",
      "def euler_er(f, fp, h, n):\n",
      "    for i in range(n):\n",
      "        f = f+h*fp\n",
      "        fp = f\n",
      "    return f\n",
      "\n",
      "\n",
      "f=1\n",
      "fp=1\n",
      "h=1\n",
      "n=2000000\n",
      "\n",
      "euler_e(f, fp, h/n, n), N(E)"
     ],
     "language": "python",
     "metadata": {},
     "outputs": [
      {
       "metadata": {},
       "output_type": "pyout",
       "prompt_number": 150,
       "text": [
        "(2.71828114889, 2.71828182845905)"
       ]
      }
     ],
     "prompt_number": 150
    },
    {
     "cell_type": "markdown",
     "metadata": {},
     "source": [
      "### Why is $\\log_2 3 \\approx \\frac{19}{12}$?"
     ]
    },
    {
     "cell_type": "markdown",
     "metadata": {},
     "source": [
      "Start at $\\log 1$, move over $\\frac{1}{4}$ 4 times\n",
      "\n",
      "$f(1+\\frac{1}{4}) \\approx f(1) + hf'(1 +\\frac{1}{8})$\n",
      "\n",
      "$f'(1 +\\frac{1}{8}) = \\dfrac{d}{dx}\\log\\left({1 +\\frac{1}{8}}\\right) = \\dfrac{1}{x} = \\dfrac{1}{1 +\\frac{1}{8}}$\n",
      "\n",
      "$\\log(1+\\frac{1}{4}) \\approx \\log 1 + \\frac{1}{4}\\cdot\\frac{1}{1+\\frac{1}{8}}=0+\\frac{1}{4}\\frac{8}{9}=\\frac{2}{9}$\n",
      "\n",
      "$\\log(1+\\frac{1}{2}) \\approx \\log \\left(1+\\frac{1}{4}\\right) + \\frac{1}{4}\\cdot\\frac{1}{1+\\frac{3}{8}}=\\frac{2}{9}+\\frac{1}{4}\\frac{8}{11}=\\frac{40}{99}$\n",
      "\n",
      "$\\log(1+\\frac{3}{4}) \\approx \\log \\left(1+\\frac{1}{2}\\right) + \\frac{1}{4}\\cdot\\frac{1}{1+\\frac{5}{8}}=\\frac{40}{99}+\\frac{1}{4}\\frac{8}{13}=\\frac{718}{1287}$\n",
      "\n",
      "$\\log{2} \\approx \\log \\left(1+\\frac{3}{4}\\right) + \\frac{1}{4}\\cdot\\frac{1}{1+\\frac{7}{8}}=\\frac{718}{1287}+\\frac{1}{4}\\frac{8}{15}=\\frac{4448}{6435}\\approx 0.691$"
     ]
    },
    {
     "cell_type": "code",
     "collapsed": false,
     "input": [
      "N(log(2))"
     ],
     "language": "python",
     "metadata": {},
     "outputs": [
      {
       "metadata": {},
       "output_type": "pyout",
       "prompt_number": 151,
       "text": [
        "0.693147180559945"
       ]
      }
     ],
     "prompt_number": 151
    },
    {
     "cell_type": "markdown",
     "metadata": {},
     "source": [
      "$\\log(2) \\approx \\log 1 + 1 \\cdot \\frac{1}{1+\\frac{1}{2}}=0+\\frac{2}{3}=\\frac{2}{3}$\n",
      "\n",
      "$\\log(3) \\approx \\log 2 + 1 \\cdot \\frac{1}{2+\\frac{1}{2}}=\\frac{2}{3} + \\frac{2}{5} = \\frac{16}{15}\\approx 1.07$"
     ]
    },
    {
     "cell_type": "code",
     "collapsed": false,
     "input": [
      "N(log(3))"
     ],
     "language": "python",
     "metadata": {},
     "outputs": [
      {
       "metadata": {},
       "output_type": "pyout",
       "prompt_number": 152,
       "text": [
        "1.09861228866811"
       ]
      }
     ],
     "prompt_number": 152
    },
    {
     "cell_type": "code",
     "collapsed": false,
     "input": [
      "N(log(3) / log(2))"
     ],
     "language": "python",
     "metadata": {},
     "outputs": [
      {
       "metadata": {},
       "output_type": "pyout",
       "prompt_number": 153,
       "text": [
        "1.58496250072116"
       ]
      }
     ],
     "prompt_number": 153
    },
    {
     "cell_type": "code",
     "collapsed": false,
     "input": [
      "19/12"
     ],
     "language": "python",
     "metadata": {},
     "outputs": [
      {
       "metadata": {},
       "output_type": "pyout",
       "prompt_number": 154,
       "text": [
        "1.58333333333"
       ]
      }
     ],
     "prompt_number": 154
    },
    {
     "cell_type": "markdown",
     "metadata": {},
     "source": [
      "$\\dfrac{\\log 3}{\\log 2} \\approx \\dfrac{19}{12}$\n",
      "\n",
      "$12 \\log 3 \\approx 19 \\log 2$\n",
      "\n",
      "$\\log 3^{12} \\approx \\log 2^{19}$"
     ]
    },
    {
     "cell_type": "code",
     "collapsed": false,
     "input": [
      "3**12/2**19"
     ],
     "language": "python",
     "metadata": {},
     "outputs": [
      {
       "metadata": {},
       "output_type": "pyout",
       "prompt_number": 155,
       "text": [
        "1.01364326477"
       ]
      }
     ],
     "prompt_number": 155
    },
    {
     "cell_type": "markdown",
     "metadata": {},
     "source": [
      "$\\log 3^{12} \\approx \\log 2^{19}$\n",
      "\n",
      "$3^{12} \\approx 2^{19}$\n",
      "\n",
      "$\\dfrac{3^{12}}{2^{12}} \\approx \\dfrac{2^{19}}{2^{12}}$\n",
      "\n",
      "$\\left(\\dfrac{3}{2}\\right)^{12} \\approx 2^7$\n",
      "\n",
      "Music!\n",
      "\n",
      "$5^{th}$s are about $\\frac{3}{2}$ apart in frequency\n",
      "\n",
      "Octaves are about $\\frac{2}{1}$ apart in frequency\n",
      "\n",
      "$\\therefore$ 12 $5^{th}$s are about 7 octaves apart"
     ]
    },
    {
     "cell_type": "code",
     "collapsed": false,
     "input": [
      "url = 'https://mooculus.osu.edu/explorations/fifths'\n",
      "HTML('<iframe src=%s width=900 height=350></iframe>' % (url, ))"
     ],
     "language": "python",
     "metadata": {},
     "outputs": [
      {
       "html": [
        "<iframe src=https://mooculus.osu.edu/explorations/fifths width=900 height=350></iframe>"
       ],
       "metadata": {},
       "output_type": "pyout",
       "prompt_number": 156,
       "text": [
        "<IPython.core.display.HTML at 0x10e562790>"
       ]
      }
     ],
     "prompt_number": 156
    },
    {
     "cell_type": "markdown",
     "metadata": {},
     "source": [
      "### Quiz"
     ]
    },
    {
     "cell_type": "markdown",
     "metadata": {},
     "source": [
      "** 1 **\n",
      "\n",
      "Consider the interval \n",
      "\n",
      "$I = [8, 9.2]$\n",
      "\n",
      "Break $I$ into 4 subintervals of length $0.3$:\n",
      "\n",
      "$[8,8.3], [8.3,8.6], [8.6,8.9], [8.9,9.2]$\n",
      "\n",
      "Suppose that \n",
      "\n",
      "$f(8) = 17$\n",
      "\n",
      "$f'(8) = -4$\n",
      "\n",
      "$f'(8.3) = -4.3$\n",
      "\n",
      "$f'(8.6) = -4.2$\n",
      "\n",
      "$f'(8.9) = -4.8$\n",
      "\n",
      "What is the approximate value of $f(9.2)$"
     ]
    },
    {
     "cell_type": "code",
     "collapsed": false,
     "input": [
      "def approx_f(f, fps, h):\n",
      "    for i in fps:\n",
      "        f = f + h*i\n",
      "    return f\n",
      "\n",
      "f = 17\n",
      "fps = [-4, -4.3, -4.2, -4.8]\n",
      "h = 0.3\n",
      "\n",
      "approx_f(f, fps, h)"
     ],
     "language": "python",
     "metadata": {},
     "outputs": [
      {
       "metadata": {},
       "output_type": "pyout",
       "prompt_number": 157,
       "text": [
        "11.81"
       ]
      }
     ],
     "prompt_number": 157
    },
    {
     "cell_type": "markdown",
     "metadata": {},
     "source": [
      "---\n",
      "\n",
      "**2**\n",
      "\n",
      "Consider the interval \n",
      "\n",
      "$I = [9, 10.2]$\n",
      "\n",
      "Break $I$ into 4 subintervals of length $0.3$:\n",
      "\n",
      "$[9,9.3], [9.3,9.6], [9.6,9.9], [9.9,10.2]$\n",
      "\n",
      "Suppose that \n",
      "\n",
      "$f(9) = 11$\n",
      "\n",
      "$f'(9) = 1$\n",
      "\n",
      "$f'(9.3) = 0.1$\n",
      "\n",
      "$f'(9.6) = 0.1$\n",
      "\n",
      "$f'(9.9) = -0.7$\n",
      "\n",
      "\n",
      "What is the approximate value of $f(10.2)$"
     ]
    },
    {
     "cell_type": "code",
     "collapsed": false,
     "input": [
      "f = 11\n",
      "fps = [1, 0.1, 0.1, -0.7]\n",
      "h = 0.3\n",
      "\n",
      "approx_f(f, fps, h)"
     ],
     "language": "python",
     "metadata": {},
     "outputs": [
      {
       "metadata": {},
       "output_type": "pyout",
       "prompt_number": 158,
       "text": [
        "11.15"
       ]
      }
     ],
     "prompt_number": 158
    },
    {
     "cell_type": "markdown",
     "metadata": {},
     "source": [
      "---\n",
      "\n",
      "** 4**\n",
      "\n",
      "You are interested in the function $f$ which satisfies the differential equation $f'(x)=\u22120.5x^2\u22120.5f(x)$ and which satisfies $f(\u22123)=0$. Use repeated linear approximation (otherwise known as Euler's Method) to approximate the value of this function at $x=\u22121$ using a step size of $\\dfrac{1}{2}$\n",
      " "
     ]
    },
    {
     "cell_type": "markdown",
     "metadata": {},
     "source": [
      "$f(x+h) \\approx f(x) + hf'(x)$\n",
      "\n",
      "$f(x+h) \\approx f(x) + h\\left(\u22120.5x^2\u22120.5f(x)\\right)$\n",
      "\n",
      "$f(-3 + \\frac{1}{2}) \\approx f(-3) + \\frac{1}{2}\\left(\u22120.5\\cdot ({-3})^2\u22120.5f(-3)\\right)$\n",
      "\n",
      "$f(-2.5) \\approx 0 + \\frac{1}{2}\\left(\u22120.5\\cdot 9 \u22120.5 \\cdot 0\\right) = \\frac{1}{2}\\frac{-9}{2} = \\frac{-9}{4}$\n",
      "\n",
      "$f(-2.5 + \\frac{1}{2}) \\approx f(-2.5) + \\frac{1}{2}\\left(\u22120.5\\cdot ({-2.5})^2\u22120.5f(-2.5)\\right) \\dots $\n"
     ]
    },
    {
     "cell_type": "code",
     "collapsed": false,
     "input": [
      "def euler_lambda(xs, f, fp, h):\n",
      "    for x in xs:\n",
      "        f = f + h * fp(x, f)\n",
      "    return f\n",
      "\n",
      "f = 0\n",
      "h = 0.5\n",
      "xs = list(np.arange(-3, -1, h))\n",
      "fp = lambda x, f: -0.5 * x**2 - 0.5*f\n",
      "euler_lambda(xs, f, fp, h)"
     ],
     "language": "python",
     "metadata": {},
     "outputs": [
      {
       "metadata": {},
       "output_type": "pyout",
       "prompt_number": 159,
       "text": [
        "-3.140625"
       ]
      }
     ],
     "prompt_number": 159
    },
    {
     "cell_type": "markdown",
     "metadata": {},
     "source": [
      "** 5 **\n",
      "\n",
      "You are interested in the function f which satisfies the differential equation $f\u2032(x)=0.5x^2$ and which satisfies $f(1)=\u22123$. Use repeated linear approximation (otherwise known as Euler's Method) to approximate the value of this function at $x=3$ using a step size of $\\frac{1}{2}$"
     ]
    },
    {
     "cell_type": "code",
     "collapsed": false,
     "input": [
      "f = -3\n",
      "h = 0.5\n",
      "xs = list(np.arange(1, 3, h))\n",
      "fp = lambda x, f: 0.5 * x**2\n",
      "euler_lambda(xs, f, fp, h)"
     ],
     "language": "python",
     "metadata": {},
     "outputs": [
      {
       "metadata": {},
       "output_type": "pyout",
       "prompt_number": 160,
       "text": [
        "0.375"
       ]
      }
     ],
     "prompt_number": 160
    },
    {
     "cell_type": "markdown",
     "metadata": {},
     "source": [
      "** 6 **\n",
      "\n",
      "Consider the interval \n",
      "\n",
      "$I = [10, 11.2]$\n",
      "\n",
      "Break $I$ into 4 subintervals of length $0.3$:\n",
      "\n",
      "$[10,10.3], [10.3,10.6], [10.6,10.9], [10.9,11.2]$\n",
      "\n",
      "Suppose that \n",
      "\n",
      "$f(10) = 4$\n",
      "\n",
      "$f'(10) = -5$\n",
      "\n",
      "$f'(10.3) = -4.9$\n",
      "\n",
      "$f'(10.6) = -4$\n",
      "\n",
      "$f'(10.9) = -4.7$\n",
      "\n",
      "\n",
      "What is the approximate value of $f(11.2)$"
     ]
    },
    {
     "cell_type": "code",
     "collapsed": false,
     "input": [
      "f0 = 4\n",
      "fps = [-5, -4.9, -4, -4.7]\n",
      "h = 0.3\n",
      "\n",
      "approx_f(f0, fps, h)"
     ],
     "language": "python",
     "metadata": {},
     "outputs": [
      {
       "metadata": {},
       "output_type": "pyout",
       "prompt_number": 161,
       "text": [
        "-1.58"
       ]
      }
     ],
     "prompt_number": 161
    },
    {
     "cell_type": "markdown",
     "metadata": {},
     "source": [
      "<a id ='dxbyitself'></a>\n",
      "## What does dx mean by itself"
     ]
    },
    {
     "cell_type": "markdown",
     "metadata": {},
     "source": [
      "<img src='images/dx.png' width=300/>"
     ]
    },
    {
     "cell_type": "markdown",
     "metadata": {},
     "source": [
      "$dy$ is a change in the linearization of $y$\n",
      "\n",
      "Your $dy$s had better include a $dx$\n",
      "\n",
      "In calculus:\n",
      "* $dx$ and $dy$ might be regarded as infinitesmals\n",
      "\n",
      "In differential geometry:\n",
      "* $dx$ will be given a \"better\" foundation\n",
      "\n",
      "---\n",
      "\n",
      "$y=f(x)$\n",
      "\n",
      "$dy = f'(x)dx$\n",
      "\n",
      "$d(u+v) = du + dv$\n",
      "\n",
      "$d(uv) = (du)v + u(dv)$\n",
      "\n",
      "$y = x^2$\n",
      "\n",
      "$dy = (2x)dx$\n",
      "\n",
      "$d(x^2) = 2xdx$\n",
      "\n",
      "$d(x^n) = x^{n-1}dx$\n",
      "\n",
      "$d(x \\sin x) = (dx) \\cdot \\sin x + x \\cdot d(\\sin x)$\n",
      "\n",
      "$(\\sin x) \\cdot dx + x\\cdot \\cos x \\cdot dx$\n",
      "\n",
      "$(\\sin x + x \\cos x)dx$"
     ]
    },
    {
     "cell_type": "markdown",
     "metadata": {},
     "source": [
      "### Quiz"
     ]
    },
    {
     "cell_type": "markdown",
     "metadata": {},
     "source": [
      "** 1 **\n",
      "\n",
      "Suppose $y=f(x)$. In this case, what might we say about the differential $dy$?\n",
      "\n",
      "$dy = f'(x) \\, dx$"
     ]
    },
    {
     "cell_type": "markdown",
     "metadata": {},
     "source": [
      "** 2 **\n",
      "\n",
      "Suppose $y=x^2+x$. Compute $dy$ as $x$ changes from $2$ to $2.1$.\n",
      "\n",
      "$dy = f'(x) \\, dx$\n",
      "\n",
      "$dy = 2x +1 \\, dx$\n",
      "\n",
      "$dy = 5 \\cdot .1 = .5$"
     ]
    },
    {
     "cell_type": "markdown",
     "metadata": {},
     "source": [
      "<a id='newtonmethod'></a>\n",
      "## What is Newton's Method"
     ]
    },
    {
     "cell_type": "code",
     "collapsed": false,
     "input": [
      "vid='3WMIHCcyhO0'\n",
      "start=int(timedelta(minutes=3, seconds=0).total_seconds())\n",
      "YouTubeVideo(vid, start=start)"
     ],
     "language": "python",
     "metadata": {},
     "outputs": [
      {
       "html": [
        "\n",
        "        <iframe\n",
        "            width=\"400\"\n",
        "            height=300\"\n",
        "            src=\"https://www.youtube.com/embed/3WMIHCcyhO0?start=180\"\n",
        "            frameborder=\"0\"\n",
        "            allowfullscreen\n",
        "        ></iframe>\n",
        "        "
       ],
       "metadata": {},
       "output_type": "pyout",
       "prompt_number": 162,
       "text": [
        "<IPython.lib.display.YouTubeVideo at 0x10e53a490>"
       ]
      }
     ],
     "prompt_number": 162
    },
    {
     "cell_type": "markdown",
     "metadata": {},
     "source": [
      "1. Initial guess $x_0$\n",
      "1. Draw tangent line through $(x_0, f(x_0))$\n",
      "1. \"Better\" guess is $x_1$, where tangent line crosses x-axis\n",
      "1. Repeat\n",
      "\n",
      "\n",
      "---\n",
      "\n",
      "1. Initial guess $x_0$\n",
      "1. New guess $x_1 = x_0 - \\dfrac{f(x_0)}{f'(x_0}$\n",
      "1. $x_2 = x_1 - \\dfrac{f(x_1)}{f'(x_1)}$\n",
      "1. $x_3 = x_2 - \\dfrac{f(x_2)}{f'(x_2)}$\n",
      "\n",
      "$x_{n+1} = x_n - \\dfrac{f(x_n)}{f'(x_n)}$"
     ]
    },
    {
     "cell_type": "markdown",
     "metadata": {},
     "source": [
      "### What is a root of the polynomial $x^5 + x^2 - 1$?\n",
      "\n",
      "$f(0) = -1$\n",
      "\n",
      "$f(1) = 1$\n",
      "\n",
      "There is some value where $f$ is $0$\n",
      "\n",
      "$f'(x) = 5x^4 + 2x$\n",
      "\n",
      "$x_0=1$\n",
      "\n",
      "$x_1 = 1 - \\frac{1}{7} = \\frac{6}{7}$\n",
      "\n",
      "$x_2 = \\frac{6}{7} - \\frac{f(\\frac{6}{7})}{f'(\\frac{6}{7}} \\approx 0.014$"
     ]
    },
    {
     "cell_type": "code",
     "collapsed": false,
     "input": [
      "x = symbols('x')\n",
      "fx = x**5 + x**2 - 1\n",
      "\n",
      "def newton(fx, x_, n):\n",
      "    fxl  = lambdify(x, fx,       modules='numpy')\n",
      "    fpxl = lambdify(x, diff(fx), modules='numpy')\n",
      "    for _ in xrange(n):\n",
      "        x_ = x_ - fxl(x_)/fpxl(x_)\n",
      "    return N(x_)"
     ],
     "language": "python",
     "metadata": {},
     "outputs": [],
     "prompt_number": 163
    },
    {
     "cell_type": "code",
     "collapsed": false,
     "input": [
      "newton(fx, 1, 100)"
     ],
     "language": "python",
     "metadata": {},
     "outputs": [
      {
       "metadata": {},
       "output_type": "pyout",
       "prompt_number": 164,
       "text": [
        "0.808730600479392"
       ]
      }
     ],
     "prompt_number": 164
    },
    {
     "cell_type": "markdown",
     "metadata": {},
     "source": [
      "### How can Newton's method help me to divide quickly?\n",
      "\n",
      "** Newton-Raphson Division **"
     ]
    },
    {
     "cell_type": "markdown",
     "metadata": {},
     "source": [
      "$b = 7$\n",
      "\n",
      "$\\dfrac{1}{7}=?$\n",
      "\n",
      "$x_{n+1} = x_n(2-bx_n)$\n",
      "\n",
      "$x_0 = \\frac{1}{10}$\n",
      "\n",
      "$x_1 = \\frac{1}{10}\\cdot(2-7\\cdot\\frac{1}{10})=\\frac{1}{10}(\\frac{20}{10}-\\frac{7}{10})=\\frac{13}{100}$\n",
      "\n",
      "$x_2 = \\dots =\\frac{1417}{10000}$\n",
      "\n",
      "Only involves $+$ and $\\times$ to do to $/$\n",
      "\n",
      "Imagine that everything is easy, except $/$"
     ]
    },
    {
     "cell_type": "markdown",
     "metadata": {},
     "source": [
      "### Quiz"
     ]
    },
    {
     "cell_type": "markdown",
     "metadata": {},
     "source": [
      "---\n",
      "\n",
      "**1**\n",
      "\n",
      "Consider the polynomial $f(x)=\u22124x^3\u22122x^2\u22122x\u22123$. Since $f(\u22122)=25$ and $f(0)=\u22123$, we know by the intermediate value theorem that f has a root between these two points. Let $x_0=\u22122$ in Newton's method. Calculate $x_2$."
     ]
    },
    {
     "cell_type": "code",
     "collapsed": false,
     "input": [
      "fx = -4*x**3 - 2*x**2 -2*x -3\n",
      "x0 = -2\n",
      "n=2\n",
      "newton(fx, x0, n)"
     ],
     "language": "python",
     "metadata": {},
     "outputs": [
      {
       "metadata": {},
       "output_type": "pyout",
       "prompt_number": 165,
       "text": [
        "-1.05826295704220"
       ]
      }
     ],
     "prompt_number": 165
    },
    {
     "cell_type": "markdown",
     "metadata": {},
     "source": [
      "---\n",
      "\n",
      "**2**\n",
      "\n",
      "Consider the polynomial $f(x)=3x^5\u22126x^4+4x^3\u22124x^2\u22123x\u22123$. Since $f(0)=\u22123$ and $f(2)=7$, we know by the intermediate value theorem that $f$ has a root between these two points. Let $x_0=0$ in Newton's method. Calculate $x_2$."
     ]
    },
    {
     "cell_type": "code",
     "collapsed": false,
     "input": [
      "fx = 3*x**5 - 6*x**4 +4*x**3 - 4*x**2 -3*x -3\n",
      "x0 = 0\n",
      "n=2\n",
      "newton(fx, x0, n)"
     ],
     "language": "python",
     "metadata": {},
     "outputs": [
      {
       "metadata": {},
       "output_type": "pyout",
       "prompt_number": 166,
       "text": [
        "-0.696428571428571"
       ]
      }
     ],
     "prompt_number": 166
    },
    {
     "cell_type": "markdown",
     "metadata": {},
     "source": [
      "**3**"
     ]
    },
    {
     "cell_type": "code",
     "collapsed": false,
     "input": [
      "fx = 5*x**3 -5*x + 7\n",
      "x0 = -2\n",
      "n=2\n",
      "newton(fx, x0, n)"
     ],
     "language": "python",
     "metadata": {},
     "outputs": [
      {
       "metadata": {},
       "output_type": "pyout",
       "prompt_number": 167,
       "text": [
        "-1.43179370167481"
       ]
      }
     ],
     "prompt_number": 167
    },
    {
     "cell_type": "markdown",
     "metadata": {},
     "source": [
      "**4**"
     ]
    },
    {
     "cell_type": "code",
     "collapsed": false,
     "input": [
      "fx = -6*x**5 -5*x**4 + 7*x**3 + x**2 -2*x -2\n",
      "x0 = -2\n",
      "n=2\n",
      "newton(fx, x0, n)"
     ],
     "language": "python",
     "metadata": {},
     "outputs": [
      {
       "metadata": {},
       "output_type": "pyout",
       "prompt_number": 168,
       "text": [
        "-1.58516027889951"
       ]
      }
     ],
     "prompt_number": 168
    },
    {
     "cell_type": "markdown",
     "metadata": {},
     "source": [
      "**5**"
     ]
    },
    {
     "cell_type": "code",
     "collapsed": false,
     "input": [
      "fx = -x**5 + 5*x**4 - 4*x**3 + 6*x**2 -2*x +3\n",
      "x0 = 4\n",
      "n=2\n",
      "newton(fx, x0, n)"
     ],
     "language": "python",
     "metadata": {},
     "outputs": [
      {
       "metadata": {},
       "output_type": "pyout",
       "prompt_number": 169,
       "text": [
        "4.42529535997447"
       ]
      }
     ],
     "prompt_number": 169
    },
    {
     "cell_type": "markdown",
     "metadata": {},
     "source": [
      "<a id='meanvaluetheorem'></a>\n",
      "## What is the mean value theorem?"
     ]
    },
    {
     "cell_type": "markdown",
     "metadata": {},
     "source": [
      "Suppose\n",
      "\n",
      "$f$ is continuous on $[a, b]$\n",
      "\n",
      "and differentiable on $(a, b)$;\n",
      "\n",
      "then\n",
      "\n",
      "there exists $c$ in $(a, b)$\n",
      "\n",
      "so that\n",
      "\n",
      "$f'(c) = \\dfrac{f(b)-f(a)}{b-a}$"
     ]
    },
    {
     "cell_type": "markdown",
     "metadata": {},
     "source": [
      "### Why does $f'(x) > 0$ imply that f is increasing?"
     ]
    },
    {
     "cell_type": "markdown",
     "metadata": {},
     "source": [
      "Applications of MVT\n",
      "\n",
      "$f$ diff'able on open interval\n",
      "\n",
      "* $f'(x) = 0$ then $f$ is constant\n",
      "* $f'(x) > 0$ then $f$ is increasing\n",
      "* $f'(x) < 0$ then $f$ is decreasing\n",
      "\n",
      "on that interval"
     ]
    },
    {
     "cell_type": "markdown",
     "metadata": {},
     "source": [
      "### Should I bother to find the point c in the mean value theorem?"
     ]
    },
    {
     "cell_type": "markdown",
     "metadata": {},
     "source": [
      "### Quiz: Linear Approximation"
     ]
    },
    {
     "cell_type": "markdown",
     "metadata": {},
     "source": [
      "---\n",
      "\n",
      "**1**\n",
      "\n",
      "Given that $f(2)=7$, and $f\u2032(2)=0$, approximate $f(2.5)$.\n",
      "\n",
      "$f(2+0.5) \\approx f(2) + 0.5\\cdot0=7$"
     ]
    },
    {
     "cell_type": "markdown",
     "metadata": {},
     "source": [
      "---\n",
      "\n",
      "**2**\n",
      "\n",
      "Given that $f(10)=8$, and $f\u2032(10)=1$, approximate $f(10.2)$.\n",
      "\n",
      "$f(10+0.2) \\approx 8 + 0.2 \\cdot 1=8.2$"
     ]
    },
    {
     "cell_type": "markdown",
     "metadata": {},
     "source": [
      "---\n",
      "\n",
      "**3**\n",
      "\n",
      "You are interested in the function $f$ which satisfies the differential equation $f\u2032(x)=0.5x+0.5f(x)$ and which satisfies $f(0)=2$. Use repeated linear approximation (otherwise known as Euler's Method) to approximate the value of this function at $x=2$ using a step size of $\\frac{1}{2}$"
     ]
    },
    {
     "cell_type": "code",
     "collapsed": false,
     "input": [
      "f = 2\n",
      "h = 0.5\n",
      "xs = list(np.arange(0, 2, h))\n",
      "fp = lambda x, f: 0.5 * x + 0.5*f\n",
      "euler_lambda(xs, f, fp, h)"
     ],
     "language": "python",
     "metadata": {},
     "outputs": [
      {
       "metadata": {},
       "output_type": "pyout",
       "prompt_number": 170,
       "text": [
        "5.765625"
       ]
      }
     ],
     "prompt_number": 170
    },
    {
     "cell_type": "markdown",
     "metadata": {},
     "source": [
      "---\n",
      "\n",
      "**4**\n",
      "\n",
      "Given that $f(10)=17$, and $f\u2032(10)=4$, approximate $f(10.6)$."
     ]
    },
    {
     "cell_type": "markdown",
     "metadata": {},
     "source": [
      "---\n",
      "\n",
      "**5**\n",
      "\n",
      "Consider the polynomial $f(x)=\u22127x^5\u22126x^4+x^3+4x^2+4x+2$. Since $f(0)=2$ and $f(2)=\u2212286$, we know by the intermediate value theorem that $f$ has a root between these two points. Let $x_0=0$ in Newton's method. Calculate $x_2$.\n",
      " "
     ]
    },
    {
     "cell_type": "code",
     "collapsed": false,
     "input": [
      "fx = -7*x**5 - 6*x**4 + x**3 + 4*x**2 + 4*x + 2\n",
      "x_ = 0\n",
      "x = symbols('x')\n",
      "n=2\n",
      "\n",
      "newton(fx, x_, n)"
     ],
     "language": "python",
     "metadata": {},
     "outputs": [
      {
       "metadata": {},
       "output_type": "pyout",
       "prompt_number": 171,
       "text": [
        "-0.960000000000000"
       ]
      }
     ],
     "prompt_number": 171
    },
    {
     "cell_type": "markdown",
     "metadata": {},
     "source": [
      "---\n",
      "\n",
      "**6**\n",
      "\n",
      "You are interested in the function $f$ which satisfies the differential equation $f\u2032(x)=1x\u22121f(x)$ and which satisfies $f(1)=2$. Use repeated linear approximation (otherwise known as Euler's Method) to approximate the value of this function at $x=3$ using a step size of $\\frac{1}{2}$"
     ]
    },
    {
     "cell_type": "code",
     "collapsed": false,
     "input": [
      "f = 2\n",
      "h = 0.5\n",
      "xs = list(np.arange(1, 3, h))\n",
      "fp = lambda x, f: x - f\n",
      "euler_lambda(xs, f, fp, h)"
     ],
     "language": "python",
     "metadata": {},
     "outputs": [
      {
       "metadata": {},
       "output_type": "pyout",
       "prompt_number": 172,
       "text": [
        "2.125"
       ]
      }
     ],
     "prompt_number": 172
    },
    {
     "cell_type": "markdown",
     "metadata": {},
     "source": [
      "---\n",
      "\n",
      "**7**\n",
      "\n",
      "You are interested in the function f which satisfies the differential equation $f\u2032(x)=\u22120.5x+0.5f(x)$ and which satisfies $f(\u22122)=\u22122$. Use repeated linear approximation (otherwise known as Euler's Method) to approximate the value of this function at $x=0$ using a step size of $\\frac{1}{2}$"
     ]
    },
    {
     "cell_type": "code",
     "collapsed": false,
     "input": [
      "f = -2\n",
      "h = 0.5\n",
      "xs = list(np.arange(-2, 0, h))\n",
      "fp = lambda x, f: -0.5*x + 0.5*f\n",
      "euler_lambda(xs, f, fp, h)"
     ],
     "language": "python",
     "metadata": {},
     "outputs": [
      {
       "metadata": {},
       "output_type": "pyout",
       "prompt_number": 173,
       "text": [
        "-2.8828125"
       ]
      }
     ],
     "prompt_number": 173
    },
    {
     "cell_type": "markdown",
     "metadata": {},
     "source": [
      "---\n",
      "\n",
      "**8**\n",
      "\n",
      "Consider the polynomial $f(x)=x^5\u22123x^4\u22123x^3+6x^2+6x\u22126$. Since $f(2)=\u221210$ and $f(4)=178$, we know by the intermediate value theorem that f has a root between these two points. Let $x_0=2$ in Newton's method. Calculate $x_2$."
     ]
    },
    {
     "cell_type": "code",
     "collapsed": false,
     "input": [
      "fx = x**5 - 3*x**4 - 3*x**3 + 6*x**2 + 6*x - 6\n",
      "x_ = 2\n",
      "x = symbols('x')\n",
      "n=2\n",
      "\n",
      "newton(fx, x_, n)"
     ],
     "language": "python",
     "metadata": {},
     "outputs": [
      {
       "metadata": {},
       "output_type": "pyout",
       "prompt_number": 174,
       "text": [
        "1.40648851422385"
       ]
      }
     ],
     "prompt_number": 174
    },
    {
     "cell_type": "markdown",
     "metadata": {},
     "source": [
      "---\n",
      "\n",
      "**9**\n",
      "\n",
      "Consider the polynomial $f(x)=\u22122x^3\u22124x^2+5x\u22126$. Since $f(\u22124)=38$ and $f(\u22122)=\u221216$, we know by the intermediate value theorem that $f$ has a root between these two points. Let $x_0=\u22124$ in Newton's method. Calculate $x_2$."
     ]
    },
    {
     "cell_type": "code",
     "collapsed": false,
     "input": [
      "fx = -2*x**3 -4*x**2 + 5*x - 6\n",
      "x_ = -4\n",
      "x = symbols('x')\n",
      "n=2\n",
      "\n",
      "newton(fx, x_, n)"
     ],
     "language": "python",
     "metadata": {},
     "outputs": [
      {
       "metadata": {},
       "output_type": "pyout",
       "prompt_number": 175,
       "text": [
        "-3.13866555492212"
       ]
      }
     ],
     "prompt_number": 175
    }
   ],
   "metadata": {}
  }
 ]
}