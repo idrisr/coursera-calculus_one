{
 "metadata": {
  "name": "",
  "signature": "sha256:e13b49495d8b035428450ea64976a6e306313afa13a38511baad67879c1a8d16"
 },
 "nbformat": 3,
 "nbformat_minor": 0,
 "worksheets": [
  {
   "cells": [
    {
     "cell_type": "markdown",
     "metadata": {},
     "source": [
      "1. [Chain Rule](#chainrule)\n",
      "    1. [What is the chain rule](#whatisnthechainrule)\n",
      "    1. [How do I find the tangent line to a curve](#howdoifindtangeline)\n",
      "    1. [How do I find the derivative of an inverse function](#derivateinverse)\n",
      "    1. [How can I multiply quickly]\n",
      "    1. [How do I justify the derivative rules]\n",
      "    1. [Quiz: Chain Rule]\n"
     ]
    },
    {
     "cell_type": "markdown",
     "metadata": {},
     "source": [
      "<a id='chainrule'></a>\n",
      "# Chain Rule"
     ]
    },
    {
     "cell_type": "markdown",
     "metadata": {},
     "source": [
      "<a id='whatischainrule'></a>\n",
      "## What is the Chain Rule"
     ]
    },
    {
     "cell_type": "code",
     "collapsed": false,
     "input": [
      "import math\n",
      "import matplotlib.pyplot as plt\n",
      "from sympy import *\n",
      "import pandas as pd\n",
      "%matplotlib inline"
     ],
     "language": "python",
     "metadata": {},
     "outputs": [],
     "prompt_number": 122
    },
    {
     "cell_type": "markdown",
     "metadata": {},
     "source": [
      "$f(x)$ = number of widgets produced with $x$ dollars\n",
      "\n",
      "$g(x)$ = income from sale of $n$ widgets\n",
      "\n",
      "$g(f(x)) - x =$ profit on investment on $x$ dollars in widgets"
     ]
    },
    {
     "cell_type": "markdown",
     "metadata": {},
     "source": [
      "$h(x) = g(f(x))$\n",
      "\n",
      "$h'(x) = g'(f(x)) \\cdot f'(x)$\n",
      "\n",
      "<img src='images/chainrule.png'></img>"
     ]
    },
    {
     "cell_type": "markdown",
     "metadata": {},
     "source": [
      "### What is the derivative of $(1+2x)^5$ and $\\sqrt{x^2 + 0.0001}$"
     ]
    },
    {
     "cell_type": "markdown",
     "metadata": {},
     "source": [
      "$f(x) = (1 + 2x)^5$\n",
      "\n",
      "you could just expand this out. ugh"
     ]
    },
    {
     "cell_type": "markdown",
     "metadata": {},
     "source": [
      "Use chain rule\n",
      "\n",
      "$f(x) = (1 + 2x)^5 = g(h(x))$\n",
      "\n",
      "$g(x)= x^5$\n",
      "\n",
      "$h(x) = 1+ 2x$\n",
      "\n",
      "$f'(x) = g'(h(x)) \\cdot h'(x)$\n",
      "\n",
      "$f'(x) = 5(h(x))^4 \\cdot 2$\n",
      "\n",
      "$f'(x) = 5(1+ 2x)^4 \\cdot 2$"
     ]
    },
    {
     "cell_type": "markdown",
     "metadata": {},
     "source": [
      "---"
     ]
    },
    {
     "cell_type": "markdown",
     "metadata": {},
     "source": [
      "$f(x) = (x^2 + 0.0001)^{0.5}$\n",
      "\n",
      "$g(x) = x^{0.5}$\n",
      "\n",
      "$h(x) = x^2 + 0.0001$\n",
      "\n",
      "$f'(x) = 0.5\\left(x^2 + 0.0001\\right)^{-0.5} \\cdot 2x$"
     ]
    },
    {
     "cell_type": "code",
     "collapsed": false,
     "input": [
      "x = symbols('x')\n",
      "fx = (x**2 + 0.0001)**0.5\n",
      "fx"
     ],
     "language": "python",
     "metadata": {},
     "outputs": [
      {
       "latex": [
        "$$\\left(x^{2} + 0.0001\\right)^{0.5}$$"
       ],
       "metadata": {},
       "output_type": "pyout",
       "png": "[encoded data removed]",
       "prompt_number": 66,
       "text": [
        "             0.5\n",
        "\u239b 2         \u239e   \n",
        "\u239dx  + 0.0001\u23a0   "
       ]
      }
     ],
     "prompt_number": 66
    },
    {
     "cell_type": "code",
     "collapsed": false,
     "input": [
      "init_printing()\n",
      "diff(fx)"
     ],
     "language": "python",
     "metadata": {},
     "outputs": [
      {
       "latex": [
        "$$\\frac{1.0 x}{\\left(x^{2} + 0.0001\\right)^{0.5}}$$"
       ],
       "metadata": {},
       "output_type": "pyout",
       "png": "[encoded data removed]",
       "prompt_number": 67,
       "text": [
        "                   -0.5\n",
        "      \u239b 2         \u239e    \n",
        "1.0\u22c5x\u22c5\u239dx  + 0.0001\u23a0    "
       ]
      }
     ],
     "prompt_number": 67
    },
    {
     "cell_type": "code",
     "collapsed": false,
     "input": [
      "plot(fx, xlim=[-0.1, 0.1], ylim=[0,0.05]);"
     ],
     "language": "python",
     "metadata": {},
     "outputs": [
      {
       "metadata": {},
       "output_type": "display_data",
       "png": "[encoded data removed]",
       "text": [
        "<matplotlib.figure.Figure at 0x109eec090>"
       ]
      }
     ],
     "prompt_number": 68
    },
    {
     "cell_type": "markdown",
     "metadata": {},
     "source": [
      "### Quiz: What is the Chain Rule"
     ]
    },
    {
     "cell_type": "markdown",
     "metadata": {},
     "source": [
      "$g(f(4.04))= ?$\n",
      "\n",
      "$f(4) = 8, f'(4) = 7, g(8) = 10, g'(8) = 9$\n",
      "\n",
      "$ f(4.04) \\approx f'(4) + .04 \\cdot f(4) \\approx 8 + .04 \\cdot 7 \\approx 8.28$\n",
      "\n",
      "$g(8.28) \\approx g'(8) + .28 \\cdot g(8) \\approx 10 + .28 \\cdot 9$\n"
     ]
    },
    {
     "cell_type": "markdown",
     "metadata": {},
     "source": [
      "---\n",
      "$\\dfrac{d}{dx} \\sqrt{3x^2 + 8x + 36}$\n",
      "\n",
      "$h(x) = 3x^2 + 8x + 36$\n",
      "\n",
      "$g(x) = \\sqrt{x}$\n",
      "\n",
      "$g'(h(x)) \\cdot h'(x)=$\n",
      "\n",
      "$\\dfrac{6x+8}{2\\sqrt{3x^2 + 8x + 36}}$"
     ]
    },
    {
     "cell_type": "code",
     "collapsed": false,
     "input": [
      "fx = sqrt(3*x**2 + 8*x + 36)\n",
      "diff(fx)"
     ],
     "language": "python",
     "metadata": {},
     "outputs": [
      {
       "latex": [
        "$$\\frac{3 x + 4}{\\sqrt{3 x^{2} + 8 x + 36}}$$"
       ],
       "metadata": {},
       "output_type": "pyout",
       "png": "[encoded data removed]",
       "prompt_number": 69,
       "text": [
        "      3\u22c5x + 4       \n",
        "\u2500\u2500\u2500\u2500\u2500\u2500\u2500\u2500\u2500\u2500\u2500\u2500\u2500\u2500\u2500\u2500\u2500\u2500\u2500\u2500\n",
        "   _________________\n",
        "  \u2571    2            \n",
        "\u2572\u2571  3\u22c5x  + 8\u22c5x + 36 "
       ]
      }
     ],
     "prompt_number": 69
    },
    {
     "cell_type": "code",
     "collapsed": false,
     "input": [
      "print(diff(fx))"
     ],
     "language": "python",
     "metadata": {},
     "outputs": [
      {
       "output_type": "stream",
       "stream": "stdout",
       "text": [
        "(3*x + 4)/sqrt(3*x**2 + 8*x + 36)\n"
       ]
      }
     ],
     "prompt_number": 70
    },
    {
     "cell_type": "markdown",
     "metadata": {},
     "source": [
      "---\n",
      "$\\dfrac{d}{dx} (-x - 7)^3$\n",
      "\n",
      "$g(x) = x^3$\n",
      "\n",
      "$h(x) = -x - 7 $\n",
      "\n",
      "$3(-x - 7)^2 \\cdot -1$\n",
      "\n",
      "$-3(-x - 7)^2$"
     ]
    },
    {
     "cell_type": "code",
     "collapsed": false,
     "input": [
      "fx = (-x - 7)**3\n",
      "diff(fx)"
     ],
     "language": "python",
     "metadata": {},
     "outputs": [
      {
       "latex": [
        "$$- 3 \\left(- x - 7\\right)^{2}$$"
       ],
       "metadata": {},
       "output_type": "pyout",
       "png": "[encoded data removed]",
       "prompt_number": 71,
       "text": [
        "           2\n",
        "-3\u22c5(-x - 7) "
       ]
      }
     ],
     "prompt_number": 71
    },
    {
     "cell_type": "code",
     "collapsed": false,
     "input": [
      "print(diff(fx))"
     ],
     "language": "python",
     "metadata": {},
     "outputs": [
      {
       "output_type": "stream",
       "stream": "stdout",
       "text": [
        "-3*(-x - 7)**2\n"
       ]
      }
     ],
     "prompt_number": 72
    },
    {
     "cell_type": "markdown",
     "metadata": {},
     "source": [
      "---"
     ]
    },
    {
     "cell_type": "markdown",
     "metadata": {},
     "source": [
      "<img src='images/q4chain_rule.png' width=200/>"
     ]
    },
    {
     "cell_type": "markdown",
     "metadata": {},
     "source": [
      "$\\dfrac{d}{dx} g(f(x)) = $ \n",
      "\n",
      "$g'(f(x)) \\cdot f'(x) = $\n",
      "\n",
      "$g'(f(5)) \\cdot f'(5)=$\n",
      "\n",
      "$g'(2) \\cdot -3=$\n",
      "\n",
      "$8 \\cdot -3=$\n",
      "\n",
      "$-24$\n",
      "\n",
      "\n"
     ]
    },
    {
     "cell_type": "markdown",
     "metadata": {},
     "source": [
      "---\n",
      "<img src='images/q5chain_rule.png' width=200/>\n",
      "$(g \\circ f)'(9)=$\n",
      "\n",
      "$\\dfrac{d}{dx}g(f(9))=$\n",
      "\n",
      "$g'(f(x)) \\cdot f'(x)$\n",
      "\n",
      "$g'(f(9)) \\cdot f'(9)$\n",
      "\n",
      "$g'(f(9)) \\cdot f'(9)$\n",
      "\n",
      "$g'(6) \\cdot -10$\n",
      "\n",
      "$-9 \\cdot -10$"
     ]
    },
    {
     "cell_type": "markdown",
     "metadata": {},
     "source": [
      "---\n",
      "\n",
      "$\\dfrac{d}{dx}\\sqrt{8x^2 + 6x + 25}$\n",
      "\n",
      "$g(x) = \\sqrt{x}$\n",
      "\n",
      "$f(x) = 8x^2 + 6x + 25$"
     ]
    },
    {
     "cell_type": "code",
     "collapsed": false,
     "input": [
      "fx = sqrt(8*x**2 + 6*x + 25)"
     ],
     "language": "python",
     "metadata": {},
     "outputs": [],
     "prompt_number": 73
    },
    {
     "cell_type": "code",
     "collapsed": false,
     "input": [
      "diff(fx)"
     ],
     "language": "python",
     "metadata": {},
     "outputs": [
      {
       "latex": [
        "$$\\frac{8 x + 3}{\\sqrt{8 x^{2} + 6 x + 25}}$$"
       ],
       "metadata": {},
       "output_type": "pyout",
       "png": "[encoded data removed]",
       "prompt_number": 74,
       "text": [
        "      8\u22c5x + 3       \n",
        "\u2500\u2500\u2500\u2500\u2500\u2500\u2500\u2500\u2500\u2500\u2500\u2500\u2500\u2500\u2500\u2500\u2500\u2500\u2500\u2500\n",
        "   _________________\n",
        "  \u2571    2            \n",
        "\u2572\u2571  8\u22c5x  + 6\u22c5x + 25 "
       ]
      }
     ],
     "prompt_number": 74
    },
    {
     "cell_type": "code",
     "collapsed": false,
     "input": [
      "print(diff(fx))"
     ],
     "language": "python",
     "metadata": {},
     "outputs": [
      {
       "output_type": "stream",
       "stream": "stdout",
       "text": [
        "(8*x + 3)/sqrt(8*x**2 + 6*x + 25)\n"
       ]
      }
     ],
     "prompt_number": 75
    },
    {
     "cell_type": "markdown",
     "metadata": {},
     "source": [
      "---\n",
      "$f(3) = 9$\n",
      "\n",
      "$f'(3) = 3$\n",
      "\n",
      "$g(9) = 3$\n",
      "\n",
      "$g'(9) = 5$\n",
      "\n",
      "$g(f(3.02) = ?$\n",
      "\n",
      "$f(3.02) \\approx $\n",
      "\n",
      "$f(3) + .02 \\cdot f'(3) = 9 + .02 \\cdot 3 = 9.06$\n",
      "\n",
      "$g(9.06) \\approx $\n",
      "\n",
      "$g(9) + .06 \\cdot g'(9) = 3 + .06 \\cdot 5 = 3.30$\n"
     ]
    },
    {
     "cell_type": "markdown",
     "metadata": {},
     "source": [
      "---"
     ]
    },
    {
     "cell_type": "markdown",
     "metadata": {},
     "source": [
      "$\\left. \\dfrac{d}{dx} g(f(x)) \\right|_{x =8}$"
     ]
    },
    {
     "cell_type": "markdown",
     "metadata": {},
     "source": [
      "<img src='images/q8chain.png' align='left' width=200/>"
     ]
    },
    {
     "cell_type": "markdown",
     "metadata": {},
     "source": [
      "$g'(f(8)) \\cdot f'(8)$\n",
      "\n",
      "$g'(1) \\cdot f'(8)$\n",
      "\n",
      "$-9 \\cdot 3$"
     ]
    },
    {
     "cell_type": "markdown",
     "metadata": {},
     "source": [
      "<a id='howdoifindtangeline'></a>\n",
      "### How do I find the tangent line to a curve"
     ]
    },
    {
     "cell_type": "markdown",
     "metadata": {},
     "source": [
      "### What is implicit differentiation"
     ]
    },
    {
     "cell_type": "markdown",
     "metadata": {},
     "source": [
      "Say we're talking about the circle $x^2 + y^2 = 25$. It fails the vertical line test so  we can't differentiate because it's not a function.\n",
      "\n",
      "$y = f(x)$ satisfies the equation:\n",
      "\n",
      "$x^2 + f(x)^2 = 25$\n",
      "\n",
      "$\\dfrac{d}{dx} \\left[x^2 + f(x)^2 = 25\\right]$\n",
      "\n",
      "$2x + 2f'(x)f(x) = 0$ (chain rule $\\dfrac{d}{dx}f(x)^2 = 2f'(x)f'(x)$\n",
      "\n",
      "$f'(x) = \\dfrac{2x}{f(x)}$\n",
      "\n",
      "$f'(x) = \\dfrac{-x}{y}$\n"
     ]
    },
    {
     "cell_type": "markdown",
     "metadata": {},
     "source": [
      "$x^2 + y^3 = 1$\n",
      "\n",
      "$x^2 + f(x)^3 = 1$\n",
      "\n",
      "$\\dfrac{d}{dx}\\left(x^2 + f(x)^3 = 1\\right)$\n",
      "\n",
      "$2x + 3f(x)^2f'(x) = 0$\n",
      "\n",
      "$2x + 3y^2y = 0$\n"
     ]
    },
    {
     "cell_type": "markdown",
     "metadata": {},
     "source": [
      "### What is the folium of DesCartes"
     ]
    },
    {
     "cell_type": "markdown",
     "metadata": {},
     "source": [
      "folim = leaf\n",
      "\n",
      "$x^3 + y^3 - 9xy = 0$\n",
      "\n",
      "Let's take the derivative\n",
      "\n",
      "product rule: $\\dfrac{d}{dx}-9yx = -9y \\cdot 1 - 9\\dfrac{dy}{dx}x$\n",
      "\n",
      "$3x^2 + 3y^2\\dfrac{dy}{dx} - 9y - 9x\\dfrac{dy}{dx}=0$\n",
      "\n",
      "$3x^2 - 9y + 3y^2\\dfrac{dy}{dx}  - 9x\\dfrac{dy}{dx}=0$\n",
      "\n",
      "$\\dfrac{dy}{dx}\\left(3y^2 - 9x\\right) = $\n",
      "\n",
      "$\\dfrac{dy}{dx}=\\dfrac{9y - 3x^2}{ 3y^2-9x}$\n",
      "\n"
     ]
    },
    {
     "cell_type": "markdown",
     "metadata": {},
     "source": [
      "### Quiz: How do I find the tangent line to a curve?\n"
     ]
    },
    {
     "cell_type": "markdown",
     "metadata": {},
     "source": [
      "Suppose $f:[\u22121,1] \\to \\mathbb{R}$  is a function with the property that $x^2+f(x)^2=1$ and suppose $f(3/5)=\u22124/5$. Use implicit differentiation to compute $f\u2032(3/5)$."
     ]
    },
    {
     "cell_type": "markdown",
     "metadata": {},
     "source": [
      "$2x + 2f(x)\\cdot f'(x) = 0$\n",
      "\n",
      "$f'(x) = \\dfrac{-2x}{2f(x)}$\n",
      "\n",
      "$f'(x) = \\dfrac{-x}{f(x)}$\n",
      "\n",
      "$f'(\\dfrac{3}{5}) = \\dfrac{\\dfrac{-3}{5}}{f(\\dfrac{3}{5})}$\n",
      "\n",
      "$f'(\\dfrac{3}{5}) = \\dfrac{\\dfrac{-3}{5}}{\\dfrac{-4}{5}}$\n",
      "\n",
      "$f'(\\dfrac{3}{5}) = \\dfrac{-3}{5} \\cdot \\dfrac{-5}{4}$\n",
      "\n",
      "$f'(\\dfrac{3}{5}) = \\dfrac{3}{4}$"
     ]
    },
    {
     "cell_type": "markdown",
     "metadata": {},
     "source": [
      "---\n",
      "\n",
      "Suppose $f:(0, 2) \\to \\mathbb{R}$  is a function with the property that $x^2+f(x)^3=9$ and suppose $f(1)=2$. Use implicit differentiation to compute $f\u2032(1)$."
     ]
    },
    {
     "cell_type": "markdown",
     "metadata": {},
     "source": [
      "$2x + 3f(x)^2f'(x) = 0$\n",
      "\n",
      "$f'(x) = \\dfrac{-2x}{3f(x)^2}$\n",
      "\n",
      "$f'(1) = \\dfrac{-2\\cdot 1}{3 \\cdot f(1)^2}$\n",
      "\n",
      "$f'(1) = \\dfrac{-2}{3\\cdot 4}$\n",
      "\n",
      "$f'(1) = \\dfrac{-1}{6}$"
     ]
    },
    {
     "cell_type": "markdown",
     "metadata": {},
     "source": [
      "<a id='derivateinverse'></a>\n",
      "### How do I find the derivative of an inverse function\n"
     ]
    },
    {
     "cell_type": "markdown",
     "metadata": {},
     "source": [
      "### How does $\\left(f^{-1}\\right)'(x)$ relate to $f'(x)$"
     ]
    },
    {
     "cell_type": "markdown",
     "metadata": {},
     "source": [
      "<img src='images/inverse_theorem.png' width=400/>"
     ]
    },
    {
     "cell_type": "code",
     "collapsed": false,
     "input": [
      "from IPython.display import YouTubeVideo\n",
      "from datetime import timedelta\n",
      "YouTubeVideo('50i9-lVoIWs', start=int(timedelta(minutes=1, seconds=28).total_seconds()))"
     ],
     "language": "python",
     "metadata": {},
     "outputs": [
      {
       "html": [
        "\n",
        "        <iframe\n",
        "            width=\"400\"\n",
        "            height=300\"\n",
        "            src=\"https://www.youtube.com/embed/50i9-lVoIWs?start=88\"\n",
        "            frameborder=\"0\"\n",
        "            allowfullscreen\n",
        "        ></iframe>\n",
        "        "
       ],
       "metadata": {},
       "output_type": "pyout",
       "prompt_number": 104,
       "text": [
        "<IPython.lib.display.YouTubeVideo at 0x10c392610>"
       ]
      }
     ],
     "prompt_number": 104
    },
    {
     "cell_type": "markdown",
     "metadata": {},
     "source": [
      "$y = f(x)$\n",
      "\n",
      "$x = f^{-1}(y)$\n",
      "\n",
      "$f'(x) = \\dfrac{dy}{dx}$\n",
      "\n",
      "$\\left(f^{-1}\\right)(y) = \\dfrac{dx}{dy}$\n",
      "\n",
      "$\\dfrac{dx}{dy} = \\dfrac{1}{\\frac{dy}{dx}}$\n",
      "\n",
      "$\\left. \\dfrac{dx}{dy} \\right|_{y=f(a)}= \\dfrac{1}{\\left. \\dfrac{dy}{dx} \\right|_{x =a}}$"
     ]
    },
    {
     "cell_type": "markdown",
     "metadata": {},
     "source": [
      "---\n",
      "Easier if we use the chain rule\n",
      "\n",
      "$f(f^{-1}(x)) = x$ (by the definition of inverse)\n",
      "\n",
      "$\\dfrac{d}{dx}f(f^{-1}(x)) = \\dfrac{d}{dx}x$\n",
      "\n",
      "$f'(f^{-1}(x)) \\cdot (f^{-1})'(x) = 1$\n",
      "\n",
      "$(f^{-1})'(x) = \\dfrac{1}{f'(f^{-1}(x))}$"
     ]
    },
    {
     "cell_type": "markdown",
     "metadata": {},
     "source": [
      "---\n",
      "\n",
      "Example:\n",
      "\n",
      "$f(x) = x^2$\n",
      "\n",
      "$f^{-1}(x) = \\sqrt{x}$\n",
      "\n",
      "$f'(x) = 2x$, and it's cts, $f'(x) \\neq 0$ where $x>0$\n",
      "\n",
      "$(f^{-1})'(x) = $\n",
      "\n",
      "$\\dfrac{1}{f'(f^{-1}(x))} =$\n",
      "\n",
      "$\\dfrac{1}{f'(\\sqrt{x})} =$\n",
      "\n",
      "$\\dfrac{1}{f'(\\sqrt{x})} =$\n",
      "\n",
      "$\\dfrac{1}{2\\sqrt{x}}$ : the derivative of the inverse"
     ]
    },
    {
     "cell_type": "markdown",
     "metadata": {},
     "source": [
      "**We can also see this numerically**\n",
      "\n",
      "$\\sqrt{10000} = 100$\n",
      "\n",
      "$\\sqrt{?} = 100.1$\n",
      "\n",
      "$\\dfrac{d}{dx}\\sqrt{x} = \\dfrac{1}{2\\sqrt{x}}$\n",
      "\n",
      "$\\dfrac{d}{dx}\\sqrt{x} = \\left.\\dfrac{1}{2\\sqrt{x}}\\right|_{x=10000}=\\dfrac{1}{200}$\n",
      "\n",
      "$\\dfrac{d}{dx}x^2 = 2x = 200$\n",
      "\n",
      "$\\dfrac{d}{dx}x^2 = \\left. 2x\\right|_{x=100} = 200$\n",
      "\n",
      "So back to the original question. The ratio of the change of the input to the output is 200. If we want a change of 0.1, we should multiply 200 * 0.1 and change the input by about 20"
     ]
    },
    {
     "cell_type": "code",
     "collapsed": false,
     "input": [
      "N(sqrt(10000 + 20))"
     ],
     "language": "python",
     "metadata": {},
     "outputs": [
      {
       "latex": [
        "$$100.099950049938$$"
       ],
       "metadata": {},
       "output_type": "pyout",
       "png": "[encoded data removed]",
       "prompt_number": 109,
       "text": [
        "100.099950049938"
       ]
      }
     ],
     "prompt_number": 109
    },
    {
     "cell_type": "markdown",
     "metadata": {},
     "source": [
      "### What is the derivative of $log$"
     ]
    },
    {
     "cell_type": "markdown",
     "metadata": {},
     "source": [
      "$e^x = y$\n",
      "\n",
      "$\\log y = x$\n",
      "\n",
      "$e^{x+y} = e^xe^y$\n",
      "\n",
      "$\\log(ab) = \\log a + \\log b$\n",
      "\n",
      "$log$s turn products into sums! Great for calculating compound returns\n"
     ]
    },
    {
     "cell_type": "markdown",
     "metadata": {},
     "source": [
      "$f(x) = e^x$\n",
      "\n",
      "$f^{-1}(x) = \\log x$\n",
      "\n",
      "take derivative of both sides\n",
      "\n",
      "$f(f^{-1}(x)) = x$ (by the definition of inverse)\n",
      " \n",
      "$\\dfrac{d}{dx}f(f^{-1}(x)) = \\dfrac{d}{dx}x$\n",
      " \n",
      "$f'(f^{-1}(x)) \\cdot (f^{-1})'(x) = 1$\n",
      " \n",
      "$(f^{-1})'(x) = $\n",
      "\n",
      "$\\dfrac{1}{f'(f^{-1}(x))}= $\n",
      "\n",
      "the neat thing here is $\\dfrac{d}{dx}f(x) = f(x) \\therefore$\n",
      "\n",
      "$\\dfrac{1}{f(f^{-1}(x))} =$\n",
      "\n",
      "Now remember that $f(f^{-1}(x)) = x \\therefore $\n",
      "\n",
      "$\\dfrac{1}{x}$"
     ]
    },
    {
     "cell_type": "code",
     "collapsed": false,
     "input": [
      "fx = log(x)"
     ],
     "language": "python",
     "metadata": {},
     "outputs": [],
     "prompt_number": 113
    },
    {
     "cell_type": "code",
     "collapsed": false,
     "input": [
      "plot(fx);"
     ],
     "language": "python",
     "metadata": {},
     "outputs": [
      {
       "metadata": {},
       "output_type": "display_data",
       "png": "[encoded data removed]",
       "text": [
        "<matplotlib.figure.Figure at 0x10b524450>"
       ]
      }
     ],
     "prompt_number": 117
    },
    {
     "cell_type": "code",
     "collapsed": false,
     "input": [
      "n = int(1e6)\n",
      "x = range(n, n+2)"
     ],
     "language": "python",
     "metadata": {},
     "outputs": [],
     "prompt_number": 124
    },
    {
     "cell_type": "code",
     "collapsed": false,
     "input": [
      "pd.DataFrame(zip(x, [N(log(_)) for _ in x]), columns = ['x', 'log x'])"
     ],
     "language": "python",
     "metadata": {},
     "outputs": [
      {
       "html": [
        "<div style=\"max-height:1000px;max-width:1500px;overflow:auto;\">\n",
        "<table border=\"1\" class=\"dataframe\">\n",
        "  <thead>\n",
        "    <tr style=\"text-align: right;\">\n",
        "      <th></th>\n",
        "      <th>x</th>\n",
        "      <th>log x</th>\n",
        "    </tr>\n",
        "  </thead>\n",
        "  <tbody>\n",
        "    <tr>\n",
        "      <th>0</th>\n",
        "      <td> 1000000</td>\n",
        "      <td> 13.8155105579643</td>\n",
        "    </tr>\n",
        "    <tr>\n",
        "      <th>1</th>\n",
        "      <td> 1000001</td>\n",
        "      <td> 13.8155115579638</td>\n",
        "    </tr>\n",
        "  </tbody>\n",
        "</table>\n",
        "</div>"
       ],
       "metadata": {},
       "output_type": "pyout",
       "prompt_number": 128,
       "text": [
        "         x             log x\n",
        "0  1000000  13.8155105579643\n",
        "1  1000001  13.8155115579638"
       ]
      }
     ],
     "prompt_number": 128
    },
    {
     "cell_type": "markdown",
     "metadata": {},
     "source": [
      "$\\dfrac{d}{dx}\\log_b x = $\n",
      "\n",
      "$\\dfrac{d}{dx} \\dfrac{\\log x}{\\log b} = $ \n",
      "\n",
      "$\\dfrac{1}{\\log b} \\cdot \\dfrac{d}{dx}\\log x = $\n",
      "\n",
      "$\\dfrac{1}{\\log b} \\cdot \\dfrac{1}{x} = $\n",
      "\n",
      "$\\dfrac{1}{x \\log b}$"
     ]
    },
    {
     "cell_type": "markdown",
     "metadata": {},
     "source": [
      "---\n",
      "$ \\dfrac{d}{dx} 2^x=?$\n",
      "\n",
      "$\\dfrac{d}{dx} \\left(e^{\\log 2}\\right)^x=$\n",
      "\n",
      "use the chain rule\n",
      "\n",
      "$\\dfrac{d}{dx} g(f(x)) = g'(f(x)) \\cdot f'(x)$\n",
      "\n",
      "$g(x) = e^x$\n",
      "\n",
      "$f(x) = \\log 2 \\cdot x$\n",
      "\n",
      "$e^{\\log 2 \\cdot x} \\cdot \\log 2=$\n",
      "\n",
      "$2x \\cdot\\log 2$\n",
      "\n",
      "---\n",
      "$ \\dfrac{d}{dx} 2^n=$\n",
      "\n",
      "$nx \\cdot\\log n$"
     ]
    },
    {
     "cell_type": "markdown",
     "metadata": {},
     "source": [
      "### What is logarithmic differentiation?"
     ]
    },
    {
     "cell_type": "markdown",
     "metadata": {},
     "source": [
      "You could differentiate some nasty shit like \n",
      "\n",
      "$y = \\dfrac{(1+x^2)^5\\cdot (1+x^3)^8}{(1 + x^4)^7}$\n",
      "\n",
      "You could just use the rules you already have. suck\n",
      "\n",
      "instead lets use logs. logs turn exponentiation into muliplication, and multiplication into addition\n",
      "\n",
      "$\\log y = \\log\\left( {\\dfrac{(1+x^2)^5\\cdot (1+x^3)^8}{(1 + x^4)^7}}\\right)=$\n",
      "\n",
      "remember chain rule says:\n",
      "\n",
      "$\\dfrac{d}{dx}\\log y = \\dfrac{d}{dx}\\log y \\dfrac{dy}{dx} = \\dfrac{1}{y}\\dfrac{dy}{dx}$\n",
      "\n",
      "$\\dfrac{1}{y}\\dfrac{dy}{dx} = 5\\log(1+x^2) + 8\\log(1+x^3) - 7\\log(1+x^4) $\n",
      "\n",
      "$\\dfrac{1}{y}\\dfrac{dy}{dx} = \\dfrac{5 \\cdot 2x}{1+x^2} + \\dfrac{8\\cdot 3x^2}{1+x^3} - \\dfrac{7\\cdot 4x^3}{1+x^4} $\n",
      "\n",
      "$\\dfrac{1}{y}\\dfrac{dy}{dx} = \\dfrac{10x}{1+x^2} + \\dfrac{24x^2}{1+x^3} - \\dfrac{28x^3}{1+x^4} $\n",
      "\n",
      "$y\\cdot \\dfrac{1}{y}\\dfrac{dy}{dx} = y\\cdot \\left(\\dfrac{10x}{1+x^2} + \\dfrac{24x^2}{1+x^3} - \\dfrac{28x^3}{1+x^4}\\right) $\n",
      "\n",
      "$\\dfrac{dy}{dx} = \\left( {\\dfrac{(1+x^2)^5\\cdot (1+x^3)^8}{(1 + x^4)^7}}\\right)\\cdot \\left(\\dfrac{10x}{1+x^2} + \\dfrac{24x^2}{1+x^3} - \\dfrac{28x^3}{1+x^4}\\right) $"
     ]
    },
    {
     "cell_type": "code",
     "collapsed": false,
     "input": [
      "# Lets see what sympy thinks\n",
      "x = symbols('x')\n",
      "y = ((1+x**2)**5 * (1+x**3)**8)/ (1+x**4)**7\n",
      "y"
     ],
     "language": "python",
     "metadata": {},
     "outputs": [
      {
       "latex": [
        "$$\\frac{\\left(x^{2} + 1\\right)^{5} \\left(x^{3} + 1\\right)^{8}}{\\left(x^{4} + 1\\right)^{7}}$$"
       ],
       "metadata": {},
       "output_type": "pyout",
       "png": "[encoded data removed]",
       "prompt_number": 141,
       "text": [
        "        5         8\n",
        "\u239b 2    \u239e  \u239b 3    \u239e \n",
        "\u239dx  + 1\u23a0 \u22c5\u239dx  + 1\u23a0 \n",
        "\u2500\u2500\u2500\u2500\u2500\u2500\u2500\u2500\u2500\u2500\u2500\u2500\u2500\u2500\u2500\u2500\u2500\u2500\u2500\n",
        "             7     \n",
        "     \u239b 4    \u239e      \n",
        "     \u239dx  + 1\u23a0      "
       ]
      }
     ],
     "prompt_number": 141
    },
    {
     "cell_type": "code",
     "collapsed": false,
     "input": [
      "diff(y)"
     ],
     "language": "python",
     "metadata": {},
     "outputs": [
      {
       "latex": [
        "$$- \\frac{28 x^{3} \\left(x^{2} + 1\\right)^{5}}{\\left(x^{4} + 1\\right)^{8}} \\left(x^{3} + 1\\right)^{8} + \\frac{24 x^{2} \\left(x^{2} + 1\\right)^{5}}{\\left(x^{4} + 1\\right)^{7}} \\left(x^{3} + 1\\right)^{7} + \\frac{10 x \\left(x^{2} + 1\\right)^{4}}{\\left(x^{4} + 1\\right)^{7}} \\left(x^{3} + 1\\right)^{8}$$"
       ],
       "metadata": {},
       "output_type": "pyout",
       "png": "[encoded data removed]",
       "prompt_number": 142,
       "text": [
        "                5         8                 5         7                4      \n",
        "      3 \u239b 2    \u239e  \u239b 3    \u239e        2 \u239b 2    \u239e  \u239b 3    \u239e         \u239b 2    \u239e  \u239b 3  \n",
        "  28\u22c5x \u22c5\u239dx  + 1\u23a0 \u22c5\u239dx  + 1\u23a0    24\u22c5x \u22c5\u239dx  + 1\u23a0 \u22c5\u239dx  + 1\u23a0    10\u22c5x\u22c5\u239dx  + 1\u23a0 \u22c5\u239dx  +\n",
        "- \u2500\u2500\u2500\u2500\u2500\u2500\u2500\u2500\u2500\u2500\u2500\u2500\u2500\u2500\u2500\u2500\u2500\u2500\u2500\u2500\u2500\u2500\u2500\u2500\u2500 + \u2500\u2500\u2500\u2500\u2500\u2500\u2500\u2500\u2500\u2500\u2500\u2500\u2500\u2500\u2500\u2500\u2500\u2500\u2500\u2500\u2500\u2500\u2500\u2500\u2500 + \u2500\u2500\u2500\u2500\u2500\u2500\u2500\u2500\u2500\u2500\u2500\u2500\u2500\u2500\u2500\u2500\u2500\u2500\u2500\u2500\n",
        "                  8                           7                          7    \n",
        "          \u239b 4    \u239e                    \u239b 4    \u239e                   \u239b 4    \u239e     \n",
        "          \u239dx  + 1\u23a0                    \u239dx  + 1\u23a0                   \u239dx  + 1\u23a0     \n",
        "\n",
        "   8\n",
        "  \u239e \n",
        " 1\u23a0 \n",
        "\u2500\u2500\u2500\u2500\n",
        "    \n",
        "    \n",
        "    "
       ]
      }
     ],
     "prompt_number": 142
    },
    {
     "cell_type": "markdown",
     "metadata": {},
     "source": [
      "### Quiz : How do I find the derivative of an inverse function?"
     ]
    },
    {
     "cell_type": "markdown",
     "metadata": {},
     "source": [
      "**1**\n",
      "\n",
      "Suppose that $f(\u22121)=1$, and $f\u2032(\u22121)=6$. Using this information you can determine one and only one value of the derivative of $f^{\u22121}(x)$.\n",
      "\n",
      "$f(f^{-1}(x)) = x$\n",
      "\n",
      "$f(f^{-1}(1)) = 1$\n",
      "\n",
      "$f(-1) = 1$\n",
      "\n",
      "$\\therefore$\n",
      "\n",
      "$f^{-1}({-1}) = {-1}$\n",
      "\n",
      "and \n",
      "\n",
      "$(f^{-1})'(x) = \\dfrac{1}{f'(f^{-1}(x))}= $\n",
      "\n",
      "$(f^{-1})'(-1) = \\dfrac{1}{f'(f^{-1}(-1))}= $\n",
      "\n",
      "$(f^{-1})'(-1) = \\dfrac{1}{f'(-1)}= \\dfrac{1}{6}$\n"
     ]
    },
    {
     "cell_type": "markdown",
     "metadata": {},
     "source": [
      "---\n",
      "\n",
      "**2**\n",
      "\n",
      "Suppose that $f(\u22122)=4$, and $f\u2032(\u22122)=8$. Using this information you can determine one and only one value of the derivative of $f^{\u22121}(x)$.\n",
      "\n",
      "$f(\u22122)=4$\n",
      "\n",
      "$f\u2032(\u22122)=8$\n",
      "\n",
      "$\\left(f^{\u22121}\\right)'(x)=?$"
     ]
    },
    {
     "cell_type": "markdown",
     "metadata": {},
     "source": [
      "$f\\left(f^{-1}(x)\\right)= x$\n",
      "\n",
      "$f\\left(f^{-1}(4)\\right)= 4 = f(-2)$\n",
      "\n",
      "$\\therefore f^{-1}(4)=-2$\n",
      "\n",
      "$\\left(f^{-1}\\right)'(x) = \\dfrac{1}{f'(f^{-1}(x))} $\n",
      "\n",
      "$\\left(f^{-1}\\right)'(4) = \\dfrac{1}{f'(f^{-1}(4))} $\n",
      "\n",
      "$\\left(f^{-1}\\right)'(4) = \\dfrac{1}{f'(-2)} $\n",
      "\n",
      "$\\left(f^{-1}\\right)'(4) = \\dfrac{1}{8} $"
     ]
    },
    {
     "cell_type": "markdown",
     "metadata": {},
     "source": [
      "---\n",
      "\n",
      "**3**\n",
      "\n",
      "Find the derivative of $\\log(4x^3\u22123x^2+7x\u22126)$\n",
      " "
     ]
    },
    {
     "cell_type": "markdown",
     "metadata": {},
     "source": [
      "$y = \\log(4x^3\u22123x^2+7x\u22126)$\n",
      "\n",
      "$y' = \\dfrac{1}{4x^3\u22123x^2+7x\u22126} \\cdot \\left(12x^2 - 6x + 7\\right)$\n",
      "\n",
      "$y' = \\dfrac{12x^2 - 6x + 7}{4x^3\u22123x^2+7x\u22126}$"
     ]
    },
    {
     "cell_type": "code",
     "collapsed": false,
     "input": [
      "fx = log(4*x**3 - 3*x**2 + 7*x - 6)\n",
      "fx"
     ],
     "language": "python",
     "metadata": {},
     "outputs": [
      {
       "latex": [
        "$$\\log{\\left (4 x^{3} - 3 x^{2} + 7 x - 6 \\right )}$$"
       ],
       "metadata": {},
       "output_type": "pyout",
       "png": "[encoded data removed]",
       "prompt_number": 147,
       "text": [
        "   \u239b   3      2          \u239e\n",
        "log\u239d4\u22c5x  - 3\u22c5x  + 7\u22c5x - 6\u23a0"
       ]
      }
     ],
     "prompt_number": 147
    },
    {
     "cell_type": "code",
     "collapsed": false,
     "input": [
      "diff(fx)"
     ],
     "language": "python",
     "metadata": {},
     "outputs": [
      {
       "latex": [
        "$$\\frac{12 x^{2} - 6 x + 7}{4 x^{3} - 3 x^{2} + 7 x - 6}$$"
       ],
       "metadata": {},
       "output_type": "pyout",
       "png": "[encoded data removed]",
       "prompt_number": 148,
       "text": [
        "       2             \n",
        "   12\u22c5x  - 6\u22c5x + 7   \n",
        "\u2500\u2500\u2500\u2500\u2500\u2500\u2500\u2500\u2500\u2500\u2500\u2500\u2500\u2500\u2500\u2500\u2500\u2500\u2500\u2500\u2500\n",
        "   3      2          \n",
        "4\u22c5x  - 3\u22c5x  + 7\u22c5x - 6"
       ]
      }
     ],
     "prompt_number": 148
    },
    {
     "cell_type": "code",
     "collapsed": false,
     "input": [
      "print(diff(fx))"
     ],
     "language": "python",
     "metadata": {},
     "outputs": [
      {
       "output_type": "stream",
       "stream": "stdout",
       "text": [
        "(12*x**2 - 6*x + 7)/(4*x**3 - 3*x**2 + 7*x - 6)\n"
       ]
      }
     ],
     "prompt_number": 149
    },
    {
     "cell_type": "markdown",
     "metadata": {},
     "source": [
      "---\n",
      "\n",
      "**4**\n",
      "\n",
      "Find the derivative of $\\log\\left(6x + 7\\right)$\n",
      "\n",
      "$\\dfrac{1}{6x+7} \\cdot 6$"
     ]
    },
    {
     "cell_type": "code",
     "collapsed": false,
     "input": [
      "fx = log(6*x + 7)\n",
      "fx"
     ],
     "language": "python",
     "metadata": {},
     "outputs": [
      {
       "latex": [
        "$$\\log{\\left (6 x + 7 \\right )}$$"
       ],
       "metadata": {},
       "output_type": "pyout",
       "png": "[encoded data removed]",
       "prompt_number": 151,
       "text": [
        "log(6\u22c5x + 7)"
       ]
      }
     ],
     "prompt_number": 151
    },
    {
     "cell_type": "code",
     "collapsed": false,
     "input": [
      "diff(fx)"
     ],
     "language": "python",
     "metadata": {},
     "outputs": [
      {
       "latex": [
        "$$\\frac{6}{6 x + 7}$$"
       ],
       "metadata": {},
       "output_type": "pyout",
       "png": "[encoded data removed]",
       "prompt_number": 152,
       "text": [
        "   6   \n",
        "\u2500\u2500\u2500\u2500\u2500\u2500\u2500\n",
        "6\u22c5x + 7"
       ]
      }
     ],
     "prompt_number": 152
    },
    {
     "cell_type": "code",
     "collapsed": false,
     "input": [
      "print(diff(fx))"
     ],
     "language": "python",
     "metadata": {},
     "outputs": [
      {
       "output_type": "stream",
       "stream": "stdout",
       "text": [
        "6/(6*x + 7)\n"
       ]
      }
     ],
     "prompt_number": 154
    },
    {
     "cell_type": "markdown",
     "metadata": {},
     "source": [
      "---\n",
      "\n",
      "**5**\n",
      "\n",
      "Suppose that $f(\u22126)=8$, and $f\u2032(\u22126)=5$. Using this information you can determine one and only one value of the derivative of $f^{\u22121}(x)$.\n",
      "\n",
      "$f(\u22126)=8$\n",
      "\n",
      "$f\u2032(\u22126)=5$\n",
      "\n",
      "$\\left(f^{\u22121}\\right)'(x)=?$\n",
      "\n",
      "$\\left(f^{\u22121}\\right)'(x)= \\dfrac{1}{f'\\left(f^{-1}(x)\\right)}$"
     ]
    },
    {
     "cell_type": "markdown",
     "metadata": {},
     "source": [
      "$f\\left(f^{\u22121}(x)\\right) = x$\n",
      "\n",
      "$f\\left(f^{\u22121}(8)\\right) = 8 = f(-6)$\n",
      "\n",
      "$\\therefore f^{\u22121}(8)=-6$\n",
      "\n",
      "$\\left(f^{\u22121}\\right)'(x)= \\dfrac{1}{f'\\left(f^{-1}(x)\\right)}$\n",
      "\n",
      "$\\left(f^{\u22121}\\right)'(8)= \\dfrac{1}{f'(-6)}$\n",
      "\n",
      "$\\left(f^{\u22121}\\right)'(8)= \\dfrac{1}{5}$"
     ]
    },
    {
     "cell_type": "markdown",
     "metadata": {},
     "source": [
      "---\n",
      "\n",
      "**6**\n",
      "\n",
      "Find the derivative of $\\log(-4x^2 + 4x -1)$"
     ]
    },
    {
     "cell_type": "code",
     "collapsed": false,
     "input": [
      "fx = log(-4*x**2+4*x-1)\n",
      "fx"
     ],
     "language": "python",
     "metadata": {},
     "outputs": [
      {
       "latex": [
        "$$\\log{\\left (- 4 x^{2} + 4 x - 1 \\right )}$$"
       ],
       "metadata": {},
       "output_type": "pyout",
       "png": "[encoded data removed]",
       "prompt_number": 158,
       "text": [
        "   \u239b     2          \u239e\n",
        "log\u239d- 4\u22c5x  + 4\u22c5x - 1\u23a0"
       ]
      }
     ],
     "prompt_number": 158
    },
    {
     "cell_type": "code",
     "collapsed": false,
     "input": [
      "diff(fx)"
     ],
     "language": "python",
     "metadata": {},
     "outputs": [
      {
       "latex": [
        "$$\\frac{- 8 x + 4}{- 4 x^{2} + 4 x - 1}$$"
       ],
       "metadata": {},
       "output_type": "pyout",
       "png": "[encoded data removed]",
       "prompt_number": 159,
       "text": [
        "    -8\u22c5x + 4    \n",
        "\u2500\u2500\u2500\u2500\u2500\u2500\u2500\u2500\u2500\u2500\u2500\u2500\u2500\u2500\u2500\u2500\n",
        "     2          \n",
        "- 4\u22c5x  + 4\u22c5x - 1"
       ]
      }
     ],
     "prompt_number": 159
    },
    {
     "cell_type": "code",
     "collapsed": false,
     "input": [
      "print(diff(fx))"
     ],
     "language": "python",
     "metadata": {},
     "outputs": [
      {
       "output_type": "stream",
       "stream": "stdout",
       "text": [
        "(-8*x + 4)/(-4*x**2 + 4*x - 1)\n"
       ]
      }
     ],
     "prompt_number": 160
    },
    {
     "cell_type": "code",
     "collapsed": false,
     "input": [],
     "language": "python",
     "metadata": {},
     "outputs": []
    }
   ],
   "metadata": {}
  }
 ]
}