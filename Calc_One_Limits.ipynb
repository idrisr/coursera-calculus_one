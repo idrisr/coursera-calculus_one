{
 "metadata": {
  "name": "",
  "signature": "sha256:e5ffae62578a17468a423a2f439f3d60314e6f9d802c87ae294e7e0f762259f6"
 },
 "nbformat": 3,
 "nbformat_minor": 0,
 "worksheets": [
  {
   "cells": [
    {
     "cell_type": "heading",
     "level": 6,
     "metadata": {
      "slideshow": {
       "slide_type": "slide"
      }
     },
     "source": [
      "In the Coursera class Calculus One lecture \"Limits, What's a Limit\" the teacher asks if there are other functions other than sin(1/x) that do not approach a single value. I played around with this and found cos(1/x), "
     ]
    },
    {
     "cell_type": "code",
     "collapsed": false,
     "input": [
      "import math\n",
      "import matplotlib.pyplot as plt\n",
      "from IPython.display import display, Math, Latex"
     ],
     "language": "python",
     "metadata": {
      "slideshow": {
       "slide_type": "slide"
      }
     },
     "outputs": [],
     "prompt_number": 119
    },
    {
     "cell_type": "code",
     "collapsed": false,
     "input": [
      "f_cos = lambda x: math.cos(x)\n",
      "f_inv_cos = lambda x: math.cos(1 / x)\n",
      "f_tan = lambda x: math.tan(1 / x)\n",
      "f_inv_tan = lambda x: math.tan(x)"
     ],
     "language": "python",
     "metadata": {
      "slideshow": {
       "slide_type": "slide"
      }
     },
     "outputs": [],
     "prompt_number": 120
    },
    {
     "cell_type": "code",
     "collapsed": false,
     "input": [
      "x = [1.0/_ for _ in range(1, 100)]"
     ],
     "language": "python",
     "metadata": {
      "slideshow": {
       "slide_type": "slide"
      }
     },
     "outputs": [],
     "prompt_number": 121
    },
    {
     "cell_type": "code",
     "collapsed": false,
     "input": [
      "%matplotlib inline"
     ],
     "language": "python",
     "metadata": {
      "slideshow": {
       "slide_type": "skip"
      }
     },
     "outputs": [],
     "prompt_number": 122
    },
    {
     "cell_type": "code",
     "collapsed": false,
     "input": [
      "def show_plot(f, x):\n",
      "    y = [f(_) for _ in x]\n",
      "    plt.plot(x, y)\n",
      "    plt.show()"
     ],
     "language": "python",
     "metadata": {},
     "outputs": [],
     "prompt_number": 123
    },
    {
     "cell_type": "heading",
     "level": 2,
     "metadata": {},
     "source": [
      "The plot of f(x) = cos(x), as x approaches 0. From the graph , it appears that the limit does exist."
     ]
    },
    {
     "cell_type": "code",
     "collapsed": false,
     "input": [
      "s = r'\\lim_{x \\to 0} \\sin (1 / x)'\n",
      "display(Math(s))"
     ],
     "language": "python",
     "metadata": {},
     "outputs": [
      {
       "latex": [
        "$$\\lim_{x \\to 0} \\sin (1 / x)$$"
       ],
       "metadata": {},
       "output_type": "display_data",
       "text": [
        "<IPython.core.display.Math at 0x11217a550>"
       ]
      }
     ],
     "prompt_number": 124
    },
    {
     "cell_type": "code",
     "collapsed": false,
     "input": [
      "show_plot(f_cos, x)"
     ],
     "language": "python",
     "metadata": {},
     "outputs": [
      {
       "metadata": {},
       "output_type": "display_data",
       "png": "[encoded data removed]",
       "text": [
        "<matplotlib.figure.Figure at 0x11217aa50>"
       ]
      }
     ],
     "prompt_number": 125
    },
    {
     "cell_type": "heading",
     "level": 2,
     "metadata": {},
     "source": [
      "The plot of f(x) = cos(1/x), as x approaches 0. From the graph , it appears that the limit does not exist."
     ]
    },
    {
     "cell_type": "code",
     "collapsed": false,
     "input": [
      "s = r'\\lim_{x \\to 0} \\cos (1 / x)'\n",
      "display(Math(s))"
     ],
     "language": "python",
     "metadata": {},
     "outputs": [
      {
       "latex": [
        "$$\\lim_{x \\to 0} \\cos (1 / x)$$"
       ],
       "metadata": {},
       "output_type": "display_data",
       "text": [
        "<IPython.core.display.Math at 0x1121a5910>"
       ]
      }
     ],
     "prompt_number": 126
    },
    {
     "cell_type": "code",
     "collapsed": false,
     "input": [
      "show_plot(f_inv_cos, x)"
     ],
     "language": "python",
     "metadata": {},
     "outputs": [
      {
       "metadata": {},
       "output_type": "display_data",
       "png": "[encoded data removed]",
       "text": [
        "<matplotlib.figure.Figure at 0x10fe798d0>"
       ]
      }
     ],
     "prompt_number": 127
    },
    {
     "cell_type": "code",
     "collapsed": false,
     "input": [
      "show_plot(f_inv_tan, x)"
     ],
     "language": "python",
     "metadata": {},
     "outputs": [
      {
       "metadata": {},
       "output_type": "display_data",
       "png": "[encoded data removed]",
       "text": [
        "<matplotlib.figure.Figure at 0x10fe4fcd0>"
       ]
      }
     ],
     "prompt_number": 128
    },
    {
     "cell_type": "code",
     "collapsed": false,
     "input": [
      "show_plot(f_tan, x)"
     ],
     "language": "python",
     "metadata": {},
     "outputs": [
      {
       "metadata": {},
       "output_type": "display_data",
       "png": "[encoded data removed]",
       "text": [
        "<matplotlib.figure.Figure at 0x10f8866d0>"
       ]
      }
     ],
     "prompt_number": 129
    }
   ],
   "metadata": {}
  }
 ]
}