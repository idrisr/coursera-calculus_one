{
 "metadata": {
  "name": "",
  "signature": "sha256:81c8a4a37eca5f390c42c95cacd39a0efa8ea6b9884b2b5ff9df8fd48e30e12d"
 },
 "nbformat": 3,
 "nbformat_minor": 0,
 "worksheets": [
  {
   "cells": [
    {
     "cell_type": "markdown",
     "metadata": {},
     "source": [
      "1. Welcome to Calculus One\n",
      "1. [Functions and Limits](#limits)\n",
      "    1. Functions? What's a Function\n",
      "    1. Functions in the Real World\n",
      "    1. [Limits? What's a limit?](#whatsalimit)\n",
      "    1. [Working with Limits](#workingwithlimits)\n",
      "    1. [Limits in Motion](#limitsinmotion)\n",
      "1. [The End of Limits](#endoflimits)\n",
      "    1. [Continuity](#continuity)\n",
      "    1. [$\\infty$. How can I work with that?](#infinity)\n",
      "    1. [Slope](#slope)\n",
      "1. [The Beginning of Derivatives](#beginningderivatives)\n",
      "    1. [What are derivatives](#whatarederivatives)\n",
      "    1. [Why would I care to find the derivative](#whywouldicaretofindthederivative)\n",
      "    1. [How do differentiability and continuity relate](#differentiabilitycontinuity)\n",
      "    1. [How do I find the derivative](#howdoifindthederivative)\n",
      "1. Techniques of Differentiation\n"
     ]
    },
    {
     "cell_type": "markdown",
     "metadata": {},
     "source": [
      "# Functions and Limits"
     ]
    },
    {
     "cell_type": "markdown",
     "metadata": {},
     "source": [
      "## Functions? What's a Function?"
     ]
    },
    {
     "cell_type": "markdown",
     "metadata": {},
     "source": [
      "## Functions in the Real World"
     ]
    },
    {
     "cell_type": "markdown",
     "metadata": {},
     "source": [
      "<a id='whatsalimit'></a>\n",
      "## Limits? What's a Limit?"
     ]
    },
    {
     "cell_type": "markdown",
     "metadata": {},
     "source": [
      "To say $\\lim_ {x \\to a} f(x) = L$ means $f(x)$ can be made as close to $L$ as desired by making $x$ close enough to $a$, but not $x = a$"
     ]
    },
    {
     "cell_type": "markdown",
     "metadata": {},
     "source": [
      "### Example"
     ]
    },
    {
     "cell_type": "markdown",
     "metadata": {},
     "source": [
      "$x \\mapsto \\frac{x^2 - 1}{x - 1}$"
     ]
    },
    {
     "cell_type": "code",
     "collapsed": false,
     "input": [
      "f = lambda x: (x**2 - 1) / (x - 1)"
     ],
     "language": "python",
     "metadata": {},
     "outputs": [],
     "prompt_number": 40
    },
    {
     "cell_type": "code",
     "collapsed": false,
     "input": [
      "x = 3\n",
      "f(x)"
     ],
     "language": "python",
     "metadata": {},
     "outputs": [
      {
       "metadata": {},
       "output_type": "pyout",
       "prompt_number": 41,
       "text": [
        "4"
       ]
      }
     ],
     "prompt_number": 41
    },
    {
     "cell_type": "code",
     "collapsed": false,
     "input": [
      "x = 1\n",
      "f(x) # Uh-oh! f(x) not defined at 1, but it is defined near 1"
     ],
     "language": "python",
     "metadata": {},
     "outputs": [
      {
       "ename": "ZeroDivisionError",
       "evalue": "integer division or modulo by zero",
       "output_type": "pyerr",
       "traceback": [
        "\u001b[0;31m---------------------------------------------------------------------------\u001b[0m\n\u001b[0;31mZeroDivisionError\u001b[0m                         Traceback (most recent call last)",
        "\u001b[0;32m<ipython-input-42-4a2218379edd>\u001b[0m in \u001b[0;36m<module>\u001b[0;34m()\u001b[0m\n\u001b[1;32m      1\u001b[0m \u001b[0mx\u001b[0m \u001b[0;34m=\u001b[0m \u001b[0;36m1\u001b[0m\u001b[0;34m\u001b[0m\u001b[0m\n\u001b[0;32m----> 2\u001b[0;31m \u001b[0mf\u001b[0m\u001b[0;34m(\u001b[0m\u001b[0mx\u001b[0m\u001b[0;34m)\u001b[0m \u001b[0;31m# Uh-oh! f(x) not defined at 1, but it is defined near 1\u001b[0m\u001b[0;34m\u001b[0m\u001b[0m\n\u001b[0m",
        "\u001b[0;32m<ipython-input-40-0db04e0c3cc0>\u001b[0m in \u001b[0;36m<lambda>\u001b[0;34m(x)\u001b[0m\n\u001b[0;32m----> 1\u001b[0;31m \u001b[0mf\u001b[0m \u001b[0;34m=\u001b[0m \u001b[0;32mlambda\u001b[0m \u001b[0mx\u001b[0m\u001b[0;34m:\u001b[0m \u001b[0;34m(\u001b[0m\u001b[0mx\u001b[0m\u001b[0;34m**\u001b[0m\u001b[0;36m2\u001b[0m \u001b[0;34m-\u001b[0m \u001b[0;36m1\u001b[0m\u001b[0;34m)\u001b[0m \u001b[0;34m/\u001b[0m \u001b[0;34m(\u001b[0m\u001b[0mx\u001b[0m \u001b[0;34m-\u001b[0m \u001b[0;36m1\u001b[0m\u001b[0;34m)\u001b[0m\u001b[0;34m\u001b[0m\u001b[0m\n\u001b[0m",
        "\u001b[0;31mZeroDivisionError\u001b[0m: integer division or modulo by zero"
       ]
      }
     ],
     "prompt_number": 42
    },
    {
     "cell_type": "code",
     "collapsed": false,
     "input": [
      "x = 1.1\n",
      "f(x)"
     ],
     "language": "python",
     "metadata": {},
     "outputs": [
      {
       "metadata": {},
       "output_type": "pyout",
       "prompt_number": 43,
       "text": [
        "2.1"
       ]
      }
     ],
     "prompt_number": 43
    },
    {
     "cell_type": "markdown",
     "metadata": {},
     "source": [
      "And if we keep getting closer to 0..."
     ]
    },
    {
     "cell_type": "code",
     "collapsed": false,
     "input": [
      "X = [1.1, 1.01, 1.001, 1.0001, 1.00001, 1.000001, 1.0000001, 1.00000001]"
     ],
     "language": "python",
     "metadata": {},
     "outputs": [],
     "prompt_number": 44
    },
    {
     "cell_type": "code",
     "collapsed": false,
     "input": [
      "print '\\n'.join(['x=%0.7f y=%0.7f' % (x, f(x), ) for x in X])"
     ],
     "language": "python",
     "metadata": {},
     "outputs": [
      {
       "output_type": "stream",
       "stream": "stdout",
       "text": [
        "x=1.1000000 y=2.1000000\n",
        "x=1.0100000 y=2.0100000\n",
        "x=1.0010000 y=2.0010000\n",
        "x=1.0001000 y=2.0001000\n",
        "x=1.0000100 y=2.0000100\n",
        "x=1.0000010 y=2.0000010\n",
        "x=1.0000001 y=2.0000001\n",
        "x=1.0000000 y=2.0000000\n"
       ]
      }
     ],
     "prompt_number": 45
    },
    {
     "cell_type": "markdown",
     "metadata": {},
     "source": [
      "Therefore \n",
      "\n",
      "$\\lim _{x \\to 2} \\frac{x^2 - 1}{x - 1} = 2$\n",
      "\n",
      "because I can make $\\frac{x^2 - 1}{x - 1}$ as close to $2$ as I want, if I make $x$ close enough to $1$.\n",
      "\n",
      "But we're just looking at a table of values. Is there a more convincing argument?"
     ]
    },
    {
     "cell_type": "markdown",
     "metadata": {},
     "source": [
      "$\\frac{x^2 - 1}{x - 1} = x + 1, if x \\neq 1$\n",
      "\n",
      "$\\lim_{x \\to 1}\\frac{x^2 - 1}{x - 1} = \\lim_{x \\to 1} x + 1$\n",
      "\n",
      "Beacuse the limit defintion explicitly says where $x \\neq a$, and in our case $a=1$, we don't have to say anything about $x \\neq 1$"
     ]
    },
    {
     "cell_type": "markdown",
     "metadata": {},
     "source": [
      "$\\lim_{x \\to 1} \\left(x + 1\\right) = \\lim_{x \\to 1}x + \\lim_{x \\to 1} 1$"
     ]
    },
    {
     "cell_type": "markdown",
     "metadata": {},
     "source": [
      "And when we put it all together, we have a more rigorous display of what we showed in the data table\n",
      "\n",
      "$ \n",
      "\\lim _{x \\to 2} \\frac{x^2 - 1}{x - 1} =\\\\\n",
      "\\lim_{x \\to 1} x + 1 = \\\\\n",
      "\\lim_{x \\to 1}x + \\lim_{x \\to 1}1=\\\\\n",
      "1 + 1 = \\\\\n",
      "2\n",
      "$"
     ]
    },
    {
     "cell_type": "markdown",
     "metadata": {},
     "source": [
      "### Examples"
     ]
    },
    {
     "cell_type": "markdown",
     "metadata": {},
     "source": [
      "\n",
      "In the Coursera class Calculus One lecture \"Limits, What's a Limit\" the instructuor asks if there are other functions other than $\\sin\\left(\\frac{1}{x}\\right)$ that do not approach a single value. I played around with this and found a few."
     ]
    },
    {
     "cell_type": "code",
     "collapsed": false,
     "input": [
      "import math\n",
      "import matplotlib.pyplot as plt\n",
      "%matplotlib inline"
     ],
     "language": "python",
     "metadata": {
      "slideshow": {
       "slide_type": "slide"
      }
     },
     "outputs": [],
     "prompt_number": 46
    },
    {
     "cell_type": "code",
     "collapsed": false,
     "input": [
      "f_cos = lambda x: math.cos(x)\n",
      "f_inv_cos = lambda x: math.cos(1 / x)\n",
      "f_tan = lambda x: math.tan(x)\n",
      "f_inv_tan = lambda x: math.tan(1 / x)\n",
      "f_sinx_x = lambda x: math.sin(x) / x\n",
      "f_inv_sinx_x = lambda x: math.sin(1 / x) / x"
     ],
     "language": "python",
     "metadata": {
      "slideshow": {
       "slide_type": "slide"
      }
     },
     "outputs": [],
     "prompt_number": 47
    },
    {
     "cell_type": "code",
     "collapsed": false,
     "input": [
      "n = 10000\n",
      "x = [1.0 / _ for _ in range(1, n)]\n",
      "neg_x = [-_ for _ in x]\n",
      "neg_x.extend(x[::-1])\n",
      "x = neg_x"
     ],
     "language": "python",
     "metadata": {
      "slideshow": {
       "slide_type": "slide"
      }
     },
     "outputs": [],
     "prompt_number": 48
    },
    {
     "cell_type": "code",
     "collapsed": false,
     "input": [],
     "language": "python",
     "metadata": {
      "slideshow": {
       "slide_type": "skip"
      }
     },
     "outputs": [],
     "prompt_number": 48
    },
    {
     "cell_type": "code",
     "collapsed": false,
     "input": [
      "def show_plot(f, x):\n",
      "    y = [f(_) for _ in x]\n",
      "    plt.plot(x, y)\n",
      "    plt.show()"
     ],
     "language": "python",
     "metadata": {},
     "outputs": [],
     "prompt_number": 49
    },
    {
     "cell_type": "markdown",
     "metadata": {},
     "source": [
      "---"
     ]
    },
    {
     "cell_type": "markdown",
     "metadata": {},
     "source": [
      "$\\lim_{x \\to 0} \\cos(x)$"
     ]
    },
    {
     "cell_type": "markdown",
     "metadata": {},
     "source": [
      "The plot of $f(x) = cos(x)$, as x approaches 0. From the graph , it appears that the limit does exist."
     ]
    },
    {
     "cell_type": "code",
     "collapsed": false,
     "input": [
      "show_plot(f_cos, x)"
     ],
     "language": "python",
     "metadata": {},
     "outputs": [
      {
       "metadata": {},
       "output_type": "display_data",
       "png": "[encoded data removed]",
       "text": [
        "<matplotlib.figure.Figure at 0x107ed0550>"
       ]
      }
     ],
     "prompt_number": 50
    },
    {
     "cell_type": "markdown",
     "metadata": {},
     "source": [
      "---"
     ]
    },
    {
     "cell_type": "markdown",
     "metadata": {},
     "source": [
      "$\\lim_{x \\to 0} \\cos\\left(\\frac{1}{x}\\right)$"
     ]
    },
    {
     "cell_type": "markdown",
     "metadata": {},
     "source": [
      "The plot of $f(x) = cos(x)$, as x approaches 0. From the graph , it appears that the limit does not exist."
     ]
    },
    {
     "cell_type": "code",
     "collapsed": false,
     "input": [
      "show_plot(f_inv_cos, x)"
     ],
     "language": "python",
     "metadata": {},
     "outputs": [
      {
       "metadata": {},
       "output_type": "display_data",
       "png": "[encoded data removed]",
       "text": [
        "<matplotlib.figure.Figure at 0x1079297d0>"
       ]
      }
     ],
     "prompt_number": 51
    },
    {
     "cell_type": "markdown",
     "metadata": {},
     "source": [
      "$\\lim_{x \\to 0} \\tan\\left(\\frac{1}{x}\\right)$"
     ]
    },
    {
     "cell_type": "code",
     "collapsed": false,
     "input": [
      "show_plot(f_inv_tan, x)"
     ],
     "language": "python",
     "metadata": {},
     "outputs": [
      {
       "metadata": {},
       "output_type": "display_data",
       "png": "[encoded data removed]",
       "text": [
        "<matplotlib.figure.Figure at 0x1055b0410>"
       ]
      }
     ],
     "prompt_number": 52
    },
    {
     "cell_type": "markdown",
     "metadata": {},
     "source": [
      "$\\lim_{x \\to 0} \\frac{\\sin(\\frac{1}{x})}{x}$"
     ]
    },
    {
     "cell_type": "code",
     "collapsed": false,
     "input": [
      "show_plot(f_inv_sinx_x, x)"
     ],
     "language": "python",
     "metadata": {},
     "outputs": [
      {
       "metadata": {},
       "output_type": "display_data",
       "png": "[encoded data removed]",
       "text": [
        "<matplotlib.figure.Figure at 0x105594950>"
       ]
      }
     ],
     "prompt_number": 53
    },
    {
     "cell_type": "markdown",
     "metadata": {},
     "source": [
      "$\\lim_{x \\to 0} \\frac{\\sin(x)}{x}$"
     ]
    },
    {
     "cell_type": "code",
     "collapsed": false,
     "input": [
      "show_plot(f_sinx_x, x)"
     ],
     "language": "python",
     "metadata": {},
     "outputs": [
      {
       "metadata": {},
       "output_type": "display_data",
       "png": "[encoded data removed]",
       "text": [
        "<matplotlib.figure.Figure at 0x10792c610>"
       ]
      }
     ],
     "prompt_number": 54
    },
    {
     "cell_type": "markdown",
     "metadata": {},
     "source": [
      "<a id='workingwithlimits'></a>\n",
      "## Working with Limits"
     ]
    },
    {
     "cell_type": "markdown",
     "metadata": {},
     "source": [
      "### Squeeze Theorem"
     ]
    },
    {
     "cell_type": "markdown",
     "metadata": {},
     "source": [
      "What is $\\lim_ {x \\to 0} \\frac{\\sin x}{x}$?"
     ]
    },
    {
     "cell_type": "code",
     "collapsed": false,
     "input": [
      "import math\n",
      "import matplotlib.pyplot as plt\n",
      "%matplotlib inline"
     ],
     "language": "python",
     "metadata": {
      "slideshow": {
       "slide_type": "slide"
      }
     },
     "outputs": [],
     "prompt_number": 55
    },
    {
     "cell_type": "code",
     "collapsed": false,
     "input": [
      "f_cosx =   lambda x: math.cos(x)\n",
      "f_sinx_x = lambda x: math.sin(x) / x"
     ],
     "language": "python",
     "metadata": {
      "slideshow": {
       "slide_type": "slide"
      }
     },
     "outputs": [],
     "prompt_number": 56
    },
    {
     "cell_type": "code",
     "collapsed": false,
     "input": [
      "n = 10000\n",
      "x = [1.0 / _ for _ in range(1, n)]\n",
      "neg_x = [-_ for _ in x]\n",
      "neg_x.extend(x[::-1])\n",
      "x = neg_x"
     ],
     "language": "python",
     "metadata": {
      "slideshow": {
       "slide_type": "slide"
      }
     },
     "outputs": [],
     "prompt_number": 57
    },
    {
     "cell_type": "code",
     "collapsed": false,
     "input": [
      "def show_plot(x, f):\n",
      "    y = [f(_) for _ in x]\n",
      "    plt.plot(x, y)\n",
      "    plt.show()"
     ],
     "language": "python",
     "metadata": {},
     "outputs": [],
     "prompt_number": 58
    },
    {
     "cell_type": "markdown",
     "metadata": {},
     "source": [
      "$\\cos x < \\frac{\\sin x}{x} < 1$, as ${x \\to 0}$"
     ]
    },
    {
     "cell_type": "markdown",
     "metadata": {},
     "source": [
      "Not sure how he got the above inequality, though the graph below does bear out that it is true.\n",
      "\n",
      "Since the two limits below are equal to 1, we know:"
     ]
    },
    {
     "cell_type": "markdown",
     "metadata": {},
     "source": [
      "$\\lim_{x \\to 0} \\frac{\\sin x}{x} = 1$"
     ]
    },
    {
     "cell_type": "markdown",
     "metadata": {},
     "source": [
      "$\\lim _{x \\to 0} \\cos x = 1$"
     ]
    },
    {
     "cell_type": "markdown",
     "metadata": {},
     "source": [
      "$\\lim _{x \\to 0} 1 = 1$"
     ]
    },
    {
     "cell_type": "code",
     "collapsed": false,
     "input": [
      "f = f_cosx\n",
      "y = [f(_) for _ in x]\n",
      "f = f_sinx_x\n",
      "y2 = [f(_) for _ in x]\n",
      "plt.plot(x, y, label = 'cos x')\n",
      "plt.plot(x, y2, label = '(sin x) / x')\n",
      "plt.legend()\n",
      "plt.show()"
     ],
     "language": "python",
     "metadata": {},
     "outputs": [
      {
       "metadata": {},
       "output_type": "display_data",
       "png": "[encoded data removed]",
       "text": [
        "<matplotlib.figure.Figure at 0x10790c9d0>"
       ]
      }
     ],
     "prompt_number": 59
    },
    {
     "cell_type": "markdown",
     "metadata": {},
     "source": [
      "---"
     ]
    },
    {
     "cell_type": "markdown",
     "metadata": {},
     "source": [
      "### What is the limit of a quotient"
     ]
    },
    {
     "cell_type": "markdown",
     "metadata": {},
     "source": [
      "If:  \n",
      "$\\lim _{x \\to a} f(x) = L$,\n",
      "\n",
      "and: \n",
      "$\\lim _{x \\to a} g(x) = M, M \\neq 0$\n",
      "\n",
      "Then: \n",
      "$\\lim _{x \\to a} \\frac{f(x)}{g(x)} = \\frac{L}{M}$"
     ]
    },
    {
     "cell_type": "markdown",
     "metadata": {},
     "source": [
      "The limit of the quotient is the quotient of the limits, given those limits exist"
     ]
    },
    {
     "cell_type": "markdown",
     "metadata": {},
     "source": [
      "---\n",
      "### Example"
     ]
    },
    {
     "cell_type": "markdown",
     "metadata": {},
     "source": [
      "$\n",
      "\\lim_{x \\to 2} \\frac{x^2}{x + 1}=? \\\\\n",
      "\\frac{lim_{x \\to 2}x^2}{lim_{x \\to 2} x+1}=\n",
      "$\n",
      "\n",
      "$\n",
      "\\frac\n",
      "{lim_{x \\to 2}x \\cdot lim_{x \\to 2}x}\n",
      "{lim_{x \\to 2}x + lim_{x \\to 2}1} =\n",
      "$\n",
      "\n",
      "$\n",
      "\\frac\n",
      "{2 \\cdot 2}\n",
      "{2 + 1} = \n",
      "\\frac{4}{3}\n",
      "$"
     ]
    },
    {
     "cell_type": "code",
     "collapsed": false,
     "input": [
      "def data_table(f, base):\n",
      "    n = 10\n",
      "    X = [base+10**-_ for _ in range(1, n)]\n",
      "    return '\\n'.join(['x=%0.10f y=%0.10f' % (x, f(x), ) for x in X])"
     ],
     "language": "python",
     "metadata": {},
     "outputs": [],
     "prompt_number": 60
    },
    {
     "cell_type": "code",
     "collapsed": false,
     "input": [
      "f = lambda x: (x**2) / (x + 1)"
     ],
     "language": "python",
     "metadata": {},
     "outputs": [],
     "prompt_number": 61
    },
    {
     "cell_type": "code",
     "collapsed": false,
     "input": [
      "base=2\n",
      "print data_table(f, base)"
     ],
     "language": "python",
     "metadata": {},
     "outputs": [
      {
       "output_type": "stream",
       "stream": "stdout",
       "text": [
        "x=2.1000000000 y=1.4225806452\n",
        "x=2.0100000000 y=1.3422259136\n",
        "x=2.0010000000 y=1.3342222592\n",
        "x=2.0001000000 y=1.3334222226\n",
        "x=2.0000100000 y=1.3333422222\n",
        "x=2.0000010000 y=1.3333342222\n",
        "x=2.0000001000 y=1.3333334222\n",
        "x=2.0000000100 y=1.3333333422\n",
        "x=2.0000000010 y=1.3333333342\n"
       ]
      }
     ],
     "prompt_number": 62
    },
    {
     "cell_type": "markdown",
     "metadata": {},
     "source": [
      "### What is the limit of a product"
     ]
    },
    {
     "cell_type": "code",
     "collapsed": false,
     "input": [
      "664 * 311"
     ],
     "language": "python",
     "metadata": {},
     "outputs": [
      {
       "metadata": {},
       "output_type": "pyout",
       "prompt_number": 63,
       "text": [
        "206504"
       ]
      }
     ],
     "prompt_number": 63
    },
    {
     "cell_type": "code",
     "collapsed": false,
     "input": [
      "660 * 310"
     ],
     "language": "python",
     "metadata": {},
     "outputs": [
      {
       "metadata": {},
       "output_type": "pyout",
       "prompt_number": 64,
       "text": [
        "204600"
       ]
      }
     ],
     "prompt_number": 64
    },
    {
     "cell_type": "code",
     "collapsed": false,
     "input": [
      "654 * 313"
     ],
     "language": "python",
     "metadata": {},
     "outputs": [
      {
       "metadata": {},
       "output_type": "pyout",
       "prompt_number": 65,
       "text": [
        "204702"
       ]
      }
     ],
     "prompt_number": 65
    },
    {
     "cell_type": "code",
     "collapsed": false,
     "input": [
      "659 * 314"
     ],
     "language": "python",
     "metadata": {},
     "outputs": [
      {
       "metadata": {},
       "output_type": "pyout",
       "prompt_number": 66,
       "text": [
        "206926"
       ]
      }
     ],
     "prompt_number": 66
    },
    {
     "cell_type": "markdown",
     "metadata": {},
     "source": [
      "If:  \n",
      "$\\lim _{x \\to a} f(x) = L$\n",
      "\n",
      "And:  \n",
      "$\\lim _{x \\to a} g(x) = M$\n",
      "\n",
      "Then: \n",
      "$\\lim _{x \\to a} \\left(f(x) \\cdot g(x)\\right) = L \\cdot M$"
     ]
    },
    {
     "cell_type": "markdown",
     "metadata": {},
     "source": [
      "The limit of the product is the product of the limits, given those limits exist"
     ]
    },
    {
     "cell_type": "markdown",
     "metadata": {},
     "source": [
      "<a id='limitsinmotion'></a>\n",
      "## Limits in Motion"
     ]
    },
    {
     "cell_type": "markdown",
     "metadata": {},
     "source": [
      "### Quiz: Working With Limits"
     ]
    },
    {
     "cell_type": "code",
     "collapsed": false,
     "input": [
      "import math"
     ],
     "language": "python",
     "metadata": {},
     "outputs": [],
     "prompt_number": 67
    },
    {
     "cell_type": "code",
     "collapsed": false,
     "input": [
      "f1 = lambda x: math.sin(2 * x) / (8 * x)\n",
      "f2 = lambda x: math.sin(9 * x) / (6 * x)\n",
      "f3 = lambda x: math.sin(-2 * x) / (1 * x)"
     ],
     "language": "python",
     "metadata": {},
     "outputs": [],
     "prompt_number": 68
    },
    {
     "cell_type": "code",
     "collapsed": false,
     "input": [
      "base = 0"
     ],
     "language": "python",
     "metadata": {},
     "outputs": [],
     "prompt_number": 69
    },
    {
     "cell_type": "code",
     "collapsed": false,
     "input": [
      "print data_table(f2, base)"
     ],
     "language": "python",
     "metadata": {},
     "outputs": [
      {
       "output_type": "stream",
       "stream": "stdout",
       "text": [
        "x=0.1000000000 y=1.3055448494\n",
        "x=0.0100000000 y=1.4979758200\n",
        "x=0.0010000000 y=1.4999797501\n",
        "x=0.0001000000 y=1.4999997975\n",
        "x=0.0000100000 y=1.4999999980\n",
        "x=0.0000010000 y=1.5000000000\n",
        "x=0.0000001000 y=1.5000000000\n",
        "x=0.0000000100 y=1.5000000000\n",
        "x=0.0000000010 y=1.5000000000\n"
       ]
      }
     ],
     "prompt_number": 70
    },
    {
     "cell_type": "code",
     "collapsed": false,
     "input": [
      "print data_table(f3, base)"
     ],
     "language": "python",
     "metadata": {},
     "outputs": [
      {
       "output_type": "stream",
       "stream": "stdout",
       "text": [
        "x=0.1000000000 y=-1.9866933080\n",
        "x=0.0100000000 y=-1.9998666693\n",
        "x=0.0010000000 y=-1.9999986667\n",
        "x=0.0001000000 y=-1.9999999867\n",
        "x=0.0000100000 y=-1.9999999999\n",
        "x=0.0000010000 y=-2.0000000000\n",
        "x=0.0000001000 y=-2.0000000000\n",
        "x=0.0000000100 y=-2.0000000000\n",
        "x=0.0000000010 y=-2.0000000000\n"
       ]
      }
     ],
     "prompt_number": 71
    },
    {
     "cell_type": "markdown",
     "metadata": {},
     "source": [
      "*Sure, but how do you this without an i5 chip?*"
     ]
    },
    {
     "cell_type": "markdown",
     "metadata": {},
     "source": [
      "Recall:\n",
      "\n",
      "$\\lim_{x \\to 0} \\frac{\\sin x}{x} = 1$\n",
      "\n",
      "...\n",
      "\n",
      "$f(x) = \\frac{\\sin 2x}{8x} =$ \n",
      "\n",
      "$\\frac{\\sin 2x}{2x \\cdot \\frac{8}{2}}=$"
     ]
    },
    {
     "cell_type": "markdown",
     "metadata": {},
     "source": [
      "$\\frac{\\sin 2x}{2x} \\cdot \\frac{1}{4}, therefore$"
     ]
    },
    {
     "cell_type": "markdown",
     "metadata": {},
     "source": [
      "$\\lim_{x \\to 0}\\frac{\\sin 2x}{8x} =$ "
     ]
    },
    {
     "cell_type": "markdown",
     "metadata": {},
     "source": [
      "$\\lim_{x \\to 0}\\frac{\\sin 2x}{2x} \\cdot \\frac{1}{4}=$"
     ]
    },
    {
     "cell_type": "markdown",
     "metadata": {},
     "source": [
      "$\\lim_{x \\to 0}\\frac{\\sin 2x}{2x} \\cdot \\lim_{x \\to 0}\\frac{1}{4}=$"
     ]
    },
    {
     "cell_type": "markdown",
     "metadata": {},
     "source": [
      "$ 1 \\cdot \\frac{1}{4}$"
     ]
    },
    {
     "cell_type": "code",
     "collapsed": false,
     "input": [
      "print data_table(f1, base)"
     ],
     "language": "python",
     "metadata": {},
     "outputs": [
      {
       "output_type": "stream",
       "stream": "stdout",
       "text": [
        "x=0.1000000000 y=0.2483366635\n",
        "x=0.0100000000 y=0.2499833337\n",
        "x=0.0010000000 y=0.2499998333\n",
        "x=0.0001000000 y=0.2499999983\n",
        "x=0.0000100000 y=0.2500000000\n",
        "x=0.0000010000 y=0.2500000000\n",
        "x=0.0000001000 y=0.2500000000\n",
        "x=0.0000000100 y=0.2500000000\n",
        "x=0.0000000010 y=0.2500000000\n"
       ]
      }
     ],
     "prompt_number": 72
    },
    {
     "cell_type": "markdown",
     "metadata": {},
     "source": [
      "### Quiz: Limits in Motion"
     ]
    },
    {
     "cell_type": "code",
     "collapsed": false,
     "input": [
      "class Point(object):\n",
      "    def __init__(self, x, y):\n",
      "        self.x = x\n",
      "        self.y = y\n",
      "        \n",
      "    def __repr__(self):\n",
      "        return 'x:%s y:%s' % (self.x, self.y)\n",
      "        \n",
      "class Line(object):\n",
      "    def __init__(self, m, b):\n",
      "        self.m = m\n",
      "        self.b = b"
     ],
     "language": "python",
     "metadata": {},
     "outputs": [],
     "prompt_number": 73
    },
    {
     "cell_type": "code",
     "collapsed": false,
     "input": [
      "def slope(a, b):\n",
      "    rise = a.y - b.y\n",
      "    run = a.x - b.x\n",
      "    return 1.0 * rise / run\n",
      "\n",
      "def intercept(m, a):\n",
      "    # y = mx + b\n",
      "    return a.y - m * a.x\n",
      "\n",
      "def find_y(a, c, x):\n",
      "    #y = mx + b\n",
      "    m = slope(a, c)\n",
      "    y_int = intercept(m, a)\n",
      "    l = Line(m, y_int)\n",
      "    y = l.m * x + l.b\n",
      "    return Point(x, y)\n"
     ],
     "language": "python",
     "metadata": {},
     "outputs": [],
     "prompt_number": 74
    },
    {
     "cell_type": "code",
     "collapsed": false,
     "input": [
      "a = Point(-10, -4)\n",
      "c = Point(8, 5)\n",
      "x = -1\n",
      "b = find_y(a, c, x)\n",
      "print b"
     ],
     "language": "python",
     "metadata": {},
     "outputs": [
      {
       "output_type": "stream",
       "stream": "stdout",
       "text": [
        "x:-1 y:0.5\n"
       ]
      }
     ],
     "prompt_number": 75
    },
    {
     "cell_type": "code",
     "collapsed": false,
     "input": [
      "a = Point(-7, -10)\n",
      "c = Point(10, -1)\n",
      "x = 2\n",
      "b = find_y(a, c, x)\n",
      "print b"
     ],
     "language": "python",
     "metadata": {},
     "outputs": [
      {
       "output_type": "stream",
       "stream": "stdout",
       "text": [
        "x:2 y:-5.23529411765\n"
       ]
      }
     ],
     "prompt_number": 76
    },
    {
     "cell_type": "code",
     "collapsed": false,
     "input": [
      "a = Point(-9, -9)\n",
      "c = Point(5, -6)\n",
      "x = 0\n",
      "b = find_y(a, c, x)\n",
      "print b"
     ],
     "language": "python",
     "metadata": {},
     "outputs": [
      {
       "output_type": "stream",
       "stream": "stdout",
       "text": [
        "x:0 y:-7.07142857143\n"
       ]
      }
     ],
     "prompt_number": 77
    },
    {
     "cell_type": "markdown",
     "metadata": {},
     "source": [
      "### Quiz: Function and Limits"
     ]
    },
    {
     "cell_type": "code",
     "collapsed": false,
     "input": [
      "from calculus.Fx import Fx\n",
      "from math import sin, cos\n",
      "Fx??"
     ],
     "language": "python",
     "metadata": {},
     "outputs": [],
     "prompt_number": 96
    },
    {
     "cell_type": "code",
     "collapsed": false,
     "input": [
      "f = lambda x: (x**2 + 3*x - 40) / (x-5)\n",
      "fx = Fx(f)\n",
      "x = 5\n",
      "print(fx.limit_analysis(x))"
     ],
     "language": "python",
     "metadata": {},
     "outputs": [
      {
       "output_type": "stream",
       "stream": "stdout",
       "text": [
        "x=4.9000000000 y=12.9000000000\n",
        "x=4.9900000000 y=12.9900000000\n",
        "x=4.9990000000 y=12.9990000000\n",
        "x=4.9999000000 y=12.9999000000\n",
        "x=4.9999900000 y=12.9999900002\n",
        "x=4.9999990000 y=12.9999989990\n",
        "x=4.9999999000 y=12.9999999023\n",
        "x=5.0000001000 y=13.0000000444\n",
        "x=5.0000010000 y=13.0000010028\n",
        "x=5.0000100000 y=13.0000099998\n",
        "x=5.0001000000 y=13.0001000000\n",
        "x=5.0010000000 y=13.0010000000\n",
        "x=5.0100000000 y=13.0100000000\n",
        "x=5.1000000000 y=13.1000000000\n"
       ]
      }
     ],
     "prompt_number": 97
    },
    {
     "cell_type": "code",
     "collapsed": false,
     "input": [
      "f = lambda x: (x**2 - 1*x - 42) / (x-7)\n",
      "fx = Fx(f)\n",
      "x = 7\n",
      "print fx.limit_analysis(x)"
     ],
     "language": "python",
     "metadata": {},
     "outputs": [
      {
       "output_type": "stream",
       "stream": "stdout",
       "text": [
        "x=6.9000000000 y=12.9000000000\n",
        "x=6.9900000000 y=12.9900000000\n",
        "x=6.9990000000 y=12.9990000000\n",
        "x=6.9999000000 y=12.9999000000\n",
        "x=6.9999900000 y=12.9999900002\n",
        "x=6.9999990000 y=12.9999990061\n",
        "x=6.9999999000 y=12.9999999023\n",
        "x=7.0000001000 y=13.0000001155\n",
        "x=7.0000010000 y=13.0000010028\n",
        "x=7.0000100000 y=13.0000100005\n",
        "x=7.0001000000 y=13.0001000000\n",
        "x=7.0010000000 y=13.0010000000\n",
        "x=7.0100000000 y=13.0100000000\n",
        "x=7.1000000000 y=13.1000000000\n"
       ]
      }
     ],
     "prompt_number": 98
    },
    {
     "cell_type": "code",
     "collapsed": false,
     "input": [
      "f = lambda x: sin(8*x) / (-8*x)\n",
      "fx = Fx(f)\n",
      "print fx.limit_analysis(0)"
     ],
     "language": "python",
     "metadata": {},
     "outputs": [
      {
       "output_type": "stream",
       "stream": "stdout",
       "text": [
        "x=-0.1000000000 y=-0.8966951136\n",
        "x=-0.0100000000 y=-0.9989336746\n",
        "x=-0.0010000000 y=-0.9999893334\n",
        "x=-0.0001000000 y=-0.9999998933\n",
        "x=-0.0000100000 y=-0.9999999989\n",
        "x=-0.0000010000 y=-1.0000000000\n",
        "x=-0.0000001000 y=-1.0000000000\n",
        "x=0.0000001000 y=-1.0000000000\n",
        "x=0.0000010000 y=-1.0000000000\n",
        "x=0.0000100000 y=-0.9999999989\n",
        "x=0.0001000000 y=-0.9999998933\n",
        "x=0.0010000000 y=-0.9999893334\n",
        "x=0.0100000000 y=-0.9989336746\n",
        "x=0.1000000000 y=-0.8966951136\n"
       ]
      }
     ],
     "prompt_number": 99
    },
    {
     "cell_type": "code",
     "collapsed": false,
     "input": [
      "f = lambda x: sin(-4*x) / (-7*x)\n",
      "fx = Fx(f)\n",
      "print fx.limit_analysis(0)"
     ],
     "language": "python",
     "metadata": {},
     "outputs": [
      {
       "output_type": "stream",
       "stream": "stdout",
       "text": [
        "x=-0.1000000000 y=0.5563119176\n",
        "x=-0.0100000000 y=0.5712762027\n",
        "x=-0.0010000000 y=0.5714270476\n",
        "x=-0.0001000000 y=0.5714285562\n",
        "x=-0.0000100000 y=0.5714285713\n",
        "x=-0.0000010000 y=0.5714285714\n",
        "x=-0.0000001000 y=0.5714285714\n",
        "x=0.0000001000 y=0.5714285714\n",
        "x=0.0000010000 y=0.5714285714\n",
        "x=0.0000100000 y=0.5714285713\n",
        "x=0.0001000000 y=0.5714285562\n",
        "x=0.0010000000 y=0.5714270476\n",
        "x=0.0100000000 y=0.5712762027\n",
        "x=0.1000000000 y=0.5563119176\n"
       ]
      }
     ],
     "prompt_number": 100
    },
    {
     "cell_type": "code",
     "collapsed": false,
     "input": [
      "f = lambda x: (x**2 + 9*x + 14) / (x+7)\n",
      "fx = Fx(f)\n",
      "print fx.limit_analysis(-7)"
     ],
     "language": "python",
     "metadata": {},
     "outputs": [
      {
       "output_type": "stream",
       "stream": "stdout",
       "text": [
        "x=-7.1000000000 y=-5.1000000000\n",
        "x=-7.0100000000 y=-5.0100000000\n",
        "x=-7.0010000000 y=-5.0010000000\n",
        "x=-7.0001000000 y=-5.0001000000\n",
        "x=-7.0000100000 y=-5.0000099998\n",
        "x=-7.0000010000 y=-5.0000010028\n",
        "x=-7.0000001000 y=-5.0000001155\n",
        "x=-6.9999999000 y=-4.9999999023\n",
        "x=-6.9999990000 y=-4.9999990061\n",
        "x=-6.9999900000 y=-4.9999899995\n",
        "x=-6.9999000000 y=-4.9999000000\n",
        "x=-6.9990000000 y=-4.9990000000\n",
        "x=-6.9900000000 y=-4.9900000000\n",
        "x=-6.9000000000 y=-4.9000000000\n"
       ]
      }
     ],
     "prompt_number": 101
    },
    {
     "cell_type": "code",
     "collapsed": false,
     "input": [
      "f = lambda x: sin(-4*x) / (1*x)\n",
      "fx = Fx(f)\n",
      "print fx.limit_analysis(0)"
     ],
     "language": "python",
     "metadata": {},
     "outputs": [
      {
       "output_type": "stream",
       "stream": "stdout",
       "text": [
        "x=-0.1000000000 y=-3.8941834231\n",
        "x=-0.0100000000 y=-3.9989334187\n",
        "x=-0.0010000000 y=-3.9999893333\n",
        "x=-0.0001000000 y=-3.9999998933\n",
        "x=-0.0000100000 y=-3.9999999989\n",
        "x=-0.0000010000 y=-4.0000000000\n",
        "x=-0.0000001000 y=-4.0000000000\n",
        "x=0.0000001000 y=-4.0000000000\n",
        "x=0.0000010000 y=-4.0000000000\n",
        "x=0.0000100000 y=-3.9999999989\n",
        "x=0.0001000000 y=-3.9999998933\n",
        "x=0.0010000000 y=-3.9999893333\n",
        "x=0.0100000000 y=-3.9989334187\n",
        "x=0.1000000000 y=-3.8941834231\n"
       ]
      }
     ],
     "prompt_number": 102
    },
    {
     "cell_type": "markdown",
     "metadata": {},
     "source": [
      "<a id='endoflimits'></a>\n",
      "# The End of Limits"
     ]
    },
    {
     "cell_type": "markdown",
     "metadata": {},
     "source": [
      "<a id='continuity'></a>\n",
      "## Continuity"
     ]
    },
    {
     "cell_type": "markdown",
     "metadata": {},
     "source": [
      "### One Sided Limits"
     ]
    },
    {
     "cell_type": "markdown",
     "metadata": {},
     "source": [
      "<a id='limits'></a>"
     ]
    },
    {
     "cell_type": "markdown",
     "metadata": {},
     "source": [
      "$\n",
      "\\lim _{x \\to a+} f(x) = L\n",
      "$\n",
      "\n",
      "means that $f(x)$ is as close as you want to $L$ provided $x$ is near enough $a$ on the right\n",
      "\n",
      "---"
     ]
    },
    {
     "cell_type": "markdown",
     "metadata": {},
     "source": [
      "$\n",
      "\\lim _{x \\to a-} f(x) = L\n",
      "$\n",
      "\n",
      "means that $f(x)$ is as close as you want to $L$ provided $x$ is near enough $a$ on the left"
     ]
    },
    {
     "cell_type": "markdown",
     "metadata": {},
     "source": [
      "---\n",
      "\n",
      "$\n",
      "If \\lim _{x \\to a-} f(x) \\neq \\lim _{x \\to a+} f(x),$\n",
      "\n",
      "$\\lim _{x \\to a} f(x)$ Does not exist"
     ]
    },
    {
     "cell_type": "markdown",
     "metadata": {},
     "source": [
      "---\n",
      "\n",
      "$\n",
      "If \\lim _{x \\to a-} f(x) = \\lim _{x \\to a+} f(x) = L,$\n",
      "\n",
      "$\\lim _{x \\to a} f(x) = L$"
     ]
    },
    {
     "cell_type": "markdown",
     "metadata": {},
     "source": [
      "### Continuity"
     ]
    },
    {
     "cell_type": "markdown",
     "metadata": {},
     "source": [
      "$f(x)$ is continuous at $a$ means that inputs near $a$ are sent to outputs near $f(a)$"
     ]
    },
    {
     "cell_type": "markdown",
     "metadata": {},
     "source": [
      "To say \"$f(x)$ is continuous at $a$\" means that $\\lim_{x \\to a} f(x) = f(a)$\n"
     ]
    },
    {
     "cell_type": "markdown",
     "metadata": {},
     "source": [
      "To say \"$f(x)$ is continuous on the interval $(a, b)$\" means that for all points $c$ so that $a <c <b$ $f(x)$ is continuous at $c$\n"
     ]
    },
    {
     "cell_type": "markdown",
     "metadata": {},
     "source": [
      "To say \"$f(x)$ is continuous on the interval $[a, b]$\" means that $f(x)$ is continuous on the interval $(a, b)$\n",
      "\n",
      "and $\\lim _{x \\to a+} f(x) = f(a)$\n",
      "\n",
      "and $\\lim _{x \\to b-} f(x) = f(b)$"
     ]
    },
    {
     "cell_type": "markdown",
     "metadata": {},
     "source": [
      "### Intermediate Value Theorem"
     ]
    },
    {
     "cell_type": "markdown",
     "metadata": {},
     "source": [
      "Suppose $f(x)$ is continuous on $[a, b]$, and $y$ is between $f(a)$ and $f(b)$\n",
      "\n",
      "Then, there is an $x$ between $a$ and $b$ so that $f(x) = y$"
     ]
    },
    {
     "cell_type": "markdown",
     "metadata": {},
     "source": [
      "### How can I approximate $\\sqrt{2}$"
     ]
    },
    {
     "cell_type": "markdown",
     "metadata": {},
     "source": [
      "Use the IVT.\n",
      "\n",
      "One way to think about is that we're looking for a $x$ value that satisfies $f(x) = x^2 - 2 = 0$"
     ]
    },
    {
     "cell_type": "code",
     "collapsed": false,
     "input": [
      "f = lambda x: x**2 -2"
     ],
     "language": "python",
     "metadata": {},
     "outputs": [],
     "prompt_number": 103
    },
    {
     "cell_type": "code",
     "collapsed": false,
     "input": [
      "%matplotlib inline"
     ],
     "language": "python",
     "metadata": {},
     "outputs": [],
     "prompt_number": 104
    },
    {
     "cell_type": "code",
     "collapsed": false,
     "input": [
      "import numpy as np"
     ],
     "language": "python",
     "metadata": {},
     "outputs": [],
     "prompt_number": 105
    },
    {
     "cell_type": "code",
     "collapsed": false,
     "input": [
      "X = np.arange(-1, 2, .1)"
     ],
     "language": "python",
     "metadata": {},
     "outputs": [],
     "prompt_number": 106
    },
    {
     "cell_type": "code",
     "collapsed": false,
     "input": [
      "#HACK!\n",
      "import os.path, sys\n",
      "sys.path.append('../')\n",
      "from calculus.Fx import Fx"
     ],
     "language": "python",
     "metadata": {},
     "outputs": [],
     "prompt_number": 107
    },
    {
     "cell_type": "code",
     "collapsed": false,
     "input": [
      "f = Fx(f)"
     ],
     "language": "python",
     "metadata": {},
     "outputs": [],
     "prompt_number": 108
    },
    {
     "cell_type": "code",
     "collapsed": false,
     "input": [
      "f.show_plot(X)"
     ],
     "language": "python",
     "metadata": {},
     "outputs": [
      {
       "metadata": {},
       "output_type": "display_data",
       "png": "[encoded data removed]",
       "text": [
        "<matplotlib.figure.Figure at 0x1078ff650>"
       ]
      }
     ],
     "prompt_number": 109
    },
    {
     "cell_type": "code",
     "collapsed": false,
     "input": [
      "f.f(1)"
     ],
     "language": "python",
     "metadata": {},
     "outputs": [
      {
       "metadata": {},
       "output_type": "pyout",
       "prompt_number": 110,
       "text": [
        "-1"
       ]
      }
     ],
     "prompt_number": 110
    },
    {
     "cell_type": "code",
     "collapsed": false,
     "input": [
      "f.f(2)"
     ],
     "language": "python",
     "metadata": {},
     "outputs": [
      {
       "metadata": {},
       "output_type": "pyout",
       "prompt_number": 111,
       "text": [
        "2"
       ]
      }
     ],
     "prompt_number": 111
    },
    {
     "cell_type": "markdown",
     "metadata": {},
     "source": [
      "It's negative at 1, positive at 2, so from IVT, we know $\\sqrt{2}$ is in interval $(1, 2)$"
     ]
    },
    {
     "cell_type": "code",
     "collapsed": false,
     "input": [
      "f.f(1.5) # now we know the interval is 1 and 1.5"
     ],
     "language": "python",
     "metadata": {},
     "outputs": [
      {
       "metadata": {},
       "output_type": "pyout",
       "prompt_number": 112,
       "text": [
        "0.25"
       ]
      }
     ],
     "prompt_number": 112
    },
    {
     "cell_type": "code",
     "collapsed": false,
     "input": [
      "f.f(1.25) # we know the interval is 1.25 and 1.5 "
     ],
     "language": "python",
     "metadata": {},
     "outputs": [
      {
       "metadata": {},
       "output_type": "pyout",
       "prompt_number": 113,
       "text": [
        "-0.4375"
       ]
      }
     ],
     "prompt_number": 113
    },
    {
     "cell_type": "markdown",
     "metadata": {},
     "source": [
      "### Quiz"
     ]
    },
    {
     "cell_type": "code",
     "collapsed": false,
     "input": [
      "\"\"\"\n",
      "f(x) = kx-4 x<96x+k x>=9\n",
      "       kx - 4 = 6x + k, x=9\n",
      "       k*9 - 4 = 6*9 + k\n",
      "       9k - 4= 54 +k\n",
      "       8k -4  = 54\n",
      "       8k = 58\n",
      "       k = 58/8\n",
      "\"\"\""
     ],
     "language": "python",
     "metadata": {},
     "outputs": [
      {
       "metadata": {},
       "output_type": "pyout",
       "prompt_number": 114,
       "text": [
        "'\\nf(x) = kx-4 x<96x+k x>=9\\n       kx - 4 = 6x + k, x=9\\n       k*9 - 4 = 6*9 + k\\n       9k - 4= 54 +k\\n       8k -4  = 54\\n       8k = 58\\n       k = 58/8\\n'"
       ]
      }
     ],
     "prompt_number": 114
    },
    {
     "cell_type": "code",
     "collapsed": false,
     "input": [
      "k = 58.0/8\n",
      "x = 9\n",
      "k*x -4"
     ],
     "language": "python",
     "metadata": {},
     "outputs": [
      {
       "metadata": {},
       "output_type": "pyout",
       "prompt_number": 115,
       "text": [
        "61.25"
       ]
      }
     ],
     "prompt_number": 115
    },
    {
     "cell_type": "code",
     "collapsed": false,
     "input": [
      "6*x + k"
     ],
     "language": "python",
     "metadata": {},
     "outputs": [
      {
       "metadata": {},
       "output_type": "pyout",
       "prompt_number": 116,
       "text": [
        "61.25"
       ]
      }
     ],
     "prompt_number": 116
    },
    {
     "cell_type": "code",
     "collapsed": false,
     "input": [
      "\"\"\"\n",
      "f(x)= sin(-8x)/8x, x<0\n",
      "    = 2x + 9k = 7, x>=0\n",
      "    sin(-8x)/8x = 2x + 9k\n",
      "\"\"\""
     ],
     "language": "python",
     "metadata": {},
     "outputs": [
      {
       "metadata": {},
       "output_type": "pyout",
       "prompt_number": 117,
       "text": [
        "'\\nf(x)= sin(-8x)/8x, x<0\\n    = 2x + 9k = 7, x>=0\\n    sin(-8x)/8x = 2x + 9k\\n'"
       ]
      }
     ],
     "prompt_number": 117
    },
    {
     "cell_type": "code",
     "collapsed": false,
     "input": [
      "from math import sin\n",
      "f1 = lambda x: sin(-8*x) / (8*x)\n",
      "x = 0\n",
      "f2 = lambda k: 2*x + 9*k - 7"
     ],
     "language": "python",
     "metadata": {},
     "outputs": [],
     "prompt_number": 118
    },
    {
     "cell_type": "code",
     "collapsed": false,
     "input": [
      "fx = Fx(f1)"
     ],
     "language": "python",
     "metadata": {},
     "outputs": [],
     "prompt_number": 119
    },
    {
     "cell_type": "code",
     "collapsed": false,
     "input": [
      "print fx.limit_analysis(0)"
     ],
     "language": "python",
     "metadata": {},
     "outputs": [
      {
       "output_type": "stream",
       "stream": "stdout",
       "text": [
        "x=-0.1000000000 y=-0.8966951136\n",
        "x=-0.0100000000 y=-0.9989336746\n",
        "x=-0.0010000000 y=-0.9999893334\n",
        "x=-0.0001000000 y=-0.9999998933\n",
        "x=-0.0000100000 y=-0.9999999989\n",
        "x=-0.0000010000 y=-1.0000000000\n",
        "x=-0.0000001000 y=-1.0000000000\n",
        "x=0.0000001000 y=-1.0000000000\n",
        "x=0.0000010000 y=-1.0000000000\n",
        "x=0.0000100000 y=-0.9999999989\n",
        "x=0.0001000000 y=-0.9999998933\n",
        "x=0.0010000000 y=-0.9999893334\n",
        "x=0.0100000000 y=-0.9989336746\n",
        "x=0.1000000000 y=-0.8966951136\n"
       ]
      }
     ],
     "prompt_number": 120
    },
    {
     "cell_type": "code",
     "collapsed": false,
     "input": [
      "\"\"\"\n",
      "2*0 + 9k -7 = -1\n",
      "9k = 6\n",
      "k = 6/9\n",
      "\"\"\"\n",
      "k = 6.0 / 9\n",
      "x=0\n",
      "f2(k)"
     ],
     "language": "python",
     "metadata": {},
     "outputs": [
      {
       "metadata": {},
       "output_type": "pyout",
       "prompt_number": 121,
       "text": [
        "-1.0"
       ]
      }
     ],
     "prompt_number": 121
    },
    {
     "cell_type": "markdown",
     "metadata": {},
     "source": [
      "$\n",
      "f(x) =\n",
      "\\begin{cases}\n",
      "x^2 - 11x + 24,&\\text{if }x < 8\\\\\n",
      "-8x + k, &\\text{if } x \\geq 8)\n",
      "\\end{cases}\n",
      "$"
     ]
    },
    {
     "cell_type": "code",
     "collapsed": false,
     "input": [
      "x=8.0\n",
      "f1 = lambda x: (x**2 - 11*x +24)/(x-8)\n",
      "f2 = lambda k: -8*x + k"
     ],
     "language": "python",
     "metadata": {},
     "outputs": [],
     "prompt_number": 122
    },
    {
     "cell_type": "code",
     "collapsed": false,
     "input": [
      "fx = Fx(f1)\n",
      "print fx.limit_analysis(x)"
     ],
     "language": "python",
     "metadata": {},
     "outputs": [
      {
       "output_type": "stream",
       "stream": "stdout",
       "text": [
        "x=7.9000000000 y=4.9000000000\n",
        "x=7.9900000000 y=4.9900000000\n",
        "x=7.9990000000 y=4.9990000000\n",
        "x=7.9999000000 y=4.9999000000\n",
        "x=7.9999900000 y=4.9999900002\n",
        "x=7.9999990000 y=4.9999989990\n",
        "x=7.9999999000 y=4.9999999023\n",
        "x=8.0000001000 y=5.0000001599\n",
        "x=8.0000010000 y=5.0000010001\n",
        "x=8.0000100000 y=5.0000100005\n",
        "x=8.0001000000 y=5.0001000000\n",
        "x=8.0010000000 y=5.0010000000\n",
        "x=8.0100000000 y=5.0100000000\n",
        "x=8.1000000000 y=5.1000000000\n"
       ]
      }
     ],
     "prompt_number": 123
    },
    {
     "cell_type": "markdown",
     "metadata": {},
     "source": [
      "\"\"\"\n",
      "-8 * x + k = 5\n",
      "x=8\n",
      "-8*8 + k =5\n",
      "-64 + k = 5\n",
      "k = 69\n",
      "\"\"\"\n",
      "\n",
      "k = 69\n",
      "f2(k)"
     ]
    },
    {
     "cell_type": "markdown",
     "metadata": {},
     "source": [
      "<a id='infinity'></a>\n",
      "## $\\infty$: How can I work with that?"
     ]
    },
    {
     "cell_type": "markdown",
     "metadata": {},
     "source": [
      "$f(x) \\text{ is continuous on } [0, 1] \\\\\n",
      "0 \\leq f(x) \\leq 1\\\\\n",
      "\\text{Then there is an x such that}\\\\\n",
      "0 \\leq x \\leq 1 \\text{ and } f(x) = x$\n"
     ]
    },
    {
     "cell_type": "markdown",
     "metadata": {},
     "source": [
      "### What does $\\lim f(x) = \\infty$ mean?"
     ]
    },
    {
     "cell_type": "markdown",
     "metadata": {},
     "source": [
      "$\n",
      "\\lim_{x \\to a}f(x) = \\infty \\text{ means that }\\\\\n",
      "f(x) \\text{ is as large as you like provided } x \\text{ is close enough to } a\n",
      "$"
     ]
    },
    {
     "cell_type": "markdown",
     "metadata": {},
     "source": [
      "$ \\lim _{x \\to 0} \\frac{1}{x^2} = \\infty $"
     ]
    },
    {
     "cell_type": "markdown",
     "metadata": {},
     "source": [
      "$\\lim _{x \\to 1} \\dfrac{x+2}{x^2 - 2x + 1}=$"
     ]
    },
    {
     "cell_type": "markdown",
     "metadata": {},
     "source": [
      "$\\lim _{x \\to 1} \\dfrac{x+2}{(x-1)^2} = \\infty$"
     ]
    },
    {
     "cell_type": "markdown",
     "metadata": {},
     "source": [
      "* The numerator is about 3\n",
      "\n",
      "* The denominator is a small positive number"
     ]
    },
    {
     "cell_type": "markdown",
     "metadata": {},
     "source": [
      "---"
     ]
    },
    {
     "cell_type": "markdown",
     "metadata": {},
     "source": [
      "$\\lim _{x \\to \\infty} \\dfrac{2x}{x + 1}=?$"
     ]
    },
    {
     "cell_type": "markdown",
     "metadata": {},
     "source": [
      "$\\lim _{x \\to \\infty} \\dfrac{2x}{x + 1}$\n"
     ]
    },
    {
     "cell_type": "markdown",
     "metadata": {},
     "source": [
      "$\\lim _{x \\to \\infty} \\dfrac{2x}{x + 1} \\cdot \\dfrac{\\frac{1}{x}}{\\frac{1}{x}}$\n",
      "\n",
      "Here we are changing the function because it's now undefined at 0, but we don't care about zero for this limit"
     ]
    },
    {
     "cell_type": "markdown",
     "metadata": {},
     "source": [
      "$\\lim _{x \\to \\infty} \\dfrac{2}{1 + \\frac{1}{x}}$\n",
      "\n",
      "The limit of a quotient is the quotient of the limits\n"
     ]
    },
    {
     "cell_type": "markdown",
     "metadata": {},
     "source": [
      "$\\dfrac{\\lim_{x \\to \\infty}2}{\\lim_{x \\to \\infty} 1 + \\frac{1}{x}}$"
     ]
    },
    {
     "cell_type": "markdown",
     "metadata": {},
     "source": [
      "$\\dfrac{2}{1+0}=2$\n",
      "\n",
      "* The limit of a constant is the constant\n",
      "* the limit of 1/x as x approaches 0 is 0"
     ]
    },
    {
     "cell_type": "markdown",
     "metadata": {},
     "source": [
      "### Why is $\\infty$ not a number?"
     ]
    },
    {
     "cell_type": "markdown",
     "metadata": {},
     "source": [
      "* You can't do arithmetic with $\\infty$\n",
      "* But you can do limits with $\\infty$!"
     ]
    },
    {
     "cell_type": "markdown",
     "metadata": {},
     "source": [
      "$\n",
      "\\lim_{x \\to \\infty}(x^2 -x) = ?\n",
      "$\n",
      "\n",
      "You could try:\n",
      "\n",
      "$ \n",
      "\\lim_{x \\to \\infty}x^2 - \n",
      "\\lim_{x \\to \\infty}x\n",
      "$\n",
      "\n",
      "$\\infty - \\infty = \\text{Undefined}$ ... so that didn't work\n"
     ]
    },
    {
     "cell_type": "markdown",
     "metadata": {},
     "source": [
      "$(x^2 - x) = x(x - 1)$\n",
      "\n",
      "$\\lim_{x \\to \\infty}x(x-1)$\n",
      "\n",
      "You make $x-1$ as large as you like, and make $x$ as large as your like, and the product is as big as you want them to be. Therefore\n",
      "\n",
      "$\\lim_{x \\to \\infty}x(x-1) = \\infty$"
     ]
    },
    {
     "cell_type": "markdown",
     "metadata": {},
     "source": [
      "### Another Example\n",
      "\n",
      "$\\lim_{x \\to \\infty}((x + 17) - x)$\n",
      "\n",
      "If we improperly apply the limit addition rule (the limit must exist), then\n",
      "\n",
      "$\\lim_{x \\to \\infty}x + 17 - \\lim_{x \\to \\infty} x$\n",
      "\n",
      "$\\infty - \\infty = \\text{Undefined}$, which does nothing for us\n"
     ]
    },
    {
     "cell_type": "markdown",
     "metadata": {},
     "source": [
      "$\\lim_{x \\to \\infty}((x + 17) - x)=\\\\\n",
      "\\lim_{x \\to \\infty} 17 = 17 $\n",
      "\n",
      "So above we got $\\infty - \\infty$ while the limit is actually $17$\n",
      "\n",
      "Be Careful!"
     ]
    },
    {
     "cell_type": "markdown",
     "metadata": {},
     "source": [
      "### Quiz: $\\infty$"
     ]
    },
    {
     "cell_type": "code",
     "collapsed": false,
     "input": [
      "# No notes taken"
     ],
     "language": "python",
     "metadata": {},
     "outputs": [],
     "prompt_number": 124
    },
    {
     "cell_type": "markdown",
     "metadata": {},
     "source": [
      "<a id='slope'></a>\n",
      "## Slope"
     ]
    },
    {
     "cell_type": "markdown",
     "metadata": {},
     "source": [
      "### tl;dr: \n",
      "\n",
      "actual $\\infty$ leads us into too many paradoxes, so we use limits because they let us think about potential $\\infty$\n",
      "    "
     ]
    },
    {
     "cell_type": "markdown",
     "metadata": {},
     "source": [
      "### What is the slope of a staircase"
     ]
    },
    {
     "cell_type": "markdown",
     "metadata": {},
     "source": [
      "$slope = \\dfrac{rise}{run}$"
     ]
    },
    {
     "cell_type": "markdown",
     "metadata": {},
     "source": [
      "### How fast does water drip from a faucet"
     ]
    },
    {
     "cell_type": "markdown",
     "metadata": {},
     "source": [
      "* you can linearly extrapolate from a small observation to a large observation"
     ]
    },
    {
     "cell_type": "markdown",
     "metadata": {},
     "source": [
      "### What is the official definition of limit?"
     ]
    },
    {
     "cell_type": "markdown",
     "metadata": {},
     "source": [
      "$\n",
      "\\lim _{x \\to a} f(x) = L\n",
      "$ means"
     ]
    },
    {
     "cell_type": "markdown",
     "metadata": {},
     "source": [
      "For all $\\epsilon > 0$"
     ]
    },
    {
     "cell_type": "markdown",
     "metadata": {},
     "source": [
      "There is a $\\delta > 0$,"
     ]
    },
    {
     "cell_type": "markdown",
     "metadata": {},
     "source": [
      "So that if $ 0 < \\left |x -a \\right| < \\delta$"
     ]
    },
    {
     "cell_type": "markdown",
     "metadata": {},
     "source": [
      "then $\\left| f(x) - L \\right| < \\epsilon$"
     ]
    },
    {
     "cell_type": "markdown",
     "metadata": {},
     "source": [
      "### From the definition, why is $\\lim_{x \\to 2} x^2 = 4$?"
     ]
    },
    {
     "cell_type": "markdown",
     "metadata": {},
     "source": [
      "You can make $x^2$ as close to 4 by making $x$ as close to 2"
     ]
    },
    {
     "cell_type": "markdown",
     "metadata": {},
     "source": [
      "Dialogue:\n",
      "\n",
      "* You demand $x^2$ within $\\frac{1}{10}$ of $4$\n",
      "* $ 3.9 < x^2 < 4.1$\n",
      "* I satisfy your demand by stipulating that $x$ be within ?? of $2$"
     ]
    },
    {
     "cell_type": "markdown",
     "metadata": {},
     "source": [
      "First guess, let's say $x$ within $\\frac{1}{100}$ of $2$"
     ]
    },
    {
     "cell_type": "markdown",
     "metadata": {},
     "source": [
      "$ 1.99 < x < 2.01 $"
     ]
    },
    {
     "cell_type": "code",
     "collapsed": false,
     "input": [
      "1.99 ** 2"
     ],
     "language": "python",
     "metadata": {},
     "outputs": [
      {
       "metadata": {},
       "output_type": "pyout",
       "prompt_number": 125,
       "text": [
        "3.9601"
       ]
      }
     ],
     "prompt_number": 125
    },
    {
     "cell_type": "code",
     "collapsed": false,
     "input": [
      "2.01 ** 2"
     ],
     "language": "python",
     "metadata": {},
     "outputs": [
      {
       "metadata": {},
       "output_type": "pyout",
       "prompt_number": 126,
       "text": [
        "4.040099999999999"
       ]
      }
     ],
     "prompt_number": 126
    },
    {
     "cell_type": "markdown",
     "metadata": {},
     "source": [
      "$ 3.9601 < x^2 < 4.0401 $"
     ]
    },
    {
     "cell_type": "markdown",
     "metadata": {},
     "source": [
      "$ 3.9 < 3.9601 < x^2 < 4.0401 < 4.1$"
     ]
    },
    {
     "cell_type": "markdown",
     "metadata": {},
     "source": [
      "Demanding that x be within $\\frac{1}{100}$ of 2, I satisfy your demand that $3.9 < x^2 < 4.1$"
     ]
    },
    {
     "cell_type": "markdown",
     "metadata": {},
     "source": [
      "### Quiz: Limit Definition"
     ]
    },
    {
     "cell_type": "markdown",
     "metadata": {},
     "source": [
      "* shit, wrote down the wrong question\n",
      "\n",
      "$ \\lim_{x \\to 3} 2x = 6$"
     ]
    },
    {
     "cell_type": "markdown",
     "metadata": {},
     "source": [
      "If we set $\\epsilon = 2$"
     ]
    },
    {
     "cell_type": "markdown",
     "metadata": {},
     "source": [
      "How small must $\\delta$ be in order to ensure that whenever $x$ is within $\\delta$ of 3, we have that $2x$ is within $\\epsilon$ of 6?"
     ]
    },
    {
     "cell_type": "markdown",
     "metadata": {},
     "source": [
      "$3x + 1$ must be within 2 of 16, so $14 < 3x + 1 < 16$"
     ]
    },
    {
     "cell_type": "markdown",
     "metadata": {},
     "source": [
      "$ 13 < 3x < 16 $"
     ]
    },
    {
     "cell_type": "markdown",
     "metadata": {},
     "source": [
      "$ \\frac{13}{3} < x < \\frac{16}{3} $"
     ]
    },
    {
     "cell_type": "markdown",
     "metadata": {},
     "source": [
      "$x = 5$ to satisfy the limit"
     ]
    },
    {
     "cell_type": "markdown",
     "metadata": {},
     "source": [
      "Therefore $\\delta = \\frac{1}{3}$ is sufficient"
     ]
    },
    {
     "cell_type": "markdown",
     "metadata": {},
     "source": [
      "Because $\\left| 5 - \\frac{16}{3}\\right| = \\frac{1}{3}$"
     ]
    },
    {
     "cell_type": "code",
     "collapsed": false,
     "input": [
      "import calculus"
     ],
     "language": "python",
     "metadata": {},
     "outputs": [],
     "prompt_number": 127
    },
    {
     "cell_type": "code",
     "collapsed": false,
     "input": [
      "f1 = lambda x: ((-8 * x**2) + 48*x -40) / (x-1)\n",
      "f2 = lambda k: -2*x +k"
     ],
     "language": "python",
     "metadata": {},
     "outputs": [],
     "prompt_number": 128
    },
    {
     "cell_type": "code",
     "collapsed": false,
     "input": [
      "fx = Fx(f1)"
     ],
     "language": "python",
     "metadata": {},
     "outputs": [],
     "prompt_number": 129
    },
    {
     "cell_type": "code",
     "collapsed": false,
     "input": [
      "x = 1.0\n",
      "print fx.limit_analysis(x)"
     ],
     "language": "python",
     "metadata": {},
     "outputs": [
      {
       "output_type": "stream",
       "stream": "stdout",
       "text": [
        "x=0.9000000000 y=32.8000000000\n",
        "x=0.9900000000 y=32.0800000000\n",
        "x=0.9990000000 y=32.0080000000\n",
        "x=0.9999000000 y=32.0008000001\n",
        "x=0.9999900000 y=32.0000799997\n",
        "x=0.9999990000 y=32.0000079972\n",
        "x=0.9999999000 y=32.0000008171\n",
        "x=1.0000001000 y=31.9999991473\n",
        "x=1.0000010000 y=31.9999919922\n",
        "x=1.0000100000 y=31.9999200000\n",
        "x=1.0001000000 y=31.9992000000\n",
        "x=1.0010000000 y=31.9920000000\n",
        "x=1.0100000000 y=31.9200000000\n",
        "x=1.1000000000 y=31.2000000000\n"
       ]
      }
     ],
     "prompt_number": 130
    },
    {
     "cell_type": "code",
     "collapsed": false,
     "input": [
      "k = 34\n",
      "f2(k)"
     ],
     "language": "python",
     "metadata": {},
     "outputs": [
      {
       "metadata": {},
       "output_type": "pyout",
       "prompt_number": 131,
       "text": [
        "32.0"
       ]
      }
     ],
     "prompt_number": 131
    },
    {
     "cell_type": "markdown",
     "metadata": {},
     "source": [
      "<img src=\"q4.png\">"
     ]
    },
    {
     "cell_type": "code",
     "collapsed": false,
     "input": [
      "f1 = lambda x: sin(-6*x) / (9*x)\n",
      "f2 = lambda k: 3*x - 9*k - 6\n",
      "# sin(-6x) / 9x = sin(-6x) / -6x * -3/2 = -3/2, as x->0\n",
      "f1(-0.00001)"
     ],
     "language": "python",
     "metadata": {},
     "outputs": [
      {
       "metadata": {},
       "output_type": "pyout",
       "prompt_number": 132,
       "text": [
        "-0.6666666662666667"
       ]
      }
     ],
     "prompt_number": 132
    },
    {
     "cell_type": "code",
     "collapsed": false,
     "input": [
      "import inspect\n",
      "print inspect.getsource(f1)"
     ],
     "language": "python",
     "metadata": {},
     "outputs": [
      {
       "output_type": "stream",
       "stream": "stdout",
       "text": [
        "f1 = lambda x: sin(-6*x) / (9*x)\n",
        "\n"
       ]
      }
     ],
     "prompt_number": 133
    },
    {
     "cell_type": "code",
     "collapsed": false,
     "input": [
      "x=0.0\n",
      "fx = Fx(f1)\n",
      "X = np.arange(-10, 10, .1)\n",
      "fx.show_plot(X)\n",
      "print fx.limit_analysis(x)"
     ],
     "language": "python",
     "metadata": {},
     "outputs": [
      {
       "metadata": {},
       "output_type": "display_data",
       "png": "[encoded data removed]",
       "text": [
        "<matplotlib.figure.Figure at 0x105576a90>"
       ]
      },
      {
       "output_type": "stream",
       "stream": "stdout",
       "text": [
        "x=-0.1000000000 y=-0.6273805260\n",
        "x=-0.0100000000 y=-0.6662667387\n",
        "x=-0.0010000000 y=-0.6666626667\n",
        "x=-0.0001000000 y=-0.6666666267\n",
        "x=-0.0000100000 y=-0.6666666663\n",
        "x=-0.0000010000 y=-0.6666666667\n",
        "x=-0.0000001000 y=-0.6666666667\n",
        "x=0.0000001000 y=-0.6666666667\n",
        "x=0.0000010000 y=-0.6666666667\n",
        "x=0.0000100000 y=-0.6666666663\n",
        "x=0.0001000000 y=-0.6666666267\n",
        "x=0.0010000000 y=-0.6666626667\n",
        "x=0.0100000000 y=-0.6662667387\n",
        "x=0.1000000000 y=-0.6273805260\n"
       ]
      }
     ],
     "prompt_number": 134
    },
    {
     "cell_type": "code",
     "collapsed": false,
     "input": [
      "#So the 2nd function must be -2/3 at 0\n",
      "#So 3*x - 9*k -6 = -2/3\n",
      "#-9k - 6 = -2/3\n",
      "#-9k = -2/3 + 6\n",
      "k = (-2.0/3 +6)/-9\n",
      "k"
     ],
     "language": "python",
     "metadata": {},
     "outputs": [
      {
       "metadata": {},
       "output_type": "pyout",
       "prompt_number": 135,
       "text": [
        "-0.5925925925925926"
       ]
      }
     ],
     "prompt_number": 135
    },
    {
     "cell_type": "code",
     "collapsed": false,
     "input": [
      "f2(k) #Yes!"
     ],
     "language": "python",
     "metadata": {},
     "outputs": [
      {
       "metadata": {},
       "output_type": "pyout",
       "prompt_number": 136,
       "text": [
        "-0.666666666666667"
       ]
      }
     ],
     "prompt_number": 136
    },
    {
     "cell_type": "markdown",
     "metadata": {},
     "source": [
      "<a id='beginningderivatives'></a>\n",
      "# The Beginning of Derivatives"
     ]
    },
    {
     "cell_type": "markdown",
     "metadata": {},
     "source": [
      "<a id='whatarederivatives'></a>\n",
      "## What are derivatives"
     ]
    },
    {
     "cell_type": "markdown",
     "metadata": {},
     "source": [
      "<a id='derivatives'></a>"
     ]
    },
    {
     "cell_type": "markdown",
     "metadata": {},
     "source": [
      "The derivative of $f$ at the point $x$ is defined to be "
     ]
    },
    {
     "cell_type": "markdown",
     "metadata": {},
     "source": [
      "<a id='whatisthedefintionofaderivative'></a>\n",
      "### What is the definition of a derivative?"
     ]
    },
    {
     "cell_type": "markdown",
     "metadata": {},
     "source": [
      "$\\lim_{h \\to 0} \\dfrac{f(x+h) - f(x)}{h}$"
     ]
    },
    {
     "cell_type": "markdown",
     "metadata": {},
     "source": [
      "Another definition:\n",
      "    \n",
      "The derivative of $f$ at $x \\text{ is } \\lim_{w\\to x} \\dfrac{f(w) -f(x)}{w - x}$\n",
      "\n",
      "It's really the same thing. "
     ]
    },
    {
     "cell_type": "markdown",
     "metadata": {},
     "source": [
      "If the derivative of $f$ exists at $x$ whenever $x$ is between $a$ and $b$, then we say that $f$ is differentiable on $(a, b)$\n",
      "\n",
      "$f^\\prime(x) = \\lim_{h \\to 0} \\dfrac{f(x+h) - f(x)}{h}$"
     ]
    },
    {
     "cell_type": "markdown",
     "metadata": {},
     "source": [
      "### What is a tangent line?"
     ]
    },
    {
     "cell_type": "code",
     "collapsed": false,
     "input": [
      "from sympy import *"
     ],
     "language": "python",
     "metadata": {},
     "outputs": [],
     "prompt_number": 137
    },
    {
     "cell_type": "code",
     "collapsed": false,
     "input": [
      "init_printing()"
     ],
     "language": "python",
     "metadata": {},
     "outputs": [],
     "prompt_number": 138
    },
    {
     "cell_type": "code",
     "collapsed": false,
     "input": [
      "def tangent_plot(X, Y, x):\n",
      "    \"\"\" \n",
      "        returns plot of function and tangent line at X=evalx\n",
      "        X: symbol x\n",
      "        Y: symbol y\n",
      "        x: x-value where derivative is drawn\n",
      "        \n",
      "        p1: plot object with Y and Y'\n",
      "    \"\"\"\n",
      "            \n",
      "    fp = diff(Y, X)\n",
      "    m = fp.evalf(subs = {X:x})\n",
      "    y = Y.evalf(subs = {X:x})\n",
      "    b = y - m * x\n",
      "    tangent_line = m * X + b\n",
      "    p1 = plotting.plot(Y, ls = '-.', line_color='blue', show=False, label='asdf')\n",
      "    p2 = plotting.plot(tangent_line, show=False, ls = '-.', line_color='red')\n",
      "    p1.extend(p2)\n",
      "    return p1"
     ],
     "language": "python",
     "metadata": {},
     "outputs": [],
     "prompt_number": 139
    },
    {
     "cell_type": "code",
     "collapsed": false,
     "input": [
      "X = symbols('X')\n",
      "Y = X**2\n",
      "# Y = abs(sin(X)/(2 * ((X**X-(pi/2))/pi)))\n",
      "# Y = sin(2 * sin(2 * sin(2 * sin(X))))\n",
      "x = 3\n",
      "p = tangent_plot(X, Y, x)\n",
      "Y, diff(Y)"
     ],
     "language": "python",
     "metadata": {},
     "outputs": [
      {
       "latex": [
        "$$\\begin{pmatrix}X^{2}, & 2 X\\end{pmatrix}$$"
       ],
       "metadata": {},
       "output_type": "pyout",
       "png": "[encoded data removed]",
       "prompt_number": 140,
       "text": [
        "\u239b 2     \u239e\n",
        "\u239dX , 2\u22c5X\u23a0"
       ]
      }
     ],
     "prompt_number": 140
    },
    {
     "cell_type": "code",
     "collapsed": false,
     "input": [
      "p.show()"
     ],
     "language": "python",
     "metadata": {},
     "outputs": [
      {
       "metadata": {},
       "output_type": "display_data",
       "png": "[encoded data removed]",
       "text": [
        "<matplotlib.figure.Figure at 0x1078f2150>"
       ]
      }
     ],
     "prompt_number": 141
    },
    {
     "cell_type": "markdown",
     "metadata": {},
     "source": [
      "### Why is the absolute value function not differentiable?"
     ]
    },
    {
     "cell_type": "markdown",
     "metadata": {},
     "source": [
      "Why is $f(x) = |x|$ not differentiable at $x=0$?"
     ]
    },
    {
     "cell_type": "code",
     "collapsed": false,
     "input": [
      "Y = abs(X)\n",
      "Y"
     ],
     "language": "python",
     "metadata": {},
     "outputs": [
      {
       "latex": [
        "$$\\left\\lvert{X}\\right\\rvert$$"
       ],
       "metadata": {},
       "output_type": "pyout",
       "png": "[encoded data removed]",
       "prompt_number": 142,
       "text": [
        "\u2502X\u2502"
       ]
      }
     ],
     "prompt_number": 142
    },
    {
     "cell_type": "code",
     "collapsed": false,
     "input": [
      "plotting.plot(Y);"
     ],
     "language": "python",
     "metadata": {},
     "outputs": [
      {
       "metadata": {},
       "output_type": "display_data",
       "png": "[encoded data removed]",
       "text": [
        "<matplotlib.figure.Figure at 0x105f1ad90>"
       ]
      }
     ],
     "prompt_number": 143
    },
    {
     "cell_type": "markdown",
     "metadata": {},
     "source": [
      "when focusing in at point 0, it is not a straight line, therefore it is not differentiable at 0"
     ]
    },
    {
     "cell_type": "markdown",
     "metadata": {},
     "source": [
      "The limit does not exist, because the limit on the right hand side and the limit on the left hand side are not the same"
     ]
    },
    {
     "cell_type": "markdown",
     "metadata": {},
     "source": [
      "### How does wiggling $x$ affect $f(x)$"
     ]
    },
    {
     "cell_type": "markdown",
     "metadata": {},
     "source": [
      "<img \"src=images/wiggling_x_affect_fx.png\"></img>"
     ]
    },
    {
     "cell_type": "markdown",
     "metadata": {},
     "source": [
      "The smaller you make $h$, the better the approximation $f^\\prime(a+h)$ is of $f(a+h)$"
     ]
    },
    {
     "cell_type": "markdown",
     "metadata": {},
     "source": [
      "Suppose we know:\n",
      "\n",
      "$f^\\prime(x) = 3x$\n",
      "\n",
      "$f(2) = 4$\n",
      "\n",
      "What can we tell about \n",
      "\n",
      "$f(2.01)$?"
     ]
    },
    {
     "cell_type": "markdown",
     "metadata": {},
     "source": [
      "$f(2.01) = f(2)$ + output change\n",
      "\n",
      "$\\approx f(2) + 0.01 \\cdot f^\\prime(2)$\n",
      "\n",
      "$ 4 + 0.06 = 4.06 $"
     ]
    },
    {
     "cell_type": "markdown",
     "metadata": {},
     "source": [
      "### Quiz What are derivatives?"
     ]
    },
    {
     "cell_type": "code",
     "collapsed": false,
     "input": [
      "# Q1\n",
      "# Let f be the function defined by f(x)=(3x+7)^0.5 \n",
      "# Compute f\u2032(8) with an error of at most .0001\n",
      "Y = sqrt(3 * X + 7)\n",
      "Y"
     ],
     "language": "python",
     "metadata": {},
     "outputs": [
      {
       "latex": [
        "$$\\sqrt{3 X + 7}$$"
       ],
       "metadata": {},
       "output_type": "pyout",
       "png": "[encoded data removed]",
       "prompt_number": 144,
       "text": [
        "  _________\n",
        "\u2572\u2571 3\u22c5X + 7 "
       ]
      }
     ],
     "prompt_number": 144
    },
    {
     "cell_type": "code",
     "collapsed": false,
     "input": [
      "plotting.plot(Y);"
     ],
     "language": "python",
     "metadata": {},
     "outputs": [
      {
       "metadata": {},
       "output_type": "display_data",
       "png": "[encoded data removed]",
       "text": [
        "<matplotlib.figure.Figure at 0x106204310>"
       ]
      }
     ],
     "prompt_number": 147
    },
    {
     "cell_type": "code",
     "collapsed": false,
     "input": [
      "tangent_plot(X, Y, 8.00001).show()"
     ],
     "language": "python",
     "metadata": {},
     "outputs": [
      {
       "metadata": {},
       "output_type": "display_data",
       "png": "[encoded data removed]",
       "text": [
        "<matplotlib.figure.Figure at 0x105f2b890>"
       ]
      }
     ],
     "prompt_number": 148
    },
    {
     "cell_type": "markdown",
     "metadata": {},
     "source": [
      "$\\lim_{h \\to 0} \\dfrac{f(x+h) - f(x)}{h}$\n",
      "\n",
      "$\\lim_{h \\to 0} \\dfrac{\\sqrt{3 \\cdot (8 + h) + 7} - \\sqrt{3 \\cdot 8 + 7}}{h}$"
     ]
    },
    {
     "cell_type": "markdown",
     "metadata": {},
     "source": [
      "$\\lim_{h \\to 0} \\dfrac{\\sqrt{31 + 3h} - \\sqrt{31}}{h}$"
     ]
    },
    {
     "cell_type": "markdown",
     "metadata": {},
     "source": [
      "$\\lim_{h \\to 0} \\dfrac{\\sqrt{31 + 3h} - \\sqrt{31}}{h} \\cdot \\dfrac{\\sqrt{31 + 3h} + \\sqrt{31}}{\\sqrt{31 + 3h} + \\sqrt{31}}$"
     ]
    },
    {
     "cell_type": "markdown",
     "metadata": {},
     "source": [
      "$\\lim_{h \\to 0} \\dfrac{31 + 3h - 31}\n",
      "                      {h(\\sqrt{31 + 3h} + \\sqrt{31})}$\n"
     ]
    },
    {
     "cell_type": "markdown",
     "metadata": {},
     "source": [
      "... $\\dfrac{3}{2\\sqrt{31}}$"
     ]
    },
    {
     "cell_type": "code",
     "collapsed": false,
     "input": [
      "3.0 / (2 * 31**0.5)"
     ],
     "language": "python",
     "metadata": {},
     "outputs": [
      {
       "latex": [
        "$$0.26940795304$$"
       ],
       "metadata": {},
       "output_type": "pyout",
       "png": "[encoded data removed]",
       "prompt_number": 149,
       "text": [
        "0.26940795304"
       ]
      }
     ],
     "prompt_number": 149
    },
    {
     "cell_type": "code",
     "collapsed": false,
     "input": [
      "diff(Y).evalf(subs={X:8.00001})"
     ],
     "language": "python",
     "metadata": {},
     "outputs": [
      {
       "latex": [
        "$$0.26940782268157$$"
       ],
       "metadata": {},
       "output_type": "pyout",
       "png": "[encoded data removed]",
       "prompt_number": 150,
       "text": [
        "0.269407822681570"
       ]
      }
     ],
     "prompt_number": 150
    },
    {
     "cell_type": "code",
     "collapsed": false,
     "input": [
      "# q4\n",
      "Y = 8 * X**2 - 8 * X -2"
     ],
     "language": "python",
     "metadata": {},
     "outputs": [],
     "prompt_number": 151
    },
    {
     "cell_type": "code",
     "collapsed": false,
     "input": [
      "tangent_plot(X, Y, 9).show()"
     ],
     "language": "python",
     "metadata": {},
     "outputs": [
      {
       "metadata": {},
       "output_type": "display_data",
       "png": "[encoded data removed]",
       "text": [
        "<matplotlib.figure.Figure at 0x10608e510>"
       ]
      }
     ],
     "prompt_number": 152
    },
    {
     "cell_type": "code",
     "collapsed": false,
     "input": [
      "diff(Y).evalf(subs={X:9})"
     ],
     "language": "python",
     "metadata": {},
     "outputs": [
      {
       "latex": [
        "$$136.0$$"
       ],
       "metadata": {},
       "output_type": "pyout",
       "png": "[encoded data removed]",
       "prompt_number": 153,
       "text": [
        "136.000000000000"
       ]
      }
     ],
     "prompt_number": 153
    },
    {
     "cell_type": "code",
     "collapsed": false,
     "input": [
      "# q6"
     ],
     "language": "python",
     "metadata": {},
     "outputs": [],
     "prompt_number": 154
    },
    {
     "cell_type": "code",
     "collapsed": false,
     "input": [
      "Y = (3*X + 7)**-1\n",
      "Y"
     ],
     "language": "python",
     "metadata": {},
     "outputs": [
      {
       "latex": [
        "$$\\frac{1}{3 X + 7}$$"
       ],
       "metadata": {},
       "output_type": "pyout",
       "png": "[encoded data removed]",
       "prompt_number": 155,
       "text": [
        "   1   \n",
        "\u2500\u2500\u2500\u2500\u2500\u2500\u2500\n",
        "3\u22c5X + 7"
       ]
      }
     ],
     "prompt_number": 155
    },
    {
     "cell_type": "code",
     "collapsed": false,
     "input": [
      "Y.diff().evalf(subs={X:0.4})"
     ],
     "language": "python",
     "metadata": {},
     "outputs": [
      {
       "latex": [
        "$$-0.0446162998215348$$"
       ],
       "metadata": {},
       "output_type": "pyout",
       "png": "[encoded data removed]",
       "prompt_number": 156,
       "text": [
        "-0.0446162998215348"
       ]
      }
     ],
     "prompt_number": 156
    },
    {
     "cell_type": "code",
     "collapsed": false,
     "input": [
      "Y.diff()"
     ],
     "language": "python",
     "metadata": {},
     "outputs": [
      {
       "latex": [
        "$$- \\frac{3}{\\left(3 X + 7\\right)^{2}}$$"
       ],
       "metadata": {},
       "output_type": "pyout",
       "png": "[encoded data removed]",
       "prompt_number": 157,
       "text": [
        "   -3     \n",
        "\u2500\u2500\u2500\u2500\u2500\u2500\u2500\u2500\u2500\u2500\n",
        "         2\n",
        "(3\u22c5X + 7) "
       ]
      }
     ],
     "prompt_number": 157
    },
    {
     "cell_type": "markdown",
     "metadata": {},
     "source": [
      "<a id='whywouldicaretofindthederivative'></a>\n",
      "## Why would I care to find the derivative?\n",
      "\n",
      "### Why is the $\\sqrt{9999} \\approx 99.995$"
     ]
    },
    {
     "cell_type": "markdown",
     "metadata": {},
     "source": [
      "$\\dfrac{d}{dx}\\sqrt{x} = \\dfrac{1}{2 \\sqrt{x}}$"
     ]
    },
    {
     "cell_type": "markdown",
     "metadata": {},
     "source": [
      "More generally, the power rule\n",
      "\n",
      "$\\dfrac{d}{dx}x^n = nx^{n-1}$"
     ]
    },
    {
     "cell_type": "markdown",
     "metadata": {},
     "source": [
      "$f(x) = \\sqrt{x}$"
     ]
    },
    {
     "cell_type": "code",
     "collapsed": false,
     "input": [
      "Fx = sqrt(X)\n",
      "Fx, diff(Fx)"
     ],
     "language": "python",
     "metadata": {},
     "outputs": [
      {
       "latex": [
        "$$\\begin{pmatrix}\\sqrt{X}, & \\frac{1}{2 \\sqrt{X}}\\end{pmatrix}$$"
       ],
       "metadata": {},
       "output_type": "pyout",
       "png": "[encoded data removed]",
       "prompt_number": 158,
       "text": [
        "\u239b  ___     1   \u239e\n",
        "\u239c\u2572\u2571 X , \u2500\u2500\u2500\u2500\u2500\u2500\u2500\u239f\n",
        "\u239c           ___\u239f\n",
        "\u239d       2\u22c5\u2572\u2571 X \u23a0"
       ]
      }
     ],
     "prompt_number": 158
    },
    {
     "cell_type": "code",
     "collapsed": false,
     "input": [
      "diff(Fx).evalf(subs={X:10000})"
     ],
     "language": "python",
     "metadata": {},
     "outputs": [
      {
       "latex": [
        "$$0.005$$"
       ],
       "metadata": {},
       "output_type": "pyout",
       "png": "[encoded data removed]",
       "prompt_number": 159,
       "text": [
        "0.00500000000000000"
       ]
      }
     ],
     "prompt_number": 159
    },
    {
     "cell_type": "markdown",
     "metadata": {},
     "source": [
      "So the tangent line is 0.005 at 10000. That suggests that moving the input by 1, will move the output by 0.005\n",
      "\n",
      "Lo and behold..."
     ]
    },
    {
     "cell_type": "code",
     "collapsed": false,
     "input": [
      "Fx.evalf(subs={X:9999})"
     ],
     "language": "python",
     "metadata": {},
     "outputs": [
      {
       "latex": [
        "$$99.9949998749938$$"
       ],
       "metadata": {},
       "output_type": "pyout",
       "png": "[encoded data removed]",
       "prompt_number": 160,
       "text": [
        "99.9949998749938"
       ]
      }
     ],
     "prompt_number": 160
    },
    {
     "cell_type": "markdown",
     "metadata": {},
     "source": [
      "$f(x-a) \\approx \\dfrac{f(x) - f^\\prime(x)}{a}$\n",
      "\n",
      "Here\n",
      "\n",
      "$a = 1, x = 10000$"
     ]
    },
    {
     "cell_type": "markdown",
     "metadata": {},
     "source": [
      "$f(10000-1) \\approx \\dfrac{f(10000) - f^\\prime(10000)}{1}$"
     ]
    },
    {
     "cell_type": "markdown",
     "metadata": {},
     "source": [
      "$99.994 \\approx \\dfrac{100 - 0.005}{1}$"
     ]
    },
    {
     "cell_type": "code",
     "collapsed": false,
     "input": [
      "diff(Fx).evalf(subs={X:81})"
     ],
     "language": "python",
     "metadata": {},
     "outputs": [
      {
       "latex": [
        "$$0.0555555555555556$$"
       ],
       "metadata": {},
       "output_type": "pyout",
       "png": "[encoded data removed]",
       "prompt_number": 161,
       "text": [
        "0.0555555555555556"
       ]
      }
     ],
     "prompt_number": 161
    },
    {
     "cell_type": "code",
     "collapsed": false,
     "input": [
      "9.05**2"
     ],
     "language": "python",
     "metadata": {},
     "outputs": [
      {
       "latex": [
        "$$81.9025$$"
       ],
       "metadata": {},
       "output_type": "pyout",
       "png": "[encoded data removed]",
       "prompt_number": 162,
       "text": [
        "81.9025"
       ]
      }
     ],
     "prompt_number": 162
    },
    {
     "cell_type": "markdown",
     "metadata": {},
     "source": [
      "### What information is recorded in the sign of the derivative?"
     ]
    },
    {
     "cell_type": "markdown",
     "metadata": {},
     "source": [
      "$f(x + h) \\approx f(x) + h \\cdot f^\\prime$"
     ]
    },
    {
     "cell_type": "markdown",
     "metadata": {},
     "source": [
      "Say $x+h > x, h>0$"
     ]
    },
    {
     "cell_type": "markdown",
     "metadata": {},
     "source": [
      "$h \\cdot f^\\prime(x) > 0 $"
     ]
    },
    {
     "cell_type": "markdown",
     "metadata": {},
     "source": [
      "... it means that $f(x+h) > f(x)$ if $f^\\prime(x) >0 $"
     ]
    },
    {
     "cell_type": "markdown",
     "metadata": {},
     "source": [
      "$if \\dfrac{d}{dcoffee}happiness > 0$, drink more coffee"
     ]
    },
    {
     "cell_type": "markdown",
     "metadata": {},
     "source": [
      "### Quiz: Why would I care to find the derivative?"
     ]
    },
    {
     "cell_type": "markdown",
     "metadata": {},
     "source": [
      "### Q1\n",
      "\n",
      "Suppose that $f(3) = 12$ and $f(2.8) = 12.6$. \n",
      "\n",
      "Approximate $f^\\prime(3)$"
     ]
    },
    {
     "cell_type": "markdown",
     "metadata": {},
     "source": [
      "$f(x+h) \\approx f(x) + f^\\prime(x) h$"
     ]
    },
    {
     "cell_type": "markdown",
     "metadata": {},
     "source": [
      "$ x = 3$\n",
      "\n",
      "$h = -0.2$\n",
      "\n",
      "$f(2.8) \\approx f(3) + f^\\prime(3)h$"
     ]
    },
    {
     "cell_type": "markdown",
     "metadata": {},
     "source": [
      "$f^\\prime(3) = \\dfrac{f(2.8) - f(3)}{h}$"
     ]
    },
    {
     "cell_type": "markdown",
     "metadata": {},
     "source": [
      "$f^\\prime(3) \\approx \\dfrac{12.6 - 12}{10.2}\\approx\\dfrac{-.6}{.2}\\approx-3$"
     ]
    },
    {
     "cell_type": "markdown",
     "metadata": {},
     "source": [
      "<a id='differentiabilitycontinuity'></a>\n",
      "## How do differentiability and continuity relate?"
     ]
    },
    {
     "cell_type": "markdown",
     "metadata": {},
     "source": [
      "### Why is a differentiable function necessarily continuous?"
     ]
    },
    {
     "cell_type": "markdown",
     "metadata": {},
     "source": [
      "a bunch of limit magic which first assumes:\n",
      "    \n",
      "$f^\\prime(a)$ exists and after  some magic, we\n",
      "\n",
      "show that $f$ is continuous at $a$"
     ]
    },
    {
     "cell_type": "markdown",
     "metadata": {},
     "source": [
      "The opposite is not true, that is continuous functions are not necessasrily differentiable"
     ]
    },
    {
     "cell_type": "markdown",
     "metadata": {},
     "source": [
      "### What is the derivative of a constant multiple of f(x)?"
     ]
    },
    {
     "cell_type": "markdown",
     "metadata": {},
     "source": [
      "$\\dfrac{d}{dx}2f(x)=?$\n",
      "\n",
      "or\n",
      "\n",
      "If $g(x) = 2f(x)$ what is $g^\\prime(x)$ in terms of $f^\\prime(x)$"
     ]
    },
    {
     "cell_type": "code",
     "collapsed": false,
     "input": [
      "Fx = X**2\n",
      "Gx = 2 * Fx"
     ],
     "language": "python",
     "metadata": {},
     "outputs": [],
     "prompt_number": 163
    },
    {
     "cell_type": "code",
     "collapsed": false,
     "input": [
      "c1, c2, c3, c4 = ('#7b3294','#c2a5cf','#a6dba0','#008837')\n",
      "p0 = plotting.plot(Fx, line_color=c1, show=False)\n",
      "p1 = plotting.plot(Gx, line_color=c2, show=False)\n",
      "p2 = plotting.plot(diff(Fx), line_color=c3, show=False)\n",
      "p3 = plotting.plot(diff(Gx), line_color=c4, show=False)\n",
      "[p0.extend(p) for p in [p1, p2, p3]]\n",
      "p0.show()"
     ],
     "language": "python",
     "metadata": {},
     "outputs": [
      {
       "metadata": {},
       "output_type": "display_data",
       "png": "[encoded data removed]",
       "text": [
        "<matplotlib.figure.Figure at 0x10621acd0>"
       ]
      }
     ],
     "prompt_number": 164
    },
    {
     "cell_type": "markdown",
     "metadata": {},
     "source": [
      "Do some limit and algebra magic... and"
     ]
    },
    {
     "cell_type": "markdown",
     "metadata": {},
     "source": [
      "Let $k$ be a constant; suppose $f$ is differentiable at $a$ and $g(x) = k \\cdot f(x)$"
     ]
    },
    {
     "cell_type": "markdown",
     "metadata": {},
     "source": [
      "Then $g^\\prime(a) = k \\cdot f^\\prime(a)$"
     ]
    },
    {
     "cell_type": "markdown",
     "metadata": {},
     "source": [
      "Also\n",
      "\n",
      "$\\dfrac{d}{dx}kf(x) = k\\dfrac{d}{dx}f(x)$"
     ]
    },
    {
     "cell_type": "markdown",
     "metadata": {},
     "source": [
      "### How do differentiability and continuity relate?"
     ]
    },
    {
     "cell_type": "code",
     "collapsed": false,
     "input": [
      "Fx = (abs(X))**2"
     ],
     "language": "python",
     "metadata": {},
     "outputs": [],
     "prompt_number": 165
    },
    {
     "cell_type": "code",
     "collapsed": false,
     "input": [
      "plotting.plot(Fx);"
     ],
     "language": "python",
     "metadata": {},
     "outputs": [
      {
       "metadata": {},
       "output_type": "display_data",
       "png": "[encoded data removed]",
       "text": [
        "<matplotlib.figure.Figure at 0x10622f2d0>"
       ]
      }
     ],
     "prompt_number": 166
    },
    {
     "cell_type": "markdown",
     "metadata": {},
     "source": [
      "<a id='howdoifindthederivative'></a>\n",
      "## How do I find the derivative"
     ]
    },
    {
     "cell_type": "markdown",
     "metadata": {},
     "source": [
      "<a id=\"whyisderivativeofx2equalto2\"></a>\n",
      "### Why is the derivative of $x^2$ equal to $2x$?"
     ]
    },
    {
     "cell_type": "markdown",
     "metadata": {},
     "source": [
      "How does wiggling $x$ affect $x^2$"
     ]
    },
    {
     "cell_type": "code",
     "collapsed": false,
     "input": [
      "import pandas as pd\n",
      "x = 2\n",
      "def differential_ratio(x):\n",
      "    \"\"\" returns a dataframe showing how the change in x\n",
      "    effects the change in x**2\n",
      "    \"\"\"\n",
      "    df = pd.DataFrame([x + 10**-_ for _ in range(1, 10)], columns = ['x'])\n",
      "    df['fx'] = df['x']**2\n",
      "    df['diff'] = df['x'] - x\n",
      "    df['diff.fx'] = df['fx'] - x**2\n",
      "    df['ratio'] = (df['diff.fx'] / df['diff']) / x\n",
      "    return df"
     ],
     "language": "python",
     "metadata": {},
     "outputs": [],
     "prompt_number": 167
    },
    {
     "cell_type": "code",
     "collapsed": false,
     "input": [
      "differential_ratio(2)"
     ],
     "language": "python",
     "metadata": {},
     "outputs": [
      {
       "html": [
        "<div style=\"max-height:1000px;max-width:1500px;overflow:auto;\">\n",
        "<table border=\"1\" class=\"dataframe\">\n",
        "  <thead>\n",
        "    <tr style=\"text-align: right;\">\n",
        "      <th></th>\n",
        "      <th>x</th>\n",
        "      <th>fx</th>\n",
        "      <th>diff</th>\n",
        "      <th>diff.fx</th>\n",
        "      <th>ratio</th>\n",
        "    </tr>\n",
        "  </thead>\n",
        "  <tbody>\n",
        "    <tr>\n",
        "      <th>0</th>\n",
        "      <td> 2.100000</td>\n",
        "      <td> 4.410000</td>\n",
        "      <td> 1.000000e-01</td>\n",
        "      <td> 4.100000e-01</td>\n",
        "      <td> 2.050000</td>\n",
        "    </tr>\n",
        "    <tr>\n",
        "      <th>1</th>\n",
        "      <td> 2.010000</td>\n",
        "      <td> 4.040100</td>\n",
        "      <td> 1.000000e-02</td>\n",
        "      <td> 4.010000e-02</td>\n",
        "      <td> 2.005000</td>\n",
        "    </tr>\n",
        "    <tr>\n",
        "      <th>2</th>\n",
        "      <td> 2.001000</td>\n",
        "      <td> 4.004001</td>\n",
        "      <td> 1.000000e-03</td>\n",
        "      <td> 4.001000e-03</td>\n",
        "      <td> 2.000500</td>\n",
        "    </tr>\n",
        "    <tr>\n",
        "      <th>3</th>\n",
        "      <td> 2.000100</td>\n",
        "      <td> 4.000400</td>\n",
        "      <td> 1.000000e-04</td>\n",
        "      <td> 4.000100e-04</td>\n",
        "      <td> 2.000050</td>\n",
        "    </tr>\n",
        "    <tr>\n",
        "      <th>4</th>\n",
        "      <td> 2.000010</td>\n",
        "      <td> 4.000040</td>\n",
        "      <td> 1.000000e-05</td>\n",
        "      <td> 4.000010e-05</td>\n",
        "      <td> 2.000005</td>\n",
        "    </tr>\n",
        "    <tr>\n",
        "      <th>5</th>\n",
        "      <td> 2.000001</td>\n",
        "      <td> 4.000004</td>\n",
        "      <td> 1.000000e-06</td>\n",
        "      <td> 4.000001e-06</td>\n",
        "      <td> 2.000001</td>\n",
        "    </tr>\n",
        "    <tr>\n",
        "      <th>6</th>\n",
        "      <td> 2.000000</td>\n",
        "      <td> 4.000000</td>\n",
        "      <td> 1.000000e-07</td>\n",
        "      <td> 4.000000e-07</td>\n",
        "      <td> 2.000000</td>\n",
        "    </tr>\n",
        "    <tr>\n",
        "      <th>7</th>\n",
        "      <td> 2.000000</td>\n",
        "      <td> 4.000000</td>\n",
        "      <td> 1.000000e-08</td>\n",
        "      <td> 4.000000e-08</td>\n",
        "      <td> 2.000000</td>\n",
        "    </tr>\n",
        "    <tr>\n",
        "      <th>8</th>\n",
        "      <td> 2.000000</td>\n",
        "      <td> 4.000000</td>\n",
        "      <td> 1.000000e-09</td>\n",
        "      <td> 4.000000e-09</td>\n",
        "      <td> 2.000000</td>\n",
        "    </tr>\n",
        "  </tbody>\n",
        "</table>\n",
        "</div>"
       ],
       "metadata": {},
       "output_type": "pyout",
       "prompt_number": 168,
       "text": [
        "          x        fx          diff       diff.fx     ratio\n",
        "0  2.100000  4.410000  1.000000e-01  4.100000e-01  2.050000\n",
        "1  2.010000  4.040100  1.000000e-02  4.010000e-02  2.005000\n",
        "2  2.001000  4.004001  1.000000e-03  4.001000e-03  2.000500\n",
        "3  2.000100  4.000400  1.000000e-04  4.000100e-04  2.000050\n",
        "4  2.000010  4.000040  1.000000e-05  4.000010e-05  2.000005\n",
        "5  2.000001  4.000004  1.000000e-06  4.000001e-06  2.000001\n",
        "6  2.000000  4.000000  1.000000e-07  4.000000e-07  2.000000\n",
        "7  2.000000  4.000000  1.000000e-08  4.000000e-08  2.000000\n",
        "8  2.000000  4.000000  1.000000e-09  4.000000e-09  2.000000"
       ]
      }
     ],
     "prompt_number": 168
    },
    {
     "cell_type": "code",
     "collapsed": false,
     "input": [
      "differential_ratio(3)"
     ],
     "language": "python",
     "metadata": {},
     "outputs": [
      {
       "html": [
        "<div style=\"max-height:1000px;max-width:1500px;overflow:auto;\">\n",
        "<table border=\"1\" class=\"dataframe\">\n",
        "  <thead>\n",
        "    <tr style=\"text-align: right;\">\n",
        "      <th></th>\n",
        "      <th>x</th>\n",
        "      <th>fx</th>\n",
        "      <th>diff</th>\n",
        "      <th>diff.fx</th>\n",
        "      <th>ratio</th>\n",
        "    </tr>\n",
        "  </thead>\n",
        "  <tbody>\n",
        "    <tr>\n",
        "      <th>0</th>\n",
        "      <td> 3.100000</td>\n",
        "      <td> 9.610000</td>\n",
        "      <td> 1.000000e-01</td>\n",
        "      <td> 6.100000e-01</td>\n",
        "      <td> 2.033333</td>\n",
        "    </tr>\n",
        "    <tr>\n",
        "      <th>1</th>\n",
        "      <td> 3.010000</td>\n",
        "      <td> 9.060100</td>\n",
        "      <td> 1.000000e-02</td>\n",
        "      <td> 6.010000e-02</td>\n",
        "      <td> 2.003333</td>\n",
        "    </tr>\n",
        "    <tr>\n",
        "      <th>2</th>\n",
        "      <td> 3.001000</td>\n",
        "      <td> 9.006001</td>\n",
        "      <td> 1.000000e-03</td>\n",
        "      <td> 6.001000e-03</td>\n",
        "      <td> 2.000333</td>\n",
        "    </tr>\n",
        "    <tr>\n",
        "      <th>3</th>\n",
        "      <td> 3.000100</td>\n",
        "      <td> 9.000600</td>\n",
        "      <td> 1.000000e-04</td>\n",
        "      <td> 6.000100e-04</td>\n",
        "      <td> 2.000033</td>\n",
        "    </tr>\n",
        "    <tr>\n",
        "      <th>4</th>\n",
        "      <td> 3.000010</td>\n",
        "      <td> 9.000060</td>\n",
        "      <td> 1.000000e-05</td>\n",
        "      <td> 6.000010e-05</td>\n",
        "      <td> 2.000003</td>\n",
        "    </tr>\n",
        "    <tr>\n",
        "      <th>5</th>\n",
        "      <td> 3.000001</td>\n",
        "      <td> 9.000006</td>\n",
        "      <td> 1.000000e-06</td>\n",
        "      <td> 6.000001e-06</td>\n",
        "      <td> 2.000000</td>\n",
        "    </tr>\n",
        "    <tr>\n",
        "      <th>6</th>\n",
        "      <td> 3.000000</td>\n",
        "      <td> 9.000001</td>\n",
        "      <td> 1.000000e-07</td>\n",
        "      <td> 6.000000e-07</td>\n",
        "      <td> 2.000000</td>\n",
        "    </tr>\n",
        "    <tr>\n",
        "      <th>7</th>\n",
        "      <td> 3.000000</td>\n",
        "      <td> 9.000000</td>\n",
        "      <td> 1.000000e-08</td>\n",
        "      <td> 6.000000e-08</td>\n",
        "      <td> 2.000000</td>\n",
        "    </tr>\n",
        "    <tr>\n",
        "      <th>8</th>\n",
        "      <td> 3.000000</td>\n",
        "      <td> 9.000000</td>\n",
        "      <td> 1.000000e-09</td>\n",
        "      <td> 6.000000e-09</td>\n",
        "      <td> 2.000000</td>\n",
        "    </tr>\n",
        "  </tbody>\n",
        "</table>\n",
        "</div>"
       ],
       "metadata": {},
       "output_type": "pyout",
       "prompt_number": 169,
       "text": [
        "          x        fx          diff       diff.fx     ratio\n",
        "0  3.100000  9.610000  1.000000e-01  6.100000e-01  2.033333\n",
        "1  3.010000  9.060100  1.000000e-02  6.010000e-02  2.003333\n",
        "2  3.001000  9.006001  1.000000e-03  6.001000e-03  2.000333\n",
        "3  3.000100  9.000600  1.000000e-04  6.000100e-04  2.000033\n",
        "4  3.000010  9.000060  1.000000e-05  6.000010e-05  2.000003\n",
        "5  3.000001  9.000006  1.000000e-06  6.000001e-06  2.000000\n",
        "6  3.000000  9.000001  1.000000e-07  6.000000e-07  2.000000\n",
        "7  3.000000  9.000000  1.000000e-08  6.000000e-08  2.000000\n",
        "8  3.000000  9.000000  1.000000e-09  6.000000e-09  2.000000"
       ]
      }
     ],
     "prompt_number": 169
    },
    {
     "cell_type": "code",
     "collapsed": false,
     "input": [
      "differential_ratio(5)"
     ],
     "language": "python",
     "metadata": {},
     "outputs": [
      {
       "html": [
        "<div style=\"max-height:1000px;max-width:1500px;overflow:auto;\">\n",
        "<table border=\"1\" class=\"dataframe\">\n",
        "  <thead>\n",
        "    <tr style=\"text-align: right;\">\n",
        "      <th></th>\n",
        "      <th>x</th>\n",
        "      <th>fx</th>\n",
        "      <th>diff</th>\n",
        "      <th>diff.fx</th>\n",
        "      <th>ratio</th>\n",
        "    </tr>\n",
        "  </thead>\n",
        "  <tbody>\n",
        "    <tr>\n",
        "      <th>0</th>\n",
        "      <td> 5.100000</td>\n",
        "      <td> 26.010000</td>\n",
        "      <td> 1.000000e-01</td>\n",
        "      <td> 1.010000e+00</td>\n",
        "      <td> 2.020000</td>\n",
        "    </tr>\n",
        "    <tr>\n",
        "      <th>1</th>\n",
        "      <td> 5.010000</td>\n",
        "      <td> 25.100100</td>\n",
        "      <td> 1.000000e-02</td>\n",
        "      <td> 1.001000e-01</td>\n",
        "      <td> 2.002000</td>\n",
        "    </tr>\n",
        "    <tr>\n",
        "      <th>2</th>\n",
        "      <td> 5.001000</td>\n",
        "      <td> 25.010001</td>\n",
        "      <td> 1.000000e-03</td>\n",
        "      <td> 1.000100e-02</td>\n",
        "      <td> 2.000200</td>\n",
        "    </tr>\n",
        "    <tr>\n",
        "      <th>3</th>\n",
        "      <td> 5.000100</td>\n",
        "      <td> 25.001000</td>\n",
        "      <td> 1.000000e-04</td>\n",
        "      <td> 1.000010e-03</td>\n",
        "      <td> 2.000020</td>\n",
        "    </tr>\n",
        "    <tr>\n",
        "      <th>4</th>\n",
        "      <td> 5.000010</td>\n",
        "      <td> 25.000100</td>\n",
        "      <td> 1.000000e-05</td>\n",
        "      <td> 1.000001e-04</td>\n",
        "      <td> 2.000002</td>\n",
        "    </tr>\n",
        "    <tr>\n",
        "      <th>5</th>\n",
        "      <td> 5.000001</td>\n",
        "      <td> 25.000010</td>\n",
        "      <td> 1.000000e-06</td>\n",
        "      <td> 1.000000e-05</td>\n",
        "      <td> 2.000000</td>\n",
        "    </tr>\n",
        "    <tr>\n",
        "      <th>6</th>\n",
        "      <td> 5.000000</td>\n",
        "      <td> 25.000001</td>\n",
        "      <td> 1.000000e-07</td>\n",
        "      <td> 1.000000e-06</td>\n",
        "      <td> 2.000000</td>\n",
        "    </tr>\n",
        "    <tr>\n",
        "      <th>7</th>\n",
        "      <td> 5.000000</td>\n",
        "      <td> 25.000000</td>\n",
        "      <td> 1.000000e-08</td>\n",
        "      <td> 1.000000e-07</td>\n",
        "      <td> 2.000000</td>\n",
        "    </tr>\n",
        "    <tr>\n",
        "      <th>8</th>\n",
        "      <td> 5.000000</td>\n",
        "      <td> 25.000000</td>\n",
        "      <td> 1.000000e-09</td>\n",
        "      <td> 1.000000e-08</td>\n",
        "      <td> 2.000000</td>\n",
        "    </tr>\n",
        "  </tbody>\n",
        "</table>\n",
        "</div>"
       ],
       "metadata": {},
       "output_type": "pyout",
       "prompt_number": 170,
       "text": [
        "          x         fx          diff       diff.fx     ratio\n",
        "0  5.100000  26.010000  1.000000e-01  1.010000e+00  2.020000\n",
        "1  5.010000  25.100100  1.000000e-02  1.001000e-01  2.002000\n",
        "2  5.001000  25.010001  1.000000e-03  1.000100e-02  2.000200\n",
        "3  5.000100  25.001000  1.000000e-04  1.000010e-03  2.000020\n",
        "4  5.000010  25.000100  1.000000e-05  1.000001e-04  2.000002\n",
        "5  5.000001  25.000010  1.000000e-06  1.000000e-05  2.000000\n",
        "6  5.000000  25.000001  1.000000e-07  1.000000e-06  2.000000\n",
        "7  5.000000  25.000000  1.000000e-08  1.000000e-07  2.000000\n",
        "8  5.000000  25.000000  1.000000e-09  1.000000e-08  2.000000"
       ]
      }
     ],
     "prompt_number": 170
    },
    {
     "cell_type": "code",
     "collapsed": false,
     "input": [
      "import random\n",
      "differential_ratio(random.random())"
     ],
     "language": "python",
     "metadata": {},
     "outputs": [
      {
       "html": [
        "<div style=\"max-height:1000px;max-width:1500px;overflow:auto;\">\n",
        "<table border=\"1\" class=\"dataframe\">\n",
        "  <thead>\n",
        "    <tr style=\"text-align: right;\">\n",
        "      <th></th>\n",
        "      <th>x</th>\n",
        "      <th>fx</th>\n",
        "      <th>diff</th>\n",
        "      <th>diff.fx</th>\n",
        "      <th>ratio</th>\n",
        "    </tr>\n",
        "  </thead>\n",
        "  <tbody>\n",
        "    <tr>\n",
        "      <th>0</th>\n",
        "      <td> 0.539262</td>\n",
        "      <td> 0.290804</td>\n",
        "      <td> 1.000000e-01</td>\n",
        "      <td> 9.785240e-02</td>\n",
        "      <td> 2.227655</td>\n",
        "    </tr>\n",
        "    <tr>\n",
        "      <th>1</th>\n",
        "      <td> 0.449262</td>\n",
        "      <td> 0.201836</td>\n",
        "      <td> 1.000000e-02</td>\n",
        "      <td> 8.885240e-03</td>\n",
        "      <td> 2.022765</td>\n",
        "    </tr>\n",
        "    <tr>\n",
        "      <th>2</th>\n",
        "      <td> 0.440262</td>\n",
        "      <td> 0.193831</td>\n",
        "      <td> 1.000000e-03</td>\n",
        "      <td> 8.795240e-04</td>\n",
        "      <td> 2.002277</td>\n",
        "    </tr>\n",
        "    <tr>\n",
        "      <th>3</th>\n",
        "      <td> 0.439362</td>\n",
        "      <td> 0.193039</td>\n",
        "      <td> 1.000000e-04</td>\n",
        "      <td> 8.786240e-05</td>\n",
        "      <td> 2.000228</td>\n",
        "    </tr>\n",
        "    <tr>\n",
        "      <th>4</th>\n",
        "      <td> 0.439272</td>\n",
        "      <td> 0.192960</td>\n",
        "      <td> 1.000000e-05</td>\n",
        "      <td> 8.785340e-06</td>\n",
        "      <td> 2.000023</td>\n",
        "    </tr>\n",
        "    <tr>\n",
        "      <th>5</th>\n",
        "      <td> 0.439263</td>\n",
        "      <td> 0.192952</td>\n",
        "      <td> 1.000000e-06</td>\n",
        "      <td> 8.785250e-07</td>\n",
        "      <td> 2.000002</td>\n",
        "    </tr>\n",
        "    <tr>\n",
        "      <th>6</th>\n",
        "      <td> 0.439262</td>\n",
        "      <td> 0.192951</td>\n",
        "      <td> 1.000000e-07</td>\n",
        "      <td> 8.785241e-08</td>\n",
        "      <td> 2.000000</td>\n",
        "    </tr>\n",
        "    <tr>\n",
        "      <th>7</th>\n",
        "      <td> 0.439262</td>\n",
        "      <td> 0.192951</td>\n",
        "      <td> 1.000000e-08</td>\n",
        "      <td> 8.785241e-09</td>\n",
        "      <td> 2.000000</td>\n",
        "    </tr>\n",
        "    <tr>\n",
        "      <th>8</th>\n",
        "      <td> 0.439262</td>\n",
        "      <td> 0.192951</td>\n",
        "      <td> 1.000000e-09</td>\n",
        "      <td> 8.785241e-10</td>\n",
        "      <td> 2.000000</td>\n",
        "    </tr>\n",
        "  </tbody>\n",
        "</table>\n",
        "</div>"
       ],
       "metadata": {},
       "output_type": "pyout",
       "prompt_number": 171,
       "text": [
        "          x        fx          diff       diff.fx     ratio\n",
        "0  0.539262  0.290804  1.000000e-01  9.785240e-02  2.227655\n",
        "1  0.449262  0.201836  1.000000e-02  8.885240e-03  2.022765\n",
        "2  0.440262  0.193831  1.000000e-03  8.795240e-04  2.002277\n",
        "3  0.439362  0.193039  1.000000e-04  8.786240e-05  2.000228\n",
        "4  0.439272  0.192960  1.000000e-05  8.785340e-06  2.000023\n",
        "5  0.439263  0.192952  1.000000e-06  8.785250e-07  2.000002\n",
        "6  0.439262  0.192951  1.000000e-07  8.785241e-08  2.000000\n",
        "7  0.439262  0.192951  1.000000e-08  8.785241e-09  2.000000\n",
        "8  0.439262  0.192951  1.000000e-09  8.785241e-10  2.000000"
       ]
      }
     ],
     "prompt_number": 171
    },
    {
     "cell_type": "markdown",
     "metadata": {},
     "source": [
      "### Notice how the ratio is consistently approximately 2"
     ]
    },
    {
     "cell_type": "markdown",
     "metadata": {},
     "source": [
      "*let's do some algebra*\n",
      "\n",
      "$x^2$\n",
      "\n",
      "$(x+h)^2 = x^2 + 2xh + h^2 \\approx x^2 + 2xh$, since $h^2$ is really small\n",
      "\n",
      "$\\dfrac{output_{change}}{input_{change}} = \\dfrac{2xh}{h} = 2x$"
     ]
    },
    {
     "cell_type": "markdown",
     "metadata": {},
     "source": [
      "*kind of wishy-washy, let's use the derivative definition*"
     ]
    },
    {
     "cell_type": "markdown",
     "metadata": {},
     "source": [
      "$f(x) = x^2$\n",
      "\n",
      "$f^\\prime(x) = \\lim_{h \\to 0} \\dfrac{f(x+h)f(x)}{h}$\n",
      "\n",
      "$=\\lim_{h \\to 0} \\dfrac{(x+h)^2 - x^2}{h}$\n",
      "\n",
      "$=\\lim_{h \\to 0} \\dfrac{x^2 + 2hx + h^2 - x^2}{h}$\n",
      "\n",
      "$=\\lim_{h \\to 0} \\dfrac{2hx + h^2}{h}$\n",
      "\n",
      "$=\\lim_{h \\to 0} 2x + h$, since in the limit, we never set $h=0$\n",
      "\n",
      "$=\\lim_{h \\to 0} 2x + \\lim_{h \\to 0} h$\n",
      "\n",
      "$=2x + 0$\n",
      "\n",
      "$=2x$"
     ]
    },
    {
     "cell_type": "markdown",
     "metadata": {},
     "source": [
      "<a id=\"whatisthederivofxn\"></a>\n",
      "### What is the derivative of $x^n$"
     ]
    },
    {
     "cell_type": "markdown",
     "metadata": {},
     "source": [
      "*power rule for derivatives*\n",
      "\n",
      "$\\dfrac{d}{dx}x = 1$\n",
      "\n",
      "$\\dfrac{d}{dx}x^n = nx^{n-1}$, $n \\neq 0$\n",
      "\n",
      "$\\dfrac{d}{dx}x^3 = 3x^2$\n",
      "\n",
      "$\\dfrac{d}{dx}x^4 = 4x^3$\n",
      "\n",
      "Let's also use the derivative definition for this one\n",
      "\n",
      "$=\\lim_{h \\to 0} \\dfrac{(x+h)^4 - x^4}{h}$"
     ]
    },
    {
     "cell_type": "code",
     "collapsed": false,
     "input": [
      "x, h, n= symbols('x,h,n')\n",
      "y = (x+h)**4\n",
      "latex(y.expand())"
     ],
     "language": "python",
     "metadata": {},
     "outputs": [
      {
       "metadata": {},
       "output_type": "pyout",
       "prompt_number": 172,
       "text": [
        "'h^{4} + 4 h^{3} x + 6 h^{2} x^{2} + 4 h x^{3} + x^{4}'"
       ]
      }
     ],
     "prompt_number": 172
    },
    {
     "cell_type": "markdown",
     "metadata": {},
     "source": [
      "$=\\lim_{h \\to 0} \\dfrac{(h^{4} + 4 h^{3} x + 6 h^{2} x^{2} + 4 h x^{3} + x^{4}) - x^4}{h}$\n",
      "\n",
      "$=\\lim_{h \\to 0} \\dfrac{h^{4} + 4 h^{3} x + 6 h^{2} x^{2} + 4 h x^{3}}{h}$\n",
      "\n",
      "$=\\lim_{h \\to 0} h^{3} + 4 h^{2} x + 6h x^{2} + 4x^{3}$\n",
      "\n",
      "$ = 4x^3$, since all the $h$ terms go to 0\n"
     ]
    },
    {
     "cell_type": "markdown",
     "metadata": {},
     "source": [
      "*let's do it for the generic case*\n",
      "\n",
      "$=\\lim_{h \\to 0} \\dfrac{(x+h)^n - x^n}{h}$\n",
      "\n",
      "$=\\lim_{h \\to 0} \\dfrac{(h^{n} + n h^{n-1} x + \\dots + hnx^{n-1} + x^n) - x^n}{h}$\n",
      "\n",
      "$=\\lim_{h \\to 0} \\dfrac{h^{n} + n h^{n-1} x + \\dots + hnx^{n-1}}{h}$\n",
      "\n",
      "$=\\lim_{h \\to 0} (h^{n-1} + n h^{n-2} x + \\text{things with h's} + nx^{n-1})$\n",
      "\n",
      "$=\\lim_{h \\to 0} nx^{n-1}$\n",
      "\n",
      "$=nx^{n-1} \\blacksquare$"
     ]
    },
    {
     "cell_type": "markdown",
     "metadata": {},
     "source": [
      "<a id=\"whatisthederivofx2plusx3\"></a>\n",
      "### What is the derivative of $x^3 + x^2$"
     ]
    },
    {
     "cell_type": "markdown",
     "metadata": {},
     "source": [
      "Remember ...\n",
      "\n",
      "$\\dfrac{d}{dx}(f(x) + g(x))=$\n",
      "\n",
      "$\\dfrac{d}{dx}f(x) + \\dfrac{d}{dx}g(x)$\n",
      "\n",
      "$\\dfrac{d}{dx} x^3 + x^2 = $\n",
      "\n",
      "$3x^2 + 2x$"
     ]
    },
    {
     "cell_type": "code",
     "collapsed": false,
     "input": [
      "diff(x**3 + x**2)"
     ],
     "language": "python",
     "metadata": {},
     "outputs": [
      {
       "latex": [
        "$$3 x^{2} + 2 x$$"
       ],
       "metadata": {},
       "output_type": "pyout",
       "png": "[encoded data removed]",
       "prompt_number": 173,
       "text": [
        "   2      \n",
        "3\u22c5x  + 2\u22c5x"
       ]
      }
     ],
     "prompt_number": 173
    },
    {
     "cell_type": "markdown",
     "metadata": {},
     "source": [
      "*Where are they positive and where are they negative*"
     ]
    },
    {
     "cell_type": "markdown",
     "metadata": {},
     "source": [
      "$3x^2 + 2x$"
     ]
    },
    {
     "cell_type": "code",
     "collapsed": false,
     "input": [
      "p0 = plotting.plot(x**3 + x**2, line_color='green', show=False, ylim = (-0.5, 2), xlim=(-2, 1))\n",
      "p1 = plotting.plot(diff(x**3 + x**2), line_color='blue', show=False)\n",
      "p0.extend(p1)\n",
      "p0.show();"
     ],
     "language": "python",
     "metadata": {},
     "outputs": [
      {
       "metadata": {},
       "output_type": "display_data",
       "png": "[encoded data removed]",
       "text": [
        "<matplotlib.figure.Figure at 0x106e57650>"
       ]
      }
     ],
     "prompt_number": 174
    },
    {
     "cell_type": "markdown",
     "metadata": {},
     "source": [
      "kind of cool. note how the green line is decreasing the brief period where the blue line is below 0"
     ]
    },
    {
     "cell_type": "markdown",
     "metadata": {},
     "source": [
      "<a id='whyisthederivativeofasumthesumofderivatives'></a>\n",
      "### Why is the derivative of a sum the sum of derivatives?"
     ]
    },
    {
     "cell_type": "markdown",
     "metadata": {},
     "source": [
      "biggish proof. too lazy to $\\LaTeX$ it out. trust it."
     ]
    },
    {
     "cell_type": "markdown",
     "metadata": {},
     "source": [
      "### Quiz: How do I find the derivative?"
     ]
    },
    {
     "cell_type": "markdown",
     "metadata": {},
     "source": [
      "Find the derivative of $-7x^3+x^2-3x-7$ using the sum rule and the power rule."
     ]
    },
    {
     "cell_type": "code",
     "collapsed": false,
     "input": [
      "# -21x^2 + 2x -3 "
     ],
     "language": "python",
     "metadata": {},
     "outputs": [],
     "prompt_number": 175
    },
    {
     "cell_type": "code",
     "collapsed": false,
     "input": [
      "fx = -7*x**3 + x**2 -3*x - 7"
     ],
     "language": "python",
     "metadata": {},
     "outputs": [],
     "prompt_number": 176
    },
    {
     "cell_type": "code",
     "collapsed": false,
     "input": [
      "diff(fx)"
     ],
     "language": "python",
     "metadata": {},
     "outputs": [
      {
       "latex": [
        "$$- 21 x^{2} + 2 x - 3$$"
       ],
       "metadata": {},
       "output_type": "pyout",
       "png": "[encoded data removed]",
       "prompt_number": 177,
       "text": [
        "      2          \n",
        "- 21\u22c5x  + 2\u22c5x - 3"
       ]
      }
     ],
     "prompt_number": 177
    },
    {
     "cell_type": "code",
     "collapsed": false,
     "input": [
      "# more of the same..."
     ],
     "language": "python",
     "metadata": {},
     "outputs": [],
     "prompt_number": 178
    },
    {
     "cell_type": "markdown",
     "metadata": {},
     "source": [
      "### Quiz: The Beginning of Derivatives"
     ]
    },
    {
     "cell_type": "markdown",
     "metadata": {},
     "source": [
      "1, Let f be the function defined by $f(x) = 6x^4+2x^3+5x^2+3x-5$.\tFind the formula for $f\u2032(x)$, evaluate $f\u2032(4)$ and decide if $f$ is increasing or decreasing near $x=4$."
     ]
    },
    {
     "cell_type": "code",
     "collapsed": false,
     "input": [
      "fx = 6*x**4 + 2*x**3 + 5*x**2 + 3*x - 5\n",
      "fx"
     ],
     "language": "python",
     "metadata": {},
     "outputs": [
      {
       "latex": [
        "$$6 x^{4} + 2 x^{3} + 5 x^{2} + 3 x - 5$$"
       ],
       "metadata": {},
       "output_type": "pyout",
       "png": "[encoded data removed]",
       "prompt_number": 179,
       "text": [
        "   4      3      2          \n",
        "6\u22c5x  + 2\u22c5x  + 5\u22c5x  + 3\u22c5x - 5"
       ]
      }
     ],
     "prompt_number": 179
    },
    {
     "cell_type": "code",
     "collapsed": false,
     "input": [
      "diff(fx).evalf(subs = {x:4})"
     ],
     "language": "python",
     "metadata": {},
     "outputs": [
      {
       "latex": [
        "$$1675.0$$"
       ],
       "metadata": {},
       "output_type": "pyout",
       "png": "[encoded data removed]",
       "prompt_number": 180,
       "text": [
        "1675.00000000000"
       ]
      }
     ],
     "prompt_number": 180
    },
    {
     "cell_type": "markdown",
     "metadata": {},
     "source": [
      "2. Let f be the function defined by $f(x) = 2x^3-7x^2+5x+4$.\tFind the formula for $f\u2032(x)$, evaluate $f\u2032(\u22121)$ and decide if $f$ is increasing or decreasing near $x=\u22121$."
     ]
    },
    {
     "cell_type": "code",
     "collapsed": false,
     "input": [
      "fx = 2*x**3 - 7*x**2 + 5*x +4\n",
      "fx"
     ],
     "language": "python",
     "metadata": {},
     "outputs": [
      {
       "latex": [
        "$$2 x^{3} - 7 x^{2} + 5 x + 4$$"
       ],
       "metadata": {},
       "output_type": "pyout",
       "png": "[encoded data removed]",
       "prompt_number": 181,
       "text": [
        "   3      2          \n",
        "2\u22c5x  - 7\u22c5x  + 5\u22c5x + 4"
       ]
      }
     ],
     "prompt_number": 181
    },
    {
     "cell_type": "code",
     "collapsed": false,
     "input": [
      "diff(fx).evalf(subs = {x:-1})"
     ],
     "language": "python",
     "metadata": {},
     "outputs": [
      {
       "latex": [
        "$$25.0$$"
       ],
       "metadata": {},
       "output_type": "pyout",
       "png": "[encoded data removed]",
       "prompt_number": 182,
       "text": [
        "25.0000000000000"
       ]
      }
     ],
     "prompt_number": 182
    },
    {
     "cell_type": "markdown",
     "metadata": {},
     "source": [
      "Let f be the function defined by $f(x) = 4x^2+4x$.\tFind the formula for $f\u2032(x)$, evaluate $f\u2032(0)$ and decide if $f$ is increasing or decreasing near $x=0$."
     ]
    },
    {
     "cell_type": "code",
     "collapsed": false,
     "input": [
      "fx = 4*x**2 + 4*x\n",
      "fx"
     ],
     "language": "python",
     "metadata": {},
     "outputs": [
      {
       "latex": [
        "$$4 x^{2} + 4 x$$"
       ],
       "metadata": {},
       "output_type": "pyout",
       "png": "[encoded data removed]",
       "prompt_number": 183,
       "text": [
        "   2      \n",
        "4\u22c5x  + 4\u22c5x"
       ]
      }
     ],
     "prompt_number": 183
    },
    {
     "cell_type": "code",
     "collapsed": false,
     "input": [
      "diff(fx).evalf(subs = {x:0})"
     ],
     "language": "python",
     "metadata": {},
     "outputs": [
      {
       "latex": [
        "$$4.0$$"
       ],
       "metadata": {},
       "output_type": "pyout",
       "png": "[encoded data removed]",
       "prompt_number": 184,
       "text": [
        "4.00000000000000"
       ]
      }
     ],
     "prompt_number": 184
    }
   ],
   "metadata": {}
  }
 ]
}