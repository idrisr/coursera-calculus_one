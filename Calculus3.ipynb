{
 "metadata": {
  "name": "",
  "signature": "sha256:a7ec230dde7aeedbde6485f8a8a5d9c047d7888d3c58ff53000e1edb6973a19c"
 },
 "nbformat": 3,
 "nbformat_minor": 0,
 "worksheets": [
  {
   "cells": [
    {
     "cell_type": "markdown",
     "metadata": {},
     "source": [
      "1. [Antidifferentiation](#antidifferentiation)\n",
      "    1. [compute antiderivatives](#compute_antiderive)\n",
      "    1. [Why is this so hard?](#whythissohard)"
     ]
    },
    {
     "cell_type": "code",
     "collapsed": false,
     "input": [
      "from datetime import timedelta\n",
      "import math\n",
      "import matplotlib.pyplot as plt\n",
      "import numpy as np\n",
      "from sympy import *; \n",
      "import pandas as pd\n",
      "from __future__ import division\n",
      "from IPython.display import HTML, YouTubeVideo\n",
      "%matplotlib inline\n",
      "\n",
      "init_printing()"
     ],
     "language": "python",
     "metadata": {},
     "outputs": [],
     "prompt_number": 47
    },
    {
     "cell_type": "markdown",
     "metadata": {},
     "source": [
      "<a id = 'antidifferentiation'></a>\n",
      "### Antidifferentiation"
     ]
    },
    {
     "cell_type": "markdown",
     "metadata": {},
     "source": [
      "### How do we handle the fact that there are many antiderivatives?\n",
      "\n",
      "A fucntion can have more than one anti-derivative\n",
      "\n",
      "$f(x) = 2x$\n",
      "* $F(x) = x^2$\n",
      "* $F'(x) = f(x)$\n",
      "* an anti-derivative of $f$ is $F$\n",
      "\n",
      "Can we think of another $F$?\n",
      "\n",
      "* $G(x) = x^2 + 17$\n",
      "* $G'(x) = 2x = f(x)$\n",
      "\n",
      "Another?\n",
      "\n",
      "* $H(x) = x^2 + 27$\n",
      "* $H'(x) = 2x = f(x)$\n",
      "\n",
      "---\n",
      "$f(x) = 2x$\n",
      "\n",
      "Any antiderivative of $f$ has the form:\n",
      "\n",
      "$F(x) = x^2 + C$\n",
      "* for some constant $C$\n",
      "\n",
      "Goes back to the MVT\n",
      "\n",
      "$F$ and $G$\n",
      "\n",
      "and say \n",
      "* $F'(x) = f(x)$\n",
      "* $G'(x) = f(x)$ \n",
      "* $H(x) = F(x) - G(x)$\n",
      "* $H'(x) = F'(x) - G'(x) = f(x) - f(x) = 0 $\n",
      "* MVT tells us if the derivative is 0 and defined for the range, the function is a constant\n",
      "* Therefore $H$ is a constant\n",
      "* Rewrite\n",
      "    * $H(x) = F(x) - G(x)$\n",
      "    * $F(x) = G(x) + C$\n",
      "    \n",
      "Suppose $f$ is a function defined on an interval $I$, and $F$ is an antiderivative. \n",
      "\n",
      "Then any antiderivative of $f$ has the form $F(x) + C$ for some constant $C$.\n"
     ]
    },
    {
     "cell_type": "markdown",
     "metadata": {},
     "source": [
      "### Quiz"
     ]
    },
    {
     "cell_type": "markdown",
     "metadata": {},
     "source": [
      "Consider the function $f(x) = \\begin{cases} 3 + \\log x & \\mbox{ if $x \\gt 0$, and} \\\\ 12 + \\log (-x) & \\mbox{ if $x \\lt 0$.}\\end{cases}$ \n",
      "\n",
      "This function $f$ is an antiderivative for which function $F$ below?\n",
      "\n",
      "* $f$ is a derivate of $F$\n",
      "    * differentiate $F \\to f$ \n",
      "* $f$ is a antiderivate of $F$\n",
      "    * differentiate $f \\to F$ "
     ]
    },
    {
     "cell_type": "markdown",
     "metadata": {},
     "source": [
      "<a id='compute_antiderive'></a>\n",
      "### Compute Antiderivatives"
     ]
    },
    {
     "cell_type": "markdown",
     "metadata": {},
     "source": [
      "### What is the antiderivative of a sum?\n",
      "\n",
      "* $F$ is an antiderivate of $f$\n",
      "* $G$ is an antiderivate of $g$\n",
      "* say $h(x) = f(x) + g(x)$\n",
      "* $H(x) = F(x) + G(x)$\n",
      "* $H'(x) = h(x)$\n",
      "\n",
      "---\n",
      "New notation:\n",
      "\n",
      "$F$ is an antiderivative of $f$\n",
      "\n",
      "* $\\displaystyle\\int f(x)\\,dx = F(x)+C$\n",
      "* $\\displaystyle\\int g(x)\\,dx = G(x)+C$\n",
      "* $\\displaystyle\\int\\left(f(x) + g(x)\\right)\\,dx = F(x) + G(x) + C$\n",
      "* $\\displaystyle\\int\\left(f(x) + g(x)\\right)\\,dx = \\displaystyle\\int f(x)\\,dx + \\displaystyle\\int g(x)\\,dx$\n",
      "\n",
      "The sum of an antiderivative is the antiderivative of the sum\n",
      "\n"
     ]
    },
    {
     "cell_type": "markdown",
     "metadata": {},
     "source": [
      "### What is an antiderivative for $x^n$?"
     ]
    },
    {
     "cell_type": "markdown",
     "metadata": {},
     "source": [
      "$\\dfrac{d}{dx} ? = 3x^2$\n",
      "\n",
      "$\\displaystyle\\int 3x^2\\,dx = x^3 + C$\n",
      "\n",
      "---\n",
      "General Case\n",
      "\n",
      "$\\dfrac{d}{dx} ? = x^n, x\\neq-1$\n",
      "\n",
      "$\\displaystyle\\int x^n\\,dx = \\dfrac{x^{n+1}}{n+1} + C$\n",
      "\n",
      "$\\dfrac{d}{dx}\\dfrac{x^{n+1}}{n+1} = $\n",
      "\n",
      "$\\dfrac{1}{n+1}\\dfrac{d}{dx}x^{n+1}=$\n",
      "\n",
      "Use the power rule, Luke\n",
      "\n",
      "$\\dfrac{1}{n+1}(n+1)x^n=x^n$\n",
      "\n",
      "---\n",
      "\n",
      "$\\displaystyle\\int\\dfrac{1}{x^5}\\,dx = \\displaystyle\\int x^n\\,dx, n=-5$\n",
      "\n",
      "$\\dfrac{x^{-4}}{-4} + C = \\dfrac{-1}{4x^4} + C$\n",
      "\n",
      "* The $+C$ is really hiding something\n",
      "* it's something that is locally constant\n",
      "* not necessarily the same value left and right of 0\n",
      "* function not defined at 0\n",
      "\n",
      "---\n",
      "\n",
      "Find $F$ so that $F'(x) = f(x)$\n",
      "\n",
      "$f(x) = 15x^2 - 4x + 3$\n",
      "* $\\displaystyle\\int15x^2 - 4x + 3\\,dx=$\n",
      "* $\\displaystyle\\int15x^2\\,dx - \\displaystyle\\int4x\\,dx + \\displaystyle\\int3\\,dx=$\n",
      "* $15\\displaystyle\\int x^2\\,dx - 4\\displaystyle\\int x\\,dx + \\displaystyle\\int3\\,dx=$\n",
      "* $15\\dfrac{x^3}{3} - 4\\dfrac{x^2}{2} + 3x + C=$\n",
      "* $5x^3 - 2x^2 + 3x + C$\n",
      "\n",
      "---\n",
      "** Constant Multiple Rule **\n",
      "\n",
      "$\\dfrac{d}{dx}\\left(aF(x)\\right) = a\\cdot\\left(\\dfrac{d}{dx}F(x)\\right)$\n",
      "\n",
      "$\\displaystyle\\int a\\cdot f(x)\\,dx = a\\cdot\\displaystyle\\int f(x)\\,dx$\n"
     ]
    },
    {
     "cell_type": "markdown",
     "metadata": {},
     "source": [
      "## What is the most general antiderivative of $\\frac{1}{x}$?"
     ]
    },
    {
     "cell_type": "markdown",
     "metadata": {},
     "source": [
      "$f(x) = \\frac{1}{x}$\n",
      "\n",
      "$\\displaystyle\\int f(x)\\,dx = ?$\n",
      "* $\\dfrac{d}{dx}\\log|x| =\\frac{1}{x}$\n",
      "* $\\dfrac{d}{dx}(\\log|x|+17) =\\frac{1}{x}$\n",
      "* $\\dfrac{d}{dx}(\\log|x|+C) =\\frac{1}{x}$\n",
      "\n",
      "$F(x) = \n",
      "\\begin{cases} \n",
      "\\log x + 17 &   \\mbox{ if $x \\gt 0$} \\\\ \n",
      "\\log(-x) + 20 & \\mbox{ if $x \\lt 0$}\n",
      "\\end{cases}$\n",
      "\n",
      "$F'(x) = \\dfrac{1}{x}$\n",
      "\n",
      "What this shows is that the constant can be different on either side of $0$\n",
      "\n",
      "---\n",
      "\n",
      "The most general antiderivative of $\\dfrac{1}{x}$ has the form \n",
      "\n",
      "$F(x) = \n",
      "\\begin{cases} \n",
      "\\log x + C &   \\mbox{ if $x \\gt 0$} \\\\ \n",
      "\\log(-x) + D & \\mbox{ if $x \\lt 0$}\n",
      "\\end{cases}$\n",
      "\n"
     ]
    },
    {
     "cell_type": "code",
     "collapsed": false,
     "input": [
      "x = symbols('x')"
     ],
     "language": "python",
     "metadata": {},
     "outputs": [],
     "prompt_number": 7
    },
    {
     "cell_type": "code",
     "collapsed": false,
     "input": [
      "y1 = log(x) + 2\n",
      "y2 = log(-x)-1\n",
      "\n",
      "plot(y1, y2);"
     ],
     "language": "python",
     "metadata": {},
     "outputs": [
      {
       "metadata": {},
       "output_type": "display_data",
       "png": "[encoded data removed]",
       "text": [
        "<matplotlib.figure.Figure at 0x1053a8850>"
       ]
      }
     ],
     "prompt_number": 14
    },
    {
     "cell_type": "code",
     "collapsed": false,
     "input": [
      "diff(y1,x), diff(y2)"
     ],
     "language": "python",
     "metadata": {},
     "outputs": [
      {
       "latex": [
        "$$\\begin{pmatrix}\\frac{1}{x}, & \\frac{1}{x}\\end{pmatrix}$$"
       ],
       "metadata": {},
       "output_type": "pyout",
       "png": "[encoded data removed]",
       "prompt_number": 15,
       "text": [
        "\u239b1  1\u239e\n",
        "\u239c\u2500, \u2500\u239f\n",
        "\u239dx  x\u23a0"
       ]
      }
     ],
     "prompt_number": 15
    },
    {
     "cell_type": "markdown",
     "metadata": {},
     "source": [
      "Suppose $f$ is a function with **an** antideritave $F$\n",
      "\n",
      "Then any other antiderivative for $f$ has the form \n",
      "\n",
      "$F(x) + C(x)$\n",
      "\n",
      "for some \"locally constant\" function $C$."
     ]
    },
    {
     "cell_type": "markdown",
     "metadata": {},
     "source": [
      "### What are antiderivatives of trigonometric functions?"
     ]
    },
    {
     "cell_type": "markdown",
     "metadata": {},
     "source": [
      "$\\dfrac{d}{dx} \\sin x = \\cos x$\n",
      "\n",
      "$\\dfrac{d}{dx} -\\cos x = \\sin x$\n",
      "\n",
      "$\\displaystyle\\int \\cos x\\,dx = \\sin x + C$\n",
      "\n",
      "$\\displaystyle\\int \\sin x\\,dx = -\\cos x + C$\n",
      "\n",
      "$\\dfrac{d}{dx} ?? = \\tan x$\n",
      "\n",
      "$\\displaystyle\\int \\tan x\\,dx = \\log \\sec x + C$\n",
      "\n",
      "$\\dfrac{d}{dx} \\log(\\sec x) = \\tan x$?\n",
      "\n",
      "$\\dfrac{1}{\\sec x} \\cdot \\sec x\\tan x=$\n",
      "\n",
      "$\\tan x$\n",
      "\n",
      "---\n",
      "\n",
      "$\\dfrac{d}{dx}? = \\sec x$\n",
      "\n",
      "$\\displaystyle\\int \\sec x\\,dx=?$\n",
      "\n",
      "$\\displaystyle\\int \\sec x\\,dx=\\log\\left|\\sec x + \\tan x\\right|+C$\n",
      "\n",
      "totally opaque where that came from, but we can verify it\n",
      "\n",
      "$\\dfrac{d}{dx}\\log\\left|\\sec x + \\tan x\\right|=$\n",
      "\n",
      "$\\dots=$\n",
      "\n",
      "$\\sec x$\n",
      "\n",
      "\n",
      "Anti-differentiating is hard. Verifying is easy."
     ]
    },
    {
     "cell_type": "markdown",
     "metadata": {},
     "source": [
      "### What are antiderivatives of $e^x$ and natural log?"
     ]
    },
    {
     "cell_type": "markdown",
     "metadata": {},
     "source": [
      "$\\dfrac{d}{dx} e^x = e^x\n",
      "\n",
      "$\\displaystyle\\int e^x\\,dx = e^x + C$\n",
      "\n",
      "$\\displaystyle\\int \\log x\\,dx=?$\n",
      "\n",
      "$\\dfrac{d}{dx}(x\\log x) = x\\dfrac{1}{x}+1\\log x$\n",
      "\n",
      "$\\dfrac{d}{dx}(x\\log x -x ) = \\dfrac{d}{dx}(x\\log x) - 1$\n",
      "\n",
      "$\\dfrac{d}{dx}(x\\log x -x ) = x\\dfrac{1}{x}+1\\log x - 1=$\n",
      "\n",
      "$ 1+\\log x - 1=\\log x$\n",
      "\n",
      "$\\to$\n",
      "\n",
      "$\\displaystyle\\int \\log x\\,dx=x\\log x -x+C$\n"
     ]
    },
    {
     "cell_type": "markdown",
     "metadata": {},
     "source": [
      "### Quiz"
     ]
    },
    {
     "cell_type": "markdown",
     "metadata": {},
     "source": [
      "---\n",
      "\n",
      "**1**\n",
      "\n",
      "Find $\\displaystyle\\displaystyle\\int \\left(-5x^3+10x^2+8x+8 \\right) dx$. Your answer should include $+C$.\n",
      "\n",
      "$\\dfrac{-5}{4}x^4 + \\dfrac{10}{3}x^3 + 4x^2 + 8x + C$"
     ]
    },
    {
     "cell_type": "code",
     "collapsed": false,
     "input": [
      "fx = -5*x**3 + 10*x**2 + 8*x + 8\n",
      "integrate(fx)"
     ],
     "language": "python",
     "metadata": {},
     "outputs": [
      {
       "latex": [
        "$$- \\frac{5 x^{4}}{4} + \\frac{10 x^{3}}{3} + 4 x^{2} + 8 x$$"
       ],
       "metadata": {},
       "output_type": "pyout",
       "png": "[encoded data removed]",
       "prompt_number": 31,
       "text": [
        "     4       3             \n",
        "  5\u22c5x    10\u22c5x       2      \n",
        "- \u2500\u2500\u2500\u2500 + \u2500\u2500\u2500\u2500\u2500 + 4\u22c5x  + 8\u22c5x\n",
        "   4       3               "
       ]
      }
     ],
     "prompt_number": 31
    },
    {
     "cell_type": "code",
     "collapsed": false,
     "input": [
      "print(integrate(fx))"
     ],
     "language": "python",
     "metadata": {},
     "outputs": [
      {
       "output_type": "stream",
       "stream": "stdout",
       "text": [
        "-5*x**4/4 + 10*x**3/3 + 4*x**2 + 8*x\n"
       ]
      }
     ],
     "prompt_number": 32
    },
    {
     "cell_type": "markdown",
     "metadata": {},
     "source": [
      "---\n",
      "\n",
      "**2**\n",
      "\n",
      "Find $\\displaystyle\\displaystyle\\int x^{22} \\,dx$\n",
      "\n",
      "$\\dfrac{1}{23}x^{23}$"
     ]
    },
    {
     "cell_type": "code",
     "collapsed": false,
     "input": [
      "fx = x**22\n",
      "integrate(fx)"
     ],
     "language": "python",
     "metadata": {},
     "outputs": [
      {
       "latex": [
        "$$\\frac{x^{23}}{23}$$"
       ],
       "metadata": {},
       "output_type": "pyout",
       "png": "[encoded data removed]",
       "prompt_number": 33,
       "text": [
        " 23\n",
        "x  \n",
        "\u2500\u2500\u2500\n",
        " 23"
       ]
      }
     ],
     "prompt_number": 33
    },
    {
     "cell_type": "code",
     "collapsed": false,
     "input": [
      "print(integrate(fx))"
     ],
     "language": "python",
     "metadata": {},
     "outputs": [
      {
       "output_type": "stream",
       "stream": "stdout",
       "text": [
        "x**23/23\n"
       ]
      }
     ],
     "prompt_number": 34
    },
    {
     "cell_type": "markdown",
     "metadata": {},
     "source": [
      "---\n",
      "\n",
      "**3**\n",
      "\n",
      "$\\displaystyle\\int\\sin x\\,dx$\n",
      "\n",
      "$-\\cos x + C$"
     ]
    },
    {
     "cell_type": "code",
     "collapsed": false,
     "input": [
      "fx = sin(x)\n",
      "integrate(fx)"
     ],
     "language": "python",
     "metadata": {},
     "outputs": [
      {
       "latex": [
        "$$- \\cos{\\left (x \\right )}$$"
       ],
       "metadata": {},
       "output_type": "pyout",
       "png": "[encoded data removed]",
       "prompt_number": 35,
       "text": [
        "-cos(x)"
       ]
      }
     ],
     "prompt_number": 35
    },
    {
     "cell_type": "markdown",
     "metadata": {},
     "source": [
      "---\n",
      "\n",
      "**4**"
     ]
    },
    {
     "cell_type": "markdown",
     "metadata": {},
     "source": [
      "Find $\\displaystyle\\int\\left(-10x^3 - 8x^2 + 6x + 8\\right)\\,dx$\n",
      "\n",
      "$\\dfrac{-10}{4}x^4 - \\dfrac{8}{3}x^3 + 3x^2 + 8x + C$"
     ]
    },
    {
     "cell_type": "code",
     "collapsed": false,
     "input": [
      "fx = -10*x**3 - 8*x**2 + 6*x + 8\n",
      "integrate(fx)"
     ],
     "language": "python",
     "metadata": {},
     "outputs": [
      {
       "latex": [
        "$$- \\frac{5 x^{4}}{2} - \\frac{8 x^{3}}{3} + 3 x^{2} + 8 x$$"
       ],
       "metadata": {},
       "output_type": "pyout",
       "png": "[encoded data removed]",
       "prompt_number": 36,
       "text": [
        "     4      3             \n",
        "  5\u22c5x    8\u22c5x       2      \n",
        "- \u2500\u2500\u2500\u2500 - \u2500\u2500\u2500\u2500 + 3\u22c5x  + 8\u22c5x\n",
        "   2      3               "
       ]
      }
     ],
     "prompt_number": 36
    },
    {
     "cell_type": "code",
     "collapsed": false,
     "input": [
      "print(integrate(fx))"
     ],
     "language": "python",
     "metadata": {},
     "outputs": [
      {
       "output_type": "stream",
       "stream": "stdout",
       "text": [
        "-5*x**4/2 - 8*x**3/3 + 3*x**2 + 8*x\n"
       ]
      }
     ],
     "prompt_number": 37
    },
    {
     "cell_type": "markdown",
     "metadata": {},
     "source": [
      "---\n",
      "\n",
      "** 5**"
     ]
    },
    {
     "cell_type": "markdown",
     "metadata": {},
     "source": [
      "Find $\\displaystyle\\int \\left(-2x^{79} -3x^{38} + 5\\right)\\,dx$\n",
      "\n",
      "$\\dfrac{-2}{80}x^{80} - \\dfrac{3}{39}x^{39} + 5x + C$"
     ]
    },
    {
     "cell_type": "code",
     "collapsed": false,
     "input": [
      "fx = -2*x**79 -3*x**38 + 5\n",
      "integrate(fx)\n",
      "fx"
     ],
     "language": "python",
     "metadata": {},
     "outputs": [
      {
       "latex": [
        "$$- 2 x^{79} - 3 x^{38} + 5$$"
       ],
       "metadata": {},
       "output_type": "pyout",
       "png": "[encoded data removed]",
       "prompt_number": 46,
       "text": [
        "     79      38    \n",
        "- 2\u22c5x   - 3\u22c5x   + 5"
       ]
      }
     ],
     "prompt_number": 46
    },
    {
     "cell_type": "code",
     "collapsed": false,
     "input": [
      "print(integrate(fx))"
     ],
     "language": "python",
     "metadata": {},
     "outputs": [
      {
       "output_type": "stream",
       "stream": "stdout",
       "text": [
        "-x**80/40 - x**39/13 + 5*x\n"
       ]
      }
     ],
     "prompt_number": 39
    },
    {
     "cell_type": "markdown",
     "metadata": {},
     "source": [
      "---\n",
      "\n",
      "**6**\n",
      "\n",
      "Find $\\displaystyle\\int\\csc^2 x\\,dx$\n",
      "\n",
      "$\\displaystyle\\int\\csc^2 x\\,dx$\n",
      "\n",
      "$\\displaystyle\\int\\dfrac{1}{\\sin^2 x}\\,dx$\n",
      "\n",
      "$\\dfrac{1}{\\cos^2 x}$\n",
      "\n"
     ]
    },
    {
     "cell_type": "code",
     "collapsed": false,
     "input": [
      "fx = (csc(x))**2\n",
      "fx"
     ],
     "language": "python",
     "metadata": {},
     "outputs": [
      {
       "latex": [
        "$$\\csc^{2}{\\left (x \\right )}$$"
       ],
       "metadata": {},
       "output_type": "pyout",
       "png": "[encoded data removed]",
       "prompt_number": 41,
       "text": [
        "   2   \n",
        "csc (x)"
       ]
      }
     ],
     "prompt_number": 41
    },
    {
     "cell_type": "code",
     "collapsed": false,
     "input": [
      "integrate(fx)"
     ],
     "language": "python",
     "metadata": {},
     "outputs": [
      {
       "latex": [
        "$$- \\frac{\\cos{\\left (x \\right )}}{\\sin{\\left (x \\right )}}$$"
       ],
       "metadata": {},
       "output_type": "pyout",
       "png": "[encoded data removed]",
       "prompt_number": 43,
       "text": [
        "-cos(x) \n",
        "\u2500\u2500\u2500\u2500\u2500\u2500\u2500\u2500\n",
        " sin(x) "
       ]
      }
     ],
     "prompt_number": 43
    },
    {
     "cell_type": "code",
     "collapsed": false,
     "input": [
      "print(integrate(fx))"
     ],
     "language": "python",
     "metadata": {},
     "outputs": [
      {
       "output_type": "stream",
       "stream": "stdout",
       "text": [
        "-cos(x)/sin(x)\n"
       ]
      }
     ],
     "prompt_number": 45
    },
    {
     "cell_type": "markdown",
     "metadata": {},
     "source": [
      "<a id='whythissohard'></a>\n",
      "## Why is this so hard?"
     ]
    },
    {
     "cell_type": "markdown",
     "metadata": {},
     "source": [
      "### What is the $\\displaystyle\\int f(mx+b)$?\n"
     ]
    },
    {
     "cell_type": "markdown",
     "metadata": {},
     "source": [
      "$\\displaystyle\\int \\cos(3x)\\,dx$\n",
      "\n",
      "Maybe $\\sin 3x$?\n",
      "\n",
      "$\\dfrac{d}{dx}\\sin(3x) = \\cos(3x)\\cdot 3$... close\n",
      "\n",
      "need to get rid of the $3$\n",
      "\n",
      "$\\dfrac{d}{dx}\\dfrac{1}{3}\\sin(3x) = \\dfrac{1}{3}\\cos(3x)\\cdot 3=$\n",
      "\n",
      "$\\dfrac{d}{dx}\\dfrac{1}{3}\\sin(3x) = \\dfrac{1}{3}\\cos(3x)\\cdot 3=$\n",
      "\n",
      "$\\cos(3x)$\n",
      "\n",
      "$\\therefore$\n",
      "\n",
      "$\\displaystyle\\int \\cos(3x)\\,dx = \\dfrac{1}{3}\\sin{3x}+C$\n",
      "\n",
      "---\n",
      "**harder example**\n",
      "\n",
      "$\\displaystyle\\int \\sin(2x+1)\\,dx=?$\n",
      "\n",
      "guess: it has to do with $\\cos$\n",
      "\n",
      "$\\dfrac{d}{dx}\\cos(2x+1) = -\\sin(2x+1)\\cdot 2$\n",
      "\n",
      "$\\dfrac{d}{dx} \\dfrac{-1}{2} \\cos(2x+1) =\\dfrac{-1}{2}-\\sin(2x+1)\\cdot 2 =$\n",
      "\n",
      "$-\\sin(2x+1)$\n",
      "\n",
      "$\\therefore$\n",
      "\n",
      "$\\displaystyle\\int \\sin(2x+1)\\,dx=\\dfrac{-1}{2} \\cos(2x+1)+C$\n",
      "\n",
      "--- \n",
      "** General Principle**\n",
      "\n",
      "$m, b$ are constants\n",
      "\n",
      "$\\displaystyle\\int f(mx+b)\\,dx$\n",
      "\n",
      "$\\displaystyle\\int f(x)\\,dx=F(x)+C$\n",
      "\n",
      "$\\dfrac{d}{dx} \\dfrac{1}{m}F(mx+b) = \\dfrac{1}{m}f(mx+b)\\cdot m$"
     ]
    },
    {
     "cell_type": "markdown",
     "metadata": {},
     "source": [
      "### What is an antiderivative for $e^{(-x^2)}$?"
     ]
    },
    {
     "cell_type": "markdown",
     "metadata": {},
     "source": [
      "The normal!\n",
      "\n",
      "$\\dfrac{d}{dx}? = e^{-x^2}$\n",
      "\n",
      "$\\displaystyle\\int e^{-x^2}\\,dx=e^{-x^2}+C?$\n",
      "\n",
      "$\\dfrac{d}{dx} \\dfrac{e^{-x^2}}{-2x}=$\n",
      "\n",
      "$\\dfrac{d}{dx}\\left(e^{-x^2}\\cdot{-2x}^{-1}\\right)=$\n",
      "\n",
      "product rule\n",
      "\n",
      "$\\dfrac{d}{dx}\\left(e^{-x^2}\\right)\\cdot{-2x}^{-1} +e^{-x^2}\\dfrac{d}{dx}(-2x)^{-1}=$\n",
      "\n",
      "$e^{-x^2}(-2x)(-2x)^{-1} + e^{-x^2}\\dfrac{d}{dx}(-2x)^{-1}=$\n",
      "\n",
      "$e^{-x^2} + e^{-x^2}(-2x)^{-2}\\cdot -2$\n",
      "\n",
      "$\\dots$ not correct!\n",
      "\n",
      "---\n",
      "\n",
      "$\\displaystyle\\int e^{-x^2}\\,dx$ cannot be expressed using elementary functions\n",
      "\n",
      "elementary functions:\n",
      "* polynomials\n",
      "* trig functions\n",
      "* $e^x$, $\\log$ ,etc\n",
      "\n",
      "Also can't anti-differentiate:\n",
      "\n",
      "* $\\displaystyle\\int e^{e^x}\\,dx$\n",
      "* $\\displaystyle\\int \\log\\log x\\,dx$\n",
      "* $\\displaystyle\\int \\sqrt{1+x^4}\\,dx$\n",
      "\n",
      "Many functions are impossible to antidifferntiate."
     ]
    },
    {
     "cell_type": "markdown",
     "metadata": {},
     "source": [
      "### How difficult is factoring compared to multiplying?\n"
     ]
    },
    {
     "cell_type": "markdown",
     "metadata": {},
     "source": [
      "* multiplying\n",
      "    * easy\n",
      "\n",
      "* anti-multiplying\n",
      "    * hard\n",
      "    * factoring"
     ]
    },
    {
     "cell_type": "markdown",
     "metadata": {},
     "source": [
      "### Quiz"
     ]
    },
    {
     "cell_type": "markdown",
     "metadata": {},
     "source": [
      "---\n",
      "\n",
      "**1**\n",
      "\n",
      "find $\\displaystyle\\displaystyle\\int \\csc^2(-x+2)\\,dx$\n",
      "\n",
      "Chain Rule??\n",
      "\n",
      "cot(\u2212x+2)+C\n",
      "exp(\u22126\u2217x+6)/(\u22126)+C\n",
      "(tan(\u22125\u2217x+7))/(\u22125)+C\n",
      "\n",
      "**punted on this quiz**"
     ]
    },
    {
     "cell_type": "code",
     "collapsed": false,
     "input": [],
     "language": "python",
     "metadata": {},
     "outputs": []
    }
   ],
   "metadata": {}
  }
 ]
}
