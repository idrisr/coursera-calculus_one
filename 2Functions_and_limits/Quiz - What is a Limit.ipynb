{
 "metadata": {
  "name": "",
  "signature": "sha256:e17c5394883d7c0d9a8a9699fe34898d33d81e513a990c6fe7d1cb436f70511f"
 },
 "nbformat": 3,
 "nbformat_minor": 0,
 "worksheets": [
  {
   "cells": [
    {
     "cell_type": "markdown",
     "metadata": {},
     "source": [
      "## What is a Limit?"
     ]
    },
    {
     "cell_type": "code",
     "collapsed": false,
     "input": [
      "f1 = lambda x: (x**2 + 7*x + 10) / (x + 5)\n",
      "f2 = lambda x: (x**2 + 12*x + 27) / (x + 3)\n",
      "f3 = lambda x: (x**2 - 2*x - 15) / (x - 5)"
     ],
     "language": "python",
     "metadata": {},
     "outputs": [],
     "prompt_number": 94
    },
    {
     "cell_type": "code",
     "collapsed": false,
     "input": [
      "def data_table(f, base):\n",
      "    n = 10\n",
      "    X = [base-10**-_ for _ in range(1, n)]\n",
      "    return '\\n'.join(['x=%0.10f y=%0.10f' % (x, f(x), ) for x in X])"
     ],
     "language": "python",
     "metadata": {},
     "outputs": [],
     "prompt_number": 95
    },
    {
     "cell_type": "code",
     "collapsed": false,
     "input": [
      "print data_table(f1, -5)"
     ],
     "language": "python",
     "metadata": {},
     "outputs": [
      {
       "output_type": "stream",
       "stream": "stdout",
       "text": [
        "x=-5.1000000000 y=-3.1000000000\n",
        "x=-5.0100000000 y=-3.0100000000\n",
        "x=-5.0010000000 y=-3.0010000000\n",
        "x=-5.0001000000 y=-3.0001000000\n",
        "x=-5.0000100000 y=-3.0000100002\n",
        "x=-5.0000010000 y=-3.0000009974\n",
        "x=-5.0000001000 y=-3.0000000977\n",
        "x=-5.0000000100 y=-3.0000002665\n",
        "x=-5.0000000010 y=-3.0000035527\n"
       ]
      }
     ],
     "prompt_number": 96
    },
    {
     "cell_type": "code",
     "collapsed": false,
     "input": [
      "print data_table(f2, -3)"
     ],
     "language": "python",
     "metadata": {},
     "outputs": [
      {
       "output_type": "stream",
       "stream": "stdout",
       "text": [
        "x=-3.1000000000 y=5.9000000000\n",
        "x=-3.0100000000 y=5.9900000000\n",
        "x=-3.0010000000 y=5.9990000000\n",
        "x=-3.0001000000 y=5.9999000000\n",
        "x=-3.0000100000 y=5.9999900003\n",
        "x=-3.0000010000 y=5.9999989964\n",
        "x=-3.0000001000 y=5.9999999378\n",
        "x=-3.0000000100 y=5.9999998224\n",
        "x=-3.0000000010 y=6.0000000000\n"
       ]
      }
     ],
     "prompt_number": 97
    },
    {
     "cell_type": "code",
     "collapsed": false,
     "input": [
      "print data_table(f3, 5)"
     ],
     "language": "python",
     "metadata": {},
     "outputs": [
      {
       "output_type": "stream",
       "stream": "stdout",
       "text": [
        "x=4.9000000000 y=7.9000000000\n",
        "x=4.9900000000 y=7.9900000000\n",
        "x=4.9990000000 y=7.9990000000\n",
        "x=4.9999000000 y=7.9999000000\n",
        "x=4.9999900000 y=7.9999900002\n",
        "x=4.9999990000 y=7.9999989999\n",
        "x=4.9999999000 y=7.9999999112\n",
        "x=4.9999999900 y=7.9999998224\n",
        "x=4.9999999990 y=8.0000000000\n"
       ]
      }
     ],
     "prompt_number": 98
    },
    {
     "cell_type": "markdown",
     "metadata": {},
     "source": [
      "# Quiz: Working With Limits"
     ]
    },
    {
     "cell_type": "code",
     "collapsed": false,
     "input": [
      "import math"
     ],
     "language": "python",
     "metadata": {},
     "outputs": [],
     "prompt_number": 99
    },
    {
     "cell_type": "code",
     "collapsed": false,
     "input": [
      "f1 = lambda x: math.sin(2 * x) / (8 * x)\n",
      "f2 = lambda x: math.sin(9 * x) / (6 * x)\n",
      "f3 = lambda x: math.sin(-2 * x) / (1 * x)"
     ],
     "language": "python",
     "metadata": {},
     "outputs": [],
     "prompt_number": 100
    },
    {
     "cell_type": "code",
     "collapsed": false,
     "input": [
      "base = 0"
     ],
     "language": "python",
     "metadata": {},
     "outputs": [],
     "prompt_number": 101
    },
    {
     "cell_type": "code",
     "collapsed": false,
     "input": [
      "print data_table(f2, base)"
     ],
     "language": "python",
     "metadata": {},
     "outputs": [
      {
       "output_type": "stream",
       "stream": "stdout",
       "text": [
        "x=-0.1000000000 y=1.3055448494\n",
        "x=-0.0100000000 y=1.4979758200\n",
        "x=-0.0010000000 y=1.4999797501\n",
        "x=-0.0001000000 y=1.4999997975\n",
        "x=-0.0000100000 y=1.4999999980\n",
        "x=-0.0000010000 y=1.5000000000\n",
        "x=-0.0000001000 y=1.5000000000\n",
        "x=-0.0000000100 y=1.5000000000\n",
        "x=-0.0000000010 y=1.5000000000\n"
       ]
      }
     ],
     "prompt_number": 102
    },
    {
     "cell_type": "code",
     "collapsed": false,
     "input": [
      "print data_table(f3, base)"
     ],
     "language": "python",
     "metadata": {},
     "outputs": [
      {
       "output_type": "stream",
       "stream": "stdout",
       "text": [
        "x=-0.1000000000 y=-1.9866933080\n",
        "x=-0.0100000000 y=-1.9998666693\n",
        "x=-0.0010000000 y=-1.9999986667\n",
        "x=-0.0001000000 y=-1.9999999867\n",
        "x=-0.0000100000 y=-1.9999999999\n",
        "x=-0.0000010000 y=-2.0000000000\n",
        "x=-0.0000001000 y=-2.0000000000\n",
        "x=-0.0000000100 y=-2.0000000000\n",
        "x=-0.0000000010 y=-2.0000000000\n"
       ]
      }
     ],
     "prompt_number": 103
    },
    {
     "cell_type": "markdown",
     "metadata": {},
     "source": [
      "## Sure, but how do you this without an i5 chip?"
     ]
    },
    {
     "cell_type": "markdown",
     "metadata": {},
     "source": [
      "Recall:\n",
      "\n",
      "$\\lim_{x \\to 0} \\frac{\\sin x}{x} = 1$\n",
      "\n",
      "...\n",
      "\n",
      "$f(x) = \\frac{\\sin 2x}{8x} =$ \n",
      "\n",
      "$\\frac{\\sin 2x}{2x \\cdot \\frac{8}{2}}=$"
     ]
    },
    {
     "cell_type": "markdown",
     "metadata": {},
     "source": [
      "$\\frac{\\sin 2x}{2x} \\cdot \\frac{1}{4}, therefore$"
     ]
    },
    {
     "cell_type": "markdown",
     "metadata": {},
     "source": [
      "$\\lim_{x \\to 0}\\frac{\\sin 2x}{8x} =$ "
     ]
    },
    {
     "cell_type": "markdown",
     "metadata": {},
     "source": [
      "$\\lim_{x \\to 0}\\frac{\\sin 2x}{2x} \\cdot \\frac{1}{4}=$"
     ]
    },
    {
     "cell_type": "markdown",
     "metadata": {},
     "source": [
      "$\\lim_{x \\to 0}\\frac{\\sin 2x}{2x} \\cdot \\lim_{x \\to 0}\\frac{1}{4}=$"
     ]
    },
    {
     "cell_type": "markdown",
     "metadata": {},
     "source": [
      "$ 1 \\cdot \\frac{1}{4}$"
     ]
    },
    {
     "cell_type": "code",
     "collapsed": false,
     "input": [
      "print data_table(f1, base)"
     ],
     "language": "python",
     "metadata": {},
     "outputs": [
      {
       "output_type": "stream",
       "stream": "stdout",
       "text": [
        "x=-0.1000000000 y=0.2483366635\n",
        "x=-0.0100000000 y=0.2499833337\n",
        "x=-0.0010000000 y=0.2499998333\n",
        "x=-0.0001000000 y=0.2499999983\n",
        "x=-0.0000100000 y=0.2500000000\n",
        "x=-0.0000010000 y=0.2500000000\n",
        "x=-0.0000001000 y=0.2500000000\n",
        "x=-0.0000000100 y=0.2500000000\n",
        "x=-0.0000000010 y=0.2500000000\n"
       ]
      }
     ],
     "prompt_number": 104
    },
    {
     "cell_type": "markdown",
     "metadata": {},
     "source": [
      "# Quiz: Limits in Motion"
     ]
    },
    {
     "cell_type": "code",
     "collapsed": false,
     "input": [
      "class Point(object):\n",
      "    def __init__(self, x, y):\n",
      "        self.x = x\n",
      "        self.y = y\n",
      "        \n",
      "    def __repr__(self):\n",
      "        return 'x:%s y:%s' % (self.x, self.y)\n",
      "        \n",
      "class Line(object):\n",
      "    def __init__(self, m, b):\n",
      "        self.m = m\n",
      "        self.b = b"
     ],
     "language": "python",
     "metadata": {},
     "outputs": [],
     "prompt_number": 110
    },
    {
     "cell_type": "code",
     "collapsed": false,
     "input": [
      "def slope(a, b):\n",
      "    rise = a.y - b.y\n",
      "    run = a.x - b.x\n",
      "    return 1.0 * rise / run\n",
      "\n",
      "def intercept(m, a):\n",
      "    # y = mx + b\n",
      "    return a.y - m * a.x\n",
      "\n",
      "def find_y(a, c, x):\n",
      "    #y = mx + b\n",
      "    m = slope(a, c)\n",
      "    y_int = intercept(m, a)\n",
      "    l = Line(m, y_int)\n",
      "    y = l.m * x + l.b\n",
      "    return Point(x, y)\n"
     ],
     "language": "python",
     "metadata": {},
     "outputs": [],
     "prompt_number": 111
    },
    {
     "cell_type": "code",
     "collapsed": false,
     "input": [
      "a = Point(-10, -4)\n",
      "c = Point(8, 5)\n",
      "x = -1\n",
      "b = find_y(a, c, x)\n",
      "print b"
     ],
     "language": "python",
     "metadata": {},
     "outputs": [
      {
       "output_type": "stream",
       "stream": "stdout",
       "text": [
        "x:-1 y:0.5\n"
       ]
      }
     ],
     "prompt_number": 112
    },
    {
     "cell_type": "code",
     "collapsed": false,
     "input": [
      "a = Point(-7, -10)\n",
      "c = Point(10, -1)\n",
      "x = 2\n",
      "b = find_y(a, c, x)\n",
      "print b"
     ],
     "language": "python",
     "metadata": {},
     "outputs": [
      {
       "output_type": "stream",
       "stream": "stdout",
       "text": [
        "x:2 y:-5.23529411765\n"
       ]
      }
     ],
     "prompt_number": 113
    },
    {
     "cell_type": "code",
     "collapsed": false,
     "input": [
      "a = Point(-9, -9)\n",
      "c = Point(5, -6)\n",
      "x = 0\n",
      "b = find_y(a, c, x)\n",
      "print b"
     ],
     "language": "python",
     "metadata": {},
     "outputs": [
      {
       "output_type": "stream",
       "stream": "stdout",
       "text": [
        "x:0 y:-7.07142857143\n"
       ]
      }
     ],
     "prompt_number": 115
    },
    {
     "cell_type": "markdown",
     "metadata": {},
     "source": [
      "# Quiz: Function and Limits"
     ]
    },
    {
     "cell_type": "code",
     "collapsed": false,
     "input": [
      "from calculus import Fx\n",
      "from math import sin, cos"
     ],
     "language": "python",
     "metadata": {},
     "outputs": [],
     "prompt_number": 127
    },
    {
     "cell_type": "code",
     "collapsed": false,
     "input": [
      "f = lambda x: (x**2 + 3*x - 40) / (x-5)\n",
      "fx = Fx(f)\n",
      "x = 5\n",
      "print fx.limit_analysis(x)"
     ],
     "language": "python",
     "metadata": {},
     "outputs": [
      {
       "output_type": "stream",
       "stream": "stdout",
       "text": [
        "x=4.9000000000 y=12.9000000000\n",
        "x=4.9900000000 y=12.9900000000\n",
        "x=4.9990000000 y=12.9990000000\n",
        "x=4.9999000000 y=12.9999000000\n",
        "x=4.9999900000 y=12.9999900002\n",
        "x=4.9999990000 y=12.9999989990\n",
        "x=4.9999999000 y=12.9999999023\n",
        "x=5.0000001000 y=13.0000000444\n",
        "x=5.0000010000 y=13.0000010028\n",
        "x=5.0000100000 y=13.0000099998\n",
        "x=5.0001000000 y=13.0001000000\n",
        "x=5.0010000000 y=13.0010000000\n",
        "x=5.0100000000 y=13.0100000000\n",
        "x=5.1000000000 y=13.1000000000\n"
       ]
      }
     ],
     "prompt_number": 139
    },
    {
     "cell_type": "code",
     "collapsed": false,
     "input": [
      "f = lambda x: (x**2 - 1*x - 42) / (x-7)\n",
      "fx = Fx(f)\n",
      "x = 7\n",
      "print fx.limit_analysis(x)"
     ],
     "language": "python",
     "metadata": {},
     "outputs": [
      {
       "output_type": "stream",
       "stream": "stdout",
       "text": [
        "x=6.9000000000 y=12.9000000000\n",
        "x=6.9900000000 y=12.9900000000\n",
        "x=6.9990000000 y=12.9990000000\n",
        "x=6.9999000000 y=12.9999000000\n",
        "x=6.9999900000 y=12.9999900002\n",
        "x=6.9999990000 y=12.9999990061\n",
        "x=6.9999999000 y=12.9999999023\n",
        "x=7.0000001000 y=13.0000001155\n",
        "x=7.0000010000 y=13.0000010028\n",
        "x=7.0000100000 y=13.0000100005\n",
        "x=7.0001000000 y=13.0001000000\n",
        "x=7.0010000000 y=13.0010000000\n",
        "x=7.0100000000 y=13.0100000000\n",
        "x=7.1000000000 y=13.1000000000\n"
       ]
      }
     ],
     "prompt_number": 140
    },
    {
     "cell_type": "code",
     "collapsed": false,
     "input": [
      "f = lambda x: sin(8*x) / (-8*x)\n",
      "fx = Fx(f)\n",
      "print fx.limit_analysis(0)"
     ],
     "language": "python",
     "metadata": {},
     "outputs": [
      {
       "output_type": "stream",
       "stream": "stdout",
       "text": [
        "x=-0.1000000000 y=-0.8966951136\n",
        "x=-0.0100000000 y=-0.9989336746\n",
        "x=-0.0010000000 y=-0.9999893334\n",
        "x=-0.0001000000 y=-0.9999998933\n",
        "x=-0.0000100000 y=-0.9999999989\n",
        "x=-0.0000010000 y=-1.0000000000\n",
        "x=-0.0000001000 y=-1.0000000000\n",
        "x=0.0000001000 y=-1.0000000000\n",
        "x=0.0000010000 y=-1.0000000000\n",
        "x=0.0000100000 y=-0.9999999989\n",
        "x=0.0001000000 y=-0.9999998933\n",
        "x=0.0010000000 y=-0.9999893334\n",
        "x=0.0100000000 y=-0.9989336746\n",
        "x=0.1000000000 y=-0.8966951136\n"
       ]
      }
     ],
     "prompt_number": 133
    },
    {
     "cell_type": "code",
     "collapsed": false,
     "input": [
      "f = lambda x: sin(-4*x) / (-7*x)\n",
      "fx = Fx(f)\n",
      "print fx.limit_analysis(0)"
     ],
     "language": "python",
     "metadata": {},
     "outputs": [
      {
       "output_type": "stream",
       "stream": "stdout",
       "text": [
        "x=-0.1000000000 y=0.5563119176\n",
        "x=-0.0100000000 y=0.5712762027\n",
        "x=-0.0010000000 y=0.5714270476\n",
        "x=-0.0001000000 y=0.5714285562\n",
        "x=-0.0000100000 y=0.5714285713\n",
        "x=-0.0000010000 y=0.5714285714\n",
        "x=-0.0000001000 y=0.5714285714\n",
        "x=0.0000001000 y=0.5714285714\n",
        "x=0.0000010000 y=0.5714285714\n",
        "x=0.0000100000 y=0.5714285713\n",
        "x=0.0001000000 y=0.5714285562\n",
        "x=0.0010000000 y=0.5714270476\n",
        "x=0.0100000000 y=0.5712762027\n",
        "x=0.1000000000 y=0.5563119176\n"
       ]
      }
     ],
     "prompt_number": 134
    },
    {
     "cell_type": "code",
     "collapsed": false,
     "input": [
      "f = lambda x: (x**2 + 9*x + 14) / (x+7)\n",
      "fx = Fx(f)\n",
      "print fx.limit_analysis(-7)"
     ],
     "language": "python",
     "metadata": {},
     "outputs": [
      {
       "output_type": "stream",
       "stream": "stdout",
       "text": [
        "x=-7.1000000000 y=-5.1000000000\n",
        "x=-7.0100000000 y=-5.0100000000\n",
        "x=-7.0010000000 y=-5.0010000000\n",
        "x=-7.0001000000 y=-5.0001000000\n",
        "x=-7.0000100000 y=-5.0000099998\n",
        "x=-7.0000010000 y=-5.0000010028\n",
        "x=-7.0000001000 y=-5.0000001155\n",
        "x=-6.9999999000 y=-4.9999999023\n",
        "x=-6.9999990000 y=-4.9999990061\n",
        "x=-6.9999900000 y=-4.9999899995\n",
        "x=-6.9999000000 y=-4.9999000000\n",
        "x=-6.9990000000 y=-4.9990000000\n",
        "x=-6.9900000000 y=-4.9900000000\n",
        "x=-6.9000000000 y=-4.9000000000\n"
       ]
      }
     ],
     "prompt_number": 136
    },
    {
     "cell_type": "code",
     "collapsed": false,
     "input": [
      "f = lambda x: sin(-4*x) / (1*x)\n",
      "fx = Fx(f)\n",
      "print fx.limit_analysis(0)"
     ],
     "language": "python",
     "metadata": {},
     "outputs": [
      {
       "output_type": "stream",
       "stream": "stdout",
       "text": [
        "x=-0.1000000000 y=-3.8941834231\n",
        "x=-0.0100000000 y=-3.9989334187\n",
        "x=-0.0010000000 y=-3.9999893333\n",
        "x=-0.0001000000 y=-3.9999998933\n",
        "x=-0.0000100000 y=-3.9999999989\n",
        "x=-0.0000010000 y=-4.0000000000\n",
        "x=-0.0000001000 y=-4.0000000000\n",
        "x=0.0000001000 y=-4.0000000000\n",
        "x=0.0000010000 y=-4.0000000000\n",
        "x=0.0000100000 y=-3.9999999989\n",
        "x=0.0001000000 y=-3.9999998933\n",
        "x=0.0010000000 y=-3.9999893333\n",
        "x=0.0100000000 y=-3.9989334187\n",
        "x=0.1000000000 y=-3.8941834231\n"
       ]
      }
     ],
     "prompt_number": 137
    },
    {
     "cell_type": "code",
     "collapsed": false,
     "input": [],
     "language": "python",
     "metadata": {},
     "outputs": []
    }
   ],
   "metadata": {}
  }
 ]
}