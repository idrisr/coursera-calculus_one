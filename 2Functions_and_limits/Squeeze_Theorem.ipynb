{
 "metadata": {
  "name": "",
  "signature": "sha256:f2f38ecf8a002efe0abba1115c8142c79d60e2d235c82b5684e214512ea50202"
 },
 "nbformat": 3,
 "nbformat_minor": 0,
 "worksheets": [
  {
   "cells": [
    {
     "cell_type": "heading",
     "level": 1,
     "metadata": {},
     "source": [
      "What is $\\lim_ {x \\to 0} \\frac{\\sin x}{x}$?"
     ]
    },
    {
     "cell_type": "code",
     "collapsed": false,
     "input": [
      "import math\n",
      "import matplotlib.pyplot as plt\n",
      "%matplotlib inline"
     ],
     "language": "python",
     "metadata": {
      "slideshow": {
       "slide_type": "slide"
      }
     },
     "outputs": [],
     "prompt_number": 14
    },
    {
     "cell_type": "code",
     "collapsed": false,
     "input": [
      "f_cosx =   lambda x: math.cos(x)\n",
      "f_sinx_x = lambda x: math.sin(x) / x"
     ],
     "language": "python",
     "metadata": {
      "slideshow": {
       "slide_type": "slide"
      }
     },
     "outputs": [],
     "prompt_number": 15
    },
    {
     "cell_type": "code",
     "collapsed": false,
     "input": [
      "n = 10000\n",
      "x = [1.0 / _ for _ in range(1, n)]\n",
      "neg_x = [-_ for _ in x]\n",
      "neg_x.extend(x[::-1])\n",
      "x = neg_x"
     ],
     "language": "python",
     "metadata": {
      "slideshow": {
       "slide_type": "slide"
      }
     },
     "outputs": [],
     "prompt_number": 16
    },
    {
     "cell_type": "code",
     "collapsed": false,
     "input": [
      "def show_plot(x, f):\n",
      "    y = [f(_) for _ in x]\n",
      "    plt.plot(x, y)\n",
      "    plt.show()"
     ],
     "language": "python",
     "metadata": {},
     "outputs": [],
     "prompt_number": 26
    },
    {
     "cell_type": "markdown",
     "metadata": {},
     "source": [
      "$\\cos x < \\frac{\\sin x}{x} < 1$, as ${x \\to 0}$"
     ]
    },
    {
     "cell_type": "markdown",
     "metadata": {},
     "source": [
      "Not sure how he got the above inequality, though the graph below does bear out that it is true.\n",
      "\n",
      "Since the two limits below are equal to 1, we know:"
     ]
    },
    {
     "cell_type": "markdown",
     "metadata": {},
     "source": [
      "$\\lim_{x \\to 0} \\frac{\\sin x}{x} = 1$"
     ]
    },
    {
     "cell_type": "markdown",
     "metadata": {},
     "source": [
      "$\\lim _{x \\to 0} \\cos x = 1$"
     ]
    },
    {
     "cell_type": "markdown",
     "metadata": {},
     "source": [
      "$\\lim _{x \\to 0} 1 = 1$"
     ]
    },
    {
     "cell_type": "code",
     "collapsed": false,
     "input": [
      "f = f_cosx\n",
      "y = [f(_) for _ in x]\n",
      "f = f_sinx_x\n",
      "y2 = [f(_) for _ in x]\n",
      "plt.plot(x, y, label = 'cos x')\n",
      "plt.plot(x, y2, label = '(sin x) / x')\n",
      "plt.legend()\n",
      "plt.show()"
     ],
     "language": "python",
     "metadata": {},
     "outputs": [
      {
       "metadata": {},
       "output_type": "display_data",
       "png": "[encoded data removed]",
       "text": [
        "<matplotlib.figure.Figure at 0x10f6a2310>"
       ]
      }
     ],
     "prompt_number": 37
    },
    {
     "cell_type": "markdown",
     "metadata": {},
     "source": [
      "---"
     ]
    }
   ],
   "metadata": {}
  }
 ]
}