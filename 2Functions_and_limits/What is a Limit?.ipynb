{
 "metadata": {
  "name": "",
  "signature": "sha256:a17a520582d489a776b3846ea61fe4227149e61a1e6163ab607753d283f2a4cf"
 },
 "nbformat": 3,
 "nbformat_minor": 0,
 "worksheets": [
  {
   "cells": [
    {
     "cell_type": "markdown",
     "metadata": {},
     "source": [
      "https://www.coursera.org/learn/calculus1/lecture/z53Si/what-is-the-limit-of-x-2-1-x-1"
     ]
    },
    {
     "cell_type": "markdown",
     "metadata": {},
     "source": [
      "To say $\\lim_ {x \\to a} f(x) = L$ means $f(x)$ can be made as close to $L$ as desired by making $x$ close enough to $a$, but not $x = a$"
     ]
    },
    {
     "cell_type": "heading",
     "level": 1,
     "metadata": {},
     "source": [
      "Example"
     ]
    },
    {
     "cell_type": "heading",
     "level": 1,
     "metadata": {},
     "source": [
      "$x \\mapsto \\frac{x^2 - 1}{x - 1}$"
     ]
    },
    {
     "cell_type": "code",
     "collapsed": false,
     "input": [
      "f = lambda x: (x**2 - 1) / (x - 1)"
     ],
     "language": "python",
     "metadata": {},
     "outputs": [],
     "prompt_number": 30
    },
    {
     "cell_type": "code",
     "collapsed": false,
     "input": [
      "x = 3\n",
      "f(x)"
     ],
     "language": "python",
     "metadata": {},
     "outputs": [
      {
       "metadata": {},
       "output_type": "pyout",
       "prompt_number": 31,
       "text": [
        "4"
       ]
      }
     ],
     "prompt_number": 31
    },
    {
     "cell_type": "code",
     "collapsed": false,
     "input": [
      "x = 1\n",
      "f(x) # Uh-oh! f(x) not defined at 1, but it is defined near 1"
     ],
     "language": "python",
     "metadata": {},
     "outputs": [
      {
       "ename": "ZeroDivisionError",
       "evalue": "integer division or modulo by zero",
       "output_type": "pyerr",
       "traceback": [
        "\u001b[0;31m---------------------------------------------------------------------------\u001b[0m\n\u001b[0;31mZeroDivisionError\u001b[0m                         Traceback (most recent call last)",
        "\u001b[0;32m<ipython-input-32-4a2218379edd>\u001b[0m in \u001b[0;36m<module>\u001b[0;34m()\u001b[0m\n\u001b[1;32m      1\u001b[0m \u001b[0mx\u001b[0m \u001b[0;34m=\u001b[0m \u001b[0;36m1\u001b[0m\u001b[0;34m\u001b[0m\u001b[0m\n\u001b[0;32m----> 2\u001b[0;31m \u001b[0mf\u001b[0m\u001b[0;34m(\u001b[0m\u001b[0mx\u001b[0m\u001b[0;34m)\u001b[0m \u001b[0;31m# Uh-oh! f(x) not defined at 1, but it is defined near 1\u001b[0m\u001b[0;34m\u001b[0m\u001b[0m\n\u001b[0m",
        "\u001b[0;32m<ipython-input-30-0db04e0c3cc0>\u001b[0m in \u001b[0;36m<lambda>\u001b[0;34m(x)\u001b[0m\n\u001b[0;32m----> 1\u001b[0;31m \u001b[0mf\u001b[0m \u001b[0;34m=\u001b[0m \u001b[0;32mlambda\u001b[0m \u001b[0mx\u001b[0m\u001b[0;34m:\u001b[0m \u001b[0;34m(\u001b[0m\u001b[0mx\u001b[0m\u001b[0;34m**\u001b[0m\u001b[0;36m2\u001b[0m \u001b[0;34m-\u001b[0m \u001b[0;36m1\u001b[0m\u001b[0;34m)\u001b[0m \u001b[0;34m/\u001b[0m \u001b[0;34m(\u001b[0m\u001b[0mx\u001b[0m \u001b[0;34m-\u001b[0m \u001b[0;36m1\u001b[0m\u001b[0;34m)\u001b[0m\u001b[0;34m\u001b[0m\u001b[0m\n\u001b[0m",
        "\u001b[0;31mZeroDivisionError\u001b[0m: integer division or modulo by zero"
       ]
      }
     ],
     "prompt_number": 32
    },
    {
     "cell_type": "code",
     "collapsed": false,
     "input": [
      "x = 1.1\n",
      "f(x)"
     ],
     "language": "python",
     "metadata": {},
     "outputs": []
    },
    {
     "cell_type": "markdown",
     "metadata": {},
     "source": [
      "And if we keep getting closer to 0..."
     ]
    },
    {
     "cell_type": "code",
     "collapsed": false,
     "input": [
      "X = [1.1, 1.01, 1.001, 1.0001, 1.00001, 1.000001, 1.0000001, 1.00000001]"
     ],
     "language": "python",
     "metadata": {},
     "outputs": []
    },
    {
     "cell_type": "code",
     "collapsed": false,
     "input": [
      "print '\\n'.join(['x=%0.7f y=%0.7f' % (x, f(x), ) for x in X])"
     ],
     "language": "python",
     "metadata": {},
     "outputs": []
    },
    {
     "cell_type": "markdown",
     "metadata": {},
     "source": [
      "Therefore \n",
      "\n",
      "$\\lim _{x \\to 2} \\frac{x^2 - 1}{x - 1} = 2$\n",
      "\n",
      "because I can make $\\frac{x^2 - 1}{x - 1}$ as close to $2$ as I want, if I make $x$ close enough to $1$.\n",
      "\n",
      "But we're just looking at a table of values. Is there a more convincing argument?"
     ]
    },
    {
     "cell_type": "markdown",
     "metadata": {},
     "source": [
      "$\\frac{x^2 - 1}{x - 1} = x + 1, if x \\neq 1$\n",
      "\n",
      "$\\lim_{x \\to 1}\\frac{x^2 - 1}{x - 1} = \\lim_{x \\to 1} x + 1$\n",
      "\n",
      "Beacuse the limit defintion explicitly says where $x \\neq a$, and in our case $a=1$, we don't have to say anything about $x \\neq 1$"
     ]
    },
    {
     "cell_type": "markdown",
     "metadata": {},
     "source": [
      "$\\lim_{x \\to 1} \\left(x + 1\\right) = \\lim_{x \\to 1}x + \\lim_{x \\to 1} 1$"
     ]
    },
    {
     "cell_type": "markdown",
     "metadata": {},
     "source": [
      "And when we put it all together, we have a more rigorous display of what we showed in the data table\n",
      "\n",
      "$ \n",
      "\\lim _{x \\to 2} \\frac{x^2 - 1}{x - 1} =\\\\\n",
      "\\lim_{x \\to 1} x + 1 = \\\\\n",
      "\\lim_{x \\to 1}x + \\lim_{x \\to 1}1=\\\\\n",
      "1 + 1 = \\\\\n",
      "2\n",
      "$"
     ]
    }
   ],
   "metadata": {}
  }
 ]
}