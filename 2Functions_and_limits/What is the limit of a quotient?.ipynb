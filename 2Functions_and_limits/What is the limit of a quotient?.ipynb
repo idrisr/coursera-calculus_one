{
 "metadata": {
  "name": "",
  "signature": "sha256:e00f9871812ae7d9bb23b1c89b5be7ab02fd4710029a520d298953cd820fe8c9"
 },
 "nbformat": 3,
 "nbformat_minor": 0,
 "worksheets": [
  {
   "cells": [
    {
     "cell_type": "markdown",
     "metadata": {},
     "source": [
      "If:  \n",
      "$\\lim _{x \\to a} f(x) = L$,\n",
      "\n",
      "and: \n",
      "$\\lim _{x \\to a} g(x) = M, M \\neq 0$\n",
      "\n",
      "Then: \n",
      "$\\lim _{x \\to a} \\frac{f(x)}{g(x)} = \\frac{L}{M}$"
     ]
    },
    {
     "cell_type": "markdown",
     "metadata": {},
     "source": [
      "The limit of the quotient is the quotient of the limits, given those limits exist"
     ]
    },
    {
     "cell_type": "markdown",
     "metadata": {},
     "source": [
      "---\n",
      "# Example"
     ]
    },
    {
     "cell_type": "markdown",
     "metadata": {},
     "source": [
      "$\n",
      "\\lim_{x \\to 2} \\frac{x^2}{x + 1}=? \\\\\n",
      "\\frac{lim_{x \\to 2}x^2}{lim_{x \\to 2} x+1}=\n",
      "$\n",
      "\n",
      "$\n",
      "\\frac\n",
      "{lim_{x \\to 2}x \\cdot lim_{x \\to 2}x}\n",
      "{lim_{x \\to 2}x + lim_{x \\to 2}1} =\n",
      "$\n",
      "\n",
      "$\n",
      "\\frac\n",
      "{2 \\cdot 2}\n",
      "{2 + 1} = \n",
      "\\frac{4}{3}\n",
      "$"
     ]
    },
    {
     "cell_type": "code",
     "collapsed": false,
     "input": [
      "def data_table(f, base):\n",
      "    n = 10\n",
      "    X = [base+10**-_ for _ in range(1, n)]\n",
      "    return '\\n'.join(['x=%0.10f y=%0.10f' % (x, f(x), ) for x in X])"
     ],
     "language": "python",
     "metadata": {},
     "outputs": [],
     "prompt_number": 6
    },
    {
     "cell_type": "code",
     "collapsed": false,
     "input": [
      "f = lambda x: (x**2) / (x + 1)"
     ],
     "language": "python",
     "metadata": {},
     "outputs": [],
     "prompt_number": 7
    },
    {
     "cell_type": "code",
     "collapsed": false,
     "input": [
      "base=2\n",
      "print data_table(f, base)"
     ],
     "language": "python",
     "metadata": {},
     "outputs": [
      {
       "output_type": "stream",
       "stream": "stdout",
       "text": [
        "x=2.1000000000 y=1.4225806452\n",
        "x=2.0100000000 y=1.3422259136\n",
        "x=2.0010000000 y=1.3342222592\n",
        "x=2.0001000000 y=1.3334222226\n",
        "x=2.0000100000 y=1.3333422222\n",
        "x=2.0000010000 y=1.3333342222\n",
        "x=2.0000001000 y=1.3333334222\n",
        "x=2.0000000100 y=1.3333333422\n",
        "x=2.0000000010 y=1.3333333342\n"
       ]
      }
     ],
     "prompt_number": 8
    }
   ],
   "metadata": {}
  }
 ]
}