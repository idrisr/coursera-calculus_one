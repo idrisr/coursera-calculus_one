{
 "metadata": {
  "name": "",
  "signature": "sha256:6ccf001331020f183c80c84aa4a038d4217bbb49778bfa034b901570c96b1000"
 },
 "nbformat": 3,
 "nbformat_minor": 0,
 "worksheets": [
  {
   "cells": [
    {
     "cell_type": "code",
     "collapsed": false,
     "input": [
      "664 * 311"
     ],
     "language": "python",
     "metadata": {},
     "outputs": [
      {
       "metadata": {},
       "output_type": "pyout",
       "prompt_number": 1,
       "text": [
        "206504"
       ]
      }
     ],
     "prompt_number": 1
    },
    {
     "cell_type": "code",
     "collapsed": false,
     "input": [
      "660 * 310"
     ],
     "language": "python",
     "metadata": {},
     "outputs": [
      {
       "metadata": {},
       "output_type": "pyout",
       "prompt_number": 3,
       "text": [
        "204600"
       ]
      }
     ],
     "prompt_number": 3
    },
    {
     "cell_type": "code",
     "collapsed": false,
     "input": [
      "654 * 313"
     ],
     "language": "python",
     "metadata": {},
     "outputs": [
      {
       "metadata": {},
       "output_type": "pyout",
       "prompt_number": 4,
       "text": [
        "204702"
       ]
      }
     ],
     "prompt_number": 4
    },
    {
     "cell_type": "code",
     "collapsed": false,
     "input": [
      "659 * 314"
     ],
     "language": "python",
     "metadata": {},
     "outputs": [
      {
       "metadata": {},
       "output_type": "pyout",
       "prompt_number": 5,
       "text": [
        "206926"
       ]
      }
     ],
     "prompt_number": 5
    },
    {
     "cell_type": "markdown",
     "metadata": {},
     "source": [
      "If:  \n",
      "$\\lim _{x \\to a} f(x) = L$\n",
      "\n",
      "And:  \n",
      "$\\lim _{x \\to a} g(x) = M$\n",
      "\n",
      "Then: \n",
      "$\\lim _{x \\to a} \\left(f(x) \\cdot g(x)\\right) = L \\cdot M$"
     ]
    },
    {
     "cell_type": "markdown",
     "metadata": {},
     "source": [
      "The limit of the product is the product of the limits, given those limits exist"
     ]
    }
   ],
   "metadata": {}
  }
 ]
}